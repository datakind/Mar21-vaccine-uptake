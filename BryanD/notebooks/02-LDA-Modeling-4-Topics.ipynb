{
 "cells": [
  {
   "cell_type": "code",
   "execution_count": 1,
   "metadata": {},
   "outputs": [],
   "source": [
    "import pandas as pd\n",
    "import os\n",
    "\n",
    "PROJ_ROOT = os.path.join(os.pardir)\n",
    "\n",
    "import gensim\n",
    "\n",
    "from gensim.models import CoherenceModel\n",
    "from gensim.models.ldamodel import LdaModel\n",
    "\n",
    "\n",
    "import pyLDAvis\n",
    "import pyLDAvis.gensim\n",
    "pyLDAvis.enable_notebook()\n",
    "\n",
    "import operator\n",
    "\n",
    "import warnings\n",
    "warnings.filterwarnings('ignore')\n",
    "from tqdm import tqdm_notebook as tqdm\n",
    "\n",
    "import numpy as np\n",
    "\n",
    "\n",
    "data_path = os.path.join(PROJ_ROOT, \n",
    "                         'data')\n",
    "from pprint import pprint\n",
    "import re\n",
    "import pickle\n",
    "import matplotlib.pyplot as plt"
   ]
  },
  {
   "cell_type": "markdown",
   "metadata": {},
   "source": [
    "## Load Necessary Files"
   ]
  },
  {
   "cell_type": "code",
   "execution_count": 2,
   "metadata": {},
   "outputs": [
    {
     "data": {
      "application/vnd.jupyter.widget-view+json": {
       "model_id": "26d88d64992d40489a8bc0fbd150c319",
       "version_major": 2,
       "version_minor": 0
      },
      "text/plain": [
       "  0%|          | 0/4 [00:00<?, ?it/s]"
      ]
     },
     "metadata": {},
     "output_type": "display_data"
    }
   ],
   "source": [
    "files = ['all_tokens.pkl','tweets_gdict.pkl','corpus.pkl',\n",
    "         'texts.pkl']\n",
    "\n",
    "for fn in tqdm(files):\n",
    "    var=re.findall(r'(.*)\\.',fn)[0]\n",
    "    globals()[var] = pickle.load( open( data_path+'\\\\'+fn, 'rb' ) )"
   ]
  },
  {
   "cell_type": "markdown",
   "metadata": {},
   "source": [
    "## LDA Topic Modeling"
   ]
  },
  {
   "cell_type": "markdown",
   "metadata": {},
   "source": [
    "### functions to computer coherence and make the lda models"
   ]
  },
  {
   "cell_type": "code",
   "execution_count": 3,
   "metadata": {},
   "outputs": [],
   "source": [
    "# create a function to compute coherence values - used for the naive models\n",
    "def compute_coherence(dictionary, corpus, texts, limit, start=2, step=1):\n",
    "    '''Function to create a naive LDA model for a range of topics, then compute coherence values'''\n",
    "    # empty lists to hold the models & computed coherence values\n",
    "    coherence_values=[]\n",
    "    model_list=[]\n",
    "    \n",
    "    # create a LDA model for each topic amount set between start & limit values\n",
    "    for num_topic in tqdm(range(start, limit, step)):\n",
    "        model = LdaModel(corpus=corpus,\n",
    "                         num_topics=num_topic,\n",
    "                         id2word=dictionary,\n",
    "                         random_state=5)\n",
    "        \n",
    "        model_list.append(model) # add the model to the list\n",
    "        \n",
    "        # create a coherence model from the model\n",
    "        coherencemodel=CoherenceModel(model=model,\n",
    "                                      texts=[texts],\n",
    "                                      dictionary=dictionary,\n",
    "                                      coherence='c_v')\n",
    "        \n",
    "        #add the coherenced values from the list\n",
    "        coherence_values.append(coherencemodel.get_coherence()) \n",
    "        \n",
    "    return model_list, coherence_values\n",
    "\n",
    "\n",
    "def compute_coherence_values(corpus, dictionary, texts, k, a, b):\n",
    "    '''Function to create a lda model with set parameters, then compute coherence values'''\n",
    "    lda_model = gensim.models.LdaMulticore(corpus=tqdm(corpus),\n",
    "                                           id2word=dictionary,\n",
    "                                           num_topics=k,\n",
    "                                           alpha=a,\n",
    "                                          chunksize=200,\n",
    "                                          passes=10,\n",
    "                                          random_state=5,\n",
    "                                          eta=b,\n",
    "                                          per_word_topics=True)\n",
    "    \n",
    "    # create a coherence value from the model\n",
    "    coherence_model_lda = CoherenceModel(model=lda_model,\n",
    "                                         texts=[texts],\n",
    "                                         dictionary=dictionary,\n",
    "                                         coherence='c_v')\n",
    "    \n",
    "    return lda_model, coherence_model_lda.get_coherence()\n"
   ]
  },
  {
   "cell_type": "markdown",
   "metadata": {},
   "source": [
    "## Create a naive lda model with 1 to *n* topics"
   ]
  },
  {
   "cell_type": "code",
   "execution_count": 4,
   "metadata": {},
   "outputs": [],
   "source": [
    "# #create a naive  lda model and coherence values for different topic lengths\n",
    "# model_list, coherence_values = compute_coherence(dictionary=tweets_gdict,\n",
    "#                                                  corpus=corpus,\n",
    "#                                                  texts=texts,\n",
    "#                                                  start=1,\n",
    "#                                                  limit=15,\n",
    "#                                                  step=1  )"
   ]
  },
  {
   "cell_type": "code",
   "execution_count": 5,
   "metadata": {},
   "outputs": [],
   "source": [
    "# # save the naive models\n",
    "\n",
    "# with open(data_path+'\\\\'+'naive_model_list_cv.pkl', 'wb') as f:\n",
    "#     pickle.dump(model_list, f)\n",
    "    \n",
    "# with open(data_path+'\\\\'+'coherence_values.pkl', 'wb') as f:\n",
    "#     pickle.dump(coherence_values, f)"
   ]
  },
  {
   "cell_type": "markdown",
   "metadata": {},
   "source": [
    "#### Load the previously created models from the above two cells"
   ]
  },
  {
   "cell_type": "code",
   "execution_count": 6,
   "metadata": {},
   "outputs": [],
   "source": [
    "model_list = pickle.load( open(data_path+'\\\\'+ 'naiave_model_list_cv.pkl', 'rb' ) )\n",
    "coherence_values = pickle.load(open(data_path+'\\\\'+ 'coherence_values.pkl','rb'))"
   ]
  },
  {
   "cell_type": "markdown",
   "metadata": {},
   "source": [
    "### Visualize coherence values to select number of topics to use for the LDA Model"
   ]
  },
  {
   "cell_type": "code",
   "execution_count": 7,
   "metadata": {
    "scrolled": true
   },
   "outputs": [
    {
     "data": {
      "image/png": "[encoded data removed]",
      "text/plain": [
       "<Figure size 432x288 with 1 Axes>"
      ]
     },
     "metadata": {
      "needs_background": "light"
     },
     "output_type": "display_data"
    }
   ],
   "source": [
    "#plot the coherence values for different topic numbers\n",
    "limit=15; start=1\n",
    "x=range(start, limit)\n",
    "plt.plot(x, coherence_values)\n",
    "plt.xlabel('Num Topics')\n",
    "plt.ylabel('Coherence score')\n",
    "plt.legend('coherence_values', loc='best')\n",
    "plt.show()"
   ]
  },
  {
   "cell_type": "code",
   "execution_count": 8,
   "metadata": {},
   "outputs": [
    {
     "name": "stdout",
     "output_type": "stream",
     "text": [
      "[0.2409125597912077,\n",
      " 0.2800806042947272,\n",
      " 0.3171639175987016,\n",
      " 0.3215055649681553,\n",
      " 0.32179694064705433,\n",
      " 0.2921852213487059,\n",
      " 0.30038541763491633,\n",
      " 0.2984128495380771,\n",
      " 0.27927221557560233,\n",
      " 0.2932006816855416,\n",
      " 0.2794232567110878,\n",
      " 0.2769115091589724,\n",
      " 0.27545853819011845,\n",
      " 0.29085384301829936]\n",
      "4 0.32179694064705433\n",
      "5  topics will be used for the LDA model\n"
     ]
    }
   ],
   "source": [
    "#print the coherence values, and the index & cv for the highest cv value\n",
    "pprint(coherence_values)\n",
    "index, value = max(enumerate(coherence_values), key=operator.itemgetter(1))\n",
    "num_topics = len(coherence_values[:index+1])\n",
    "print(index, value)\n",
    "print(num_topics,' topics will be used for the LDA model')"
   ]
  },
  {
   "cell_type": "markdown",
   "metadata": {},
   "source": [
    "## Create a tuned LDA Model with 4 topics"
   ]
  },
  {
   "cell_type": "code",
   "execution_count": 9,
   "metadata": {},
   "outputs": [],
   "source": [
    "# #decide on a topic number from above and train hyperparamters to train the model on\n",
    "\n",
    "# topic_range = [4] # value determined by the above elbow plot above\n",
    "\n",
    "# # range of alpha numbers to plug into the model   \n",
    "# alpha = list(np.arange(0.01, 1, 0.3)) + [50/x  for x in topic_range]\n",
    "# alpha.append('symmetric')\n",
    "# alpha.append('asymmetric')\n",
    "\n",
    "# # range of beta parameters to plug into the model\n",
    "# beta = list(np.arange(0.01, 1, 0.3))\n",
    "# beta.append('symmetric')\n",
    "\n",
    "# # create a minimized corpus set for validation if needed\n",
    "# num_of_docs = len(corpus)\n",
    "# corpus_sets = [corpus]\n",
    "    \n",
    "# corpus_title = ['100% Corpus']\n",
    "\n",
    "# # empty dictionary to store parameter results with coherence values\n",
    "# model_results = {'validation_set': [],\n",
    "#                     'topics':[],\n",
    "#                     'alpha':[],\n",
    "#                  'beta':[],\n",
    "#                   'coherence':[]}\n",
    "\n",
    "# models=[] #empty list to store completed models\n",
    "    \n",
    "# if 1 ==1:\n",
    "#     pbar = tqdm(total=len(topic_range) * len(alpha) * len(beta) * len(corpus_sets))\n",
    "    \n",
    "    \n",
    "#     # create a model and store the corresponding values and results for each combination of parameters\n",
    "#     for i in range(len(corpus_sets)):\n",
    "#         for k in topic_range:\n",
    "#             for a in alpha:\n",
    "#                 for b in beta:\n",
    "                    \n",
    "#                     model, cv = compute_coherence_values(corpus=corpus_sets[i],\n",
    "#                                                   dictionary=tweets_gdict,\n",
    "#                                                      texts=texts,\n",
    "#                                                   k=k,\n",
    "#                                                   a=a,\n",
    "#                                                         b=b)\n",
    "                    \n",
    "#                     model_results['validation_set'].append(corpus_title[i])\n",
    "#                     model_results['topics'].append(k)\n",
    "#                     model_results['alpha'].append(a)\n",
    "#                     model_results['beta'].append(b)\n",
    "#                     model_results['coherence'].append(cv)\n",
    "#                     models.append(model)\n",
    "                    \n",
    "#                     pbar.update(1)\n",
    "\n",
    "#     pbar.close()"
   ]
  },
  {
   "cell_type": "markdown",
   "metadata": {},
   "source": [
    "#### Load the models from the above cell"
   ]
  },
  {
   "cell_type": "code",
   "execution_count": 10,
   "metadata": {},
   "outputs": [],
   "source": [
    "models = pickle.load( open( data_path+'\\\\'+ 'all_lda_models_4t.pkl', 'rb' ) )\n",
    "model_results = pickle.load(open(data_path+'\\\\'+ 'model_results_4t.pkl','rb'))"
   ]
  },
  {
   "cell_type": "markdown",
   "metadata": {},
   "source": [
    "## Find and save the best model"
   ]
  },
  {
   "cell_type": "code",
   "execution_count": 11,
   "metadata": {},
   "outputs": [
    {
     "data": {
      "text/html": [
       "<div>\n",
       "<style scoped>\n",
       "    .dataframe tbody tr th:only-of-type {\n",
       "        vertical-align: middle;\n",
       "    }\n",
       "\n",
       "    .dataframe tbody tr th {\n",
       "        vertical-align: top;\n",
       "    }\n",
       "\n",
       "    .dataframe thead th {\n",
       "        text-align: right;\n",
       "    }\n",
       "</style>\n",
       "<table border=\"1\" class=\"dataframe\">\n",
       "  <thead>\n",
       "    <tr style=\"text-align: right;\">\n",
       "      <th></th>\n",
       "      <th>validation_set</th>\n",
       "      <th>topics</th>\n",
       "      <th>alpha</th>\n",
       "      <th>beta</th>\n",
       "      <th>coherence</th>\n",
       "    </tr>\n",
       "  </thead>\n",
       "  <tbody>\n",
       "    <tr>\n",
       "      <th>0</th>\n",
       "      <td>100% Corpus</td>\n",
       "      <td>4</td>\n",
       "      <td>0.01</td>\n",
       "      <td>0.01</td>\n",
       "      <td>0.301495</td>\n",
       "    </tr>\n",
       "    <tr>\n",
       "      <th>1</th>\n",
       "      <td>100% Corpus</td>\n",
       "      <td>4</td>\n",
       "      <td>0.01</td>\n",
       "      <td>0.31</td>\n",
       "      <td>0.311898</td>\n",
       "    </tr>\n",
       "    <tr>\n",
       "      <th>2</th>\n",
       "      <td>100% Corpus</td>\n",
       "      <td>4</td>\n",
       "      <td>0.01</td>\n",
       "      <td>0.61</td>\n",
       "      <td>0.320993</td>\n",
       "    </tr>\n",
       "    <tr>\n",
       "      <th>3</th>\n",
       "      <td>100% Corpus</td>\n",
       "      <td>4</td>\n",
       "      <td>0.01</td>\n",
       "      <td>0.91</td>\n",
       "      <td>0.325178</td>\n",
       "    </tr>\n",
       "    <tr>\n",
       "      <th>4</th>\n",
       "      <td>100% Corpus</td>\n",
       "      <td>4</td>\n",
       "      <td>0.01</td>\n",
       "      <td>symmetric</td>\n",
       "      <td>0.317481</td>\n",
       "    </tr>\n",
       "  </tbody>\n",
       "</table>\n",
       "</div>"
      ],
      "text/plain": [
       "  validation_set  topics alpha       beta  coherence\n",
       "0    100% Corpus       4  0.01       0.01   0.301495\n",
       "1    100% Corpus       4  0.01       0.31   0.311898\n",
       "2    100% Corpus       4  0.01       0.61   0.320993\n",
       "3    100% Corpus       4  0.01       0.91   0.325178\n",
       "4    100% Corpus       4  0.01  symmetric   0.317481"
      ]
     },
     "execution_count": 11,
     "metadata": {},
     "output_type": "execute_result"
    }
   ],
   "source": [
    "#create a df of the param values and results\n",
    "lda_tuning = pd.DataFrame(model_results)\n",
    "lda_tuning.head()"
   ]
  },
  {
   "cell_type": "code",
   "execution_count": 12,
   "metadata": {},
   "outputs": [
    {
     "data": {
      "text/plain": [
       "validation_set    100% Corpus\n",
       "topics                      4\n",
       "alpha               symmetric\n",
       "beta                     0.91\n",
       "coherence            0.348915\n",
       "Name: 28, dtype: object"
      ]
     },
     "execution_count": 12,
     "metadata": {},
     "output_type": "execute_result"
    }
   ],
   "source": [
    "# find the row with the coherence value and display the parameters\n",
    "idx =lda_tuning['coherence'].idxmax(axis=0)\n",
    "lda_tuning.iloc[idx]"
   ]
  },
  {
   "cell_type": "code",
   "execution_count": 13,
   "metadata": {},
   "outputs": [],
   "source": [
    "#create a df with the optimally tuned params\n",
    "tuned_params = pd.DataFrame(lda_tuning.iloc[idx])\n",
    "tuned_params.columns=['vals']\n",
    "tuned_params.index.name='hp_params'\n",
    "tuned_params.to_csv(data_path+'\\\\'+'tuned_lda_params_4t.csv', index=False)"
   ]
  },
  {
   "cell_type": "code",
   "execution_count": 14,
   "metadata": {},
   "outputs": [],
   "source": [
    "# # save the tuned model\n",
    "# with open(data_path+'\\\\'+'lda_best_tuned_model_3t.pkl', 'wb') as f:\n",
    "#                 pickle.dump(models[idx], f)\n",
    "\n",
    "# #save all of the models       \n",
    "# with open(data_path+'\\\\'+'all_lda_models_3t.pkl', 'wb') as f:\n",
    "#                 pickle.dump(models, f)\n",
    "\n",
    "# # save all of the tuned model parameters\n",
    "# with open(data_path+'\\\\'+'model_results_3t.pkl', 'wb') as f:\n",
    "#                 pickle.dump(model_results, f)"
   ]
  },
  {
   "cell_type": "markdown",
   "metadata": {},
   "source": [
    "## Display the top words from each topic"
   ]
  },
  {
   "cell_type": "code",
   "execution_count": 15,
   "metadata": {},
   "outputs": [
    {
     "name": "stdout",
     "output_type": "stream",
     "text": [
      "[(0,\n",
      "  '0.006*\"immunity\" + 0.003*\"️\" + 0.002*\"doctor_policy_vaccine\" + '\n",
      "  '0.002*\"insurance_pharmaceutical_biotech\" + 0.002*\"medtech_retweet\" + '\n",
      "  '0.002*\"patient_nhs_fmrevolution_today\" + '\n",
      "  '0.002*\"todaysmedicalupdate_medicine_health\" + 0.002*\"sale\" + 0.002*\"/j\" + '\n",
      "  '0.001*\"$\" + 0.001*\"people_outside_city\" + 0.001*\"shot_javits_center_75\" + '\n",
      "  '0.001*\"percent_queen_site_mayor\" + 0.001*\"bill_de_blasio\" + '\n",
      "  '0.001*\"account_42_percent\"'),\n",
      " (1,\n",
      "  '0.016*\"coronavirus\" + 0.011*\"death\" + 0.005*\"case\" + 0.005*\"daily\" + '\n",
      "  '0.003*\"new_case\" + 0.003*\"coronaviruscoronavirus\" + 0.003*\"trend\" + '\n",
      "  '0.003*\"today\" + 0.002*\"new\" + 0.002*\"░_░_░_░\" + 0.002*\"total\" + '\n",
      "  '0.002*\"update\" + 0.002*\"feb\" + 0.002*\"maskup\" + 0.002*\"total_death\"'),\n",
      " (2,\n",
      "  '0.035*\"coronavirus\" + 0.018*\"vaccine\" + 0.017*\"vaccinate\" + 0.011*\"people\" '\n",
      "  '+ 0.011*\"pandemic\" + 0.010*\"virus\" + 0.009*\"get\" + 0.006*\"vaccination\" + '\n",
      "  '0.006*\"need\" + 0.006*\"vax\" + 0.005*\"know\" + 0.004*\"want\" + 0.004*\"like\" + '\n",
      "  '0.004*\"time\" + 0.003*\"work\"'),\n",
      " (3,\n",
      "  '0.074*\"coronavirus\" + 0.067*\"vaccine\" + 0.017*\"dose\" + 0.010*\"pfizer\" + '\n",
      "  '0.008*\"vaccination\" + 0.007*\"vaccinate\" + 0.007*\"coronavirus vaccine\" + '\n",
      "  '0.006*\"j&;j\" + 0.006*\"moderna\" + 0.005*\"receive\" + 0.005*\"shoot\" + '\n",
      "  '0.005*\"today\" + 0.005*\"week\" + 0.005*\"new\" + 0.004*\"people\"')]\n"
     ]
    }
   ],
   "source": [
    "#display the topics along with the top 15 words for each topic\n",
    "pprint(models[idx].print_topics(num_words=15))"
   ]
  },
  {
   "cell_type": "markdown",
   "metadata": {},
   "source": [
    "## Visualize the LDA model"
   ]
  },
  {
   "cell_type": "code",
   "execution_count": 16,
   "metadata": {},
   "outputs": [
    {
     "data": {
      "text/html": [
       "\n",
       "<link rel=\"stylesheet\" type=\"text/css\" href=\"https://cdn.jsdelivr.net/gh/bmabey/pyLDAvis@3.2.2/pyLDAvis/js/ldavis.v1.0.0.css\">\n",
       "\n",
       "\n",
       "<div id=\"ldavis_el1748425802485060321193013265\"></div>\n",
       "<script type=\"text/javascript\">\n",
       "\n",
       "var ldavis_el1748425802485060321193013265_data = {\"mdsDat\": {\"x\": [0.16899763332062528, 0.1525946460476374, -0.14918532733214288, -0.17240695203611991], \"y\": [0.12272950799072926, -0.1273718743947732, -0.021719154616300005, 0.02636152102034402], \"topics\": [1, 2, 3, 4], \"cluster\": [1, 1, 1, 1], \"Freq\": [53.1609889664723, 36.26940998490432, 5.615407680026211, 4.954193368597165]}, \"tinfo\": {\"Term\": [\"vaccine\", \"coronavirus\", \"dose\", \"death\", \"pfizer\", \"j&;j\", \"moderna\", \"case\", \"immunity\", \"virus\", \"receive\", \"shoot\", \"coronavirus vaccine\", \"today\", \"vaccinate\", \"know\", \"want\", \"pandemic\", \"like\", \"week\", \"update\", \"vax\", \"new\", \"people\", \"johnson_johnson\", \"vaccination\", \"need\", \"think\", \"trump\", \"daily\", \"like\", \"want\", \"think\", \"firefauci\", \"trump\", \"mask\", \"thing\", \"stop\", \"wear_mask\", \"wrong\", \"rig\", \"let\", \"kill\", \"pay\", \"flu\", \"lie\", \"long\", \"feel\", \"believe\", \"risk\", \"fauci\", \"yes\", \"life\", \"not\", \"kid\", \"spread\", \"control\", \"anti_vax\", \"family\", \"friend\", \"know\", \"try\", \"school\", \"point\", \"care\", \"child\", \"vax\", \"virus\", \"die\", \"need\", \"pandemic\", \"people\", \"year\", \"vaccinate\", \"time\", \"get\", \"tell\", \"way\", \"coronavirus\", \"work\", \"good\", \"vaccination\", \"vaccine\", \"live\", \"death\", \"help\", \"come\", \"day\", \"2\", \"dose\", \"j&;j\", \"pfizer\", \"moderna\", \"receive\", \"johnson_johnson\", \"shoot\", \"|\", \"administer\", \"available\", \"astrazeneca\", \"u.s\", \"county\", \"pfizer_moderna\", \"fda\", \"appointment\", \"million_dose\", \"supply\", \"pfizer_biontech\", \"deliver\", \"resident\", \"eligible\", \"announce\", \"2_dose\", \"receive_dose\", \"shot\", \"covax\", \"single_dose\", \"approve\", \"arrive\", \"site\", \"\\ud83d\\udc89\", \"vaccine\", \"india\", \"week\", \"coronavirus vaccine\", \"coronavirus\", \"update\", \"news\", \"today\", \"new\", \"vaccination\", \"state\", \"datum\", \"variant\", \"vaccinate\", \"day\", \"get\", \"2\", \"people\", \"pandemic\", \"new_case\", \"daily\", \"coronaviruscoronavirus\", \"\\u2591_\\u2591_\\u2591_\\u2591\", \"total_death\", \"total_case\", \"today_recovery\", \"coronatrackernepal_bot_telegram\", \"coronavirus_19_sarscov2_staysafe_source\", \"total_active_case\", \"total_recovery\", \"staysafe\", \"coronaviruspandemic\", \"trend\", \"app\", \"j&;k\", \"feb\", \"coronavirusinfo_usa_new_case\", \"active_case\", \"icu\", \"lakh\", \"active\", \"ale\", \"ap_news\", \"maskup\", \"protest\", \"punjab\", \"coronavirus\\u30fc19\", \"coronaviruscases\", \"coronavirusupdate\", \"zoom\", \"@pmoindia\", \"repoing\", \"iran\", \"death\", \"case\", \"coronavirus\", \"total\", \"repoed\", \"today\", \"new\", \"update\", \"coronavirus_19\", \"\\ufe0f\", \"doctor_policy_vaccine\", \"insurance_pharmaceutical_biotech\", \"medtech_retweet\", \"patient_nhs_fmrevolution_today\", \"todaysmedicalupdate_medicine_health\", \"/j\", \"account_42_percent\", \"bill_de_blasio\", \"people_outside_city\", \"percent_queen_site_mayor\", \"shot_javits_center_75\", \"dose_fig_variant\", \"pfizer_study_3rd\", \"wellness\", \"help_restaurant_big\", \"recognize_privilege_little_girl\", \"teacher_good_work\", \"way_philadelphia_phillies_pitch\", \"vitamin\", \"capitol_qanon_mitch_mcconnell\", \"nancy_blm_proud_boy\", \"supplement\", \"\\ud83d\\ude0e\", \"@coronavirus_vax\", \"\\u274c\", \"boost_immunity\", \"2_dose_authorize\", \"dr_tam_cpho_naci\", \"look_modify_time\", \"vaccinate_compromise_effectiveness\", \"sale\", \"\\ud83c\\udde8_\\ud83c\\uddf3\", \"flu_viually_disappear\", \"\\u00b0\", \"immunesystem\", \"immunity\", \"j.\", \"$\", \"health\", \"healthy\", \"j\"], \"Freq\": [22391.0, 30729.0, 4025.0, 1310.0, 2435.0, 1515.0, 1418.0, 1093.0, 651.0, 3992.0, 1282.0, 1222.0, 2112.0, 1630.0, 7646.0, 1759.0, 1528.0, 4410.0, 1458.0, 1308.0, 753.0, 2058.0, 1720.0, 4874.0, 781.0, 4087.0, 2278.0, 1076.0, 1027.0, 205.0, 1455.927314007033, 1526.3830782158673, 1074.6318043228498, 996.2769148624197, 1025.61965408002, 746.0011671722517, 617.5734949103046, 719.0297722994663, 525.6152018598084, 554.9461993014908, 721.061140732446, 792.7820503970046, 446.8434999539061, 503.59154416346854, 405.8887211426717, 399.76956672177516, 663.377297581848, 501.89899806433925, 406.5218294603125, 564.2002842947778, 473.53420458343726, 508.3400831414501, 477.07255785683236, 360.73467127112264, 383.226599230904, 560.0752542176341, 393.05051054951736, 324.19251364858866, 360.74492987534546, 366.48196158874424, 1741.0585029093506, 556.5805721108102, 565.1089329539545, 478.4257460323326, 471.55141002346465, 518.7099664406306, 1960.4036112857052, 3697.3993773290968, 733.5270340309742, 2067.8771986393826, 3782.2509708051953, 3986.2305852195504, 1196.5505776018595, 5872.228746072982, 1398.7367078434067, 3069.2540817730405, 702.9334042856061, 829.4302341961148, 12326.761246550686, 1220.2611371050455, 671.1893688947976, 2094.731010956136, 6330.135924085558, 773.8772967789077, 905.8573300469238, 819.9760858208754, 726.6666233563526, 787.2144710497447, 748.1942013199722, 4023.46784940196, 1513.5586923444, 2430.8524390933385, 1415.4732515846981, 1279.405246053337, 779.6646560290103, 1218.1137213841369, 601.774588581377, 486.3233751130905, 607.0265336125809, 445.4663313230362, 512.7606892392091, 423.00180444855954, 596.7760690257055, 339.30714168467017, 448.2011396240487, 342.82833913042214, 387.00287867798716, 280.9260185890704, 356.91428135847184, 336.7044148288137, 329.1843736301089, 311.4211198157673, 419.24862824841875, 296.32158811925046, 398.9337205694633, 255.24588896382716, 222.57537907024687, 326.3105411052739, 259.15897394062097, 278.6785258902435, 514.6973028609077, 16060.677382526921, 534.7371415842775, 1124.9303883144148, 1702.6912265841538, 17791.384042125646, 677.9372078530776, 678.1176638815733, 1186.9154038146194, 1122.3095596388773, 1991.268074829965, 796.4814713798811, 580.5377248689849, 565.123969193877, 1772.9486612448618, 674.4207326211554, 883.0138473544906, 626.8289124405095, 886.724214437591, 626.9940774908898, 124.75560041076464, 200.41340092801278, 119.18033402032795, 83.48214593111129, 67.92593695987819, 66.45321202751134, 56.629594353499854, 56.49008605395615, 56.49008605395615, 56.49008605395615, 56.49008605395615, 64.69800204564888, 59.261047187049165, 108.06498185814974, 66.07273563818899, 44.55194086181476, 69.21160057185988, 33.83013379231635, 37.015032939811775, 46.524562193104934, 46.65522746726658, 47.768238842052114, 51.250519533079974, 39.44861437667228, 68.58334539653696, 51.7789555778968, 40.98549041000221, 61.244213129806234, 34.586571492794775, 27.139579992510054, 35.387696499442356, 39.11222255778314, 51.61237856876824, 36.94065056292683, 402.0965767447445, 204.1926801969069, 610.4827832086104, 76.99498606697502, 63.45818551654122, 95.79823471691935, 84.27717395027842, 73.83503191037033, 57.06647114092828, 89.87846045958055, 58.53516222394659, 58.53516222394659, 58.53516222394659, 58.53516222394659, 58.53516222394659, 50.64579847747901, 44.91607067732468, 44.91607067732468, 44.91607067732468, 44.91607067732468, 44.91607067732468, 44.45950651587018, 44.45950651587018, 42.49870024196794, 22.729605279846044, 22.729605279846044, 22.729605279846044, 22.729605279846044, 27.26300896629464, 20.737424953726855, 20.737424953726855, 21.712746580782717, 20.54006770975924, 17.151372513082155, 21.26064001886611, 20.37365258006885, 30.449728062635394, 30.449728062635394, 30.449728062635394, 30.449728062635394, 50.85196917514105, 22.15109064007782, 41.656793686008, 22.270416855442235, 22.32858449799093, 190.2759497187706, 36.29586409740582, 49.02275615409121, 38.900895249914555, 28.207557414800814, 23.916538102880214], \"Total\": [22391.0, 30729.0, 4025.0, 1310.0, 2435.0, 1515.0, 1418.0, 1093.0, 651.0, 3992.0, 1282.0, 1222.0, 2112.0, 1630.0, 7646.0, 1759.0, 1528.0, 4410.0, 1458.0, 1308.0, 753.0, 2058.0, 1720.0, 4874.0, 781.0, 4087.0, 2278.0, 1076.0, 1027.0, 205.0, 1458.003484325734, 1528.8782834086671, 1076.518863314457, 998.205090413666, 1027.682177395911, 747.9689350059123, 619.4203632618855, 721.2164973930275, 527.3789510435996, 556.8490324225766, 723.5802403984953, 795.611467678941, 448.61256162300964, 505.7971426220728, 407.6686958159415, 401.54069580800956, 666.3795900270187, 504.2228861760595, 408.4143968100312, 566.8332503876062, 475.7455435284318, 510.76458014003, 479.3718330629204, 362.4868434487319, 385.11999674164446, 562.842850273709, 395.072065895492, 325.8832688760849, 362.72008814460133, 368.6535423192856, 1759.737814185274, 559.9227039018608, 568.664318262866, 481.324510836538, 474.3488373990939, 523.079783733188, 2058.1124275681445, 3992.079799959596, 751.3055853780163, 2278.4734145524785, 4410.619224639381, 4874.213887037404, 1309.0587224868343, 7646.578834522908, 1613.528012482195, 3953.2732907058507, 751.0515243133564, 925.6123835822141, 30729.343983223735, 1556.272710017541, 726.5414237392336, 4087.644415464026, 22391.886505564806, 942.8377270835884, 1310.8015008264758, 1253.1800423172451, 978.3739159509025, 1469.6868838109153, 1386.1807878145644, 4025.784246439619, 1515.6313825468626, 2435.2821741783728, 1418.0869167345775, 1282.2992769494588, 781.5818794505087, 1222.3165943737683, 603.9921062701085, 488.33935000762824, 609.6872598688637, 447.69445769991955, 515.3950685917542, 425.1819322895662, 599.8924978051706, 341.1565086516282, 450.7856037338339, 344.87756590831407, 389.45550579076524, 282.8120942087364, 359.35622394467964, 339.01605392374756, 331.4686216267075, 313.5922692546097, 422.2189484585313, 298.4386720771916, 401.9433722777947, 257.18658505415965, 224.3814532178715, 329.07472224134665, 261.4235799413466, 281.22232588440386, 525.0199205580101, 22391.886505564806, 575.3703384580297, 1308.0169991855187, 2112.998482555503, 30729.343983223735, 753.4650557132946, 797.9551043152521, 1630.5495104987199, 1720.4416022279547, 4087.644415464026, 1163.920648305619, 781.142357418141, 765.2739468330835, 7646.578834522908, 1469.6868838109153, 3953.2732907058507, 1386.1807878145644, 4874.213887037404, 4410.619224639381, 127.01333399925736, 205.0985447549085, 122.04731580683115, 85.56963994798524, 69.90903662738376, 68.44466124170684, 58.597591030406875, 58.45752177851791, 58.45752177851791, 58.45752177851791, 58.45752177851791, 67.56578276767154, 61.9348260056196, 113.04605708218163, 69.25748454983533, 46.805593899874246, 73.14762328018398, 35.79736225457749, 39.18266767084871, 49.39558514759163, 49.59502874794738, 50.816589954046755, 54.61935015672831, 42.09626847067866, 73.19076880087582, 55.32135930240429, 43.835665457173626, 65.98610619398274, 37.412730967629905, 29.44428393029464, 38.570506815696156, 42.965453405817236, 59.103457831034405, 40.56123694668952, 1310.8015008264758, 1093.8080706640758, 30729.343983223735, 312.44961849794373, 240.21929963646, 1630.5495104987199, 1720.4416022279547, 753.4650557132946, 299.87215850968266, 92.61134120259956, 60.81369035417337, 60.81369035417337, 60.81369035417337, 60.81369035417337, 60.81369035417337, 52.78779895858741, 46.95414110062853, 46.95414110062853, 46.95414110062853, 46.95414110062853, 46.95414110062853, 47.32662113744761, 47.32662113744761, 45.293576665779746, 24.72279091356058, 24.72279091356058, 24.72279091356058, 24.72279091356058, 30.01246147765194, 22.99520774762768, 22.99520774762768, 24.25720186251703, 23.008492279313014, 19.28514433416512, 23.923095098738386, 22.932414186962472, 34.286038263171406, 34.286038263171406, 34.286038263171406, 34.286038263171406, 59.19398869944227, 25.025088317238673, 52.198956802685686, 25.290250690831755, 25.52668709854493, 651.3280169498784, 81.4257760280615, 505.1787840936163, 921.1969319832994, 264.60785164732874, 197.1299786233606], \"Category\": [\"Default\", \"Default\", \"Default\", \"Default\", \"Default\", \"Default\", \"Default\", \"Default\", \"Default\", \"Default\", \"Default\", \"Default\", \"Default\", \"Default\", \"Default\", \"Default\", \"Default\", \"Default\", \"Default\", \"Default\", \"Default\", \"Default\", \"Default\", \"Default\", \"Default\", \"Default\", \"Default\", \"Default\", \"Default\", \"Default\", \"Topic1\", \"Topic1\", \"Topic1\", \"Topic1\", \"Topic1\", \"Topic1\", \"Topic1\", \"Topic1\", \"Topic1\", \"Topic1\", \"Topic1\", \"Topic1\", \"Topic1\", \"Topic1\", \"Topic1\", \"Topic1\", \"Topic1\", \"Topic1\", \"Topic1\", \"Topic1\", \"Topic1\", \"Topic1\", \"Topic1\", \"Topic1\", \"Topic1\", \"Topic1\", \"Topic1\", \"Topic1\", \"Topic1\", \"Topic1\", \"Topic1\", \"Topic1\", \"Topic1\", \"Topic1\", \"Topic1\", \"Topic1\", \"Topic1\", \"Topic1\", \"Topic1\", \"Topic1\", \"Topic1\", \"Topic1\", \"Topic1\", \"Topic1\", \"Topic1\", \"Topic1\", \"Topic1\", \"Topic1\", \"Topic1\", \"Topic1\", \"Topic1\", \"Topic1\", \"Topic1\", \"Topic1\", \"Topic1\", \"Topic1\", \"Topic1\", \"Topic1\", \"Topic1\", \"Topic2\", \"Topic2\", \"Topic2\", \"Topic2\", \"Topic2\", \"Topic2\", \"Topic2\", \"Topic2\", \"Topic2\", \"Topic2\", \"Topic2\", \"Topic2\", \"Topic2\", \"Topic2\", \"Topic2\", \"Topic2\", \"Topic2\", \"Topic2\", \"Topic2\", \"Topic2\", \"Topic2\", \"Topic2\", \"Topic2\", \"Topic2\", \"Topic2\", \"Topic2\", \"Topic2\", \"Topic2\", \"Topic2\", \"Topic2\", \"Topic2\", \"Topic2\", \"Topic2\", \"Topic2\", \"Topic2\", \"Topic2\", \"Topic2\", \"Topic2\", \"Topic2\", \"Topic2\", \"Topic2\", \"Topic2\", \"Topic2\", \"Topic2\", \"Topic2\", \"Topic2\", \"Topic2\", \"Topic2\", \"Topic2\", \"Topic2\", \"Topic2\", \"Topic3\", \"Topic3\", \"Topic3\", \"Topic3\", \"Topic3\", \"Topic3\", \"Topic3\", \"Topic3\", \"Topic3\", \"Topic3\", \"Topic3\", \"Topic3\", \"Topic3\", \"Topic3\", \"Topic3\", \"Topic3\", \"Topic3\", \"Topic3\", \"Topic3\", \"Topic3\", \"Topic3\", \"Topic3\", \"Topic3\", \"Topic3\", \"Topic3\", \"Topic3\", \"Topic3\", \"Topic3\", \"Topic3\", \"Topic3\", \"Topic3\", \"Topic3\", \"Topic3\", \"Topic3\", \"Topic3\", \"Topic3\", \"Topic3\", \"Topic3\", \"Topic3\", \"Topic3\", \"Topic3\", \"Topic3\", \"Topic3\", \"Topic4\", \"Topic4\", \"Topic4\", \"Topic4\", \"Topic4\", \"Topic4\", \"Topic4\", \"Topic4\", \"Topic4\", \"Topic4\", \"Topic4\", \"Topic4\", \"Topic4\", \"Topic4\", \"Topic4\", \"Topic4\", \"Topic4\", \"Topic4\", \"Topic4\", \"Topic4\", \"Topic4\", \"Topic4\", \"Topic4\", \"Topic4\", \"Topic4\", \"Topic4\", \"Topic4\", \"Topic4\", \"Topic4\", \"Topic4\", \"Topic4\", \"Topic4\", \"Topic4\", \"Topic4\", \"Topic4\", \"Topic4\", \"Topic4\", \"Topic4\", \"Topic4\", \"Topic4\", \"Topic4\", \"Topic4\"], \"logprob\": [30.0, 29.0, 28.0, 27.0, 26.0, 25.0, 24.0, 23.0, 22.0, 21.0, 20.0, 19.0, 18.0, 17.0, 16.0, 15.0, 14.0, 13.0, 12.0, 11.0, 10.0, 9.0, 8.0, 7.0, 6.0, 5.0, 4.0, 3.0, 2.0, 1.0, -5.4934, -5.4461, -5.797, -5.8727, -5.8437, -6.162, -6.351, -6.1989, -6.5122, -6.4579, -6.196, -6.1012, -6.6746, -6.555, -6.7707, -6.7859, -6.2794, -6.5584, -6.7691, -6.4414, -6.6165, -6.5456, -6.6091, -6.8886, -6.8281, -6.4487, -6.8028, -6.9954, -6.8886, -6.8728, -5.3145, -6.455, -6.4397, -6.6063, -6.6207, -6.5254, -5.1959, -4.5614, -6.1789, -5.1425, -4.5387, -4.4862, -5.6896, -4.0988, -5.5334, -4.7476, -6.2215, -6.056, -3.3572, -5.6699, -6.2677, -5.1296, -4.0237, -6.1254, -5.9679, -6.0675, -6.1883, -6.1083, -6.1591, -4.0945, -5.0722, -4.5984, -5.1392, -5.2403, -5.7356, -5.2894, -5.9945, -6.2075, -5.9858, -6.2953, -6.1546, -6.347, -6.0029, -6.5675, -6.2892, -6.5572, -6.436, -6.7563, -6.5169, -6.5752, -6.5978, -6.6533, -6.356, -6.703, -6.4056, -6.8522, -6.9891, -6.6066, -6.837, -6.7644, -6.1508, -2.7103, -6.1126, -5.3689, -4.9545, -2.6079, -5.8754, -5.8751, -5.3153, -5.3713, -4.7979, -5.7142, -6.0305, -6.0574, -4.914, -5.8806, -5.6111, -5.9537, -5.6069, -5.9535, -5.7026, -5.2286, -5.7483, -6.1043, -6.3105, -6.3325, -6.4924, -6.4949, -6.4949, -6.4949, -6.4949, -6.3592, -6.447, -5.8462, -6.3382, -6.7323, -6.2918, -7.0076, -6.9176, -6.689, -6.6862, -6.6626, -6.5922, -6.854, -6.3009, -6.582, -6.8157, -6.4141, -6.9855, -7.228, -6.9626, -6.8625, -6.5852, -6.9196, -4.5323, -5.2099, -4.1147, -6.1852, -6.3786, -5.9667, -6.0948, -6.2271, -6.4847, -5.9052, -6.334, -6.334, -6.334, -6.334, -6.334, -6.4788, -6.5989, -6.5989, -6.5989, -6.5989, -6.5989, -6.6091, -6.6091, -6.6542, -7.28, -7.28, -7.28, -7.28, -7.0981, -7.3717, -7.3717, -7.3258, -7.3813, -7.5616, -7.3468, -7.3894, -6.9876, -6.9876, -6.9876, -6.9876, -6.4748, -7.3058, -6.6742, -7.3004, -7.2978, -5.1552, -6.812, -6.5114, -6.7427, -7.0641, -7.2291], \"loglift\": [30.0, 29.0, 28.0, 27.0, 26.0, 25.0, 24.0, 23.0, 22.0, 21.0, 20.0, 19.0, 18.0, 17.0, 16.0, 15.0, 14.0, 13.0, 12.0, 11.0, 10.0, 9.0, 8.0, 7.0, 6.0, 5.0, 4.0, 3.0, 2.0, 1.0, 0.6304, 0.6302, 0.6301, 0.6299, 0.6298, 0.6292, 0.6289, 0.6288, 0.6285, 0.6284, 0.6284, 0.6283, 0.6279, 0.6275, 0.6275, 0.6274, 0.6273, 0.6272, 0.6272, 0.6272, 0.6272, 0.6271, 0.627, 0.627, 0.6269, 0.6269, 0.6267, 0.6266, 0.6264, 0.6259, 0.6212, 0.6259, 0.6256, 0.6258, 0.6259, 0.6235, 0.5832, 0.5552, 0.6079, 0.5349, 0.4781, 0.4307, 0.542, 0.3678, 0.489, 0.3787, 0.5656, 0.5221, -0.2816, 0.3886, 0.5526, -0.0367, -0.6315, 0.4344, 0.2623, 0.2077, 0.3344, 0.0075, 0.0152, 1.0136, 1.0128, 1.0124, 1.0124, 1.0119, 1.0117, 1.0108, 1.0105, 1.0101, 1.0098, 1.0092, 1.0091, 1.0091, 1.009, 1.0088, 1.0084, 1.0082, 1.0079, 1.0075, 1.0074, 1.0074, 1.0073, 1.0072, 1.0071, 1.0071, 1.0067, 1.0066, 1.0061, 1.0058, 1.0055, 1.0051, 0.9943, 0.6819, 0.941, 0.8634, 0.7983, 0.4677, 0.9086, 0.8515, 0.6966, 0.587, 0.295, 0.6348, 0.7174, 0.711, -0.4474, 0.2352, -0.4848, 0.2206, -0.69, -0.9366, 2.8617, 2.8565, 2.8559, 2.855, 2.8509, 2.8501, 2.8455, 2.8454, 2.8454, 2.8454, 2.8454, 2.8363, 2.8355, 2.8346, 2.8326, 2.8303, 2.8243, 2.8231, 2.8227, 2.8198, 2.8186, 2.8178, 2.816, 2.8147, 2.8146, 2.8135, 2.8124, 2.8051, 2.8011, 2.7981, 2.7935, 2.7857, 2.7441, 2.7862, 1.698, 1.2013, -1.0391, 1.479, 1.5485, 0.0452, -0.1366, 0.5568, 1.2205, 2.975, 2.9667, 2.9667, 2.9667, 2.9667, 2.9667, 2.9635, 2.9606, 2.9606, 2.9606, 2.9606, 2.9606, 2.9424, 2.9424, 2.9412, 2.9209, 2.9209, 2.9209, 2.9209, 2.9089, 2.9016, 2.9016, 2.8941, 2.8914, 2.8877, 2.8869, 2.8866, 2.8863, 2.8863, 2.8863, 2.8863, 2.853, 2.8829, 2.7793, 2.8778, 2.8711, 1.7744, 2.1969, 0.6723, -0.1597, 0.7663, 0.8956]}, \"token.table\": {\"Topic\": [1, 2, 4, 1, 2, 4, 1, 2, 3, 4, 1, 2, 3, 1, 2, 4, 1, 2, 4, 1, 2, 3, 1, 2, 4, 1, 2, 3, 4, 1, 2, 3, 1, 2, 3, 1, 2, 3, 1, 2, 3, 1, 2, 1, 2, 3, 1, 2, 3, 4, 1, 2, 3, 1, 2, 1, 2, 3, 4, 1, 2, 3, 4, 1, 2, 4, 1, 2, 1, 2, 4, 1, 2, 3, 4, 1, 2, 4, 1, 2, 3, 4, 1, 2, 3, 4, 1, 2, 3, 4, 1, 2, 4, 1, 2, 3, 4, 1, 2, 3, 1, 2, 3, 4, 1, 2, 3, 4, 1, 2, 3, 4, 1, 2, 3, 1, 2, 3, 4, 1, 2, 3, 4, 1, 2, 3, 1, 2, 3, 1, 2, 3, 1, 2, 3, 1, 2, 3, 1, 2, 3, 1, 2, 3, 4, 1, 2, 3, 4, 1, 2, 3, 4, 1, 2, 3, 1, 2, 1, 2, 3, 1, 2, 4, 1, 2, 3, 1, 2, 4, 1, 2, 4, 1, 2, 1, 2, 1, 2, 3, 1, 2, 1, 2, 3, 1, 2, 4, 1, 2, 3, 4, 1, 2, 1, 2, 3, 4, 1, 2, 3, 4, 1, 2, 3, 1, 2, 4, 1, 2, 3, 4, 1, 2, 4, 1, 2, 3, 4, 1, 2, 4, 1, 2, 3, 1, 2, 4, 1, 2, 4, 1, 2, 3, 4, 1, 2, 4, 1, 2, 3, 4, 1, 2, 3, 4, 1, 2, 1, 2, 3, 1, 2, 3, 4, 1, 2, 4, 1, 2, 3, 1, 2, 3, 1, 2, 4, 1, 2, 3, 4, 1, 2, 3, 4, 1, 2, 1, 2, 3, 4, 1, 2, 3, 4, 1, 2, 3, 4, 1, 2, 3, 1, 2, 4, 1, 2, 3, 4, 1, 2, 3, 4, 1, 2, 4, 1, 2, 3, 1, 2, 4, 1, 2, 4, 1, 2, 4, 1, 2, 3, 4, 1, 2, 3, 1, 2, 3, 4, 1, 2, 1, 2, 3, 4, 1, 2, 4, 1, 2, 4, 1, 2, 3, 4, 1, 2, 4, 1, 2, 4, 1, 2, 3, 4, 1, 2, 1, 2, 1, 2, 4, 1, 2, 1, 2, 3, 1, 2, 3, 1, 2, 3, 1, 2, 3, 1, 2, 4, 1, 2, 3, 1, 2, 3, 1, 2, 3, 1, 2, 4, 1, 2, 1, 2, 4, 1, 2, 3, 4, 1, 2, 4, 1, 2, 1, 2, 4, 1, 2, 1, 2, 3, 1, 2, 3, 1, 2, 3, 4, 1, 2, 3, 4, 1, 2, 3, 4, 1, 2, 4, 1, 2, 4, 1, 2, 4, 1, 2, 1, 2, 1, 2, 4, 1, 2, 3, 4, 1, 2, 3, 4, 1, 2, 3, 1, 2, 4, 1, 2, 3, 4, 1, 2, 3, 1, 2, 3, 1, 2, 3, 1, 2, 3, 1, 2, 3, 4, 1, 2, 3, 4, 1, 2, 3, 4, 1, 2, 3, 4, 1, 2, 3, 4, 1, 2, 3, 4, 1, 2, 4, 1, 2, 3, 4, 1, 2, 3, 4, 1, 2, 1, 2, 3, 1, 2, 3, 4, 1, 2, 4, 1, 2, 1, 2, 3, 4, 1, 2, 4, 1, 2, 1, 2, 3, 4, 1, 2, 3, 4, 1, 2, 4, 1, 2, 1, 2, 3, 4, 1, 2, 4, 1, 2, 3, 1, 2, 3, 4, 1, 2, 4, 1, 2, 3, 1, 2, 4, 1, 2, 3, 4, 1, 2, 4, 1, 2, 3, 4, 1, 2, 4], \"Freq\": [0.5463412334213417, 0.35433000283485566, 0.09699536390451356, 0.018943771472353124, 0.018943771472353124, 0.9661323450900092, 0.5396121534618061, 0.45232195216651394, 0.00793547284502656, 0.0007214066222751419, 0.004736878833367736, 0.9923761155905406, 0.002368439416683868, 0.05833278212689608, 0.02916639106344804, 0.8749917319034412, 0.05185338427716213, 0.05185338427716213, 0.8815075327117562, 0.0465490258210382, 0.0465490258210382, 0.9077060035102448, 0.021297376047341093, 0.021297376047341093, 0.9583819221303491, 0.019678612848762503, 0.019678612848762503, 0.9445734167406001, 0.019678612848762503, 0.025521488439746647, 0.025521488439746647, 0.9442950722706259, 0.002047756339898432, 0.9952095811906378, 0.002047756339898432, 0.018308529799979954, 0.018308529799979954, 0.9337350197989777, 0.003188854120597236, 0.9917336315057405, 0.003188854120597236, 0.9942210323267593, 0.0030685834331072815, 0.023755074649823908, 0.023755074649823908, 0.9264479113431323, 0.028877745315177714, 0.014438872657588857, 0.9529655954008646, 0.014438872657588857, 0.004436698917254906, 0.9938205574650989, 0.002218349458627453, 0.006077647004844026, 0.9906564617895761, 0.003825209647210713, 0.9907292986275746, 0.003825209647210713, 0.003825209647210713, 0.0022336662489359643, 0.9939814807765041, 0.0022336662489359643, 0.0022336662489359643, 0.003280370333521772, 0.9955923962238579, 0.001640185166760886, 0.9965368585900044, 0.002448493510049151, 0.021297376047341093, 0.021297376047341093, 0.9583819221303491, 0.043606398866130706, 0.043606398866130706, 0.043606398866130706, 0.872127977322614, 0.04348732183570578, 0.04348732183570578, 0.9132337585498214, 0.9950482910172758, 0.0042163063178698125, 0.0021081531589349062, 0.0021081531589349062, 0.40774977983955013, 0.4050070683159657, 0.18650438360374041, 0.0009142371745281394, 0.9922004561061969, 0.005735262752058942, 0.0019117542506863138, 0.0019117542506863138, 0.74306968751657, 0.25654813145345123, 0.0010221041093762997, 0.994755220441123, 0.0025311837670257582, 0.0025311837670257582, 0.0025311837670257582, 0.017106438480043163, 0.017106438480043163, 0.9579605548824172, 0.4011475157663554, 0.5789580151698895, 0.019850732912912856, 3.254218510313583e-05, 0.1935637925803653, 0.805963664460543, 0.0004732611065534604, 0.0004732611065534604, 0.176741983195111, 0.6302685815825657, 0.19008100079474202, 0.003334754399907755, 0.017106438480043163, 0.017106438480043163, 0.9579605548824172, 0.02672886940184121, 0.02672886940184121, 0.9355104290644423, 0.02672886940184121, 0.008193543572746306, 0.008193543572746306, 0.9750316851568104, 0.008193543572746306, 0.027935019147175506, 0.027935019147175506, 0.9497906510039672, 0.01614600483271344, 0.01614600483271344, 0.9526142851300929, 0.03396244929465307, 0.03396244929465307, 0.9169861309556329, 0.015154705402077353, 0.04546411620623206, 0.9244370295267185, 0.002351934369871012, 0.9948682384554379, 0.002351934369871012, 0.0038882276841516244, 0.9914980594586643, 0.0038882276841516244, 0.00975140999849603, 0.00975140999849603, 0.9751409998496029, 0.004875704999248015, 0.254755100795893, 0.7437824802131349, 0.00128017638590901, 0.00128017638590901, 0.5354882109033319, 0.4586010853225485, 0.00476291928376534, 0.0006804170405379058, 0.6911801668130196, 0.0015257840326998225, 0.30668259057266434, 0.0027827540845763755, 0.9934432081937661, 0.9769659833297938, 0.0026620326521247786, 0.01996524489093584, 0.01644366579591029, 0.01644366579591029, 0.970176281958707, 0.000248398805992744, 0.9993083965088091, 0.000248398805992744, 0.02112975690987458, 0.04225951381974916, 0.9297093040344815, 0.05833278212689608, 0.02916639106344804, 0.8749917319034412, 0.003016876816551817, 0.9925524726455477, 0.9952578084290837, 0.0027569468377536947, 0.99633093036356, 0.0021019639881087763, 0.0021019639881087763, 0.002931205985054647, 0.9936788289335253, 0.013670984170867853, 0.027341968341735707, 0.9432979077898819, 0.9955914611633012, 0.001983249922636058, 0.001983249922636058, 0.9977909445314969, 0.0010017981370798162, 0.0010017981370798162, 0.0010017981370798162, 0.9959067354617416, 0.0024529722548318755, 0.019157470977438175, 0.1532597678195054, 0.019157470977438175, 0.8046137810524033, 0.9928020701968805, 0.002712573962286559, 0.002712573962286559, 0.002712573962286559, 0.7763187046074507, 0.22335921022104235, 0.00025295493796267536, 0.9235536723379337, 0.07432473667101107, 0.001376384012426131, 0.49175152920310916, 0.46135629119496996, 0.0043421768583056, 0.0423362243684796, 0.8881066776250075, 0.0037791773515957767, 0.10581696584468174, 0.654335348721118, 0.34472301298478414, 0.000797969937464778, 0.000797969937464778, 0.040448507755307464, 0.040448507755307464, 0.9303156783720716, 0.020244724240274674, 0.020244724240274674, 0.9515020392929097, 0.039174687891912224, 0.039174687891912224, 0.8618431336220689, 0.7031787180670972, 0.00460597413581068, 0.2917116952680097, 0.0034760220788578066, 0.9298359060944632, 0.06604441949829833, 0.0017380110394289033, 0.01644366579591029, 0.01644366579591029, 0.970176281958707, 0.02465408047871718, 0.04930816095743436, 0.9122009777125356, 0.02465408047871718, 0.8725207662535472, 0.005072795152636903, 0.005072795152636903, 0.12174708366328567, 0.0006597910359441113, 0.9989236284193844, 0.021364967660472026, 0.021364967660472026, 0.9614235447212411, 0.5280883044354535, 0.02456224671792807, 0.012281123358964035, 0.4421204409227053, 0.0012794564795988491, 0.9979760540871023, 0.0012794564795988491, 0.9944952306824342, 0.0025965932915990447, 0.0025965932915990447, 0.9964054470138427, 0.0022290949597625117, 0.0022290949597625117, 0.9893519284326175, 0.010228796503036828, 0.0005682664723909349, 0.02016331122786954, 0.02016331122786954, 0.9476756277098684, 0.02016331122786954, 0.9967176595800465, 0.0025137898097857417, 0.0012568949048928709, 0.0012568949048928709, 0.9961630394525535, 0.0024904075986313837, 0.9950522060343727, 0.002086063325019649, 0.002086063325019649, 0.002086063325019649, 0.9986258713732358, 0.0006858694171519476, 0.0006858694171519476, 0.0006858694171519476, 0.8209259958170724, 0.17500360375945342, 0.00424251160628978, 0.001060627901572445, 0.994928431066021, 0.003001292401405795, 0.0015006462007028975, 0.05833278212689608, 0.02916639106344804, 0.8749917319034412, 0.9973676246248159, 0.0013369539204086003, 0.0013369539204086003, 0.0013369539204086003, 0.04098877562226264, 0.013662925207420882, 0.9427418393120408, 0.013662925207420882, 0.01644366579591029, 0.01644366579591029, 0.970176281958707, 0.0028995797316252537, 0.994555847947462, 0.0028995797316252537, 0.001410350787669201, 0.9978231822759597, 0.0007051753938346005, 0.04348732183570578, 0.04348732183570578, 0.9132337585498214, 0.9076252489020952, 0.09216697401810445, 0.000438890352467164, 0.2981792577764163, 0.6521581427390626, 0.04882467378795121, 0.0005812461165232287, 0.007873189125213002, 0.007873189125213002, 0.9841486406516254, 0.14286518048885297, 0.8496718629073887, 0.006266016688107587, 0.0012532033376215174, 0.9958982140300984, 0.002758720814487807, 0.8574759704651725, 0.1421569099634223, 0.0002267255342319335, 0.0002267255342319335, 0.01644366579591029, 0.01644366579591029, 0.970176281958707, 0.9964469102914336, 0.0019770772029591935, 0.0019770772029591935, 0.817772894743183, 0.1819780626285006, 0.00020516128819447643, 0.00020516128819447643, 0.021297376047341093, 0.021297376047341093, 0.9583819221303491, 0.021297376047341093, 0.021297376047341093, 0.9583819221303491, 0.0012318900995578282, 0.9982416106750268, 0.00041063003318594275, 0.00041063003318594275, 0.0035359166756918302, 0.9935925858694042, 0.0033339306747749123, 0.9951783064203114, 0.02112975690987458, 0.04225951381974916, 0.9297093040344815, 0.9930929949302602, 0.004155200815607783, 0.036152401626058366, 0.018076200813029183, 0.9399624422775176, 0.022812474490138072, 0.022812474490138072, 0.935311454095661, 0.0015596982981679003, 0.9974270616783723, 0.0007798491490839501, 0.0033507721805616014, 0.991828565446234, 0.0033507721805616014, 0.040448507755307464, 0.040448507755307464, 0.9303156783720716, 0.008325725714073492, 0.7243381371243938, 0.262260359993315, 0.08459741922873706, 0.033838967691494824, 0.8798131599788654, 0.0029497128186882935, 0.994053219897955, 0.0029497128186882935, 0.9964340645937563, 0.0027640334662794902, 0.0013820167331397451, 0.995001615756188, 0.0035283745239581134, 0.03378721461321028, 0.10136164383963084, 0.8615739726368621, 0.9935562718722011, 0.0035170133517600038, 0.0017585066758800019, 0.0017585066758800019, 0.00245435594493994, 0.9964685136456158, 0.0008181186483133135, 0.004975825297643525, 0.9926771468798832, 0.021297376047341093, 0.021297376047341093, 0.9583819221303491, 0.0044566963341172985, 0.9938432825081576, 0.003555905445469678, 0.9920976192860401, 0.003555905445469678, 0.9949491225262495, 0.003553389723308034, 0.001776694861654017, 0.3144544265391336, 0.6838954194676239, 0.0008591650998336983, 0.0008591650998336983, 0.014800390952896262, 0.014800390952896262, 0.9620254119382571, 0.014800390952896262, 0.9969267239434492, 0.0013865462085444356, 0.0013865462085444356, 0.0013865462085444356, 0.041224870274309364, 0.041224870274309364, 0.906947146034806, 0.0025676874126341134, 0.993695028689402, 0.0025676874126341134, 0.040448507755307464, 0.040448507755307464, 0.9303156783720716, 0.9360210015454171, 0.06257892897956559, 0.9977069477432, 0.0016144125368012946, 0.9985890973523859, 0.000928920090560359, 0.000928920090560359, 0.8670441350738172, 0.13262862394981906, 0.0006197599249991545, 0.0006197599249991545, 0.2128116918656868, 0.7279754416270036, 0.05887585711557906, 0.0006132901782872818, 0.017065547958807555, 0.017065547958807555, 0.9727362336520307, 0.01644366579591029, 0.01644366579591029, 0.970176281958707, 0.006401031979538686, 0.745720225616257, 0.24643973121223942, 0.003200515989769343, 0.017106438480043163, 0.017106438480043163, 0.9579605548824172, 0.014610343332237121, 0.014610343332237121, 0.9642826599276499, 0.014304302394124174, 0.014304302394124174, 0.9726925628004438, 0.017106438480043163, 0.017106438480043163, 0.9579605548824172, 0.026537856139635864, 0.017691904093090575, 0.9553628210268911, 0.008845952046545287, 0.9983631346023987, 0.0009730634840179324, 0.0009730634840179324, 0.0009730634840179324, 0.9947801654023068, 0.0035719215992901505, 0.0017859607996450753, 0.0017859607996450753, 0.0019402591544625401, 0.9953529462392832, 0.0019402591544625401, 0.0019402591544625401, 0.0013272015635195109, 0.8998426600662284, 0.0982129157004438, 0.0013272015635195109, 0.7679251240422699, 0.23186840002161863, 0.00013077743938049555, 0.00013077743938049555, 0.05833278212689608, 0.02916639106344804, 0.8749917319034412, 0.5125201184511978, 0.4870775922846467, 0.00024463967467837605, 0.00024463967467837605, 0.2826916793467525, 0.7172687301719102, 4.465903307215679e-05, 4.465903307215679e-05, 0.26003759937669035, 0.7382977067730153, 0.952328927101386, 0.04713056424940532, 0.0004858821056639724, 0.926083692023746, 0.0736458224114096, 0.00025049599459663134, 0.00025049599459663134, 0.03331949299608851, 0.03331949299608851, 0.8996263108943897, 0.9981173887811069, 0.0013081486091495503, 0.8956232810884462, 0.10263475476888105, 0.001080365839672432, 0.001080365839672432, 0.040448507755307464, 0.040448507755307464, 0.9303156783720716, 0.9973852747803627, 0.0018961697239170392, 0.13914192255401, 0.8600805652376992, 0.0007645160579890659, 0.0007645160579890659, 0.022078185774088384, 0.022078185774088384, 0.022078185774088384, 0.9272838025117122, 0.7839243033351457, 0.21525790296497854, 0.0006425609043730703, 0.9966794726848455, 0.0017958188697024243, 0.9143974822810431, 0.08479375148972079, 0.0007639076710785656, 0.0007639076710785656, 0.994587369117741, 0.0019578491518065766, 0.0019578491518065766, 0.025926545502198403, 0.025926545502198403, 0.907429092576944, 0.0016556507769205757, 0.9967017677061866, 0.0016556507769205757, 0.0016556507769205757, 0.03954092872485922, 0.03954092872485922, 0.8699004319469028, 0.01168638784278939, 0.01168638784278939, 0.9699701909515194, 0.041800611328620944, 0.041800611328620944, 0.8778128379010398, 0.010797813604840984, 0.010797813604840984, 0.010797813604840984, 0.9718032244356887, 0.039959898935147585, 0.039959898935147585, 0.879117776573247, 0.0038093792667415896, 0.9809151611859592, 0.0019046896333707948, 0.015237517066966359, 0.043462213336729685, 0.043462213336729685, 0.9127064800713234], \"Term\": [\"$\", \"$\", \"$\", \"/j\", \"/j\", \"/j\", \"2\", \"2\", \"2\", \"2\", \"2_dose\", \"2_dose\", \"2_dose\", \"2_dose_authorize\", \"2_dose_authorize\", \"2_dose_authorize\", \"@coronavirus_vax\", \"@coronavirus_vax\", \"@coronavirus_vax\", \"@pmoindia\", \"@pmoindia\", \"@pmoindia\", \"account_42_percent\", \"account_42_percent\", \"account_42_percent\", \"active\", \"active\", \"active\", \"active\", \"active_case\", \"active_case\", \"active_case\", \"administer\", \"administer\", \"administer\", \"ale\", \"ale\", \"ale\", \"announce\", \"announce\", \"announce\", \"anti_vax\", \"anti_vax\", \"ap_news\", \"ap_news\", \"ap_news\", \"app\", \"app\", \"app\", \"app\", \"appointment\", \"appointment\", \"appointment\", \"approve\", \"approve\", \"arrive\", \"arrive\", \"arrive\", \"arrive\", \"astrazeneca\", \"astrazeneca\", \"astrazeneca\", \"astrazeneca\", \"available\", \"available\", \"available\", \"believe\", \"believe\", \"bill_de_blasio\", \"bill_de_blasio\", \"bill_de_blasio\", \"boost_immunity\", \"boost_immunity\", \"boost_immunity\", \"boost_immunity\", \"capitol_qanon_mitch_mcconnell\", \"capitol_qanon_mitch_mcconnell\", \"capitol_qanon_mitch_mcconnell\", \"care\", \"care\", \"care\", \"care\", \"case\", \"case\", \"case\", \"case\", \"child\", \"child\", \"child\", \"child\", \"come\", \"come\", \"come\", \"control\", \"control\", \"control\", \"control\", \"coronatrackernepal_bot_telegram\", \"coronatrackernepal_bot_telegram\", \"coronatrackernepal_bot_telegram\", \"coronavirus\", \"coronavirus\", \"coronavirus\", \"coronavirus\", \"coronavirus vaccine\", \"coronavirus vaccine\", \"coronavirus vaccine\", \"coronavirus vaccine\", \"coronavirus_19\", \"coronavirus_19\", \"coronavirus_19\", \"coronavirus_19\", \"coronavirus_19_sarscov2_staysafe_source\", \"coronavirus_19_sarscov2_staysafe_source\", \"coronavirus_19_sarscov2_staysafe_source\", \"coronaviruscases\", \"coronaviruscases\", \"coronaviruscases\", \"coronaviruscases\", \"coronaviruscoronavirus\", \"coronaviruscoronavirus\", \"coronaviruscoronavirus\", \"coronaviruscoronavirus\", \"coronavirusinfo_usa_new_case\", \"coronavirusinfo_usa_new_case\", \"coronavirusinfo_usa_new_case\", \"coronaviruspandemic\", \"coronaviruspandemic\", \"coronaviruspandemic\", \"coronavirusupdate\", \"coronavirusupdate\", \"coronavirusupdate\", \"coronavirus\\u30fc19\", \"coronavirus\\u30fc19\", \"coronavirus\\u30fc19\", \"county\", \"county\", \"county\", \"covax\", \"covax\", \"covax\", \"daily\", \"daily\", \"daily\", \"daily\", \"datum\", \"datum\", \"datum\", \"datum\", \"day\", \"day\", \"day\", \"day\", \"death\", \"death\", \"death\", \"deliver\", \"deliver\", \"die\", \"die\", \"die\", \"doctor_policy_vaccine\", \"doctor_policy_vaccine\", \"doctor_policy_vaccine\", \"dose\", \"dose\", \"dose\", \"dose_fig_variant\", \"dose_fig_variant\", \"dose_fig_variant\", \"dr_tam_cpho_naci\", \"dr_tam_cpho_naci\", \"dr_tam_cpho_naci\", \"eligible\", \"eligible\", \"family\", \"family\", \"fauci\", \"fauci\", \"fauci\", \"fda\", \"fda\", \"feb\", \"feb\", \"feb\", \"feel\", \"feel\", \"feel\", \"firefauci\", \"firefauci\", \"firefauci\", \"firefauci\", \"flu\", \"flu\", \"flu_viually_disappear\", \"flu_viually_disappear\", \"flu_viually_disappear\", \"flu_viually_disappear\", \"friend\", \"friend\", \"friend\", \"friend\", \"get\", \"get\", \"get\", \"good\", \"good\", \"good\", \"health\", \"health\", \"health\", \"health\", \"healthy\", \"healthy\", \"healthy\", \"help\", \"help\", \"help\", \"help\", \"help_restaurant_big\", \"help_restaurant_big\", \"help_restaurant_big\", \"icu\", \"icu\", \"icu\", \"immunesystem\", \"immunesystem\", \"immunesystem\", \"immunity\", \"immunity\", \"immunity\", \"india\", \"india\", \"india\", \"india\", \"insurance_pharmaceutical_biotech\", \"insurance_pharmaceutical_biotech\", \"insurance_pharmaceutical_biotech\", \"iran\", \"iran\", \"iran\", \"iran\", \"j\", \"j\", \"j\", \"j\", \"j&;j\", \"j&;j\", \"j&;k\", \"j&;k\", \"j&;k\", \"j.\", \"j.\", \"j.\", \"j.\", \"johnson_johnson\", \"johnson_johnson\", \"johnson_johnson\", \"kid\", \"kid\", \"kid\", \"kill\", \"kill\", \"kill\", \"know\", \"know\", \"know\", \"lakh\", \"lakh\", \"lakh\", \"lakh\", \"let\", \"let\", \"let\", \"let\", \"lie\", \"lie\", \"life\", \"life\", \"life\", \"life\", \"like\", \"like\", \"like\", \"like\", \"live\", \"live\", \"live\", \"live\", \"long\", \"long\", \"long\", \"look_modify_time\", \"look_modify_time\", \"look_modify_time\", \"mask\", \"mask\", \"mask\", \"mask\", \"maskup\", \"maskup\", \"maskup\", \"maskup\", \"medtech_retweet\", \"medtech_retweet\", \"medtech_retweet\", \"million_dose\", \"million_dose\", \"million_dose\", \"moderna\", \"moderna\", \"moderna\", \"nancy_blm_proud_boy\", \"nancy_blm_proud_boy\", \"nancy_blm_proud_boy\", \"need\", \"need\", \"need\", \"new\", \"new\", \"new\", \"new\", \"new_case\", \"new_case\", \"new_case\", \"news\", \"news\", \"news\", \"news\", \"not\", \"not\", \"pandemic\", \"pandemic\", \"pandemic\", \"pandemic\", \"patient_nhs_fmrevolution_today\", \"patient_nhs_fmrevolution_today\", \"patient_nhs_fmrevolution_today\", \"pay\", \"pay\", \"pay\", \"people\", \"people\", \"people\", \"people\", \"people_outside_city\", \"people_outside_city\", \"people_outside_city\", \"percent_queen_site_mayor\", \"percent_queen_site_mayor\", \"percent_queen_site_mayor\", \"pfizer\", \"pfizer\", \"pfizer\", \"pfizer\", \"pfizer_biontech\", \"pfizer_biontech\", \"pfizer_moderna\", \"pfizer_moderna\", \"pfizer_study_3rd\", \"pfizer_study_3rd\", \"pfizer_study_3rd\", \"point\", \"point\", \"protest\", \"protest\", \"protest\", \"punjab\", \"punjab\", \"punjab\", \"receive\", \"receive\", \"receive\", \"receive_dose\", \"receive_dose\", \"receive_dose\", \"recognize_privilege_little_girl\", \"recognize_privilege_little_girl\", \"recognize_privilege_little_girl\", \"repoed\", \"repoed\", \"repoed\", \"repoing\", \"repoing\", \"repoing\", \"resident\", \"resident\", \"resident\", \"rig\", \"rig\", \"rig\", \"risk\", \"risk\", \"sale\", \"sale\", \"sale\", \"school\", \"school\", \"school\", \"school\", \"shoot\", \"shoot\", \"shoot\", \"shot\", \"shot\", \"shot_javits_center_75\", \"shot_javits_center_75\", \"shot_javits_center_75\", \"single_dose\", \"single_dose\", \"site\", \"site\", \"site\", \"spread\", \"spread\", \"spread\", \"state\", \"state\", \"state\", \"state\", \"staysafe\", \"staysafe\", \"staysafe\", \"staysafe\", \"stop\", \"stop\", \"stop\", \"stop\", \"supplement\", \"supplement\", \"supplement\", \"supply\", \"supply\", \"supply\", \"teacher_good_work\", \"teacher_good_work\", \"teacher_good_work\", \"tell\", \"tell\", \"thing\", \"thing\", \"think\", \"think\", \"think\", \"time\", \"time\", \"time\", \"time\", \"today\", \"today\", \"today\", \"today\", \"today_recovery\", \"today_recovery\", \"today_recovery\", \"todaysmedicalupdate_medicine_health\", \"todaysmedicalupdate_medicine_health\", \"todaysmedicalupdate_medicine_health\", \"total\", \"total\", \"total\", \"total\", \"total_active_case\", \"total_active_case\", \"total_active_case\", \"total_case\", \"total_case\", \"total_case\", \"total_death\", \"total_death\", \"total_death\", \"total_recovery\", \"total_recovery\", \"total_recovery\", \"trend\", \"trend\", \"trend\", \"trend\", \"trump\", \"trump\", \"trump\", \"trump\", \"try\", \"try\", \"try\", \"try\", \"u.s\", \"u.s\", \"u.s\", \"u.s\", \"update\", \"update\", \"update\", \"update\", \"vaccinate\", \"vaccinate\", \"vaccinate\", \"vaccinate\", \"vaccinate_compromise_effectiveness\", \"vaccinate_compromise_effectiveness\", \"vaccinate_compromise_effectiveness\", \"vaccination\", \"vaccination\", \"vaccination\", \"vaccination\", \"vaccine\", \"vaccine\", \"vaccine\", \"vaccine\", \"variant\", \"variant\", \"vax\", \"vax\", \"vax\", \"virus\", \"virus\", \"virus\", \"virus\", \"vitamin\", \"vitamin\", \"vitamin\", \"want\", \"want\", \"way\", \"way\", \"way\", \"way\", \"way_philadelphia_phillies_pitch\", \"way_philadelphia_phillies_pitch\", \"way_philadelphia_phillies_pitch\", \"wear_mask\", \"wear_mask\", \"week\", \"week\", \"week\", \"week\", \"wellness\", \"wellness\", \"wellness\", \"wellness\", \"work\", \"work\", \"work\", \"wrong\", \"wrong\", \"year\", \"year\", \"year\", \"year\", \"yes\", \"yes\", \"yes\", \"zoom\", \"zoom\", \"zoom\", \"|\", \"|\", \"|\", \"|\", \"\\u00b0\", \"\\u00b0\", \"\\u00b0\", \"\\u2591_\\u2591_\\u2591_\\u2591\", \"\\u2591_\\u2591_\\u2591_\\u2591\", \"\\u2591_\\u2591_\\u2591_\\u2591\", \"\\u274c\", \"\\u274c\", \"\\u274c\", \"\\ufe0f\", \"\\ufe0f\", \"\\ufe0f\", \"\\ufe0f\", \"\\ud83c\\udde8_\\ud83c\\uddf3\", \"\\ud83c\\udde8_\\ud83c\\uddf3\", \"\\ud83c\\udde8_\\ud83c\\uddf3\", \"\\ud83d\\udc89\", \"\\ud83d\\udc89\", \"\\ud83d\\udc89\", \"\\ud83d\\udc89\", \"\\ud83d\\ude0e\", \"\\ud83d\\ude0e\", \"\\ud83d\\ude0e\"]}, \"R\": 30, \"lambda.step\": 0.01, \"plot.opts\": {\"xlab\": \"PC1\", \"ylab\": \"PC2\"}, \"topic.order\": [3, 4, 2, 1]};\n",
       "\n",
       "function LDAvis_load_lib(url, callback){\n",
       "  var s = document.createElement('script');\n",
       "  s.src = url;\n",
       "  s.async = true;\n",
       "  s.onreadystatechange = s.onload = callback;\n",
       "  s.onerror = function(){console.warn(\"failed to load library \" + url);};\n",
       "  document.getElementsByTagName(\"head\")[0].appendChild(s);\n",
       "}\n",
       "\n",
       "if(typeof(LDAvis) !== \"undefined\"){\n",
       "   // already loaded: just create the visualization\n",
       "   !function(LDAvis){\n",
       "       new LDAvis(\"#\" + \"ldavis_el1748425802485060321193013265\", ldavis_el1748425802485060321193013265_data);\n",
       "   }(LDAvis);\n",
       "}else if(typeof define === \"function\" && define.amd){\n",
       "   // require.js is available: use it to load d3/LDAvis\n",
       "   require.config({paths: {d3: \"https://d3js.org/d3.v5\"}});\n",
       "   require([\"d3\"], function(d3){\n",
       "      window.d3 = d3;\n",
       "      LDAvis_load_lib(\"https://cdn.jsdelivr.net/gh/bmabey/pyLDAvis@3.2.2/pyLDAvis/js/ldavis.v3.0.0.js\", function(){\n",
       "        new LDAvis(\"#\" + \"ldavis_el1748425802485060321193013265\", ldavis_el1748425802485060321193013265_data);\n",
       "      });\n",
       "    });\n",
       "}else{\n",
       "    // require.js not available: dynamically load d3 & LDAvis\n",
       "    LDAvis_load_lib(\"https://d3js.org/d3.v5.js\", function(){\n",
       "         LDAvis_load_lib(\"https://cdn.jsdelivr.net/gh/bmabey/pyLDAvis@3.2.2/pyLDAvis/js/ldavis.v3.0.0.js\", function(){\n",
       "                 new LDAvis(\"#\" + \"ldavis_el1748425802485060321193013265\", ldavis_el1748425802485060321193013265_data);\n",
       "            })\n",
       "         });\n",
       "}\n",
       "</script>"
      ],
      "text/plain": [
       "PreparedData(topic_coordinates=              x         y  topics  cluster       Freq\n",
       "topic                                                \n",
       "2      0.168998  0.122730       1        1  53.160989\n",
       "3      0.152595 -0.127372       2        1  36.269410\n",
       "1     -0.149185 -0.021719       3        1   5.615408\n",
       "0     -0.172407  0.026362       4        1   4.954193, topic_info=             Term          Freq         Total Category  logprob  loglift\n",
       "23        vaccine  22391.000000  22391.000000  Default  30.0000  30.0000\n",
       "6     coronavirus  30729.000000  30729.000000  Default  29.0000  29.0000\n",
       "37           dose   4025.000000   4025.000000  Default  28.0000  28.0000\n",
       "992         death   1310.000000   1310.000000  Default  27.0000  27.0000\n",
       "1122       pfizer   2435.000000   2435.000000  Default  26.0000  26.0000\n",
       "...           ...           ...           ...      ...      ...      ...\n",
       "1576           j.     36.295864     81.425776   Topic4  -6.8120   2.1969\n",
       "24              $     49.022756    505.178784   Topic4  -6.5114   0.6723\n",
       "173        health     38.900895    921.196932   Topic4  -6.7427  -0.1597\n",
       "174       healthy     28.207557    264.607852   Topic4  -7.0641   0.7663\n",
       "1666            j     23.916538    197.129979   Topic4  -7.2291   0.8956\n",
       "\n",
       "[225 rows x 6 columns], token_table=      Topic      Freq Term\n",
       "term                      \n",
       "24        1  0.546341    $\n",
       "24        2  0.354330    $\n",
       "24        4  0.096995    $\n",
       "8421      1  0.018944   /j\n",
       "8421      2  0.018944   /j\n",
       "...     ...       ...  ...\n",
       "1764      3  0.001905    💉\n",
       "1764      4  0.015238    💉\n",
       "6203      1  0.043462    😎\n",
       "6203      2  0.043462    😎\n",
       "6203      4  0.912706    😎\n",
       "\n",
       "[582 rows x 3 columns], R=30, lambda_step=0.01, plot_opts={'xlab': 'PC1', 'ylab': 'PC2'}, topic_order=[3, 4, 2, 1])"
      ]
     },
     "execution_count": 16,
     "metadata": {},
     "output_type": "execute_result"
    }
   ],
   "source": [
    "#display the pLDAvis plot to visualize the LDA model\n",
    "vis = pyLDAvis.gensim.prepare(models[idx], corpus, tweets_gdict)\n",
    "vis"
   ]
  },
  {
   "cell_type": "code",
   "execution_count": 17,
   "metadata": {},
   "outputs": [],
   "source": [
    "pyLDAvis.save_html(vis,data_path+'\\\\'+'covid_topics_4t.html')"
   ]
  }
 ],
 "metadata": {
  "kernelspec": {
   "display_name": "dk-covid",
   "language": "python",
   "name": "dk-covid"
  },
  "language_info": {
   "codemirror_mode": {
    "name": "ipython",
    "version": 3
   },
   "file_extension": ".py",
   "mimetype": "text/x-python",
   "name": "python",
   "nbconvert_exporter": "python",
   "pygments_lexer": "ipython3",
   "version": "3.8.8"
  }
 },
 "nbformat": 4,
 "nbformat_minor": 4
}
