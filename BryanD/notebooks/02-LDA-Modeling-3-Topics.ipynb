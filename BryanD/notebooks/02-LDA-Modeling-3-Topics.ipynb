{
 "cells": [
  {
   "cell_type": "code",
   "execution_count": 1,
   "metadata": {},
   "outputs": [],
   "source": [
    "import pandas as pd\n",
    "import os\n",
    "\n",
    "PROJ_ROOT = os.path.join(os.pardir)\n",
    "\n",
    "import gensim\n",
    "\n",
    "from gensim.models import CoherenceModel\n",
    "from gensim.models.ldamodel import LdaModel\n",
    "\n",
    "\n",
    "import pyLDAvis\n",
    "import pyLDAvis.gensim\n",
    "pyLDAvis.enable_notebook()\n",
    "\n",
    "import operator\n",
    "\n",
    "import warnings\n",
    "warnings.filterwarnings('ignore')\n",
    "from tqdm import tqdm_notebook as tqdm\n",
    "\n",
    "import numpy as np\n",
    "\n",
    "\n",
    "data_path = os.path.join(PROJ_ROOT, \n",
    "                         'data')\n",
    "from pprint import pprint\n",
    "import re\n",
    "import pickle\n",
    "import matplotlib.pyplot as plt"
   ]
  },
  {
   "cell_type": "markdown",
   "metadata": {},
   "source": [
    "## Load Necessary Files"
   ]
  },
  {
   "cell_type": "code",
   "execution_count": 2,
   "metadata": {},
   "outputs": [
    {
     "data": {
      "application/vnd.jupyter.widget-view+json": {
       "model_id": "ce660a4dbc5641f99e85636ccc6fd3c4",
       "version_major": 2,
       "version_minor": 0
      },
      "text/plain": [
       "  0%|          | 0/4 [00:00<?, ?it/s]"
      ]
     },
     "metadata": {},
     "output_type": "display_data"
    }
   ],
   "source": [
    "files = ['all_tokens.pkl','tweets_gdict.pkl','corpus.pkl',\n",
    "         'texts.pkl']\n",
    "\n",
    "for fn in tqdm(files):\n",
    "    var=re.findall(r'(.*)\\.',fn)[0]\n",
    "    globals()[var] = pickle.load( open( data_path+'\\\\'+fn, 'rb' ) )"
   ]
  },
  {
   "cell_type": "markdown",
   "metadata": {},
   "source": [
    "## LDA Topic Modeling"
   ]
  },
  {
   "cell_type": "markdown",
   "metadata": {},
   "source": [
    "### functions to computer coherence and make the lda models"
   ]
  },
  {
   "cell_type": "code",
   "execution_count": 3,
   "metadata": {},
   "outputs": [],
   "source": [
    "# create a function to compute coherence values - used for the naive models\n",
    "def compute_coherence(dictionary, corpus, texts, limit, start=2, step=1):\n",
    "    '''Function to create a naive LDA model for a range of topics, then compute coherence values'''\n",
    "    # empty lists to hold the models & computed coherence values\n",
    "    coherence_values=[]\n",
    "    model_list=[]\n",
    "    \n",
    "    # create a LDA model for each topic amount set between start & limit values\n",
    "    for num_topic in tqdm(range(start, limit, step)):\n",
    "        model = LdaModel(corpus=corpus,\n",
    "                         num_topics=num_topic,\n",
    "                         id2word=dictionary,\n",
    "                         random_state=5)\n",
    "        \n",
    "        model_list.append(model) # add the model to the list\n",
    "        \n",
    "        # create a coherence model from the model\n",
    "        coherencemodel=CoherenceModel(model=model,\n",
    "                                      texts=[texts],\n",
    "                                      dictionary=dictionary,\n",
    "                                      coherence='c_v')\n",
    "        \n",
    "        #add the coherenced values from the list\n",
    "        coherence_values.append(coherencemodel.get_coherence()) \n",
    "        \n",
    "    return model_list, coherence_values\n",
    "\n",
    "\n",
    "def compute_coherence_values(corpus, dictionary, texts, k, a, b):\n",
    "    '''Function to create a lda model with set parameters, then compute coherence values'''\n",
    "    lda_model = gensim.models.LdaMulticore(corpus=tqdm(corpus),\n",
    "                                           id2word=dictionary,\n",
    "                                           num_topics=k,\n",
    "                                           alpha=a,\n",
    "                                          chunksize=200,\n",
    "                                          passes=10,\n",
    "                                          random_state=5,\n",
    "                                          eta=b,\n",
    "                                          per_word_topics=True)\n",
    "    \n",
    "    # create a coherence value from the model\n",
    "    coherence_model_lda = CoherenceModel(model=lda_model,\n",
    "                                         texts=[texts],\n",
    "                                         dictionary=dictionary,\n",
    "                                         coherence='c_v')\n",
    "    \n",
    "    return lda_model, coherence_model_lda.get_coherence()\n"
   ]
  },
  {
   "cell_type": "markdown",
   "metadata": {},
   "source": [
    "## Create a naive lda model with 1 to *n* topics"
   ]
  },
  {
   "cell_type": "code",
   "execution_count": 4,
   "metadata": {},
   "outputs": [],
   "source": [
    "# #create a naive  lda model and coherence values for different topic lengths\n",
    "# model_list, coherence_values = compute_coherence(dictionary=tweets_gdict,\n",
    "#                                                  corpus=corpus,\n",
    "#                                                  texts=texts,\n",
    "#                                                  start=1,\n",
    "#                                                  limit=15,\n",
    "#                                                  step=1  )"
   ]
  },
  {
   "cell_type": "code",
   "execution_count": 5,
   "metadata": {},
   "outputs": [],
   "source": [
    "# # save the naive models\n",
    "\n",
    "# with open(data_path+'\\\\'+'naive_model_list_cv.pkl', 'wb') as f:\n",
    "#     pickle.dump(model_list, f)\n",
    "    \n",
    "# with open(data_path+'\\\\'+'coherence_values.pkl', 'wb') as f:\n",
    "#     pickle.dump(coherence_values, f)"
   ]
  },
  {
   "cell_type": "markdown",
   "metadata": {},
   "source": [
    "#### Load the previously created models from the above two cells"
   ]
  },
  {
   "cell_type": "code",
   "execution_count": 6,
   "metadata": {},
   "outputs": [],
   "source": [
    "model_list = pickle.load( open(data_path+'\\\\'+ 'naiave_model_list_cv.pkl', 'rb' ) )\n",
    "coherence_values = pickle.load(open(data_path+'\\\\'+ 'coherence_values.pkl','rb'))"
   ]
  },
  {
   "cell_type": "markdown",
   "metadata": {},
   "source": [
    "### Visualize coherence values to select number of topics to use for the LDA Model"
   ]
  },
  {
   "cell_type": "code",
   "execution_count": 19,
   "metadata": {
    "scrolled": true
   },
   "outputs": [
    {
     "data": {
      "image/png": "[encoded data removed]",
      "text/plain": [
       "<Figure size 432x288 with 1 Axes>"
      ]
     },
     "metadata": {
      "needs_background": "light"
     },
     "output_type": "display_data"
    }
   ],
   "source": [
    "#plot the coherence values for different topic numbers\n",
    "limit=15; start=1\n",
    "x=range(start, limit)\n",
    "plt.plot(x, coherence_values)\n",
    "plt.xlabel('Num Topics')\n",
    "plt.ylabel('Coherence score')\n",
    "plt.legend('coherence_values', loc='best')\n",
    "plt.savefig('coherence_values.png', bbox_inches='tight')\n",
    "plt.show()"
   ]
  },
  {
   "cell_type": "code",
   "execution_count": 8,
   "metadata": {},
   "outputs": [
    {
     "name": "stdout",
     "output_type": "stream",
     "text": [
      "[0.2409125597912077,\n",
      " 0.2800806042947272,\n",
      " 0.3171639175987016,\n",
      " 0.3215055649681553,\n",
      " 0.32179694064705433,\n",
      " 0.2921852213487059,\n",
      " 0.30038541763491633,\n",
      " 0.2984128495380771,\n",
      " 0.27927221557560233,\n",
      " 0.2932006816855416,\n",
      " 0.2794232567110878,\n",
      " 0.2769115091589724,\n",
      " 0.27545853819011845,\n",
      " 0.29085384301829936]\n",
      "4 0.32179694064705433\n",
      "5  topics will be used for the LDA model\n"
     ]
    }
   ],
   "source": [
    "#print the coherence values, and the index & cv for the highest cv value\n",
    "pprint(coherence_values)\n",
    "index, value = max(enumerate(coherence_values), key=operator.itemgetter(1))\n",
    "num_topics = len(coherence_values[:index+1])\n",
    "print(index, value)\n",
    "print(num_topics,' topics will be used for the LDA model')"
   ]
  },
  {
   "cell_type": "markdown",
   "metadata": {},
   "source": [
    "## Create a tuned LDA Model with 3 topics"
   ]
  },
  {
   "cell_type": "code",
   "execution_count": 9,
   "metadata": {},
   "outputs": [],
   "source": [
    "# #decide on a topic number from above and train hyperparamters to train the model on\n",
    "\n",
    "# topic_range = [3] # value determined by the above elbow plot above\n",
    "\n",
    "# # range of alpha numbers to plug into the model   \n",
    "# alpha = list(np.arange(0.01, 1, 0.3)) + [50/x  for x in topic_range]\n",
    "# alpha.append('symmetric')\n",
    "# alpha.append('asymmetric')\n",
    "\n",
    "# # range of beta parameters to plug into the model\n",
    "# beta = list(np.arange(0.01, 1, 0.3))\n",
    "# beta.append('symmetric')\n",
    "\n",
    "# # create a minimized corpus set for validation if needed\n",
    "# num_of_docs = len(corpus)\n",
    "# corpus_sets = [corpus]\n",
    "    \n",
    "# corpus_title = ['100% Corpus']\n",
    "\n",
    "# # empty dictionary to store parameter results with coherence values\n",
    "# model_results = {'validation_set': [],\n",
    "#                     'topics':[],\n",
    "#                     'alpha':[],\n",
    "#                  'beta':[],\n",
    "#                   'coherence':[]}\n",
    "\n",
    "# models=[] #empty list to store completed models\n",
    "    \n",
    "# if 1 ==1:\n",
    "#     pbar = tqdm(total=len(topic_range) * len(alpha) * len(beta) * len(corpus_sets))\n",
    "    \n",
    "    \n",
    "#     # create a model and store the corresponding values and results for each combination of parameters\n",
    "#     for i in range(len(corpus_sets)):\n",
    "#         for k in topic_range:\n",
    "#             for a in alpha:\n",
    "#                 for b in beta:\n",
    "                    \n",
    "#                     model, cv = compute_coherence_values(corpus=corpus_sets[i],\n",
    "#                                                   dictionary=tweets_gdict,\n",
    "#                                                      texts=texts,\n",
    "#                                                   k=k,\n",
    "#                                                   a=a,\n",
    "#                                                         b=b)\n",
    "                    \n",
    "#                     model_results['validation_set'].append(corpus_title[i])\n",
    "#                     model_results['topics'].append(k)\n",
    "#                     model_results['alpha'].append(a)\n",
    "#                     model_results['beta'].append(b)\n",
    "#                     model_results['coherence'].append(cv)\n",
    "#                     models.append(model)\n",
    "                    \n",
    "#                     pbar.update(1)\n",
    "\n",
    "#     pbar.close()"
   ]
  },
  {
   "cell_type": "markdown",
   "metadata": {},
   "source": [
    "#### Load the models from the above cell"
   ]
  },
  {
   "cell_type": "code",
   "execution_count": 10,
   "metadata": {},
   "outputs": [],
   "source": [
    "models = pickle.load( open( data_path+'\\\\'+ 'all_lda_models_3t.pkl', 'rb' ) )\n",
    "model_results = pickle.load(open(data_path+'\\\\'+ 'model_results_3t.pkl','rb'))"
   ]
  },
  {
   "cell_type": "markdown",
   "metadata": {},
   "source": [
    "## Find and save the best model"
   ]
  },
  {
   "cell_type": "code",
   "execution_count": 11,
   "metadata": {},
   "outputs": [
    {
     "data": {
      "text/html": [
       "<div>\n",
       "<style scoped>\n",
       "    .dataframe tbody tr th:only-of-type {\n",
       "        vertical-align: middle;\n",
       "    }\n",
       "\n",
       "    .dataframe tbody tr th {\n",
       "        vertical-align: top;\n",
       "    }\n",
       "\n",
       "    .dataframe thead th {\n",
       "        text-align: right;\n",
       "    }\n",
       "</style>\n",
       "<table border=\"1\" class=\"dataframe\">\n",
       "  <thead>\n",
       "    <tr style=\"text-align: right;\">\n",
       "      <th></th>\n",
       "      <th>validation_set</th>\n",
       "      <th>topics</th>\n",
       "      <th>alpha</th>\n",
       "      <th>beta</th>\n",
       "      <th>coherence</th>\n",
       "    </tr>\n",
       "  </thead>\n",
       "  <tbody>\n",
       "    <tr>\n",
       "      <th>0</th>\n",
       "      <td>100% Corpus</td>\n",
       "      <td>3</td>\n",
       "      <td>0.01</td>\n",
       "      <td>0.01</td>\n",
       "      <td>0.307912</td>\n",
       "    </tr>\n",
       "    <tr>\n",
       "      <th>1</th>\n",
       "      <td>100% Corpus</td>\n",
       "      <td>3</td>\n",
       "      <td>0.01</td>\n",
       "      <td>0.31</td>\n",
       "      <td>0.336507</td>\n",
       "    </tr>\n",
       "    <tr>\n",
       "      <th>2</th>\n",
       "      <td>100% Corpus</td>\n",
       "      <td>3</td>\n",
       "      <td>0.01</td>\n",
       "      <td>0.61</td>\n",
       "      <td>0.345389</td>\n",
       "    </tr>\n",
       "    <tr>\n",
       "      <th>3</th>\n",
       "      <td>100% Corpus</td>\n",
       "      <td>3</td>\n",
       "      <td>0.01</td>\n",
       "      <td>0.91</td>\n",
       "      <td>0.350273</td>\n",
       "    </tr>\n",
       "    <tr>\n",
       "      <th>4</th>\n",
       "      <td>100% Corpus</td>\n",
       "      <td>3</td>\n",
       "      <td>0.01</td>\n",
       "      <td>symmetric</td>\n",
       "      <td>0.336676</td>\n",
       "    </tr>\n",
       "  </tbody>\n",
       "</table>\n",
       "</div>"
      ],
      "text/plain": [
       "  validation_set  topics alpha       beta  coherence\n",
       "0    100% Corpus       3  0.01       0.01   0.307912\n",
       "1    100% Corpus       3  0.01       0.31   0.336507\n",
       "2    100% Corpus       3  0.01       0.61   0.345389\n",
       "3    100% Corpus       3  0.01       0.91   0.350273\n",
       "4    100% Corpus       3  0.01  symmetric   0.336676"
      ]
     },
     "execution_count": 11,
     "metadata": {},
     "output_type": "execute_result"
    }
   ],
   "source": [
    "#create a df of the param values and results\n",
    "lda_tuning = pd.DataFrame(model_results)\n",
    "lda_tuning.head()"
   ]
  },
  {
   "cell_type": "code",
   "execution_count": 12,
   "metadata": {},
   "outputs": [
    {
     "data": {
      "text/plain": [
       "validation_set    100% Corpus\n",
       "topics                      3\n",
       "alpha                    0.01\n",
       "beta                     0.91\n",
       "coherence            0.350273\n",
       "Name: 3, dtype: object"
      ]
     },
     "execution_count": 12,
     "metadata": {},
     "output_type": "execute_result"
    }
   ],
   "source": [
    "# find the row with the coherence value and display the parameters\n",
    "idx =lda_tuning['coherence'].idxmax(axis=0)\n",
    "lda_tuning.iloc[idx]"
   ]
  },
  {
   "cell_type": "code",
   "execution_count": 13,
   "metadata": {},
   "outputs": [],
   "source": [
    "#create a df with the optimally tuned params\n",
    "tuned_params = pd.DataFrame(lda_tuning.iloc[idx])\n",
    "tuned_params.columns=['vals']\n",
    "tuned_params.index.name='hp_params'\n",
    "tuned_params.to_csv(data_path+'\\\\'+'tuned_lda_params_3t.csv', index=False)"
   ]
  },
  {
   "cell_type": "code",
   "execution_count": 14,
   "metadata": {},
   "outputs": [],
   "source": [
    "# # save the tuned model\n",
    "# with open(data_path+'\\\\'+'lda_best_tuned_model_3t.pkl', 'wb') as f:\n",
    "#                 pickle.dump(models[idx], f)\n",
    "\n",
    "# #save all of the models       \n",
    "# with open(data_path+'\\\\'+'all_lda_models_3t.pkl', 'wb') as f:\n",
    "#                 pickle.dump(models, f)\n",
    "\n",
    "# # save all of the tuned model parameters\n",
    "# with open(data_path+'\\\\'+'model_results_3t.pkl', 'wb') as f:\n",
    "#                 pickle.dump(model_results, f)"
   ]
  },
  {
   "cell_type": "markdown",
   "metadata": {},
   "source": [
    "## Display the top words from each topic"
   ]
  },
  {
   "cell_type": "code",
   "execution_count": 15,
   "metadata": {},
   "outputs": [
    {
     "name": "stdout",
     "output_type": "stream",
     "text": [
      "[(0,\n",
      "  '0.064*\"vaccine\" + 0.058*\"coronavirus\" + 0.013*\"j&;j\" + 0.013*\"pfizer\" + '\n",
      "  '0.011*\"dose\" + 0.007*\"johnson_johnson\" + 0.006*\"moderna\" + '\n",
      "  '0.005*\"pfizer_moderna\" + 0.005*\"new\" + 0.004*\"study\" + 0.004*\"shoot\" + '\n",
      "  '0.004*\"variant\" + 0.004*\"mrna\" + 0.003*\"virus\" + 0.003*\"fda\"'),\n",
      " (1,\n",
      "  '0.059*\"coronavirus\" + 0.033*\"vaccine\" + 0.013*\"dose\" + 0.010*\"vaccinate\" + '\n",
      "  '0.009*\"vaccination\" + 0.006*\"coronavirus vaccine\" + 0.005*\"today\" + '\n",
      "  '0.005*\"receive\" + 0.005*\"state\" + 0.004*\"week\" + 0.004*\"people\" + '\n",
      "  '0.004*\"death\" + 0.004*\"update\" + 0.004*\"case\" + 0.004*\"new\"'),\n",
      " (2,\n",
      "  '0.036*\"coronavirus\" + 0.025*\"vaccine\" + 0.018*\"vaccinate\" + 0.011*\"people\" '\n",
      "  '+ 0.009*\"get\" + 0.009*\"pandemic\" + 0.009*\"virus\" + 0.006*\"vaccination\" + '\n",
      "  '0.005*\"need\" + 0.005*\"vax\" + 0.004*\"know\" + 0.004*\"time\" + 0.004*\"want\" + '\n",
      "  '0.004*\"like\" + 0.003*\"work\"')]\n"
     ]
    }
   ],
   "source": [
    "#display the topics along with the top 15 words for each topic\n",
    "pprint(models[idx].print_topics(num_words=15))"
   ]
  },
  {
   "cell_type": "markdown",
   "metadata": {},
   "source": [
    "## Visualize the LDA model"
   ]
  },
  {
   "cell_type": "code",
   "execution_count": 16,
   "metadata": {},
   "outputs": [
    {
     "data": {
      "text/html": [
       "\n",
       "<link rel=\"stylesheet\" type=\"text/css\" href=\"https://cdn.jsdelivr.net/gh/bmabey/pyLDAvis@3.2.2/pyLDAvis/js/ldavis.v1.0.0.css\">\n",
       "\n",
       "\n",
       "<div id=\"ldavis_el283122082289446576542562243\"></div>\n",
       "<script type=\"text/javascript\">\n",
       "\n",
       "var ldavis_el283122082289446576542562243_data = {\"mdsDat\": {\"x\": [0.1346139579035438, 0.0013482084877352685, -0.1359621663912791], \"y\": [0.06519841997394295, -0.1284763500372017, 0.06327793006325877], \"topics\": [1, 2, 3], \"cluster\": [1, 1, 1], \"Freq\": [61.253024431969074, 23.766745296417533, 14.98023027161341]}, \"tinfo\": {\"Term\": [\"vaccine\", \"coronavirus\", \"pfizer\", \"dose\", \"j&;j\", \"vaccinate\", \"johnson_johnson\", \"virus\", \"moderna\", \"vaccination\", \"pfizer_moderna\", \"variant\", \"study\", \"state\", \"new\", \"india\", \"coronavirus vaccine\", \"today\", \"shoot\", \"receive\", \"update\", \"want\", \"like\", \"mrna\", \"death\", \"week\", \"administer\", \"|\", \"fda\", \"case\", \"like\", \"think\", \"want\", \"trump\", \"firefauci\", \"mask\", \"thing\", \"wear_mask\", \"stop\", \"wrong\", \"feel\", \"rig\", \"long\", \"life\", \"kill\", \"lie\", \"flu\", \"not\", \"believe\", \"control\", \"anti_vax\", \"kid\", \"real\", \"fuck\", \"lot\", \"lose\", \"sure\", \"money\", \"u\", \"maybe\", \"mig\", \"friend\", \"reason\", \"let\", \"need\", \"know\", \"tell\", \"vax\", \"yes\", \"virus\", \"get\", \"wait\", \"year\", \"pandemic\", \"time\", \"vaccinate\", \"people\", \"way\", \"good\", \"work\", \"die\", \"coronavirus\", \"vaccine\", \"vaccination\", \"help\", \"2\", \"come\", \"live\", \"day\", \"pfizer\", \"country\", \"death\", \"coronavirus vaccine\", \"today\", \"india\", \"administer\", \"county\", \"resident\", \"covax\", \"register\", \"pm\", \"new_case\", \"tuesday\", \"clinic\", \"dose_administer\", \"ghana\", \"\\u2591_\\u2591_\\u2591_\\u2591\", \"vaccination_site\", \"total_death\", \"pharmacy\", \"total_case\", \"vaccination_clinic\", \"today_recovery\", \"coronatrackernepal_bot_telegram\", \"coronavirus_19_sarscov2_staysafe_source\", \"total_active_case\", \"total_recovery\", \"vaccination_drive\", \"march_1\", \"punjab\", \"province\", \"eligibility\", \"private_hospital\", \"registration\", \"sunday\", \"prime_minister\", \"coronaviruscoronavirus\", \"arrive\", \"update\", \"appointment\", \"total\", \"@pmoindia\", \"thursday\", \"city\", \"detail\", \"join\", \"dose\", \"announce\", \"receive_dose\", \"state\", \"launch\", \"receive\", \"eligible\", \"coronavirus\", \"week\", \"today\", \"vaccine\", \"coronavirus vaccine\", \"vaccination\", \"case\", \"death\", \"vaccinate\", \"new\", \"day\", \"hospital\", \"people\", \"country\", \"news\", \"2\", \"1\", \"million\", \"health\", \"late\", \"pandemic\", \"j&;j\", \"johnson_johnson\", \"pfizer_moderna\", \"fda\", \"mrna\", \"single_dose\", \"johnsonandjohnson\", \"single_shoot\", \"moderna_pfizer\", \"pfizer_biontech\", \"emergency_use\", \"eua\", \"$_jnj\", \"@jnjnews\", \"merck\", \"@us_fda\", \"authorize\", \"jnj\", \"clinical_trial\", \"approval\", \"pfizervaccine\", \"$_mrna\", \"account_42_percent\", \"bill_de_blasio\", \"people_outside_city\", \"percent_queen_site_mayor\", \"shot_javits_center_75\", \"biotech\", \"sars_cov-2\", \"authorization\", \"end_march\", \"dna\", \"protein\", \"south_africa\", \"study\", \"pfizer\", \"az\", \"approve\", \"vaccine\", \"efficacy\", \"variant\", \"coronavirus\", \"astrazeneca\", \"moderna\", \"dose\", \"sarscov2\", \"|\", \"effective\", \"trial\", \"shoot\", \"new\", \"$\", \"u.s\", \"test\", \"coronavirus vaccine\", \"virus\", \"available\", \"datum\", \"pandemic\", \"news\"], \"Freq\": [21680.0, 29963.0, 2545.0, 3849.0, 1339.0, 8797.0, 698.0, 4039.0, 1391.0, 4022.0, 520.0, 743.0, 643.0, 1107.0, 1707.0, 568.0, 2253.0, 1694.0, 1291.0, 1233.0, 734.0, 1505.0, 1491.0, 364.0, 1523.0, 1251.0, 436.0, 538.0, 299.0, 1201.0, 1489.7729196085952, 1160.0114211517284, 1503.9001273491642, 1110.5656244142633, 737.8423662914773, 718.3201886836101, 635.0956021343322, 549.3587841064038, 708.5493447009443, 590.2129504616182, 515.7581983868564, 748.7727711057254, 647.52953870519, 508.04780955197083, 455.5621946865652, 422.5465873977536, 409.3525064130863, 372.343518209074, 430.1629847295265, 414.72872545021806, 332.9605087593972, 366.1136379595811, 383.3957084784915, 295.9353806003049, 362.65866695766505, 309.6180987250177, 342.58716123160605, 304.6631325154727, 300.6682325456761, 293.30570721321965, 376.25871528304924, 353.1473439585937, 353.9121642123308, 857.2363073521892, 2153.644210302692, 1696.7289177349533, 782.2799824380897, 1971.968128877149, 542.3416063422022, 3724.9808676123816, 3858.4920950883343, 762.383073049631, 1262.4060494653938, 3769.9486812833707, 1510.4933939402365, 7270.275805201491, 4293.769594230416, 887.767880613284, 686.5367245537844, 1334.7316566423735, 711.9553499273752, 14824.222903724418, 10030.855241130945, 2473.3704543363183, 993.3582200327797, 1080.1662089029996, 831.8088524737606, 815.2841018765208, 1062.4221321699256, 1269.5056359414154, 853.0005185528244, 895.1291242434253, 983.0330160635738, 804.5260622884355, 566.2716883030769, 434.5565299615404, 374.4453778862984, 303.2917525220367, 227.20487961581676, 229.84897946979672, 224.41560136048628, 180.71620263273724, 186.12657543587073, 179.2647133229141, 158.63753692692052, 129.76492909736064, 111.16256039607175, 118.91646292600451, 98.29241775663229, 128.35517719650227, 95.30156218280649, 94.42221244313693, 81.99825117826164, 81.77689187511137, 81.77689187511137, 81.77689187511137, 81.77689187511137, 104.20806923206315, 77.5955899872935, 102.34167397592925, 91.42984651294084, 80.04981778464801, 71.48792064405254, 73.36930895000873, 104.99427418923722, 86.28763564145694, 177.37938335521102, 219.53987629346054, 625.0995900329635, 361.9265865022461, 284.9340155052869, 90.17276953834414, 132.70614551974774, 207.07297117642224, 194.26677002648904, 267.85523721152305, 2054.5959745027467, 249.38674686727757, 224.67052004542552, 716.2764150159181, 147.06175127785212, 745.5113149750598, 248.4195109639384, 9334.50866940904, 680.3956523237534, 840.4649886707427, 5226.337573958032, 975.8839092118691, 1455.8367785401363, 622.1987480150119, 626.531628899774, 1526.7078567492701, 575.1960893915257, 476.1043707828499, 290.0300499935957, 634.1484665891015, 367.6516844187869, 314.82829653394737, 366.5046608504411, 320.36187389514146, 287.2068623958539, 305.70882002698767, 285.05491769083176, 300.21624331555336, 1337.0505924666984, 696.4894316448278, 518.5886385492578, 297.8177565379949, 362.15301662235396, 195.53607567626878, 156.7423803392323, 129.28445493618412, 190.57771828479093, 240.8392186549116, 116.07641731282622, 109.25923605900356, 99.68377157964638, 116.71221281111063, 140.45908469823436, 98.95739858702042, 84.81361603798057, 78.26772610532855, 94.43422995023883, 123.76103886685549, 162.56688937392215, 73.95232728750153, 62.72228527468327, 62.72228527468327, 62.72228527468327, 62.72228527468327, 62.72228527468327, 63.89705865858082, 92.9917700018988, 63.82719255233275, 107.87712240848298, 81.95245502904338, 72.35488021413462, 65.79424618794071, 431.50040940629003, 1273.642352751882, 138.71490487031951, 221.95505330360308, 6423.799550507252, 173.50232814444212, 421.05448615088306, 5804.79170034867, 247.1639471844354, 595.3603209552679, 1078.0070388775061, 231.26890880353287, 272.67178626897123, 242.73052596113845, 206.9853635210071, 423.64248090077007, 466.24585264714693, 219.52051322177638, 216.58964283514453, 266.66871116911, 294.3386380620545, 313.72071261322463, 201.48630422982873, 207.84346976514465, 216.00234031223368, 199.50114554392266], \"Total\": [21680.0, 29963.0, 2545.0, 3849.0, 1339.0, 8797.0, 698.0, 4039.0, 1391.0, 4022.0, 520.0, 743.0, 643.0, 1107.0, 1707.0, 568.0, 2253.0, 1694.0, 1291.0, 1233.0, 734.0, 1505.0, 1491.0, 364.0, 1523.0, 1251.0, 436.0, 538.0, 299.0, 1201.0, 1491.4987321831893, 1161.540023327795, 1505.96887817067, 1112.1072834354716, 739.2325659394394, 719.786723599935, 636.5515986629007, 550.7607808439818, 710.366444962934, 591.7291979104033, 517.3372422744136, 751.085127701555, 649.6365348112782, 509.7079218195645, 457.0651666662601, 423.9828829270591, 410.80629819327737, 373.70784776801463, 431.8789863139812, 416.3893172784898, 334.31926588506855, 367.6423017934529, 385.1215225130989, 297.2772757376009, 364.30880450831427, 311.0806507513086, 344.2102749654707, 306.1552420230292, 302.1646223974052, 294.7718026219297, 378.3077762294228, 354.9821045188156, 356.0433196478456, 875.1805172926532, 2247.603446161918, 1766.9939143559884, 800.6596002828189, 2080.312633680952, 551.2315328072967, 4039.7729157437693, 4225.302095007967, 790.2648038625439, 1346.0228807622482, 4286.167264911158, 1634.3004340195155, 8797.911626954496, 5020.85752411791, 936.2235275286631, 715.7194119775944, 1534.6302582096027, 765.0322004984802, 29963.52327348213, 21680.992365596227, 4022.5885662097267, 1239.4923776386943, 1472.9170889792213, 997.1602361628385, 963.697612238815, 1551.5868601943134, 2545.3291001411453, 1243.1518406403163, 1523.0500025685685, 2253.2555633374973, 1694.612872445747, 568.57402138533, 436.4042113672083, 376.0970546836914, 305.1197901536672, 228.92542505961896, 231.62360926663018, 226.42236077782692, 182.37227396180486, 187.88680186909303, 181.06576813245596, 160.2733864565578, 131.47404087399423, 112.63277698195706, 120.50906098042827, 99.7941608446181, 130.33609348775448, 96.78888517566402, 96.07519772107797, 83.46846776414695, 83.24710846099669, 83.24710846099669, 83.24710846099669, 83.24710846099669, 106.14537489389109, 79.13285187376015, 104.45004473700428, 93.37739366382765, 81.76427926935744, 73.01988929413852, 75.04848088897566, 107.66374875793885, 88.4364899352189, 188.68705056427743, 239.05035890872537, 734.244078896067, 424.494815409484, 330.99768104997605, 92.77398991403729, 144.07489956267386, 240.4363754413604, 224.7608076783608, 327.9599406411639, 3849.651468544475, 305.8998334982559, 271.37372446185793, 1107.4123095135767, 163.3448430175123, 1233.2495008806027, 312.9674660699847, 29963.52327348213, 1251.5162677948738, 1694.612872445747, 21680.992365596227, 2253.2555633374973, 4022.5885662097267, 1201.4264150167921, 1523.0500025685685, 8797.911626954496, 1707.8308283729612, 1551.5868601943134, 574.7221252206972, 5020.85752411791, 1243.1518406403163, 796.1034124739732, 1472.9170889792213, 907.2422319669109, 648.9103227313952, 937.2259554843084, 752.7936324452602, 4286.167264911158, 1339.0281941807862, 698.3710468190784, 520.8498345954853, 299.4291915697595, 364.5282128508307, 197.2509175232431, 158.5096388256549, 130.80705512511756, 193.02131085394254, 244.02545790493934, 117.6428249125182, 110.94284959316278, 101.27542236452112, 118.61006436524316, 142.8452336524641, 100.76043730811824, 86.45736699308712, 79.84248153979364, 96.33670163778089, 126.47601462329202, 166.25568228009814, 75.6927679642744, 64.21254129652105, 64.21254129652105, 64.21254129652105, 64.21254129652105, 64.21254129652105, 65.47079225825819, 95.43350153301063, 65.5040469455082, 110.97193178652228, 84.31876501463127, 74.76932238477575, 67.76505001916247, 643.3056388847929, 2545.3291001411453, 171.406999325141, 309.2901422570887, 21680.992365596227, 228.5514421731667, 743.4329065286596, 29963.52327348213, 393.25569911380546, 1391.841974193312, 3849.651468544475, 381.6185616535372, 538.6363349239739, 453.39203226879647, 346.6768131060649, 1291.1498296324944, 1707.8308283729612, 486.04063739456706, 477.7171651270703, 1152.014355704686, 2253.2555633374973, 4039.7729157437693, 580.4245503023245, 762.063186830374, 4286.167264911158, 796.1034124739732], \"Category\": [\"Default\", \"Default\", \"Default\", \"Default\", \"Default\", \"Default\", \"Default\", \"Default\", \"Default\", \"Default\", \"Default\", \"Default\", \"Default\", \"Default\", \"Default\", \"Default\", \"Default\", \"Default\", \"Default\", \"Default\", \"Default\", \"Default\", \"Default\", \"Default\", \"Default\", \"Default\", \"Default\", \"Default\", \"Default\", \"Default\", \"Topic1\", \"Topic1\", \"Topic1\", \"Topic1\", \"Topic1\", \"Topic1\", \"Topic1\", \"Topic1\", \"Topic1\", \"Topic1\", \"Topic1\", \"Topic1\", \"Topic1\", \"Topic1\", \"Topic1\", \"Topic1\", \"Topic1\", \"Topic1\", \"Topic1\", \"Topic1\", \"Topic1\", \"Topic1\", \"Topic1\", \"Topic1\", \"Topic1\", \"Topic1\", \"Topic1\", \"Topic1\", \"Topic1\", \"Topic1\", \"Topic1\", \"Topic1\", \"Topic1\", \"Topic1\", \"Topic1\", \"Topic1\", \"Topic1\", \"Topic1\", \"Topic1\", \"Topic1\", \"Topic1\", \"Topic1\", \"Topic1\", \"Topic1\", \"Topic1\", \"Topic1\", \"Topic1\", \"Topic1\", \"Topic1\", \"Topic1\", \"Topic1\", \"Topic1\", \"Topic1\", \"Topic1\", \"Topic1\", \"Topic1\", \"Topic1\", \"Topic1\", \"Topic1\", \"Topic1\", \"Topic1\", \"Topic1\", \"Topic1\", \"Topic1\", \"Topic2\", \"Topic2\", \"Topic2\", \"Topic2\", \"Topic2\", \"Topic2\", \"Topic2\", \"Topic2\", \"Topic2\", \"Topic2\", \"Topic2\", \"Topic2\", \"Topic2\", \"Topic2\", \"Topic2\", \"Topic2\", \"Topic2\", \"Topic2\", \"Topic2\", \"Topic2\", \"Topic2\", \"Topic2\", \"Topic2\", \"Topic2\", \"Topic2\", \"Topic2\", \"Topic2\", \"Topic2\", \"Topic2\", \"Topic2\", \"Topic2\", \"Topic2\", \"Topic2\", \"Topic2\", \"Topic2\", \"Topic2\", \"Topic2\", \"Topic2\", \"Topic2\", \"Topic2\", \"Topic2\", \"Topic2\", \"Topic2\", \"Topic2\", \"Topic2\", \"Topic2\", \"Topic2\", \"Topic2\", \"Topic2\", \"Topic2\", \"Topic2\", \"Topic2\", \"Topic2\", \"Topic2\", \"Topic2\", \"Topic2\", \"Topic2\", \"Topic2\", \"Topic2\", \"Topic2\", \"Topic2\", \"Topic2\", \"Topic2\", \"Topic2\", \"Topic2\", \"Topic2\", \"Topic2\", \"Topic2\", \"Topic2\", \"Topic2\", \"Topic3\", \"Topic3\", \"Topic3\", \"Topic3\", \"Topic3\", \"Topic3\", \"Topic3\", \"Topic3\", \"Topic3\", \"Topic3\", \"Topic3\", \"Topic3\", \"Topic3\", \"Topic3\", \"Topic3\", \"Topic3\", \"Topic3\", \"Topic3\", \"Topic3\", \"Topic3\", \"Topic3\", \"Topic3\", \"Topic3\", \"Topic3\", \"Topic3\", \"Topic3\", \"Topic3\", \"Topic3\", \"Topic3\", \"Topic3\", \"Topic3\", \"Topic3\", \"Topic3\", \"Topic3\", \"Topic3\", \"Topic3\", \"Topic3\", \"Topic3\", \"Topic3\", \"Topic3\", \"Topic3\", \"Topic3\", \"Topic3\", \"Topic3\", \"Topic3\", \"Topic3\", \"Topic3\", \"Topic3\", \"Topic3\", \"Topic3\", \"Topic3\", \"Topic3\", \"Topic3\", \"Topic3\", \"Topic3\", \"Topic3\", \"Topic3\", \"Topic3\", \"Topic3\", \"Topic3\"], \"logprob\": [30.0, 29.0, 28.0, 27.0, 26.0, 25.0, 24.0, 23.0, 22.0, 21.0, 20.0, 19.0, 18.0, 17.0, 16.0, 15.0, 14.0, 13.0, 12.0, 11.0, 10.0, 9.0, 8.0, 7.0, 6.0, 5.0, 4.0, 3.0, 2.0, 1.0, -5.6121, -5.8623, -5.6026, -5.9058, -6.3147, -6.3415, -6.4647, -6.6097, -6.3552, -6.538, -6.6728, -6.3, -6.4453, -6.6879, -6.7969, -6.8722, -6.9039, -6.9986, -6.8543, -6.8908, -7.1104, -7.0155, -6.9694, -7.2283, -7.025, -7.1831, -7.0819, -7.1992, -7.2124, -7.2372, -6.9882, -7.0516, -7.0494, -6.1647, -5.2435, -5.482, -6.2562, -5.3317, -6.6226, -4.6956, -4.6604, -6.282, -5.7777, -4.6836, -5.5983, -4.0269, -4.5535, -6.1297, -6.3868, -5.722, -6.3504, -3.3144, -3.705, -5.1051, -6.0174, -5.9336, -6.1949, -6.2149, -5.9501, -5.7721, -6.1697, -6.1215, -6.0278, -6.2282, -5.6327, -5.8974, -6.0463, -6.257, -6.5459, -6.5343, -6.5582, -6.7748, -6.7453, -6.7829, -6.9051, -7.106, -7.2607, -7.1933, -7.3838, -7.1169, -7.4147, -7.424, -7.565, -7.5677, -7.5677, -7.5677, -7.5677, -7.3253, -7.6202, -7.3434, -7.4562, -7.5891, -7.7022, -7.6762, -7.3178, -7.514, -6.7934, -6.5802, -5.5338, -6.0803, -6.3195, -7.47, -7.0836, -6.6387, -6.7025, -6.3813, -4.3439, -6.4527, -6.5571, -5.3977, -6.9809, -5.3577, -6.4566, -2.8303, -5.4491, -5.2378, -3.4103, -5.0884, -4.6884, -5.5385, -5.5315, -4.6409, -5.617, -5.8061, -6.3017, -5.5194, -6.0646, -6.2197, -6.0677, -6.2023, -6.3115, -6.2491, -6.319, -6.2672, -4.312, -4.9641, -5.2591, -5.8137, -5.6181, -6.2344, -6.4556, -6.6482, -6.2601, -6.026, -6.7559, -6.8164, -6.9082, -6.7505, -6.5653, -6.9155, -7.0697, -7.15, -6.9623, -6.6918, -6.4191, -7.2068, -7.3715, -7.3715, -7.3715, -7.3715, -7.3715, -7.3529, -6.9777, -7.354, -6.8292, -7.104, -7.2286, -7.3236, -5.4429, -4.3605, -6.5778, -6.1077, -2.7424, -6.354, -5.4674, -2.8437, -6.0001, -5.121, -4.5273, -6.0666, -5.9019, -6.0182, -6.1775, -5.4613, -5.3655, -6.1187, -6.1322, -5.9242, -5.8254, -5.7617, -6.2045, -6.1734, -6.1349, -6.2144], \"loglift\": [30.0, 29.0, 28.0, 27.0, 26.0, 25.0, 24.0, 23.0, 22.0, 21.0, 20.0, 19.0, 18.0, 17.0, 16.0, 15.0, 14.0, 13.0, 12.0, 11.0, 10.0, 9.0, 8.0, 7.0, 6.0, 5.0, 4.0, 3.0, 2.0, 1.0, 0.489, 0.4888, 0.4888, 0.4888, 0.4883, 0.4881, 0.4879, 0.4876, 0.4876, 0.4876, 0.4871, 0.4871, 0.4869, 0.4869, 0.4869, 0.4868, 0.4866, 0.4865, 0.4862, 0.4862, 0.4861, 0.486, 0.4857, 0.4856, 0.4856, 0.4854, 0.4854, 0.4853, 0.4852, 0.4852, 0.4847, 0.485, 0.4842, 0.4694, 0.4475, 0.4496, 0.4669, 0.4367, 0.4739, 0.409, 0.3993, 0.4542, 0.426, 0.3618, 0.4114, 0.2994, 0.3337, 0.437, 0.4485, 0.3506, 0.4183, -0.2136, -0.2806, 0.0038, 0.2688, 0.18, 0.3088, 0.3229, 0.1114, -0.2055, 0.1135, -0.0413, -0.3393, -0.2548, 1.4328, 1.4326, 1.4325, 1.4309, 1.4293, 1.4292, 1.428, 1.4278, 1.4275, 1.4269, 1.4266, 1.4238, 1.4237, 1.4236, 1.4217, 1.4216, 1.4214, 1.4195, 1.4191, 1.4191, 1.4191, 1.4191, 1.4191, 1.4185, 1.4173, 1.4165, 1.4158, 1.4157, 1.4157, 1.4143, 1.4118, 1.4123, 1.3751, 1.3517, 1.276, 1.2774, 1.287, 1.4084, 1.3547, 1.2875, 1.2911, 1.2344, 0.809, 1.2326, 1.248, 1.0012, 1.3319, 0.9335, 1.2059, 0.2706, 0.8274, 0.7356, 0.0142, 0.6001, 0.4205, 0.7789, 0.5486, -0.3145, 0.3486, 0.2555, 0.753, -0.6322, 0.2186, 0.5092, 0.0459, 0.3959, 0.6218, 0.3166, 0.4658, -1.2218, 1.897, 1.8957, 1.8941, 1.893, 1.8919, 1.8897, 1.8872, 1.8867, 1.8857, 1.8853, 1.885, 1.8831, 1.8826, 1.8823, 1.8816, 1.8804, 1.8792, 1.8785, 1.8785, 1.8767, 1.876, 1.8752, 1.875, 1.875, 1.875, 1.875, 1.875, 1.8741, 1.8725, 1.8725, 1.8702, 1.87, 1.8656, 1.8689, 1.4991, 1.2061, 1.6868, 1.5666, 0.682, 1.6229, 1.3299, 0.2571, 1.434, 1.0492, 0.6256, 1.3976, 1.2177, 1.2736, 1.3827, 0.784, 0.6002, 1.1036, 1.1074, 0.4352, -0.137, -0.657, 0.8404, 0.5992, -1.0894, 0.5145]}, \"token.table\": {\"Topic\": [1, 2, 3, 1, 2, 3, 1, 2, 3, 1, 2, 3, 1, 2, 3, 1, 2, 3, 1, 2, 3, 1, 2, 3, 1, 2, 3, 1, 2, 3, 1, 2, 3, 1, 2, 3, 1, 2, 3, 1, 2, 3, 1, 2, 3, 1, 2, 3, 1, 2, 3, 1, 2, 3, 1, 2, 3, 1, 2, 3, 1, 2, 3, 1, 2, 3, 1, 2, 3, 1, 2, 3, 1, 2, 3, 1, 2, 3, 1, 2, 3, 1, 2, 3, 1, 2, 3, 1, 2, 3, 1, 2, 3, 1, 2, 3, 1, 2, 3, 1, 2, 3, 1, 2, 3, 1, 2, 3, 1, 2, 3, 1, 2, 3, 1, 2, 3, 1, 2, 3, 1, 2, 3, 1, 2, 3, 1, 2, 3, 1, 2, 3, 1, 2, 3, 1, 2, 3, 1, 2, 3, 1, 2, 3, 1, 2, 3, 1, 2, 3, 1, 2, 3, 1, 2, 3, 1, 2, 3, 1, 2, 3, 1, 2, 3, 1, 2, 3, 1, 2, 3, 1, 2, 3, 1, 2, 3, 1, 2, 3, 1, 2, 3, 1, 2, 3, 1, 2, 3, 1, 2, 3, 1, 2, 3, 1, 2, 3, 1, 2, 3, 1, 2, 3, 1, 2, 3, 1, 2, 3, 1, 2, 3, 1, 2, 3, 1, 2, 3, 1, 2, 3, 1, 2, 3, 1, 2, 3, 1, 2, 3, 1, 2, 3, 1, 2, 3, 1, 2, 3, 1, 2, 3, 1, 2, 3, 1, 2, 3, 1, 2, 3, 1, 2, 3, 1, 2, 3, 1, 2, 3, 1, 2, 3, 1, 2, 3, 1, 2, 3, 1, 2, 3, 1, 2, 3, 1, 2, 3, 1, 2, 3, 1, 2, 3, 1, 2, 3, 1, 2, 3, 1, 2, 3, 1, 2, 3, 1, 2, 3, 1, 2, 3, 1, 2, 3, 1, 2, 3, 1, 2, 3, 1, 2, 3, 1, 2, 3, 1, 2, 3, 1, 2, 3, 1, 2, 3, 1, 2, 3, 1, 2, 3, 1, 2, 3, 1, 2, 3, 1, 2, 3, 1, 2, 3, 1, 2, 3, 1, 2, 3, 1, 2, 3, 1, 2, 3, 1, 2, 3, 1, 2, 3, 1, 2, 3, 1, 2, 3, 1, 2, 3, 1, 2, 3, 1, 2, 3, 1, 2, 3, 1, 2, 3, 1, 2, 3, 1, 2, 3, 1, 2, 3, 1, 2, 3, 1, 2, 3, 1, 2, 3, 1, 2, 3, 1, 2, 3, 1, 2, 3, 1, 2, 3, 1, 2, 3, 1, 2, 3, 1, 2, 3, 1, 2, 3, 1, 2, 3, 1, 2, 3, 1, 2, 3, 1, 2, 3, 1, 2, 3, 1, 2, 3, 1, 2, 3, 1, 2, 3, 1, 2, 3, 1, 2, 3, 1, 2, 3, 1, 2, 3, 1, 2, 3, 1, 2, 3, 1, 2, 3, 1, 2, 3, 1, 2, 3, 1, 2, 3, 1, 2, 3, 1, 2, 3, 1, 2, 3, 1, 2, 3, 1, 2, 3, 1, 2, 3, 1, 2, 3, 1, 2, 3, 1, 2, 3, 1, 2, 3, 1, 2, 3, 1, 2, 3, 1, 2, 3], \"Freq\": [0.5246474890802009, 0.022631852470126314, 0.45263704940252625, 0.009874063979715584, 0.009874063979715584, 0.9874063979715584, 0.013211301778156425, 0.013211301778156425, 0.9776363315835754, 0.6084372844981633, 0.3527172663757468, 0.0374762095524231, 0.7332388279563479, 0.24916541653701824, 0.017652045858208374, 0.00843098775261296, 0.00843098775261296, 0.9864255670557164, 0.02155776637237618, 0.9700994867569281, 0.01077888318618809, 0.009924530169932383, 0.009924530169932383, 0.982528486823306, 0.015573281789023022, 0.015573281789023022, 0.9811167527084503, 0.002291453597267326, 0.9967823148112869, 0.002291453597267326, 0.0032690439499886213, 0.8139919435471668, 0.17979741724937418, 0.9960538741864727, 0.002991152775334753, 0.002991152775334753, 0.14605596523055864, 0.8527783776364876, 0.0023557413746864296, 0.015813274998876165, 0.007906637499438082, 0.9804230499303223, 0.216625074149011, 0.06789741130043629, 0.7177726337474694, 0.07948116073423095, 0.9203081769226742, 0.0041832189860121554, 0.005085749563215392, 0.36617396855150824, 0.628090071057101, 0.015266232341825912, 0.015266232341825912, 0.9770388698768584, 0.011566394337222381, 0.011566394337222381, 0.9831435186639024, 0.24464850758989562, 0.4083218049211638, 0.34629823961668327, 0.18669015924664417, 0.00583406747645763, 0.8109353792276106, 0.9956492759001356, 0.002315463432325897, 0.002315463432325897, 0.015573281789023022, 0.015573281789023022, 0.9811167527084503, 0.0152739865443413, 0.0152739865443413, 0.9775351388378432, 0.4369805702937388, 0.5177179328051534, 0.04494657294449885, 0.13725044698175592, 0.860934621976469, 0.004159104453992604, 0.005522855094666292, 0.9885910619452664, 0.005522855094666292, 0.01038025989056516, 0.01038025989056516, 0.9757444297131251, 0.8343694120832678, 0.11933889427633278, 0.04613100114883452, 0.9966634175737977, 0.0024015985965633677, 0.0024015985965633677, 0.012012429242134273, 0.9850191978550104, 0.012012429242134273, 0.494734876960191, 0.31154547196595944, 0.19373556130288105, 0.43625766024693236, 0.43315104415158284, 0.1304778760046776, 0.012012429242134273, 0.9850191978550104, 0.012012429242134273, 0.015899342276157056, 0.9380611942932663, 0.04239824606975215, 0.6861591417188757, 0.2960217633675806, 0.017696953244801014, 0.002658888144819505, 0.9944241661624947, 0.002658888144819505, 0.004368234763524281, 0.9915892913200116, 0.004368234763524281, 0.39760482494930455, 0.32936901340684965, 0.27294324616981963, 0.6844605527704715, 0.3067826959686859, 0.008378519007548144, 0.5876366491517777, 0.41167394303705546, 0.000656577261622098, 0.017796697036807748, 0.8631398062851758, 0.12012770499845231, 0.9306797799309292, 0.06797099516349482, 0.0013071345223749004, 0.02371951249111575, 0.011859756245557875, 0.9725000121357458, 0.18625062706549184, 0.5338145587441921, 0.28002535003709933, 0.006239339057523756, 0.9920549101462771, 0.006239339057523756, 0.46317532081265184, 0.0022055967657745325, 0.5359600140832114, 0.23627065962281607, 0.004375382585607705, 0.7613165698957407, 0.012230279639666157, 0.9784223711732926, 0.012230279639666157, 0.2044940990310109, 0.7924146337451673, 0.0031952202973595453, 0.008500305911079763, 0.008500305911079763, 0.9860354856852525, 0.009011287664377234, 0.018022575328754467, 0.9732190677527413, 0.009013649853659685, 0.009013649853659685, 0.9824878340489056, 0.003339687739720678, 0.003339687739720678, 0.995226946436762, 0.9974151440005854, 0.0019329750852724525, 0.0019329750852724525, 0.9983326411792032, 0.0013527542563403837, 0.0013527542563403837, 0.9956030416251614, 0.0024342372655871917, 0.0024342372655871917, 0.9944163255173035, 0.0028170434150631826, 0.0028170434150631826, 0.9957034195283452, 0.003363862903811977, 0.003363862903811977, 0.9130708084891916, 0.05609066397406388, 0.03076703087184938, 0.0076060642340673775, 0.9887883504287591, 0.0076060642340673775, 0.959873364481983, 0.0013971955814876026, 0.03912147628165287, 0.6316513072816959, 0.32649543923682256, 0.04161216382430091, 0.8011344143089636, 0.13795970276619615, 0.06050864156412111, 0.4941518475401344, 0.5045916753050669, 0.0017399712941554028, 0.0017587859493887904, 0.9954728473540554, 0.0017587859493887904, 0.0007468102645977498, 0.0007468102645977498, 0.9984853237671915, 0.012524660816079447, 0.012524660816079447, 0.9769235436541969, 0.0014319035769807082, 0.0014319035769807082, 0.996604889578573, 0.0063087646114688475, 0.0063087646114688475, 0.9904760440006091, 0.14331018571388532, 0.8171729738578992, 0.03963898753788317, 0.9955328813212154, 0.002720035194866709, 0.002720035194866709, 0.9976695518627482, 0.0021878718242604126, 0.0021878718242604126, 0.9603881406793079, 0.028296645276349675, 0.01131865811053987, 0.4875174074040625, 0.37858981228925837, 0.13283853062780995, 0.012244035153197821, 0.8999365837600398, 0.09183026364898365, 0.9792265516274354, 0.019424564034616572, 0.001142621413800975, 0.9976817863016696, 0.002358585783219077, 0.002358585783219077, 0.9966492146846226, 0.0019619079029224856, 0.0019619079029224856, 0.9989951502131044, 0.0006704665437671842, 0.0006704665437671842, 0.8457009643373837, 0.15253747454919683, 0.0010376698948924954, 0.9974808454826919, 0.0015393222924115614, 0.0015393222924115614, 0.9965261396081734, 0.0032146004503489467, 0.0032146004503489467, 0.9964074310252241, 0.0027449240524110856, 0.0027449240524110856, 0.01263697663260374, 0.9856841773430917, 0.01263697663260374, 0.9975177041457518, 0.0013893004236013257, 0.0013893004236013257, 0.9939892397910184, 0.0033924547433140557, 0.0033924547433140557, 0.014001167199361432, 0.007000583599680716, 0.9800817039553003, 0.9938997388517246, 0.0026433503692865016, 0.0026433503692865016, 0.47772394603794727, 0.44227991133190603, 0.07859329434817842, 0.38725660670809653, 0.18536587111445066, 0.42749105935309356, 0.005180775094604403, 0.005180775094604403, 0.989528043069441, 0.9962266136114623, 0.0032663167659392205, 0.0032663167659392205, 0.005486543783151358, 0.002743271891575679, 0.9930644247503957, 0.958354109875673, 0.040042650830459874, 0.0017796733702426612, 0.38996836743747837, 0.33668440131614125, 0.2728607495883858, 0.005483289637598285, 0.9924754244052895, 0.005483289637598285, 0.3542253375395742, 0.3956772387410137, 0.25122364364508804, 0.9954299922299871, 0.002675887075887062, 0.002675887075887062, 0.8795736999960834, 0.06999260212170424, 0.05039467352762706, 0.8552323939433817, 0.12627325052634, 0.01852273233272811, 0.015573281789023022, 0.015573281789023022, 0.9811167527084503, 0.015573281789023022, 0.015573281789023022, 0.9811167527084503, 0.4989531608818581, 0.0007857530092627686, 0.5005246669003837, 0.0040979330951181015, 0.008195866190236203, 0.9876018759234624, 0.0019199391716743918, 0.0019199391716743918, 0.9964484300990094, 0.018044496036807755, 0.006014832012269251, 0.9804176179998879, 0.007672471786136151, 0.9820763886254273, 0.007672471786136151, 0.004416524925209277, 0.9893015832468781, 0.004416524925209277, 0.022615099281586493, 0.9724492691082192, 0.011307549640793247, 0.013694898878465875, 0.9723378203710771, 0.013694898878465875, 0.02674893841765286, 0.01337446920882643, 0.962961783035503, 0.010709230154786148, 0.9745399440855395, 0.010709230154786148, 0.0095739547313542, 0.9765433825981285, 0.0095739547313542, 0.9944912906989591, 0.0025965830044359247, 0.0025965830044359247, 0.9942610364102138, 0.0028086469955090785, 0.0028086469955090785, 0.3519158124046286, 0.6049059816909054, 0.04378676006877867, 0.16950793630156843, 0.8291149058228892, 0.0036849551369906182, 0.004317349182003568, 0.9929903118608208, 0.004317349182003568, 0.013324720076337964, 0.9727045655726714, 0.013324720076337964, 0.0032774013101423897, 0.9930525969731441, 0.0032774013101423897, 0.997223846372866, 0.0013314070045031589, 0.0013314070045031589, 0.02095700113558336, 0.01047850056779168, 0.9745005528046262, 0.31707053104469574, 0.0759921107462494, 0.6053164683580555, 0.5754560647786968, 0.09681293149035948, 0.32838946361529936, 0.015573281789023022, 0.015573281789023022, 0.9811167527084503, 0.005069684909740229, 0.005069684909740229, 0.9936582423090848, 0.0076448475890195326, 0.0076448475890195326, 0.9861853389835197, 0.014756869503043559, 0.014756869503043559, 0.9739533872008749, 0.35217235409935516, 0.6465523218849699, 0.0009030060361521926, 0.9980764224258857, 0.001407724150107032, 0.001407724150107032, 0.32799339419094875, 0.0015544710625163447, 0.671531499007061, 0.01857635483691557, 0.9752586289380675, 0.009288177418457786, 0.9964839080832433, 0.0029052008982018754, 0.0029052008982018754, 0.9766947148623113, 0.0012489702236090938, 0.021232493801354595, 0.6302004800590411, 0.13801911340136022, 0.2317679451456804, 0.9975624934943846, 0.0015709645566840704, 0.0015709645566840704, 0.9986741538846136, 0.0008609259947281151, 0.0008609259947281151, 0.006940834267699705, 0.9231309576040607, 0.06940834267699705, 0.923942727155862, 0.05690508187118885, 0.018968360623729617, 0.47503474869642953, 0.49568843342236124, 0.029505263894188172, 0.011980572146426055, 0.9824069160069365, 0.011980572146426055, 0.0845927376626315, 0.8610332226374993, 0.05438104564026311, 0.012012429242134273, 0.9850191978550104, 0.012012429242134273, 0.010331764832140392, 0.9815176590533372, 0.010331764832140392, 0.01002062637268952, 0.9820213845235729, 0.01002062637268952, 0.012012429242134273, 0.9850191978550104, 0.012012429242134273, 0.40094980323207624, 0.0028845309585041456, 0.5970979084103581, 0.9990043375742932, 0.0008991938231991838, 0.0008991938231991838, 0.0053223536195838445, 0.9899577732425952, 0.0053223536195838445, 0.9961457354333377, 0.00330945427054265, 0.00330945427054265, 0.1925825712700285, 0.35376581026776976, 0.454243673539089, 0.06264946674021643, 0.8512155807094625, 0.08580253053551382, 0.8263324648234276, 0.17356391661421924, 0.0001136633376648456, 0.6147782601416226, 0.3619559833264062, 0.023119441242689408, 0.010408513578115798, 0.978400276342885, 0.010408513578115798, 0.00942104167044166, 0.9797883337259327, 0.00942104167044166, 0.008298131209921292, 0.9874776139806337, 0.008298131209921292, 0.4626633242082297, 0.24104062728663228, 0.2962964006294156, 0.4317807258476866, 0.0013451112954756593, 0.5662918553952525, 0.9479344441179973, 0.05143457683601709, 0.00048069697977586067, 0.9220815322274579, 0.00024753866636978737, 0.07772714124011323, 0.9642337559203001, 0.034165763005050004, 0.0012653986298166667, 0.9986926169596136, 0.0006640243463827218, 0.0006640243463827218, 0.9484914380906896, 0.0384523555982712, 0.013885572854931267, 0.9968030024917831, 0.0018156703141926833, 0.0018156703141926833, 0.32200939801611317, 0.5433409197294218, 0.13423716840373948, 0.8699163807427438, 0.04235547921219352, 0.08796907220994038, 0.9970777208281936, 0.0016899622386918535, 0.0016899622386918535, 0.9375769298106832, 0.03046010627752616, 0.031203035698929234, 0.9832528941871619, 0.0018141197309726235, 0.014512957847780988, 0.0018565401833523644, 0.49198314858837655, 0.5068354700551955, 0.008878410235416575, 0.9855035361312399, 0.008878410235416575], \"Term\": [\"$\", \"$\", \"$\", \"$_jnj\", \"$_jnj\", \"$_jnj\", \"$_mrna\", \"$_mrna\", \"$_mrna\", \"1\", \"1\", \"1\", \"2\", \"2\", \"2\", \"@jnjnews\", \"@jnjnews\", \"@jnjnews\", \"@pmoindia\", \"@pmoindia\", \"@pmoindia\", \"@us_fda\", \"@us_fda\", \"@us_fda\", \"account_42_percent\", \"account_42_percent\", \"account_42_percent\", \"administer\", \"administer\", \"administer\", \"announce\", \"announce\", \"announce\", \"anti_vax\", \"anti_vax\", \"anti_vax\", \"appointment\", \"appointment\", \"appointment\", \"approval\", \"approval\", \"approval\", \"approve\", \"approve\", \"approve\", \"arrive\", \"arrive\", \"arrive\", \"astrazeneca\", \"astrazeneca\", \"astrazeneca\", \"authorization\", \"authorization\", \"authorization\", \"authorize\", \"authorize\", \"authorize\", \"available\", \"available\", \"available\", \"az\", \"az\", \"az\", \"believe\", \"believe\", \"believe\", \"bill_de_blasio\", \"bill_de_blasio\", \"bill_de_blasio\", \"biotech\", \"biotech\", \"biotech\", \"case\", \"case\", \"case\", \"city\", \"city\", \"city\", \"clinic\", \"clinic\", \"clinic\", \"clinical_trial\", \"clinical_trial\", \"clinical_trial\", \"come\", \"come\", \"come\", \"control\", \"control\", \"control\", \"coronatrackernepal_bot_telegram\", \"coronatrackernepal_bot_telegram\", \"coronatrackernepal_bot_telegram\", \"coronavirus\", \"coronavirus\", \"coronavirus\", \"coronavirus vaccine\", \"coronavirus vaccine\", \"coronavirus vaccine\", \"coronavirus_19_sarscov2_staysafe_source\", \"coronavirus_19_sarscov2_staysafe_source\", \"coronavirus_19_sarscov2_staysafe_source\", \"coronaviruscoronavirus\", \"coronaviruscoronavirus\", \"coronaviruscoronavirus\", \"country\", \"country\", \"country\", \"county\", \"county\", \"county\", \"covax\", \"covax\", \"covax\", \"datum\", \"datum\", \"datum\", \"day\", \"day\", \"day\", \"death\", \"death\", \"death\", \"detail\", \"detail\", \"detail\", \"die\", \"die\", \"die\", \"dna\", \"dna\", \"dna\", \"dose\", \"dose\", \"dose\", \"dose_administer\", \"dose_administer\", \"dose_administer\", \"effective\", \"effective\", \"effective\", \"efficacy\", \"efficacy\", \"efficacy\", \"eligibility\", \"eligibility\", \"eligibility\", \"eligible\", \"eligible\", \"eligible\", \"emergency_use\", \"emergency_use\", \"emergency_use\", \"end_march\", \"end_march\", \"end_march\", \"eua\", \"eua\", \"eua\", \"fda\", \"fda\", \"fda\", \"feel\", \"feel\", \"feel\", \"firefauci\", \"firefauci\", \"firefauci\", \"flu\", \"flu\", \"flu\", \"friend\", \"friend\", \"friend\", \"fuck\", \"fuck\", \"fuck\", \"get\", \"get\", \"get\", \"ghana\", \"ghana\", \"ghana\", \"good\", \"good\", \"good\", \"health\", \"health\", \"health\", \"help\", \"help\", \"help\", \"hospital\", \"hospital\", \"hospital\", \"india\", \"india\", \"india\", \"j&;j\", \"j&;j\", \"j&;j\", \"jnj\", \"jnj\", \"jnj\", \"johnson_johnson\", \"johnson_johnson\", \"johnson_johnson\", \"johnsonandjohnson\", \"johnsonandjohnson\", \"johnsonandjohnson\", \"join\", \"join\", \"join\", \"kid\", \"kid\", \"kid\", \"kill\", \"kill\", \"kill\", \"know\", \"know\", \"know\", \"late\", \"late\", \"late\", \"launch\", \"launch\", \"launch\", \"let\", \"let\", \"let\", \"lie\", \"lie\", \"lie\", \"life\", \"life\", \"life\", \"like\", \"like\", \"like\", \"live\", \"live\", \"live\", \"long\", \"long\", \"long\", \"lose\", \"lose\", \"lose\", \"lot\", \"lot\", \"lot\", \"march_1\", \"march_1\", \"march_1\", \"mask\", \"mask\", \"mask\", \"maybe\", \"maybe\", \"maybe\", \"merck\", \"merck\", \"merck\", \"mig\", \"mig\", \"mig\", \"million\", \"million\", \"million\", \"moderna\", \"moderna\", \"moderna\", \"moderna_pfizer\", \"moderna_pfizer\", \"moderna_pfizer\", \"money\", \"money\", \"money\", \"mrna\", \"mrna\", \"mrna\", \"need\", \"need\", \"need\", \"new\", \"new\", \"new\", \"new_case\", \"new_case\", \"new_case\", \"news\", \"news\", \"news\", \"not\", \"not\", \"not\", \"pandemic\", \"pandemic\", \"pandemic\", \"people\", \"people\", \"people\", \"people_outside_city\", \"people_outside_city\", \"people_outside_city\", \"percent_queen_site_mayor\", \"percent_queen_site_mayor\", \"percent_queen_site_mayor\", \"pfizer\", \"pfizer\", \"pfizer\", \"pfizer_biontech\", \"pfizer_biontech\", \"pfizer_biontech\", \"pfizer_moderna\", \"pfizer_moderna\", \"pfizer_moderna\", \"pfizervaccine\", \"pfizervaccine\", \"pfizervaccine\", \"pharmacy\", \"pharmacy\", \"pharmacy\", \"pm\", \"pm\", \"pm\", \"prime_minister\", \"prime_minister\", \"prime_minister\", \"private_hospital\", \"private_hospital\", \"private_hospital\", \"protein\", \"protein\", \"protein\", \"province\", \"province\", \"province\", \"punjab\", \"punjab\", \"punjab\", \"real\", \"real\", \"real\", \"reason\", \"reason\", \"reason\", \"receive\", \"receive\", \"receive\", \"receive_dose\", \"receive_dose\", \"receive_dose\", \"register\", \"register\", \"register\", \"registration\", \"registration\", \"registration\", \"resident\", \"resident\", \"resident\", \"rig\", \"rig\", \"rig\", \"sars_cov-2\", \"sars_cov-2\", \"sars_cov-2\", \"sarscov2\", \"sarscov2\", \"sarscov2\", \"shoot\", \"shoot\", \"shoot\", \"shot_javits_center_75\", \"shot_javits_center_75\", \"shot_javits_center_75\", \"single_dose\", \"single_dose\", \"single_dose\", \"single_shoot\", \"single_shoot\", \"single_shoot\", \"south_africa\", \"south_africa\", \"south_africa\", \"state\", \"state\", \"state\", \"stop\", \"stop\", \"stop\", \"study\", \"study\", \"study\", \"sunday\", \"sunday\", \"sunday\", \"sure\", \"sure\", \"sure\", \"tell\", \"tell\", \"tell\", \"test\", \"test\", \"test\", \"thing\", \"thing\", \"thing\", \"think\", \"think\", \"think\", \"thursday\", \"thursday\", \"thursday\", \"time\", \"time\", \"time\", \"today\", \"today\", \"today\", \"today_recovery\", \"today_recovery\", \"today_recovery\", \"total\", \"total\", \"total\", \"total_active_case\", \"total_active_case\", \"total_active_case\", \"total_case\", \"total_case\", \"total_case\", \"total_death\", \"total_death\", \"total_death\", \"total_recovery\", \"total_recovery\", \"total_recovery\", \"trial\", \"trial\", \"trial\", \"trump\", \"trump\", \"trump\", \"tuesday\", \"tuesday\", \"tuesday\", \"u\", \"u\", \"u\", \"u.s\", \"u.s\", \"u.s\", \"update\", \"update\", \"update\", \"vaccinate\", \"vaccinate\", \"vaccinate\", \"vaccination\", \"vaccination\", \"vaccination\", \"vaccination_clinic\", \"vaccination_clinic\", \"vaccination_clinic\", \"vaccination_drive\", \"vaccination_drive\", \"vaccination_drive\", \"vaccination_site\", \"vaccination_site\", \"vaccination_site\", \"vaccine\", \"vaccine\", \"vaccine\", \"variant\", \"variant\", \"variant\", \"vax\", \"vax\", \"vax\", \"virus\", \"virus\", \"virus\", \"wait\", \"wait\", \"wait\", \"want\", \"want\", \"want\", \"way\", \"way\", \"way\", \"wear_mask\", \"wear_mask\", \"wear_mask\", \"week\", \"week\", \"week\", \"work\", \"work\", \"work\", \"wrong\", \"wrong\", \"wrong\", \"year\", \"year\", \"year\", \"yes\", \"yes\", \"yes\", \"|\", \"|\", \"|\", \"\\u2591_\\u2591_\\u2591_\\u2591\", \"\\u2591_\\u2591_\\u2591_\\u2591\", \"\\u2591_\\u2591_\\u2591_\\u2591\"]}, \"R\": 30, \"lambda.step\": 0.01, \"plot.opts\": {\"xlab\": \"PC1\", \"ylab\": \"PC2\"}, \"topic.order\": [3, 2, 1]};\n",
       "\n",
       "function LDAvis_load_lib(url, callback){\n",
       "  var s = document.createElement('script');\n",
       "  s.src = url;\n",
       "  s.async = true;\n",
       "  s.onreadystatechange = s.onload = callback;\n",
       "  s.onerror = function(){console.warn(\"failed to load library \" + url);};\n",
       "  document.getElementsByTagName(\"head\")[0].appendChild(s);\n",
       "}\n",
       "\n",
       "if(typeof(LDAvis) !== \"undefined\"){\n",
       "   // already loaded: just create the visualization\n",
       "   !function(LDAvis){\n",
       "       new LDAvis(\"#\" + \"ldavis_el283122082289446576542562243\", ldavis_el283122082289446576542562243_data);\n",
       "   }(LDAvis);\n",
       "}else if(typeof define === \"function\" && define.amd){\n",
       "   // require.js is available: use it to load d3/LDAvis\n",
       "   require.config({paths: {d3: \"https://d3js.org/d3.v5\"}});\n",
       "   require([\"d3\"], function(d3){\n",
       "      window.d3 = d3;\n",
       "      LDAvis_load_lib(\"https://cdn.jsdelivr.net/gh/bmabey/pyLDAvis@3.2.2/pyLDAvis/js/ldavis.v3.0.0.js\", function(){\n",
       "        new LDAvis(\"#\" + \"ldavis_el283122082289446576542562243\", ldavis_el283122082289446576542562243_data);\n",
       "      });\n",
       "    });\n",
       "}else{\n",
       "    // require.js not available: dynamically load d3 & LDAvis\n",
       "    LDAvis_load_lib(\"https://d3js.org/d3.v5.js\", function(){\n",
       "         LDAvis_load_lib(\"https://cdn.jsdelivr.net/gh/bmabey/pyLDAvis@3.2.2/pyLDAvis/js/ldavis.v3.0.0.js\", function(){\n",
       "                 new LDAvis(\"#\" + \"ldavis_el283122082289446576542562243\", ldavis_el283122082289446576542562243_data);\n",
       "            })\n",
       "         });\n",
       "}\n",
       "</script>"
      ],
      "text/plain": [
       "PreparedData(topic_coordinates=              x         y  topics  cluster       Freq\n",
       "topic                                                \n",
       "2      0.134614  0.065198       1        1  61.253024\n",
       "1      0.001348 -0.128476       2        1  23.766745\n",
       "0     -0.135962  0.063278       3        1  14.980230, topic_info=             Term          Freq         Total Category  logprob  loglift\n",
       "23        vaccine  21680.000000  21680.000000  Default  30.0000  30.0000\n",
       "6     coronavirus  29963.000000  29963.000000  Default  29.0000  29.0000\n",
       "1122       pfizer   2545.000000   2545.000000  Default  28.0000  28.0000\n",
       "37           dose   3849.000000   3849.000000  Default  27.0000  27.0000\n",
       "781          j&;j   1339.000000   1339.000000  Default  26.0000  26.0000\n",
       "...           ...           ...           ...      ...      ...      ...\n",
       "427         virus    313.720713   4039.772916   Topic3  -5.7617  -0.6570\n",
       "1490    available    201.486304    580.424550   Topic3  -6.2045   0.8404\n",
       "102         datum    207.843470    762.063187   Topic3  -6.1734   0.5992\n",
       "89       pandemic    216.002340   4286.167265   Topic3  -6.1349  -1.0894\n",
       "295          news    199.501146    796.103412   Topic3  -6.2144   0.5145\n",
       "\n",
       "[224 rows x 6 columns], token_table=      Topic      Freq     Term\n",
       "term                          \n",
       "24        1  0.524647        $\n",
       "24        2  0.022632        $\n",
       "24        3  0.452637        $\n",
       "4406      1  0.009874    $_jnj\n",
       "4406      2  0.009874    $_jnj\n",
       "...     ...       ...      ...\n",
       "341       2  0.491983        |\n",
       "341       3  0.506835        |\n",
       "1588      1  0.008878  ░_░_░_░\n",
       "1588      2  0.985504  ░_░_░_░\n",
       "1588      3  0.008878  ░_░_░_░\n",
       "\n",
       "[519 rows x 3 columns], R=30, lambda_step=0.01, plot_opts={'xlab': 'PC1', 'ylab': 'PC2'}, topic_order=[3, 2, 1])"
      ]
     },
     "execution_count": 16,
     "metadata": {},
     "output_type": "execute_result"
    }
   ],
   "source": [
    "#display the pLDAvis plot to visualize the LDA model\n",
    "vis = pyLDAvis.gensim.prepare(models[idx], corpus, tweets_gdict)\n",
    "vis"
   ]
  },
  {
   "cell_type": "code",
   "execution_count": 18,
   "metadata": {},
   "outputs": [],
   "source": [
    "pyLDAvis.save_html(vis,data_path+'\\\\'+'covid_topics_3t.html')"
   ]
  }
 ],
 "metadata": {
  "kernelspec": {
   "display_name": "dk-covid",
   "language": "python",
   "name": "dk-covid"
  },
  "language_info": {
   "codemirror_mode": {
    "name": "ipython",
    "version": 3
   },
   "file_extension": ".py",
   "mimetype": "text/x-python",
   "name": "python",
   "nbconvert_exporter": "python",
   "pygments_lexer": "ipython3",
   "version": "3.8.8"
  }
 },
 "nbformat": 4,
 "nbformat_minor": 4
}
