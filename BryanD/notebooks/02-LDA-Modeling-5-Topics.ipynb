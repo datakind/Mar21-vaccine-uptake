{
 "cells": [
  {
   "cell_type": "code",
   "execution_count": 1,
   "metadata": {},
   "outputs": [],
   "source": [
    "import pandas as pd\n",
    "import os\n",
    "\n",
    "PROJ_ROOT = os.path.join(os.pardir)\n",
    "\n",
    "import gensim\n",
    "\n",
    "from gensim.models import CoherenceModel\n",
    "from gensim.models.ldamodel import LdaModel\n",
    "\n",
    "\n",
    "import pyLDAvis\n",
    "import pyLDAvis.gensim\n",
    "pyLDAvis.enable_notebook()\n",
    "\n",
    "import operator\n",
    "\n",
    "import warnings\n",
    "warnings.filterwarnings('ignore')\n",
    "from tqdm import tqdm_notebook as tqdm\n",
    "\n",
    "import numpy as np\n",
    "\n",
    "\n",
    "data_path = os.path.join(PROJ_ROOT, \n",
    "                         'data')\n",
    "from pprint import pprint\n",
    "import re\n",
    "import pickle\n",
    "import matplotlib.pyplot as plt"
   ]
  },
  {
   "cell_type": "markdown",
   "metadata": {},
   "source": [
    "## Load Necessary Files"
   ]
  },
  {
   "cell_type": "code",
   "execution_count": 2,
   "metadata": {},
   "outputs": [
    {
     "data": {
      "application/vnd.jupyter.widget-view+json": {
       "model_id": "beeed6499780410a92e7c62245224379",
       "version_major": 2,
       "version_minor": 0
      },
      "text/plain": [
       "  0%|          | 0/4 [00:00<?, ?it/s]"
      ]
     },
     "metadata": {},
     "output_type": "display_data"
    }
   ],
   "source": [
    "files = ['all_tokens.pkl','tweets_gdict.pkl','corpus.pkl',\n",
    "         'texts.pkl']\n",
    "\n",
    "for fn in tqdm(files):\n",
    "    var=re.findall(r'(.*)\\.',fn)[0]\n",
    "    globals()[var] = pickle.load( open( data_path+'\\\\'+fn, 'rb' ) )"
   ]
  },
  {
   "cell_type": "markdown",
   "metadata": {},
   "source": [
    "## LDA Topic Modeling"
   ]
  },
  {
   "cell_type": "markdown",
   "metadata": {},
   "source": [
    "### functions to computer coherence and make the lda models"
   ]
  },
  {
   "cell_type": "code",
   "execution_count": 3,
   "metadata": {},
   "outputs": [],
   "source": [
    "# create a function to compute coherence values - used for the naive models\n",
    "def compute_coherence(dictionary, corpus, texts, limit, start=2, step=1):\n",
    "    '''Function to create a naive LDA model for a range of topics, then compute coherence values'''\n",
    "    # empty lists to hold the models & computed coherence values\n",
    "    coherence_values=[]\n",
    "    model_list=[]\n",
    "    \n",
    "    # create a LDA model for each topic amount set between start & limit values\n",
    "    for num_topic in tqdm(range(start, limit, step)):\n",
    "        model = LdaModel(corpus=corpus,\n",
    "                         num_topics=num_topic,\n",
    "                         id2word=dictionary,\n",
    "                         random_state=5)\n",
    "        \n",
    "        model_list.append(model) # add the model to the list\n",
    "        \n",
    "        # create a coherence model from the model\n",
    "        coherencemodel=CoherenceModel(model=model,\n",
    "                                      texts=[texts],\n",
    "                                      dictionary=dictionary,\n",
    "                                      coherence='c_v')\n",
    "        \n",
    "        #add the coherenced values from the list\n",
    "        coherence_values.append(coherencemodel.get_coherence()) \n",
    "        \n",
    "    return model_list, coherence_values\n",
    "\n",
    "\n",
    "def compute_coherence_values(corpus, dictionary, texts, k, a, b):\n",
    "    '''Function to create a lda model with set parameters, then compute coherence values'''\n",
    "    lda_model = gensim.models.LdaMulticore(corpus=tqdm(corpus),\n",
    "                                           id2word=dictionary,\n",
    "                                           num_topics=k,\n",
    "                                           alpha=a,\n",
    "                                          chunksize=200,\n",
    "                                          passes=10,\n",
    "                                          random_state=5,\n",
    "                                          eta=b,\n",
    "                                          per_word_topics=True)\n",
    "    \n",
    "    # create a coherence value from the model\n",
    "    coherence_model_lda = CoherenceModel(model=lda_model,\n",
    "                                         texts=[texts],\n",
    "                                         dictionary=dictionary,\n",
    "                                         coherence='c_v')\n",
    "    \n",
    "    return lda_model, coherence_model_lda.get_coherence()\n"
   ]
  },
  {
   "cell_type": "markdown",
   "metadata": {},
   "source": [
    "## Create a naive lda model with 1 to *n* topics"
   ]
  },
  {
   "cell_type": "code",
   "execution_count": 4,
   "metadata": {},
   "outputs": [],
   "source": [
    "# #create a naive  lda model and coherence values for different topic lengths\n",
    "# model_list, coherence_values = compute_coherence(dictionary=tweets_gdict,\n",
    "#                                                  corpus=corpus,\n",
    "#                                                  texts=texts,\n",
    "#                                                  start=1,\n",
    "#                                                  limit=15,\n",
    "#                                                  step=1  )"
   ]
  },
  {
   "cell_type": "code",
   "execution_count": 5,
   "metadata": {},
   "outputs": [],
   "source": [
    "# # save the naive models\n",
    "\n",
    "# with open(data_path+'\\\\'+'naive_model_list_cv.pkl', 'wb') as f:\n",
    "#     pickle.dump(model_list, f)\n",
    "    \n",
    "# with open(data_path+'\\\\'+'coherence_values.pkl', 'wb') as f:\n",
    "#     pickle.dump(coherence_values, f)"
   ]
  },
  {
   "cell_type": "markdown",
   "metadata": {},
   "source": [
    "#### Load the previously created models from the above two cells"
   ]
  },
  {
   "cell_type": "code",
   "execution_count": 6,
   "metadata": {},
   "outputs": [],
   "source": [
    "model_list = pickle.load( open(data_path+'\\\\'+ 'naiave_model_list_cv.pkl', 'rb' ) )\n",
    "coherence_values = pickle.load(open(data_path+'\\\\'+ 'coherence_values.pkl','rb'))"
   ]
  },
  {
   "cell_type": "markdown",
   "metadata": {},
   "source": [
    "### Visualize coherence values to select number of topics to use for the LDA Model"
   ]
  },
  {
   "cell_type": "code",
   "execution_count": 7,
   "metadata": {
    "scrolled": true
   },
   "outputs": [
    {
     "data": {
      "image/png": "[encoded data removed]",
      "text/plain": [
       "<Figure size 432x288 with 1 Axes>"
      ]
     },
     "metadata": {
      "needs_background": "light"
     },
     "output_type": "display_data"
    }
   ],
   "source": [
    "#plot the coherence values for different topic numbers\n",
    "limit=15; start=1\n",
    "x=range(start, limit)\n",
    "plt.plot(x, coherence_values)\n",
    "plt.xlabel('Num Topics')\n",
    "plt.ylabel('Coherence score')\n",
    "plt.legend('coherence_values', loc='best')\n",
    "plt.show()"
   ]
  },
  {
   "cell_type": "code",
   "execution_count": 8,
   "metadata": {},
   "outputs": [
    {
     "name": "stdout",
     "output_type": "stream",
     "text": [
      "[0.2409125597912077,\n",
      " 0.2800806042947272,\n",
      " 0.3171639175987016,\n",
      " 0.3215055649681553,\n",
      " 0.32179694064705433,\n",
      " 0.2921852213487059,\n",
      " 0.30038541763491633,\n",
      " 0.2984128495380771,\n",
      " 0.27927221557560233,\n",
      " 0.2932006816855416,\n",
      " 0.2794232567110878,\n",
      " 0.2769115091589724,\n",
      " 0.27545853819011845,\n",
      " 0.29085384301829936]\n",
      "4 0.32179694064705433\n",
      "5  topics will be used for the LDA model\n"
     ]
    }
   ],
   "source": [
    "#print the coherence values, and the index & cv for the highest cv value\n",
    "pprint(coherence_values)\n",
    "index, value = max(enumerate(coherence_values), key=operator.itemgetter(1))\n",
    "num_topics = len(coherence_values[:index+1])\n",
    "print(index, value)\n",
    "print(num_topics,' topics will be used for the LDA model')"
   ]
  },
  {
   "cell_type": "markdown",
   "metadata": {},
   "source": [
    "## Create a tuned LDA Model with 3 topics"
   ]
  },
  {
   "cell_type": "code",
   "execution_count": 9,
   "metadata": {},
   "outputs": [],
   "source": [
    "# #decide on a topic number from above and train hyperparamters to train the model on\n",
    "\n",
    "# topic_range = [num_topics] # value determined by the above elbow plot above\n",
    "\n",
    "# # range of alpha numbers to plug into the model   \n",
    "# alpha = list(np.arange(0.01, 1, 0.3)) + [50/x  for x in topic_range]\n",
    "# alpha.append('symmetric')\n",
    "# alpha.append('asymmetric')\n",
    "\n",
    "# # range of beta parameters to plug into the model\n",
    "# beta = list(np.arange(0.01, 1, 0.3))\n",
    "# beta.append('symmetric')\n",
    "\n",
    "# # create a minimized corpus set for validation if needed\n",
    "# num_of_docs = len(corpus)\n",
    "# corpus_sets = [corpus]\n",
    "    \n",
    "# corpus_title = ['100% Corpus']\n",
    "\n",
    "# # empty dictionary to store parameter results with coherence values\n",
    "# model_results = {'validation_set': [],\n",
    "#                     'topics':[],\n",
    "#                     'alpha':[],\n",
    "#                  'beta':[],\n",
    "#                   'coherence':[]}\n",
    "\n",
    "# models=[] #empty list to store completed models\n",
    "    \n",
    "# if 1 ==1:\n",
    "#     pbar = tqdm(total=len(topic_range) * len(alpha) * len(beta) * len(corpus_sets))\n",
    "    \n",
    "    \n",
    "#     # create a model and store the corresponding values and results for each combination of parameters\n",
    "#     for i in range(len(corpus_sets)):\n",
    "#         for k in topic_range:\n",
    "#             for a in alpha:\n",
    "#                 for b in beta:\n",
    "                    \n",
    "#                     model, cv = compute_coherence_values(corpus=corpus_sets[i],\n",
    "#                                                   dictionary=tweets_gdict,\n",
    "#                                                      texts=texts,\n",
    "#                                                   k=k,\n",
    "#                                                   a=a,\n",
    "#                                                         b=b)\n",
    "                    \n",
    "#                     model_results['validation_set'].append(corpus_title[i])\n",
    "#                     model_results['topics'].append(k)\n",
    "#                     model_results['alpha'].append(a)\n",
    "#                     model_results['beta'].append(b)\n",
    "#                     model_results['coherence'].append(cv)\n",
    "#                     models.append(model)\n",
    "                    \n",
    "#                     pbar.update(1)\n",
    "\n",
    "#     pbar.close()"
   ]
  },
  {
   "cell_type": "markdown",
   "metadata": {},
   "source": [
    "#### Load the models from the above cell"
   ]
  },
  {
   "cell_type": "code",
   "execution_count": 10,
   "metadata": {},
   "outputs": [],
   "source": [
    "models = pickle.load( open( data_path+'\\\\'+ 'all_lda_models_5t.pkl', 'rb' ) )\n",
    "model_results = pickle.load(open(data_path+'\\\\'+ 'model_results_5t.pkl','rb'))"
   ]
  },
  {
   "cell_type": "markdown",
   "metadata": {},
   "source": [
    "## Find and save the best model"
   ]
  },
  {
   "cell_type": "code",
   "execution_count": 11,
   "metadata": {},
   "outputs": [
    {
     "data": {
      "text/html": [
       "<div>\n",
       "<style scoped>\n",
       "    .dataframe tbody tr th:only-of-type {\n",
       "        vertical-align: middle;\n",
       "    }\n",
       "\n",
       "    .dataframe tbody tr th {\n",
       "        vertical-align: top;\n",
       "    }\n",
       "\n",
       "    .dataframe thead th {\n",
       "        text-align: right;\n",
       "    }\n",
       "</style>\n",
       "<table border=\"1\" class=\"dataframe\">\n",
       "  <thead>\n",
       "    <tr style=\"text-align: right;\">\n",
       "      <th></th>\n",
       "      <th>validation_set</th>\n",
       "      <th>topics</th>\n",
       "      <th>alpha</th>\n",
       "      <th>beta</th>\n",
       "      <th>coherence</th>\n",
       "    </tr>\n",
       "  </thead>\n",
       "  <tbody>\n",
       "    <tr>\n",
       "      <th>0</th>\n",
       "      <td>100% Corpus</td>\n",
       "      <td>5</td>\n",
       "      <td>0.01</td>\n",
       "      <td>0.01</td>\n",
       "      <td>0.318425</td>\n",
       "    </tr>\n",
       "    <tr>\n",
       "      <th>1</th>\n",
       "      <td>100% Corpus</td>\n",
       "      <td>5</td>\n",
       "      <td>0.01</td>\n",
       "      <td>0.31</td>\n",
       "      <td>0.334623</td>\n",
       "    </tr>\n",
       "    <tr>\n",
       "      <th>2</th>\n",
       "      <td>100% Corpus</td>\n",
       "      <td>5</td>\n",
       "      <td>0.01</td>\n",
       "      <td>0.61</td>\n",
       "      <td>0.302123</td>\n",
       "    </tr>\n",
       "    <tr>\n",
       "      <th>3</th>\n",
       "      <td>100% Corpus</td>\n",
       "      <td>5</td>\n",
       "      <td>0.01</td>\n",
       "      <td>0.91</td>\n",
       "      <td>0.410875</td>\n",
       "    </tr>\n",
       "    <tr>\n",
       "      <th>4</th>\n",
       "      <td>100% Corpus</td>\n",
       "      <td>5</td>\n",
       "      <td>0.01</td>\n",
       "      <td>symmetric</td>\n",
       "      <td>0.302739</td>\n",
       "    </tr>\n",
       "  </tbody>\n",
       "</table>\n",
       "</div>"
      ],
      "text/plain": [
       "  validation_set  topics alpha       beta  coherence\n",
       "0    100% Corpus       5  0.01       0.01   0.318425\n",
       "1    100% Corpus       5  0.01       0.31   0.334623\n",
       "2    100% Corpus       5  0.01       0.61   0.302123\n",
       "3    100% Corpus       5  0.01       0.91   0.410875\n",
       "4    100% Corpus       5  0.01  symmetric   0.302739"
      ]
     },
     "execution_count": 11,
     "metadata": {},
     "output_type": "execute_result"
    }
   ],
   "source": [
    "#create a df of the param values and results\n",
    "lda_tuning = pd.DataFrame(model_results)\n",
    "lda_tuning.head()"
   ]
  },
  {
   "cell_type": "code",
   "execution_count": 12,
   "metadata": {},
   "outputs": [
    {
     "data": {
      "text/plain": [
       "validation_set    100% Corpus\n",
       "topics                      5\n",
       "alpha                    0.01\n",
       "beta                     0.91\n",
       "coherence            0.410875\n",
       "Name: 3, dtype: object"
      ]
     },
     "execution_count": 12,
     "metadata": {},
     "output_type": "execute_result"
    }
   ],
   "source": [
    "# find the row with the coherence value and display the parameters\n",
    "idx =lda_tuning['coherence'].idxmax(axis=0)\n",
    "lda_tuning.iloc[idx]"
   ]
  },
  {
   "cell_type": "code",
   "execution_count": 13,
   "metadata": {},
   "outputs": [],
   "source": [
    "#create a df with the optimally tuned params\n",
    "tuned_params = pd.DataFrame(lda_tuning.iloc[idx])\n",
    "tuned_params.columns=['vals']\n",
    "tuned_params.index.name='hp_params'\n",
    "tuned_params.to_csv(data_path+'\\\\'+'tuned_lda_params_5t.csv', index=False)"
   ]
  },
  {
   "cell_type": "code",
   "execution_count": 14,
   "metadata": {},
   "outputs": [],
   "source": [
    "# # save the tuned model\n",
    "# with open(data_path+'\\\\'+'lda_best_tuned_model_3t.pkl', 'wb') as f:\n",
    "#                 pickle.dump(models[idx], f)\n",
    "\n",
    "# #save all of the models       \n",
    "# with open(data_path+'\\\\'+'all_lda_models_3t.pkl', 'wb') as f:\n",
    "#                 pickle.dump(models, f)\n",
    "\n",
    "# # save all of the tuned model parameters\n",
    "# with open(data_path+'\\\\'+'model_results_3t.pkl', 'wb') as f:\n",
    "#                 pickle.dump(model_results, f)"
   ]
  },
  {
   "cell_type": "markdown",
   "metadata": {},
   "source": [
    "## Display the top words from each topic"
   ]
  },
  {
   "cell_type": "code",
   "execution_count": 15,
   "metadata": {},
   "outputs": [
    {
     "name": "stdout",
     "output_type": "stream",
     "text": [
      "[(0,\n",
      "  '0.002*\"️\" + 0.002*\"account_42_percent\" + 0.002*\"shot_javits_center_75\" + '\n",
      "  '0.002*\"percent_queen_site_mayor\" + 0.002*\"people_outside_city\" + '\n",
      "  '0.002*\"bill_de_blasio\" + 0.002*\"/j\" + 0.001*\"vaccine_december_2019\" + '\n",
      "  '0.001*\"look_modify_time\" + 0.001*\"2_dose_authorize\" + '\n",
      "  '0.001*\"vaccinate_compromise_effectiveness\" + 0.001*\"dr_tam_cpho_naci\" + '\n",
      "  '0.001*\"dr_fauci\" + 0.001*\"baric_review_moderna\" + '\n",
      "  '0.001*\"huge_exclusive_dr_ralph\"'),\n",
      " (1,\n",
      "  '0.007*\"coronavirus\" + 0.005*\"death\" + 0.004*\"new_case\" + 0.003*\"░_░_░_░\" + '\n",
      "  '0.002*\"total_death\" + 0.002*\"today\" + 0.002*\"total_case\" + 0.002*\"staysafe\" '\n",
      "  '+ 0.002*\"today_recovery\" + 0.002*\"total_active_case\" + '\n",
      "  '0.002*\"coronavirus_19_sarscov2_staysafe_source\" + 0.002*\"total_recovery\" + '\n",
      "  '0.002*\"coronatrackernepal_bot_telegram\" + 0.002*\"coronaviruspandemic\" + '\n",
      "  '0.002*\"active\"'),\n",
      " (2,\n",
      "  '0.005*\"immunity\" + 0.002*\"doctor_policy_vaccine\" + '\n",
      "  '0.002*\"insurance_pharmaceutical_biotech\" + 0.002*\"medtech_retweet\" + '\n",
      "  '0.002*\"patient_nhs_fmrevolution_today\" + '\n",
      "  '0.002*\"todaysmedicalupdate_medicine_health\" + 0.002*\"j.\" + 0.002*\"music\" + '\n",
      "  '0.002*\"health\" + 0.002*\"pfizer_study_3rd\" + 0.002*\"dose_fig_variant\" + '\n",
      "  '0.001*\"wellness\" + 0.001*\"ap_news\" + 0.001*\"flu_viually_disappear\" + '\n",
      "  '0.001*\"song\"'),\n",
      " (3,\n",
      "  '0.072*\"coronavirus\" + 0.060*\"vaccine\" + 0.017*\"dose\" + 0.008*\"vaccination\" '\n",
      "  '+ 0.008*\"vaccinate\" + 0.007*\"pfizer\" + 0.007*\"coronavirus vaccine\" + '\n",
      "  '0.006*\"j&;j\" + 0.005*\"moderna\" + 0.005*\"new\" + 0.005*\"today\" + '\n",
      "  '0.005*\"receive\" + 0.004*\"week\" + 0.004*\"people\" + 0.004*\"shoot\"'),\n",
      " (4,\n",
      "  '0.037*\"coronavirus\" + 0.023*\"vaccine\" + 0.016*\"vaccinate\" + 0.011*\"people\" '\n",
      "  '+ 0.010*\"pandemic\" + 0.010*\"virus\" + 0.008*\"get\" + 0.006*\"vaccination\" + '\n",
      "  '0.005*\"need\" + 0.005*\"vax\" + 0.004*\"know\" + 0.004*\"want\" + 0.004*\"like\" + '\n",
      "  '0.004*\"time\" + 0.003*\"work\"')]\n"
     ]
    }
   ],
   "source": [
    "#display the topics along with the top 15 words for each topic\n",
    "pprint(models[idx].print_topics(num_words=15))"
   ]
  },
  {
   "cell_type": "markdown",
   "metadata": {},
   "source": [
    "## Visualize the LDA model"
   ]
  },
  {
   "cell_type": "code",
   "execution_count": 16,
   "metadata": {},
   "outputs": [
    {
     "data": {
      "text/html": [
       "\n",
       "<link rel=\"stylesheet\" type=\"text/css\" href=\"https://cdn.jsdelivr.net/gh/bmabey/pyLDAvis@3.2.2/pyLDAvis/js/ldavis.v1.0.0.css\">\n",
       "\n",
       "\n",
       "<div id=\"ldavis_el2918029970880712324651861757\"></div>\n",
       "<script type=\"text/javascript\">\n",
       "\n",
       "var ldavis_el2918029970880712324651861757_data = {\"mdsDat\": {\"x\": [0.20488682241497777, 0.18996230221581875, -0.13326963242280526, -0.12372755918861691, -0.13785193301937426], \"y\": [0.10549154105813502, -0.10992902119955818, 0.01196807081785458, -0.012360390384090581, 0.004829799707659033], \"topics\": [1, 2, 3, 4, 5], \"cluster\": [1, 1, 1, 1, 1], \"Freq\": [57.863799864343804, 36.11095285907121, 2.19070580868289, 1.9282490855891117, 1.9062923823129863]}, \"tinfo\": {\"Term\": [\"vaccine\", \"coronavirus\", \"dose\", \"death\", \"immunity\", \"j&;j\", \"today\", \"virus\", \"coronavirus vaccine\", \"pfizer\", \"johnson_johnson\", \"like\", \"moderna\", \"receive\", \"update\", \"health\", \"week\", \"|\", \"vaccination\", \"think\", \"new\", \"trump\", \"firefauci\", \"pandemic\", \"want\", \"administer\", \"vaccinate\", \"healthy\", \"vax\", \"case\", \"like\", \"think\", \"firefauci\", \"trump\", \"mask\", \"stop\", \"thing\", \"wear_mask\", \"wrong\", \"kill\", \"flu\", \"risk\", \"lie\", \"feel\", \"believe\", \"not\", \"kid\", \"pay\", \"control\", \"life\", \"anti_vax\", \"fuck\", \"real\", \"family\", \"maybe\", \"u\", \"mig\", \"fauci\", \"friend\", \"lose\", \"lockdown\", \"understand\", \"want\", \"virus\", \"symptom\", \"travel\", \"vax\", \"know\", \"pandemic\", \"need\", \"year\", \"rig\", \"people\", \"let\", \"vaccinate\", \"time\", \"get\", \"tell\", \"long\", \"work\", \"coronavirus\", \"way\", \"good\", \"vaccine\", \"die\", \"vaccination\", \"live\", \"help\", \"death\", \"come\", \"day\", \"2\", \"pfizer\", \"test\", \"dose\", \"j&;j\", \"johnson_johnson\", \"|\", \"administer\", \"county\", \"update\", \"fda\", \"million_dose\", \"astrazeneca\", \"announce\", \"receive_dose\", \"pfizer_biontech\", \"covax\", \"single_dose\", \"tuesday\", \"register\", \"shipment\", \"clinic\", \"friday\", \"dose_administer\", \"johnsonandjohnson\", \"wednesday\", \"distribute\", \"single_shoot\", \"1st_dose\", \"vaccination_site\", \"monday\", \"pharmacy\", \"ship\", \"tomorrow\", \"join\", \"merck\", \"resident\", \"arrive\", \"appointment\", \"vaccine\", \"receive\", \"india\", \"coronavirus\", \"moderna\", \"week\", \"u.s\", \"coronavirus vaccine\", \"available\", \"supply\", \"pfizer\", \"today\", \"news\", \"new\", \"shoot\", \"vaccination\", \"state\", \"\\ud83d\\udc89\", \"case\", \"vaccinate\", \"datum\", \"day\", \"people\", \"get\", \"2\", \"pandemic\", \"country\", \"test\", \"doctor_policy_vaccine\", \"insurance_pharmaceutical_biotech\", \"medtech_retweet\", \"patient_nhs_fmrevolution_today\", \"todaysmedicalupdate_medicine_health\", \"j.\", \"ap_news\", \"dose_fig_variant\", \"pfizer_study_3rd\", \"wellness\", \"music\", \"\\u200c_\\u200c_\\u200c_\\u200c\", \"supplement\", \"boost_immunity\", \"tea\", \"song\", \"moderna_begin_trial\", \"vaccine_address_virus\", \"bonehealth\", \"coronaviruspandemic_diseaseoutbreaks_diseasesandconditions\", \"variant_find_south\", \"probiotic\", \"fitness\", \"j&;j_1-dose_shoot_clear\", \"immunity_nutrition\", \"herb\", \"\\ud83d\\ude0d\", \"vax_donate_\\u00a3\", \"weigloss\", \"sesame\", \"\\u2714\", \"educational_institution\", \"\\ud83d\\udc69_\\u200d\", \"flu_viually_disappear\", \"bundle\", \"jobless_claim_fall\", \"immunity\", \"coronaviruspapers_sarscov2\", \"amid_pandemic\", \"health\", \"j\", \"healthy\", \"vitamin\", \"\\u2591_\\u2591_\\u2591_\\u2591\", \"total_death\", \"total_case\", \"new_case\", \"today_recovery\", \"coronatrackernepal_bot_telegram\", \"coronavirus_19_sarscov2_staysafe_source\", \"total_active_case\", \"total_recovery\", \"coronavirusinfo_usa_new_case\", \"active_case\", \"active\", \"staysafe\", \"coronavirusupdate\", \"bitcoin\", \"israel_study\", \"coronavirusinfo_germany_new_case\", \"thailand\", \"\\u2593_\\u2593\", \"instagram\", \"effective_prevent_illness_death\", \"stayathome\", \"half_million_people_confirm\", \"february_2021_invest\", \"gold_silver_news\", \"market_nifty\", \"petrolprices\", \"rbigovernor\", \"sensex\", \"\\u2593_\\u2591_\\u2591\", \"coronavirusab\", \"coronaviruspandemic\", \"coronavirusnews\", \"\\ud83d\\udc47_\\ud83c\\udffe\", \"global_pandemic_news_|\", \"lakh\", \"24_hr\", \"death\", \"\\ud83d\\udd39\", \"coronavirus\", \"today\", \"icu\", \"recover\", \"j&;k\", \"daily\", \"case\", \"account_42_percent\", \"bill_de_blasio\", \"people_outside_city\", \"percent_queen_site_mayor\", \"shot_javits_center_75\", \"/j\", \"vaccine_december_2019\", \"baric_review_moderna\", \"huge_exclusive_dr_ralph\", \"help_restaurant_big\", \"recognize_privilege_little_girl\", \"teacher_good_work\", \"way_philadelphia_phillies_pitch\", \"johnson_johnson_require_single\", \"dose_expect_big\", \"fda_authorize_use\", \"boost_vaccination_effos\", \"capitol_qanon_mitch_mcconnell\", \"nancy_blm_proud_boy\", \"@gatewaypundit\", \"1.5_million_dose\", \"care_initiative\", \"isolate_city\", \"new_yorker_safely\", \"vaccination_program_surpass\", \"bangladesh_crosse_significant\", \"shot_oxford_astrazeneca\", \"\\u00b0\", \"\\ud83c\\uddf9\", \"\\u274c\", \"2_dose_authorize\", \"dr_tam_cpho_naci\", \"look_modify_time\", \"vaccinate_compromise_effectiveness\", \"\\ud83c\\udde8_\\ud83c\\uddf3\", \"\\ud83c\\uddf7\", \"\\ufe0f\", \"coronavirus vaccine_thankyoupm_sheikhhasina\", \"dr_fauci\"], \"Freq\": [23218.0, 31583.0, 4080.0, 1404.0, 623.0, 1537.0, 1650.0, 4134.0, 2186.0, 2618.0, 794.0, 1505.0, 1495.0, 1331.0, 792.0, 920.0, 1340.0, 613.0, 4096.0, 1111.0, 1805.0, 1067.0, 1064.0, 4531.0, 1577.0, 488.0, 7910.0, 264.0, 2116.0, 1213.0, 1503.443720016659, 1109.9673439357916, 1063.0107287056642, 1066.2396647365358, 773.9229253030876, 746.0761547769723, 634.5513123885435, 547.9370450987902, 574.8237538021605, 461.85076920989655, 416.1275838660134, 588.9052136098104, 413.04717064129494, 518.1083112684638, 416.84759660019034, 376.3106464780495, 397.9730923812904, 523.7306080140686, 400.0564027694105, 490.5312316107678, 311.26413731823044, 306.065278554842, 379.84402735522946, 374.8950384819029, 315.21871398550485, 322.3002069421055, 376.7974263877088, 500.92841101143546, 375.14641064068644, 300.83825785840276, 535.7008645636022, 344.7399984320797, 1508.8022901248887, 3824.4145445935883, 391.7467939218946, 427.8235306313567, 1949.1381496731638, 1640.5000453461537, 3861.4017458360595, 2082.0511730244857, 1233.1879985580365, 708.545625539528, 4044.9375479121463, 769.8142427712766, 5977.81083593322, 1444.4183711590053, 3201.2892638827566, 724.7704864841644, 640.6481466748221, 1287.419899409858, 14070.91719966819, 833.7191398122424, 688.0590300288416, 8736.842591931569, 694.6678464642295, 2131.4936618162947, 781.0788366162133, 891.8585537187003, 874.9094647186979, 751.5828440967732, 837.9724885797567, 824.4283925360357, 946.0840867448959, 750.9713086174527, 4077.712400717818, 1535.2686486133402, 792.6269315133038, 611.659311647327, 487.279159951129, 423.1887770580292, 789.3713092409589, 341.8979609723275, 348.1365416945139, 454.44884613894027, 313.35244033185336, 300.27742224782776, 284.1861428350959, 256.09743134731815, 225.37900980337113, 209.84093598556223, 234.34373900237208, 178.47796380752047, 200.19467316555924, 232.66996149768258, 179.80989705562797, 180.16446077308726, 193.6089728988363, 209.35968140035456, 141.6487998192476, 184.1421538261279, 131.9545696594344, 165.90267081294678, 148.45613214409585, 162.120555212802, 223.1326606599147, 322.28872215575683, 165.75360544801157, 324.01196423052477, 255.4744716132605, 421.65564124891506, 14481.019509404628, 1086.7493940490692, 540.209188424412, 17428.08003050633, 1167.5237076706305, 1047.4048692172669, 462.4880771400457, 1589.4721903686552, 532.2827114560342, 356.75734170880224, 1672.0888528317475, 1123.8916750627018, 637.1545404543054, 1150.783721760349, 872.9660688606243, 1964.3020809121276, 789.5505291033536, 449.00474896977113, 718.0330724967844, 1931.6121989034204, 522.1572929717605, 674.7911033557602, 972.3405160835428, 870.9630826033928, 608.4213203108517, 669.3632938130611, 504.49277436721434, 492.19824702996027, 29.824680402096572, 29.824680402096572, 29.824680402096572, 29.824680402096572, 29.824680402096572, 28.297223520699593, 20.738123313070925, 22.60664605207519, 22.60664605207519, 21.67911635724782, 23.598426313457843, 13.206182399205726, 10.705463728434912, 10.166007863067238, 7.214193984797092, 16.17744003641981, 7.362213578916075, 7.203747580188312, 6.138566173794316, 7.939315040349533, 7.173041636135919, 6.293500802200892, 8.560859985717059, 6.0470582670159265, 5.390222962831688, 6.20974111239525, 7.585145761521613, 5.481837404940681, 5.622489932393218, 4.906786005845123, 6.896615559817628, 14.060378435545921, 7.51979928172483, 20.617454012312113, 7.020154523405954, 10.886727439024643, 78.50537069584581, 7.897967447656179, 9.744241704749875, 23.164848740080625, 13.038883730239515, 12.96132770733465, 8.074140382328563, 38.19070358256308, 31.358242095193226, 30.53795387594378, 55.88962062414381, 26.0262416483698, 25.958349295819982, 25.958349295819982, 25.958349295819982, 25.958349295819982, 15.574561265602464, 16.733238287812064, 20.948075393395996, 27.947302926177667, 12.537974479324838, 10.571778654852457, 10.215366966746874, 8.202070747974409, 14.760399975509873, 7.876706152591466, 11.204254827036292, 7.947105315790216, 8.120562416153204, 6.658248981473021, 6.75604298986774, 6.75604298986774, 6.75604298986774, 6.75604298986774, 6.75604298986774, 6.75604298986774, 5.817076152850007, 6.369775224292689, 21.505516857443382, 10.041148483358175, 9.44724282458971, 7.333170576170694, 15.562634674968107, 8.871277113267109, 70.51972323208184, 8.859893727205561, 84.16702456081725, 31.079395088653982, 11.843608850791938, 15.578989092698015, 11.13357023860121, 9.41584679577972, 8.989193600823203, 20.623185170530544, 20.623185170530544, 20.623185170530544, 20.623185170530544, 20.623185170530544, 20.097955299249403, 16.060880017750563, 11.405219214666445, 11.122153229554272, 10.423641230510116, 10.423641230510116, 10.423641230510116, 10.423641230510116, 10.454415310262933, 10.443898746247646, 10.400912096932087, 9.823340953402917, 9.564422364347477, 9.564422364347477, 8.876086398588043, 9.525338152883485, 7.679731028990902, 7.679731028990902, 7.679731028990902, 7.679731028990902, 9.483172175241805, 9.483172175241805, 10.347891979258051, 9.445682770387984, 9.87201025545217, 13.961624036324984, 13.961624036324984, 13.961624036324984, 13.961624036324984, 10.395436274143204, 9.84678808236079, 27.379303046076892, 9.885871555146407, 11.575414405503151], \"Total\": [23218.0, 31583.0, 4080.0, 1404.0, 623.0, 1537.0, 1650.0, 4134.0, 2186.0, 2618.0, 794.0, 1505.0, 1495.0, 1331.0, 792.0, 920.0, 1340.0, 613.0, 4096.0, 1111.0, 1805.0, 1067.0, 1064.0, 4531.0, 1577.0, 488.0, 7910.0, 264.0, 2116.0, 1213.0, 1505.14364212717, 1111.4837629754702, 1064.4921322573691, 1067.857815128597, 775.5056049428448, 747.8381121172703, 636.0980097430233, 549.3951754013094, 576.4536610855661, 463.32038783924395, 417.55896067241383, 590.9325475419936, 414.49950844765925, 519.940343628303, 418.43538401879914, 377.74846719413415, 399.51851958928097, 525.8233383160139, 401.72828115614755, 492.67748622857926, 312.65200364467495, 307.4758312529503, 381.6220086126361, 376.68179239561374, 316.72185613659633, 323.8389464183082, 378.60187826113275, 503.3479415563962, 377.0039979805625, 302.367785984528, 539.6564425573782, 346.58540254080174, 1577.1031835801007, 4134.980450203386, 395.5974140231904, 433.75476364682913, 2116.6325876149353, 1794.1725802685883, 4531.583415929231, 2339.4100731418503, 1351.0926669653422, 746.1615474892427, 5018.021315523278, 821.7181044492945, 7910.190933312288, 1661.1117966705167, 4072.916572454359, 777.6594703524266, 682.577893573561, 1609.672891446624, 31583.805812262744, 945.425463220043, 751.204073921912, 23218.574229383798, 769.5994353844172, 4096.538863449963, 967.5408358252784, 1292.1348343679583, 1404.4191449949287, 1004.2597150965479, 1513.587687409652, 1433.5783494071256, 2618.8795895449766, 1243.932770481336, 4080.080442065019, 1537.4397141803988, 794.3175838658383, 613.4913547789982, 488.9485307210435, 425.0225500732958, 792.9384047639988, 343.53980283981696, 349.9502023042799, 456.94592669343325, 315.1940417374052, 302.0863748553228, 285.9755693007927, 257.7568825265827, 226.9498469766692, 211.45249260491022, 236.21706965772617, 180.0077314627316, 201.97771832204552, 234.77635568185008, 181.48158156152482, 181.86199509767044, 195.4390919982413, 211.4319329754973, 143.14452784075542, 186.13934416196358, 133.5834553403858, 167.9655010685122, 150.33612311947437, 164.1786180740955, 226.78948153129033, 330.09754744095625, 168.40525591874032, 344.2735455308919, 266.8547732745402, 458.5423367116657, 23218.574229383798, 1331.2447166983482, 616.1165469335143, 31583.805812262744, 1495.2468361196932, 1340.4811188572864, 524.4798991417317, 2186.656359149137, 628.1686007851894, 397.0261032887215, 2618.8795895449766, 1650.6546909389954, 824.5162387120463, 1805.5352505379378, 1301.6363551644147, 4096.538863449963, 1186.683648882151, 547.4867152827828, 1213.6988919856055, 7910.190933312288, 806.1120986219216, 1513.587687409652, 5018.021315523278, 4072.916572454359, 1433.5783494071256, 4531.583415929231, 1234.3474068934684, 1243.932770481336, 32.03675496754764, 32.03675496754764, 32.03675496754764, 32.03675496754764, 32.03675496754764, 31.190940029210193, 23.05136307410877, 25.36913066962375, 25.36913066962375, 24.566415089406558, 27.169286588765925, 15.771633630033067, 13.325271477728757, 12.710098769132168, 9.24521972377602, 20.753525413492337, 9.458203202038712, 9.291019466382293, 8.098716959169973, 10.497585280281202, 9.484910585402998, 8.34311892883086, 11.469072869118781, 8.150611368961776, 7.3520210136313855, 8.48090818657507, 10.4404307178087, 7.5455133830513095, 7.756395121058675, 6.862868883676728, 9.676469354646203, 20.300755453070725, 10.579676792258399, 32.33360663145682, 10.121657978858996, 19.247601527105545, 623.4589580887969, 12.71743662519026, 28.26851886704082, 920.6028762609317, 183.01071772648828, 264.6743650368498, 29.3473339396733, 40.29894973071765, 33.37589452490014, 32.583471460503134, 59.720409286461766, 28.01350440860164, 27.94465212767961, 27.94465212767961, 27.94465212767961, 27.94465212767961, 17.559335055423354, 19.409993242696927, 24.492017184986935, 33.40741231879583, 15.243734417123203, 12.914047630889227, 12.537360803699105, 10.186877880028932, 18.372673160193646, 10.000302846472742, 14.570003011358226, 10.448760021752983, 10.744044613751296, 8.827276154924846, 9.109286504267347, 9.109286504267347, 9.109286504267347, 9.109286504267347, 9.109286504267347, 9.109286504267347, 7.89308216484234, 8.650314292094299, 32.424184470579185, 16.14683806336754, 14.807015399279617, 10.333202176773947, 38.25403939102087, 16.046073534834342, 1404.4191449949287, 17.021158387161258, 31583.805812262744, 1650.6546909389954, 48.558820356754396, 152.50574228398597, 46.24253435009696, 318.8025181592886, 1213.6988919856055, 22.60333615884262, 22.60333615884262, 22.60333615884262, 22.60333615884262, 22.60333615884262, 22.25004941474603, 18.08547127561034, 13.440341428982844, 13.156327010376996, 12.424257915000247, 12.424257915000247, 12.424257915000247, 12.424257915000247, 12.595912154750998, 12.58536213918328, 12.554129447114093, 11.950557865820269, 11.724922558030643, 11.724922558030643, 10.956825403417922, 11.856054053828043, 9.659882017302976, 9.659882017302976, 9.659882017302976, 9.659882017302976, 11.949636913450949, 11.949636913450949, 13.05382569850328, 11.93817007254086, 12.484977775711465, 17.663789960369915, 17.663789960369915, 17.663789960369915, 17.663789960369915, 13.327732756624622, 12.701616339787208, 74.83695774607762, 12.852461926886296, 178.51248172027593], \"Category\": [\"Default\", \"Default\", \"Default\", \"Default\", \"Default\", \"Default\", \"Default\", \"Default\", \"Default\", \"Default\", \"Default\", \"Default\", \"Default\", \"Default\", \"Default\", \"Default\", \"Default\", \"Default\", \"Default\", \"Default\", \"Default\", \"Default\", \"Default\", \"Default\", \"Default\", \"Default\", \"Default\", \"Default\", \"Default\", \"Default\", \"Topic1\", \"Topic1\", \"Topic1\", \"Topic1\", \"Topic1\", \"Topic1\", \"Topic1\", \"Topic1\", \"Topic1\", \"Topic1\", \"Topic1\", \"Topic1\", \"Topic1\", \"Topic1\", \"Topic1\", \"Topic1\", \"Topic1\", \"Topic1\", \"Topic1\", \"Topic1\", \"Topic1\", \"Topic1\", \"Topic1\", \"Topic1\", \"Topic1\", \"Topic1\", \"Topic1\", \"Topic1\", \"Topic1\", \"Topic1\", \"Topic1\", \"Topic1\", \"Topic1\", \"Topic1\", \"Topic1\", \"Topic1\", \"Topic1\", \"Topic1\", \"Topic1\", \"Topic1\", \"Topic1\", \"Topic1\", \"Topic1\", \"Topic1\", \"Topic1\", \"Topic1\", \"Topic1\", \"Topic1\", \"Topic1\", \"Topic1\", \"Topic1\", \"Topic1\", \"Topic1\", \"Topic1\", \"Topic1\", \"Topic1\", \"Topic1\", \"Topic1\", \"Topic1\", \"Topic1\", \"Topic1\", \"Topic1\", \"Topic1\", \"Topic1\", \"Topic2\", \"Topic2\", \"Topic2\", \"Topic2\", \"Topic2\", \"Topic2\", \"Topic2\", \"Topic2\", \"Topic2\", \"Topic2\", \"Topic2\", \"Topic2\", \"Topic2\", \"Topic2\", \"Topic2\", \"Topic2\", \"Topic2\", \"Topic2\", \"Topic2\", \"Topic2\", \"Topic2\", \"Topic2\", \"Topic2\", \"Topic2\", \"Topic2\", \"Topic2\", \"Topic2\", \"Topic2\", \"Topic2\", \"Topic2\", \"Topic2\", \"Topic2\", \"Topic2\", \"Topic2\", \"Topic2\", \"Topic2\", \"Topic2\", \"Topic2\", \"Topic2\", \"Topic2\", \"Topic2\", \"Topic2\", \"Topic2\", \"Topic2\", \"Topic2\", \"Topic2\", \"Topic2\", \"Topic2\", \"Topic2\", \"Topic2\", \"Topic2\", \"Topic2\", \"Topic2\", \"Topic2\", \"Topic2\", \"Topic2\", \"Topic2\", \"Topic2\", \"Topic2\", \"Topic2\", \"Topic2\", \"Topic2\", \"Topic2\", \"Topic2\", \"Topic3\", \"Topic3\", \"Topic3\", \"Topic3\", \"Topic3\", \"Topic3\", \"Topic3\", \"Topic3\", \"Topic3\", \"Topic3\", \"Topic3\", \"Topic3\", \"Topic3\", \"Topic3\", \"Topic3\", \"Topic3\", \"Topic3\", \"Topic3\", \"Topic3\", \"Topic3\", \"Topic3\", \"Topic3\", \"Topic3\", \"Topic3\", \"Topic3\", \"Topic3\", \"Topic3\", \"Topic3\", \"Topic3\", \"Topic3\", \"Topic3\", \"Topic3\", \"Topic3\", \"Topic3\", \"Topic3\", \"Topic3\", \"Topic3\", \"Topic3\", \"Topic3\", \"Topic3\", \"Topic3\", \"Topic3\", \"Topic3\", \"Topic4\", \"Topic4\", \"Topic4\", \"Topic4\", \"Topic4\", \"Topic4\", \"Topic4\", \"Topic4\", \"Topic4\", \"Topic4\", \"Topic4\", \"Topic4\", \"Topic4\", \"Topic4\", \"Topic4\", \"Topic4\", \"Topic4\", \"Topic4\", \"Topic4\", \"Topic4\", \"Topic4\", \"Topic4\", \"Topic4\", \"Topic4\", \"Topic4\", \"Topic4\", \"Topic4\", \"Topic4\", \"Topic4\", \"Topic4\", \"Topic4\", \"Topic4\", \"Topic4\", \"Topic4\", \"Topic4\", \"Topic4\", \"Topic4\", \"Topic4\", \"Topic4\", \"Topic4\", \"Topic4\", \"Topic4\", \"Topic4\", \"Topic4\", \"Topic4\", \"Topic4\", \"Topic5\", \"Topic5\", \"Topic5\", \"Topic5\", \"Topic5\", \"Topic5\", \"Topic5\", \"Topic5\", \"Topic5\", \"Topic5\", \"Topic5\", \"Topic5\", \"Topic5\", \"Topic5\", \"Topic5\", \"Topic5\", \"Topic5\", \"Topic5\", \"Topic5\", \"Topic5\", \"Topic5\", \"Topic5\", \"Topic5\", \"Topic5\", \"Topic5\", \"Topic5\", \"Topic5\", \"Topic5\", \"Topic5\", \"Topic5\", \"Topic5\", \"Topic5\", \"Topic5\", \"Topic5\", \"Topic5\", \"Topic5\", \"Topic5\", \"Topic5\", \"Topic5\"], \"logprob\": [30.0, 29.0, 28.0, 27.0, 26.0, 25.0, 24.0, 23.0, 22.0, 21.0, 20.0, 19.0, 18.0, 17.0, 16.0, 15.0, 14.0, 13.0, 12.0, 11.0, 10.0, 9.0, 8.0, 7.0, 6.0, 5.0, 4.0, 3.0, 2.0, 1.0, -5.546, -5.8494, -5.8927, -5.8896, -6.2101, -6.2467, -6.4086, -6.5554, -6.5075, -6.7263, -6.8305, -6.4833, -6.838, -6.6113, -6.8288, -6.9311, -6.8751, -6.6006, -6.8699, -6.666, -7.1209, -7.1377, -6.9218, -6.9349, -7.1083, -7.086, -6.9298, -6.6451, -6.9342, -7.155, -6.578, -7.0187, -5.5425, -4.6124, -6.8909, -6.8028, -5.2864, -5.4588, -4.6027, -5.2204, -5.7442, -6.2983, -4.5563, -6.2154, -4.1657, -5.5861, -4.7902, -6.2757, -6.3991, -5.7011, -3.3097, -6.1356, -6.3277, -3.7862, -6.3181, -5.197, -6.2009, -6.0682, -6.0874, -6.2394, -6.1305, -6.1468, -6.0092, -6.2402, -4.0767, -5.0536, -5.7147, -5.9739, -6.2012, -6.3422, -5.7188, -6.5555, -6.5374, -6.271, -6.6427, -6.6853, -6.7404, -6.8445, -6.9723, -7.0437, -6.9332, -7.2056, -7.0907, -6.9404, -7.1981, -7.1962, -7.1242, -7.046, -7.4367, -7.1743, -7.5076, -7.2786, -7.3897, -7.3017, -6.9823, -6.6146, -7.2795, -6.6093, -6.8469, -6.3458, -2.8094, -5.3991, -6.0981, -2.6242, -5.3274, -5.436, -6.2534, -5.0189, -6.1129, -6.513, -4.9682, -5.3655, -5.933, -5.3418, -5.6181, -4.8071, -5.7186, -6.283, -5.8135, -4.8239, -6.1321, -5.8756, -5.5103, -5.6204, -5.9792, -5.8837, -6.1665, -6.1912, -6.1923, -6.1923, -6.1923, -6.1923, -6.1923, -6.2449, -6.5557, -6.4694, -6.4694, -6.5113, -6.4265, -7.007, -7.2169, -7.2686, -7.6116, -6.804, -7.5913, -7.6131, -7.7731, -7.5158, -7.6173, -7.7481, -7.4405, -7.7881, -7.9031, -7.7615, -7.5615, -7.8862, -7.8609, -7.997, -7.6566, -6.9443, -7.5701, -6.5615, -7.6389, -7.2001, -5.2245, -7.5211, -7.311, -6.445, -7.0197, -7.0257, -7.499, -5.8175, -6.0146, -6.0411, -5.4367, -6.2009, -6.2036, -6.2036, -6.2036, -6.2036, -6.7144, -6.6427, -6.418, -6.1297, -6.9313, -7.1019, -7.1362, -7.3557, -6.7681, -7.3961, -7.0438, -7.3872, -7.3657, -7.5642, -7.5496, -7.5496, -7.5496, -7.5496, -7.5496, -7.5496, -7.6993, -7.6085, -6.3917, -7.1534, -7.2143, -7.4676, -6.7152, -7.2772, -5.2042, -7.2785, -5.0272, -6.0235, -6.9883, -6.7141, -7.0501, -7.2177, -7.264, -6.4222, -6.4222, -6.4222, -6.4222, -6.4222, -6.448, -6.6722, -7.0145, -7.0397, -7.1045, -7.1045, -7.1045, -7.1045, -7.1016, -7.1026, -7.1067, -7.1638, -7.1906, -7.1906, -7.2652, -7.1946, -7.41, -7.41, -7.41, -7.41, -7.1991, -7.1991, -7.1118, -7.203, -7.1589, -6.8123, -6.8123, -6.8123, -6.8123, -7.1072, -7.1615, -6.1388, -7.1575, -6.9997], \"loglift\": [30.0, 29.0, 28.0, 27.0, 26.0, 25.0, 24.0, 23.0, 22.0, 21.0, 20.0, 19.0, 18.0, 17.0, 16.0, 15.0, 14.0, 13.0, 12.0, 11.0, 10.0, 9.0, 8.0, 7.0, 6.0, 5.0, 4.0, 3.0, 2.0, 1.0, 0.5459, 0.5457, 0.5457, 0.5456, 0.545, 0.5447, 0.5446, 0.5444, 0.5442, 0.5439, 0.5436, 0.5436, 0.5436, 0.5435, 0.5433, 0.5433, 0.5432, 0.5431, 0.5429, 0.5427, 0.5426, 0.5425, 0.5424, 0.5423, 0.5423, 0.5423, 0.5423, 0.5423, 0.5421, 0.542, 0.5397, 0.5417, 0.5028, 0.469, 0.5373, 0.5333, 0.4646, 0.4575, 0.387, 0.4305, 0.4558, 0.4954, 0.3315, 0.4818, 0.267, 0.4073, 0.3063, 0.4766, 0.4837, 0.3237, -0.2615, 0.4213, 0.4593, -0.4303, 0.4446, -0.1062, 0.333, 0.1763, 0.0738, 0.2573, -0.0442, -0.0062, -0.4711, 0.0424, 1.018, 1.0172, 1.0164, 1.0156, 1.0152, 1.0143, 1.0141, 1.0138, 1.0134, 1.0131, 1.0127, 1.0126, 1.0123, 1.0121, 1.0116, 1.0109, 1.0106, 1.01, 1.0097, 1.0096, 1.0093, 1.0092, 1.0092, 1.0087, 1.0081, 1.0078, 1.0063, 1.0062, 1.006, 1.006, 1.0023, 0.9946, 1.0027, 0.9579, 0.975, 0.9347, 0.5465, 0.8157, 0.8871, 0.424, 0.7712, 0.7719, 0.8928, 0.6996, 0.8529, 0.9116, 0.5699, 0.6342, 0.7608, 0.5682, 0.6191, 0.2836, 0.6111, 0.8203, 0.4937, -0.3912, 0.5843, 0.2107, -0.6225, -0.5239, 0.1615, -0.8939, 0.1238, 0.0914, 3.7494, 3.7494, 3.7494, 3.7494, 3.7494, 3.7236, 3.7152, 3.7057, 3.7057, 3.6959, 3.68, 3.6434, 3.602, 3.5976, 3.5729, 3.5718, 3.5704, 3.5665, 3.5438, 3.5416, 3.5416, 3.539, 3.5285, 3.5224, 3.5106, 3.5092, 3.5015, 3.5014, 3.4992, 3.4854, 3.4823, 3.4536, 3.4796, 3.371, 3.4551, 3.2511, 1.7488, 3.3446, 2.7559, 0.1386, 1.1793, 0.8044, 2.5304, 3.8948, 3.8862, 3.8837, 3.8823, 3.875, 3.8748, 3.8748, 3.8748, 3.8748, 3.8286, 3.8002, 3.7923, 3.7701, 3.7532, 3.7484, 3.7437, 3.7318, 3.7296, 3.7099, 3.6859, 3.6749, 3.6686, 3.6666, 3.6497, 3.6497, 3.6497, 3.6497, 3.6497, 3.6497, 3.6434, 3.6425, 3.538, 3.4735, 3.4992, 3.6056, 3.0492, 3.3559, 0.9571, 3.2956, -1.979, -0.0238, 2.5376, 1.6673, 2.5246, 0.4264, -0.9568, 3.8683, 3.8683, 3.8683, 3.8683, 3.8683, 3.8583, 3.8413, 3.7958, 3.792, 3.7844, 3.7844, 3.7844, 3.7844, 3.7737, 3.7735, 3.7719, 3.764, 3.7563, 3.7563, 3.7494, 3.7411, 3.7306, 3.7306, 3.7306, 3.7306, 3.7288, 3.7288, 3.7277, 3.7258, 3.7252, 3.7248, 3.7248, 3.7248, 3.7248, 3.7115, 3.7054, 2.9545, 3.6976, 1.2242]}, \"token.table\": {\"Topic\": [1, 2, 5, 1, 2, 5, 1, 2, 1, 2, 1, 2, 4, 1, 2, 5, 1, 2, 5, 1, 2, 5, 1, 2, 4, 1, 2, 4, 1, 2, 1, 2, 3, 1, 2, 1, 2, 1, 2, 3, 1, 2, 1, 2, 1, 2, 1, 2, 1, 2, 5, 1, 2, 5, 1, 2, 1, 2, 5, 1, 2, 4, 1, 2, 3, 1, 2, 3, 1, 2, 5, 1, 2, 3, 1, 2, 5, 1, 2, 5, 1, 2, 4, 1, 2, 1, 2, 1, 2, 1, 2, 4, 1, 2, 4, 1, 2, 1, 2, 5, 1, 2, 4, 1, 2, 4, 1, 2, 4, 1, 2, 4, 1, 2, 4, 1, 2, 3, 4, 1, 2, 3, 1, 2, 3, 1, 2, 4, 1, 2, 1, 2, 1, 2, 1, 2, 3, 4, 1, 2, 1, 2, 1, 2, 4, 1, 2, 1, 2, 1, 2, 3, 1, 2, 1, 2, 1, 2, 5, 1, 2, 3, 1, 2, 5, 1, 2, 5, 1, 2, 3, 1, 2, 4, 1, 2, 1, 2, 1, 2, 1, 2, 5, 1, 2, 4, 1, 2, 1, 2, 1, 2, 3, 1, 2, 1, 2, 3, 1, 2, 1, 2, 1, 2, 1, 2, 1, 2, 4, 1, 2, 4, 1, 2, 1, 2, 4, 1, 2, 3, 1, 2, 3, 1, 2, 1, 2, 5, 1, 2, 3, 1, 2, 5, 1, 2, 4, 1, 2, 3, 1, 2, 3, 1, 2, 4, 1, 2, 4, 1, 2, 3, 1, 2, 5, 1, 2, 4, 1, 2, 3, 1, 2, 1, 2, 3, 1, 2, 4, 1, 2, 3, 1, 2, 3, 1, 2, 1, 2, 5, 1, 2, 1, 2, 3, 1, 2, 1, 2, 1, 2, 1, 2, 4, 1, 2, 1, 2, 1, 2, 3, 1, 2, 1, 2, 1, 2, 4, 5, 1, 2, 1, 2, 5, 1, 2, 1, 2, 4, 1, 2, 1, 2, 1, 2, 3, 1, 2, 1, 2, 1, 2, 1, 2, 1, 2, 3, 1, 2, 1, 2, 3, 1, 2, 5, 1, 2, 1, 2, 1, 2, 4, 1, 2, 5, 1, 2, 1, 2, 1, 2, 1, 2, 3, 1, 2, 1, 2, 1, 2, 5, 1, 2, 5, 1, 2, 4, 1, 2, 1, 2, 1, 2, 3, 1, 2, 1, 2, 3, 1, 2, 4, 1, 2, 1, 2, 1, 2, 1, 2, 5, 1, 2, 4, 1, 2, 1, 2, 1, 2, 1, 2, 1, 2, 4, 1, 2, 3, 1, 2, 1, 2, 1, 2, 1, 2, 5, 1, 2, 5, 1, 2, 1, 2, 1, 2, 3, 4, 1, 2, 1, 2, 4, 1, 2, 3, 4, 1, 2, 1, 2, 3, 1, 2, 1, 2, 1, 2, 3, 1, 2, 5, 1, 2, 1, 2, 1, 2, 4, 1, 2, 1, 2, 1, 2, 1, 2, 4, 1, 2, 4, 1, 2, 3, 1, 2, 1, 2, 4, 1, 2, 4, 1, 2, 4, 1, 2, 4, 1, 2, 4, 1, 2, 1, 2, 1, 2, 1, 2, 1, 2, 1, 2, 4, 1, 2, 1, 2, 5, 1, 2, 1, 2, 5, 1, 2, 1, 2, 1, 2, 3, 1, 2, 5, 1, 2, 3, 1, 2, 1, 2, 3, 1, 2, 1, 2, 3, 1, 2, 1, 2, 1, 2, 5, 1, 2, 1, 2, 1, 2, 1, 2, 3, 1, 2, 3, 1, 2, 1, 2, 1, 2, 1, 2, 1, 2, 5, 1, 2, 3, 1, 2, 4, 1, 2, 4, 1, 2, 4, 1, 2, 3, 1, 2, 5, 1, 2, 5, 1, 2, 5, 1, 2, 5, 1, 2, 5, 1, 2, 4, 1, 2, 3, 1, 2, 5, 1, 2, 4, 1, 2, 3], \"Freq\": [0.04494372040977394, 0.04494372040977394, 0.8988744081954789, 0.08434509453650166, 0.08434509453650166, 0.8434509453650166, 0.005372319347648931, 0.9885067599674033, 0.5747854662710102, 0.4241135479281241, 0.3739232521261123, 0.06232054202101872, 0.5608848781891684, 0.1698389760482169, 0.0566129920160723, 0.7925818882250122, 0.09126731176058127, 0.09126731176058127, 0.8214058058452314, 0.04424125682034735, 0.04424125682034735, 0.9290663932272945, 0.08165926003130342, 0.04082963001565171, 0.8574222303286859, 0.05151985307239884, 0.05151985307239884, 0.8758375022307803, 0.002045205041367684, 0.996014855146062, 0.6013756886223299, 0.03537504050719588, 0.35375040507195876, 0.0031726488054400503, 0.9930390761027358, 0.9947161584591908, 0.0031984442394186203, 0.04338138255794501, 0.04338138255794501, 0.9110090337168453, 0.07850965356474167, 0.9203076056755829, 0.04122092277016608, 0.9555759369447591, 0.004376885498186764, 0.9935530080883953, 0.15123328335936123, 0.8469063868124228, 0.083684551023836, 0.083684551023836, 0.753160959214524, 0.07440287177850952, 0.07440287177850952, 0.8184315895636047, 0.9965696399644475, 0.0023898552517133036, 0.04424125682034735, 0.04424125682034735, 0.9290663932272945, 0.07743505588504188, 0.07743505588504188, 0.8517856147354607, 0.12347634878975801, 0.12347634878975801, 0.7408580927385481, 0.07867759473503123, 0.07867759473503123, 0.7867759473503123, 0.08367810199556416, 0.08367810199556416, 0.8367810199556416, 0.1975960859552239, 0.09879804297761195, 0.6915863008432837, 0.08528840979977981, 0.08528840979977981, 0.8528840979977981, 0.10352093309305224, 0.10352093309305224, 0.8281674647444179, 0.40042880751494, 0.5915800078101378, 0.007415348287313704, 0.004951041175767415, 0.990208235153483, 0.7488102815392769, 0.2509311049839066, 0.9956978852691832, 0.002489244713172958, 0.03578502231593302, 0.03578502231593302, 0.9304105802142585, 0.4455131241510099, 0.5518017715659015, 0.002659590820033035, 0.2725622604147609, 0.7266802546964011, 0.07780610482946322, 0.15561220965892644, 0.7780610482946322, 0.03578502231593302, 0.03578502231593302, 0.9304105802142585, 0.1156027360663555, 0.1156027360663555, 0.693616416398133, 0.09816550387439806, 0.09816550387439806, 0.7853240309951844, 0.05694976471737984, 0.05694976471737984, 0.9111962354780775, 0.06193162996219724, 0.3096581498109862, 0.6193162996219724, 0.06168235323897645, 0.06168235323897645, 0.18504705971692936, 0.678505885628741, 0.09526000249585138, 0.09526000249585138, 0.7620800199668111, 0.23589659523505732, 0.07863219841168577, 0.6290575872934862, 0.06560072306669851, 0.06560072306669851, 0.8528093998670806, 0.5905954805986943, 0.4083129248583566, 0.0023528163383979236, 0.9952413111423217, 0.0038796248239729124, 0.9931839549370656, 0.3669983558333794, 0.6022537121368278, 0.003136738084045978, 0.028230642756413803, 0.3510677987389086, 0.6475526181685876, 0.5536514382157468, 0.44596028734561943, 0.6230333751275938, 0.32682550763836066, 0.05055470815321047, 0.9030671906000625, 0.09615391669698507, 0.00472965453196651, 0.9884977971810004, 0.031214147656745288, 0.031214147656745288, 0.9364244297023586, 0.0004901864138217225, 0.9994900977824923, 0.005510201042969123, 0.9918361877344422, 0.0794573877923305, 0.0794573877923305, 0.794573877923305, 0.03941798451916882, 0.03941798451916882, 0.906613643940883, 0.840277377550808, 0.08962958693875285, 0.06722219020406464, 0.1698389760482169, 0.0566129920160723, 0.7925818882250122, 0.09851850117713117, 0.19703700235426233, 0.6896295082399181, 0.09570513610400926, 0.09570513610400926, 0.765641088832074, 0.9955352437267596, 0.0026547606499380256, 0.9953353508327933, 0.003973394614102967, 0.002910870856109422, 0.9955178327894223, 0.07965506522874648, 0.07965506522874648, 0.7965506522874648, 0.10977808190921856, 0.10977808190921856, 0.7684465733645299, 0.9962681418126497, 0.0019232975710668913, 0.998598268402224, 0.0009394151160886397, 0.17438201176532142, 0.08719100588266071, 0.7847190529439464, 0.9962664897194318, 0.002394871369517865, 0.03092757363563386, 0.3092757363563386, 0.6494790463483111, 0.004259372700013792, 0.9924338391032134, 0.9946844118595639, 0.002652491764958837, 0.9952001715161275, 0.003252288142209567, 0.7859232918368033, 0.2138516673507828, 0.19355084375445805, 0.09677542187722903, 0.6774279531406032, 0.10977808190921856, 0.10977808190921856, 0.7684465733645299, 0.915862977696681, 0.0825341636877823, 0.11328522892558286, 0.11328522892558286, 0.79299660247908, 0.5224837032376026, 0.4518777973946833, 0.024983628221340665, 0.9445569085060175, 0.00377822763402407, 0.04911695924231291, 0.6903304332293755, 0.3095652166947872, 0.080487704524603, 0.080487704524603, 0.80487704524603, 0.11791190023527894, 0.11791190023527894, 0.7074714014116736, 0.07600905626709144, 0.07600905626709144, 0.8360996189380058, 0.4942459438609832, 0.2471229719304916, 0.2471229719304916, 0.8164130026462866, 0.056138418649548195, 0.12671243066612306, 0.13601702146197617, 0.13601702146197617, 0.6800851073098809, 0.12010714590982315, 0.8764575512338445, 0.0016230695393219343, 0.137268331272195, 0.0686341656360975, 0.7549758219970726, 0.031214147656745288, 0.031214147656745288, 0.9364244297023586, 0.10352093309305224, 0.10352093309305224, 0.8281674647444179, 0.07976160339143733, 0.07976160339143733, 0.7976160339143733, 0.9179790237808806, 0.0054641608558385745, 0.07103409112590146, 0.0013008640153842972, 0.9984131318074482, 0.12269018294849456, 0.12269018294849456, 0.7361410976909674, 0.021625112335520235, 0.735253819407688, 0.23787623569072258, 0.03206059192392098, 0.03206059192392098, 0.8976965738697875, 0.051954525273798104, 0.3636816769165867, 0.5714997780117792, 0.0012589422924935549, 0.998341237947389, 0.0793908363057942, 0.0793908363057942, 0.793908363057942, 0.005498674967592552, 0.9897614941666595, 0.006058815085130965, 0.9754692287060853, 0.015147037712827412, 0.9961991259107537, 0.002503012879172748, 0.9971501624493544, 0.0021583336849553126, 0.914627733166194, 0.08527607749812777, 0.026141030226332747, 0.5489616347529876, 0.41825648362132395, 0.937061013784094, 0.062065080133751685, 0.996382363749296, 0.0024125480962452687, 0.9965951636202817, 0.00202972538415536, 0.00202972538415536, 0.998575789003008, 0.000664388415836998, 0.80720107212202, 0.19223994803418146, 0.9932244993869606, 0.0037060615648767184, 0.0018530307824383592, 0.0018530307824383592, 0.9390869614076064, 0.06006640470781882, 0.1698389760482169, 0.0566129920160723, 0.7925818882250122, 0.9954764163117629, 0.0033072306189759564, 0.10977808190921856, 0.10977808190921856, 0.7684465733645299, 0.9980585505336795, 0.0012894813314388626, 0.9945635070544241, 0.0031573444668394415, 0.031214147656745288, 0.031214147656745288, 0.9364244297023586, 0.011876113896142583, 0.9857174533798344, 0.9957689637766988, 0.0026412969861450896, 0.00285754942679103, 0.9944272005232784, 0.21869298907770698, 0.7811419304059993, 0.10572832689664041, 0.10572832689664041, 0.7400982882764828, 0.00595360352952542, 0.9882981859012198, 0.0736125327938117, 0.03680626639690585, 0.8833503935257404, 0.08528840979977981, 0.08528840979977981, 0.8528840979977981, 0.889967955555502, 0.109856755320732, 0.3622194580832185, 0.637484092131169, 0.01674469435069149, 0.03348938870138298, 0.9377028836387235, 0.10352093309305224, 0.10352093309305224, 0.8281674647444179, 0.22679965684133457, 0.7725742321279686, 0.9953713453634332, 0.0026472642163921094, 0.8520200657518464, 0.14763051644340464, 0.031214147656745288, 0.031214147656745288, 0.9364244297023586, 0.9965324127265761, 0.0019017794136003362, 0.8060946228918496, 0.1937018475774729, 0.04424125682034735, 0.04424125682034735, 0.9290663932272945, 0.04424125682034735, 0.04424125682034735, 0.9290663932272945, 0.10977808190921856, 0.10977808190921856, 0.7684465733645299, 0.36122317489379685, 0.6384409602774084, 0.003496802200429182, 0.9930918249218877, 0.03941798451916882, 0.03941798451916882, 0.906613643940883, 0.006651761261698128, 0.984460666731323, 0.1198592527003726, 0.1198592527003726, 0.7191555162022356, 0.10977808190921856, 0.10977808190921856, 0.7684465733645299, 0.9957496984554618, 0.002620393943303847, 0.18328711238392761, 0.8165290621365955, 0.003310311497759297, 0.9930934493277891, 0.080487704524603, 0.080487704524603, 0.80487704524603, 0.878655439416007, 0.013114260289791149, 0.10491408231832919, 0.0042333943158679435, 0.9906142699130988, 0.05809333961213522, 0.9411121017165905, 0.9501963782316477, 0.04958711705863324, 0.9967296647476398, 0.0016922405173983698, 0.10977808190921856, 0.10977808190921856, 0.7684465733645299, 0.1457116574641971, 0.1457116574641971, 0.7285582873209854, 0.006090927136131025, 0.9867301960532261, 0.005555316940411738, 0.9888464153932894, 0.3288168760052324, 0.6706942354031961, 0.04424125682034735, 0.04424125682034735, 0.9290663932272945, 0.083684551023836, 0.083684551023836, 0.753160959214524, 0.004406259855741615, 0.9914084675418634, 0.006985946407343451, 0.9920043898427702, 0.09636916910028957, 0.048184584550144786, 0.7709533528023166, 0.048184584550144786, 0.3337030895917625, 0.6657208100441726, 0.09307481827840706, 0.09307481827840706, 0.7445985462272565, 0.05986695350464936, 0.02993347675232468, 0.05986695350464936, 0.838137349065091, 0.9975420989015039, 0.0013371878001360643, 0.07504537537350393, 0.07504537537350393, 0.8254991291085433, 0.10074904311999754, 0.899185209845978, 0.9909063762914802, 0.007583467165496021, 0.1081640058189521, 0.1081640058189521, 0.7571480407326646, 0.080487704524603, 0.080487704524603, 0.80487704524603, 0.9322846665410479, 0.06686731401397861, 0.603730376609825, 0.3955197673662236, 0.05442866104898696, 0.10885732209797391, 0.8164299157348044, 0.9982738355941926, 0.0015720847804632954, 0.9986650610428189, 0.0008996982531917287, 0.8692973000940158, 0.1300333911497974, 0.29988101249596494, 0.680941935445383, 0.018780427045201845, 0.035697069006937476, 0.035697069006937476, 0.9281237941803744, 0.031214147656745288, 0.031214147656745288, 0.9364244297023586, 0.01322812671797606, 0.9832907527028871, 0.03578502231593302, 0.03578502231593302, 0.9304105802142585, 0.03069040698171694, 0.03069040698171694, 0.9514026164332251, 0.02996174377450613, 0.02996174377450613, 0.92881405700969, 0.03578502231593302, 0.03578502231593302, 0.9304105802142585, 0.9867326790870364, 0.004610900369565591, 0.006916350554348387, 0.9982602411086224, 0.0009364542599518034, 0.004729194665340061, 0.9931308797214127, 0.9943214167454313, 0.003087954710389538, 0.11630569655733516, 0.8808726526145713, 0.9954256511405869, 0.0028852917424364837, 0.0012611320046954071, 0.9950331517046762, 0.0025222640093908143, 0.7557339703172995, 0.24424189204634036, 0.1698389760482169, 0.0566129920160723, 0.7925818882250122, 0.520195235791159, 0.4794291145442685, 0.10352093309305224, 0.10352093309305224, 0.8281674647444179, 0.007485956980614752, 0.9881463214411472, 0.3762935619424498, 0.6236817065913489, 0.10763081528548091, 0.10763081528548091, 0.7534157069983664, 0.05529300203244233, 0.05529300203244233, 0.8846880325190772, 0.10543061961374427, 0.10543061961374427, 0.7380143372962099, 0.9208022268031756, 0.07889890809447425, 0.13252908705273714, 0.13252908705273714, 0.6626454352636856, 0.9247927640895884, 0.07497012470391538, 0.6814929097516053, 0.03407464548758026, 0.2725971639006421, 0.9568175473303508, 0.04311702665239487, 0.8821425193684367, 0.11740745761378474, 0.080487704524603, 0.080487704524603, 0.80487704524603, 0.9974605248393558, 0.0018201834394878755, 0.005116683616238857, 0.9926366215503383, 0.21783223642039795, 0.7810628477128653, 0.12892587141222242, 0.12892587141222242, 0.7735552284733345, 0.0814119598940764, 0.0407059799470382, 0.8955315588348404, 0.7995413272092595, 0.20004064286043632, 0.9974782689681794, 0.0017347448155968336, 0.9125946947587338, 0.08659657687491634, 0.0016300148196224152, 0.9975690696089181, 0.0766058949381144, 0.0766058949381144, 0.7660589493811439, 0.06340497271606374, 0.06340497271606374, 0.8242646453088287, 0.024814542480191625, 0.024814542480191625, 0.9429526142472817, 0.12669322060959115, 0.12669322060959115, 0.7601593236575469, 0.09999697162698579, 0.09999697162698579, 0.7999757730158863, 0.10334347822016769, 0.10334347822016769, 0.7234043475411739, 0.08009625791608702, 0.08009625791608702, 0.8009625791608702, 0.02672476354244671, 0.601307179705051, 0.3607843078230306, 0.07503151648227224, 0.07503151648227224, 0.7503151648227224, 0.07873013742885208, 0.07873013742885208, 0.7873013742885208, 0.08376493163722915, 0.08376493163722915, 0.7538843847350623, 0.06753555480523452, 0.27014221922093806, 0.6078199932471107, 0.09452084592335966, 0.09452084592335966, 0.7561667673868773, 0.17717324876074564, 0.8201112236451009, 0.0018265283377396457, 0.05875040800714723, 0.41125285605003065, 0.5287536720643251, 0.09578148900449635, 0.09578148900449635, 0.7662519120359708], \"Term\": [\"/j\", \"/j\", \"/j\", \"1.5_million_dose\", \"1.5_million_dose\", \"1.5_million_dose\", \"1st_dose\", \"1st_dose\", \"2\", \"2\", \"24_hr\", \"24_hr\", \"24_hr\", \"2_dose_authorize\", \"2_dose_authorize\", \"2_dose_authorize\", \"@gatewaypundit\", \"@gatewaypundit\", \"@gatewaypundit\", \"account_42_percent\", \"account_42_percent\", \"account_42_percent\", \"active\", \"active\", \"active\", \"active_case\", \"active_case\", \"active_case\", \"administer\", \"administer\", \"amid_pandemic\", \"amid_pandemic\", \"amid_pandemic\", \"announce\", \"announce\", \"anti_vax\", \"anti_vax\", \"ap_news\", \"ap_news\", \"ap_news\", \"appointment\", \"appointment\", \"arrive\", \"arrive\", \"astrazeneca\", \"astrazeneca\", \"available\", \"available\", \"bangladesh_crosse_significant\", \"bangladesh_crosse_significant\", \"bangladesh_crosse_significant\", \"baric_review_moderna\", \"baric_review_moderna\", \"baric_review_moderna\", \"believe\", \"believe\", \"bill_de_blasio\", \"bill_de_blasio\", \"bill_de_blasio\", \"bitcoin\", \"bitcoin\", \"bitcoin\", \"bonehealth\", \"bonehealth\", \"bonehealth\", \"boost_immunity\", \"boost_immunity\", \"boost_immunity\", \"boost_vaccination_effos\", \"boost_vaccination_effos\", \"boost_vaccination_effos\", \"bundle\", \"bundle\", \"bundle\", \"capitol_qanon_mitch_mcconnell\", \"capitol_qanon_mitch_mcconnell\", \"capitol_qanon_mitch_mcconnell\", \"care_initiative\", \"care_initiative\", \"care_initiative\", \"case\", \"case\", \"case\", \"clinic\", \"clinic\", \"come\", \"come\", \"control\", \"control\", \"coronatrackernepal_bot_telegram\", \"coronatrackernepal_bot_telegram\", \"coronatrackernepal_bot_telegram\", \"coronavirus\", \"coronavirus\", \"coronavirus\", \"coronavirus vaccine\", \"coronavirus vaccine\", \"coronavirus vaccine_thankyoupm_sheikhhasina\", \"coronavirus vaccine_thankyoupm_sheikhhasina\", \"coronavirus vaccine_thankyoupm_sheikhhasina\", \"coronavirus_19_sarscov2_staysafe_source\", \"coronavirus_19_sarscov2_staysafe_source\", \"coronavirus_19_sarscov2_staysafe_source\", \"coronavirusab\", \"coronavirusab\", \"coronavirusab\", \"coronavirusinfo_germany_new_case\", \"coronavirusinfo_germany_new_case\", \"coronavirusinfo_germany_new_case\", \"coronavirusinfo_usa_new_case\", \"coronavirusinfo_usa_new_case\", \"coronavirusinfo_usa_new_case\", \"coronavirusnews\", \"coronavirusnews\", \"coronavirusnews\", \"coronaviruspandemic\", \"coronaviruspandemic\", \"coronaviruspandemic\", \"coronaviruspandemic\", \"coronaviruspandemic_diseaseoutbreaks_diseasesandconditions\", \"coronaviruspandemic_diseaseoutbreaks_diseasesandconditions\", \"coronaviruspandemic_diseaseoutbreaks_diseasesandconditions\", \"coronaviruspapers_sarscov2\", \"coronaviruspapers_sarscov2\", \"coronaviruspapers_sarscov2\", \"coronavirusupdate\", \"coronavirusupdate\", \"coronavirusupdate\", \"country\", \"country\", \"county\", \"county\", \"covax\", \"covax\", \"daily\", \"daily\", \"daily\", \"daily\", \"datum\", \"datum\", \"day\", \"day\", \"death\", \"death\", \"death\", \"die\", \"die\", \"distribute\", \"distribute\", \"doctor_policy_vaccine\", \"doctor_policy_vaccine\", \"doctor_policy_vaccine\", \"dose\", \"dose\", \"dose_administer\", \"dose_administer\", \"dose_expect_big\", \"dose_expect_big\", \"dose_expect_big\", \"dose_fig_variant\", \"dose_fig_variant\", \"dose_fig_variant\", \"dr_fauci\", \"dr_fauci\", \"dr_fauci\", \"dr_tam_cpho_naci\", \"dr_tam_cpho_naci\", \"dr_tam_cpho_naci\", \"educational_institution\", \"educational_institution\", \"educational_institution\", \"effective_prevent_illness_death\", \"effective_prevent_illness_death\", \"effective_prevent_illness_death\", \"family\", \"family\", \"fauci\", \"fauci\", \"fda\", \"fda\", \"fda_authorize_use\", \"fda_authorize_use\", \"fda_authorize_use\", \"february_2021_invest\", \"february_2021_invest\", \"february_2021_invest\", \"feel\", \"feel\", \"firefauci\", \"firefauci\", \"fitness\", \"fitness\", \"fitness\", \"flu\", \"flu\", \"flu_viually_disappear\", \"flu_viually_disappear\", \"flu_viually_disappear\", \"friday\", \"friday\", \"friend\", \"friend\", \"fuck\", \"fuck\", \"get\", \"get\", \"global_pandemic_news_|\", \"global_pandemic_news_|\", \"global_pandemic_news_|\", \"gold_silver_news\", \"gold_silver_news\", \"gold_silver_news\", \"good\", \"good\", \"half_million_people_confirm\", \"half_million_people_confirm\", \"half_million_people_confirm\", \"health\", \"health\", \"health\", \"healthy\", \"healthy\", \"healthy\", \"help\", \"help\", \"help_restaurant_big\", \"help_restaurant_big\", \"help_restaurant_big\", \"herb\", \"herb\", \"herb\", \"huge_exclusive_dr_ralph\", \"huge_exclusive_dr_ralph\", \"huge_exclusive_dr_ralph\", \"icu\", \"icu\", \"icu\", \"immunity\", \"immunity\", \"immunity\", \"immunity_nutrition\", \"immunity_nutrition\", \"immunity_nutrition\", \"india\", \"india\", \"india\", \"instagram\", \"instagram\", \"instagram\", \"insurance_pharmaceutical_biotech\", \"insurance_pharmaceutical_biotech\", \"insurance_pharmaceutical_biotech\", \"isolate_city\", \"isolate_city\", \"isolate_city\", \"israel_study\", \"israel_study\", \"israel_study\", \"j\", \"j\", \"j\", \"j&;j\", \"j&;j\", \"j&;j_1-dose_shoot_clear\", \"j&;j_1-dose_shoot_clear\", \"j&;j_1-dose_shoot_clear\", \"j&;k\", \"j&;k\", \"j&;k\", \"j.\", \"j.\", \"j.\", \"jobless_claim_fall\", \"jobless_claim_fall\", \"jobless_claim_fall\", \"johnson_johnson\", \"johnson_johnson\", \"johnson_johnson_require_single\", \"johnson_johnson_require_single\", \"johnson_johnson_require_single\", \"johnsonandjohnson\", \"johnsonandjohnson\", \"join\", \"join\", \"join\", \"kid\", \"kid\", \"kill\", \"kill\", \"know\", \"know\", \"lakh\", \"lakh\", \"lakh\", \"let\", \"let\", \"lie\", \"lie\", \"life\", \"life\", \"life\", \"like\", \"like\", \"live\", \"live\", \"lockdown\", \"lockdown\", \"lockdown\", \"lockdown\", \"long\", \"long\", \"look_modify_time\", \"look_modify_time\", \"look_modify_time\", \"lose\", \"lose\", \"market_nifty\", \"market_nifty\", \"market_nifty\", \"mask\", \"mask\", \"maybe\", \"maybe\", \"medtech_retweet\", \"medtech_retweet\", \"medtech_retweet\", \"merck\", \"merck\", \"mig\", \"mig\", \"million_dose\", \"million_dose\", \"moderna\", \"moderna\", \"moderna_begin_trial\", \"moderna_begin_trial\", \"moderna_begin_trial\", \"monday\", \"monday\", \"music\", \"music\", \"music\", \"nancy_blm_proud_boy\", \"nancy_blm_proud_boy\", \"nancy_blm_proud_boy\", \"need\", \"need\", \"new\", \"new\", \"new_case\", \"new_case\", \"new_case\", \"new_yorker_safely\", \"new_yorker_safely\", \"new_yorker_safely\", \"news\", \"news\", \"not\", \"not\", \"pandemic\", \"pandemic\", \"patient_nhs_fmrevolution_today\", \"patient_nhs_fmrevolution_today\", \"patient_nhs_fmrevolution_today\", \"pay\", \"pay\", \"people\", \"people\", \"people_outside_city\", \"people_outside_city\", \"people_outside_city\", \"percent_queen_site_mayor\", \"percent_queen_site_mayor\", \"percent_queen_site_mayor\", \"petrolprices\", \"petrolprices\", \"petrolprices\", \"pfizer\", \"pfizer\", \"pfizer_biontech\", \"pfizer_biontech\", \"pfizer_study_3rd\", \"pfizer_study_3rd\", \"pfizer_study_3rd\", \"pharmacy\", \"pharmacy\", \"probiotic\", \"probiotic\", \"probiotic\", \"rbigovernor\", \"rbigovernor\", \"rbigovernor\", \"real\", \"real\", \"receive\", \"receive\", \"receive_dose\", \"receive_dose\", \"recognize_privilege_little_girl\", \"recognize_privilege_little_girl\", \"recognize_privilege_little_girl\", \"recover\", \"recover\", \"recover\", \"register\", \"register\", \"resident\", \"resident\", \"rig\", \"rig\", \"risk\", \"risk\", \"sensex\", \"sensex\", \"sensex\", \"sesame\", \"sesame\", \"sesame\", \"ship\", \"ship\", \"shipment\", \"shipment\", \"shoot\", \"shoot\", \"shot_javits_center_75\", \"shot_javits_center_75\", \"shot_javits_center_75\", \"shot_oxford_astrazeneca\", \"shot_oxford_astrazeneca\", \"shot_oxford_astrazeneca\", \"single_dose\", \"single_dose\", \"single_shoot\", \"single_shoot\", \"song\", \"song\", \"song\", \"song\", \"state\", \"state\", \"stayathome\", \"stayathome\", \"stayathome\", \"staysafe\", \"staysafe\", \"staysafe\", \"staysafe\", \"stop\", \"stop\", \"supplement\", \"supplement\", \"supplement\", \"supply\", \"supply\", \"symptom\", \"symptom\", \"tea\", \"tea\", \"tea\", \"teacher_good_work\", \"teacher_good_work\", \"teacher_good_work\", \"tell\", \"tell\", \"test\", \"test\", \"thailand\", \"thailand\", \"thailand\", \"thing\", \"thing\", \"think\", \"think\", \"time\", \"time\", \"today\", \"today\", \"today\", \"today_recovery\", \"today_recovery\", \"today_recovery\", \"todaysmedicalupdate_medicine_health\", \"todaysmedicalupdate_medicine_health\", \"todaysmedicalupdate_medicine_health\", \"tomorrow\", \"tomorrow\", \"total_active_case\", \"total_active_case\", \"total_active_case\", \"total_case\", \"total_case\", \"total_case\", \"total_death\", \"total_death\", \"total_death\", \"total_recovery\", \"total_recovery\", \"total_recovery\", \"travel\", \"travel\", \"travel\", \"trump\", \"trump\", \"tuesday\", \"tuesday\", \"u\", \"u\", \"u.s\", \"u.s\", \"understand\", \"understand\", \"update\", \"update\", \"update\", \"vaccinate\", \"vaccinate\", \"vaccinate_compromise_effectiveness\", \"vaccinate_compromise_effectiveness\", \"vaccinate_compromise_effectiveness\", \"vaccination\", \"vaccination\", \"vaccination_program_surpass\", \"vaccination_program_surpass\", \"vaccination_program_surpass\", \"vaccination_site\", \"vaccination_site\", \"vaccine\", \"vaccine\", \"vaccine_address_virus\", \"vaccine_address_virus\", \"vaccine_address_virus\", \"vaccine_december_2019\", \"vaccine_december_2019\", \"vaccine_december_2019\", \"variant_find_south\", \"variant_find_south\", \"variant_find_south\", \"vax\", \"vax\", \"vax_donate_\\u00a3\", \"vax_donate_\\u00a3\", \"vax_donate_\\u00a3\", \"virus\", \"virus\", \"vitamin\", \"vitamin\", \"vitamin\", \"want\", \"want\", \"way\", \"way\", \"way_philadelphia_phillies_pitch\", \"way_philadelphia_phillies_pitch\", \"way_philadelphia_phillies_pitch\", \"wear_mask\", \"wear_mask\", \"wednesday\", \"wednesday\", \"week\", \"week\", \"weigloss\", \"weigloss\", \"weigloss\", \"wellness\", \"wellness\", \"wellness\", \"work\", \"work\", \"wrong\", \"wrong\", \"year\", \"year\", \"|\", \"|\", \"\\u00b0\", \"\\u00b0\", \"\\u00b0\", \"\\u200c_\\u200c_\\u200c_\\u200c\", \"\\u200c_\\u200c_\\u200c_\\u200c\", \"\\u200c_\\u200c_\\u200c_\\u200c\", \"\\u2591_\\u2591_\\u2591_\\u2591\", \"\\u2591_\\u2591_\\u2591_\\u2591\", \"\\u2591_\\u2591_\\u2591_\\u2591\", \"\\u2593_\\u2591_\\u2591\", \"\\u2593_\\u2591_\\u2591\", \"\\u2593_\\u2591_\\u2591\", \"\\u2593_\\u2593\", \"\\u2593_\\u2593\", \"\\u2593_\\u2593\", \"\\u2714\", \"\\u2714\", \"\\u2714\", \"\\u274c\", \"\\u274c\", \"\\u274c\", \"\\ufe0f\", \"\\ufe0f\", \"\\ufe0f\", \"\\ud83c\\udde8_\\ud83c\\uddf3\", \"\\ud83c\\udde8_\\ud83c\\uddf3\", \"\\ud83c\\udde8_\\ud83c\\uddf3\", \"\\ud83c\\uddf7\", \"\\ud83c\\uddf7\", \"\\ud83c\\uddf7\", \"\\ud83c\\uddf9\", \"\\ud83c\\uddf9\", \"\\ud83c\\uddf9\", \"\\ud83d\\udc47_\\ud83c\\udffe\", \"\\ud83d\\udc47_\\ud83c\\udffe\", \"\\ud83d\\udc47_\\ud83c\\udffe\", \"\\ud83d\\udc69_\\u200d\", \"\\ud83d\\udc69_\\u200d\", \"\\ud83d\\udc69_\\u200d\", \"\\ud83d\\udc89\", \"\\ud83d\\udc89\", \"\\ud83d\\udc89\", \"\\ud83d\\udd39\", \"\\ud83d\\udd39\", \"\\ud83d\\udd39\", \"\\ud83d\\ude0d\", \"\\ud83d\\ude0d\", \"\\ud83d\\ude0d\"]}, \"R\": 30, \"lambda.step\": 0.01, \"plot.opts\": {\"xlab\": \"PC1\", \"ylab\": \"PC2\"}, \"topic.order\": [5, 4, 3, 2, 1]};\n",
       "\n",
       "function LDAvis_load_lib(url, callback){\n",
       "  var s = document.createElement('script');\n",
       "  s.src = url;\n",
       "  s.async = true;\n",
       "  s.onreadystatechange = s.onload = callback;\n",
       "  s.onerror = function(){console.warn(\"failed to load library \" + url);};\n",
       "  document.getElementsByTagName(\"head\")[0].appendChild(s);\n",
       "}\n",
       "\n",
       "if(typeof(LDAvis) !== \"undefined\"){\n",
       "   // already loaded: just create the visualization\n",
       "   !function(LDAvis){\n",
       "       new LDAvis(\"#\" + \"ldavis_el2918029970880712324651861757\", ldavis_el2918029970880712324651861757_data);\n",
       "   }(LDAvis);\n",
       "}else if(typeof define === \"function\" && define.amd){\n",
       "   // require.js is available: use it to load d3/LDAvis\n",
       "   require.config({paths: {d3: \"https://d3js.org/d3.v5\"}});\n",
       "   require([\"d3\"], function(d3){\n",
       "      window.d3 = d3;\n",
       "      LDAvis_load_lib(\"https://cdn.jsdelivr.net/gh/bmabey/pyLDAvis@3.2.2/pyLDAvis/js/ldavis.v3.0.0.js\", function(){\n",
       "        new LDAvis(\"#\" + \"ldavis_el2918029970880712324651861757\", ldavis_el2918029970880712324651861757_data);\n",
       "      });\n",
       "    });\n",
       "}else{\n",
       "    // require.js not available: dynamically load d3 & LDAvis\n",
       "    LDAvis_load_lib(\"https://d3js.org/d3.v5.js\", function(){\n",
       "         LDAvis_load_lib(\"https://cdn.jsdelivr.net/gh/bmabey/pyLDAvis@3.2.2/pyLDAvis/js/ldavis.v3.0.0.js\", function(){\n",
       "                 new LDAvis(\"#\" + \"ldavis_el2918029970880712324651861757\", ldavis_el2918029970880712324651861757_data);\n",
       "            })\n",
       "         });\n",
       "}\n",
       "</script>"
      ],
      "text/plain": [
       "PreparedData(topic_coordinates=              x         y  topics  cluster       Freq\n",
       "topic                                                \n",
       "4      0.204887  0.105492       1        1  57.863800\n",
       "3      0.189962 -0.109929       2        1  36.110953\n",
       "2     -0.133270  0.011968       3        1   2.190706\n",
       "1     -0.123728 -0.012360       4        1   1.928249\n",
       "0     -0.137852  0.004830       5        1   1.906292, topic_info=                                              Term          Freq  \\\n",
       "23                                         vaccine  23218.000000   \n",
       "6                                      coronavirus  31583.000000   \n",
       "37                                            dose   4080.000000   \n",
       "992                                          death   1404.000000   \n",
       "271                                       immunity    623.000000   \n",
       "...                                            ...           ...   \n",
       "6953                                           🇨_🇳     10.395436   \n",
       "4550                                             🇷      9.846788   \n",
       "3230                                             ️     27.379303   \n",
       "35293  coronavirus vaccine_thankyoupm_sheikhhasina      9.885872   \n",
       "826                                       dr_fauci     11.575414   \n",
       "\n",
       "              Total Category  logprob  loglift  \n",
       "23     23218.000000  Default  30.0000  30.0000  \n",
       "6      31583.000000  Default  29.0000  29.0000  \n",
       "37      4080.000000  Default  28.0000  28.0000  \n",
       "992     1404.000000  Default  27.0000  27.0000  \n",
       "271      623.000000  Default  26.0000  26.0000  \n",
       "...             ...      ...      ...      ...  \n",
       "6953      13.327733   Topic5  -7.1072   3.7115  \n",
       "4550      12.701616   Topic5  -7.1615   3.7054  \n",
       "3230      74.836958   Topic5  -6.1388   2.9545  \n",
       "35293     12.852462   Topic5  -7.1575   3.6976  \n",
       "826      178.512482   Topic5  -6.9997   1.2242  \n",
       "\n",
       "[286 rows x 6 columns], token_table=      Topic      Freq              Term\n",
       "term                                   \n",
       "8421      1  0.044944                /j\n",
       "8421      2  0.044944                /j\n",
       "8421      5  0.898874                /j\n",
       "7847      1  0.084345  1.5_million_dose\n",
       "7847      2  0.084345  1.5_million_dose\n",
       "...     ...       ...               ...\n",
       "6845      2  0.411253                 🔹\n",
       "6845      4  0.528754                 🔹\n",
       "4765      1  0.095781                 😍\n",
       "4765      2  0.095781                 😍\n",
       "4765      3  0.766252                 😍\n",
       "\n",
       "[622 rows x 3 columns], R=30, lambda_step=0.01, plot_opts={'xlab': 'PC1', 'ylab': 'PC2'}, topic_order=[5, 4, 3, 2, 1])"
      ]
     },
     "execution_count": 16,
     "metadata": {},
     "output_type": "execute_result"
    }
   ],
   "source": [
    "#display the pLDAvis plot to visualize the LDA model\n",
    "vis = pyLDAvis.gensim.prepare(models[idx], corpus, tweets_gdict)\n",
    "vis"
   ]
  },
  {
   "cell_type": "code",
   "execution_count": 17,
   "metadata": {},
   "outputs": [],
   "source": [
    "pyLDAvis.save_html(vis,data_path+'\\\\'+'covid_topics_5t.html')"
   ]
  }
 ],
 "metadata": {
  "kernelspec": {
   "display_name": "dk-covid",
   "language": "python",
   "name": "dk-covid"
  },
  "language_info": {
   "codemirror_mode": {
    "name": "ipython",
    "version": 3
   },
   "file_extension": ".py",
   "mimetype": "text/x-python",
   "name": "python",
   "nbconvert_exporter": "python",
   "pygments_lexer": "ipython3",
   "version": "3.8.8"
  }
 },
 "nbformat": 4,
 "nbformat_minor": 4
}
