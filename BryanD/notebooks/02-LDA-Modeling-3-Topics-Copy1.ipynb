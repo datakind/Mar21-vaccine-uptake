{
 "cells": [
  {
   "cell_type": "code",
   "execution_count": 1,
   "metadata": {},
   "outputs": [],
   "source": [
    "import pandas as pd\n",
    "import os\n",
    "\n",
    "PROJ_ROOT = os.path.join(os.pardir)\n",
    "\n",
    "import gensim\n",
    "\n",
    "from gensim.models import CoherenceModel\n",
    "from gensim.models.ldamodel import LdaModel\n",
    "\n",
    "\n",
    "import pyLDAvis\n",
    "import pyLDAvis.gensim\n",
    "pyLDAvis.enable_notebook()\n",
    "\n",
    "import operator\n",
    "\n",
    "import warnings\n",
    "warnings.filterwarnings('ignore')\n",
    "from tqdm import tqdm_notebook as tqdm\n",
    "\n",
    "import numpy as np\n",
    "\n",
    "\n",
    "data_path = os.path.join(PROJ_ROOT, \n",
    "                         'data')\n",
    "from pprint import pprint\n",
    "import re\n",
    "import pickle\n",
    "import matplotlib.pyplot as plt"
   ]
  },
  {
   "cell_type": "markdown",
   "metadata": {},
   "source": [
    "## Load Necessary Files"
   ]
  },
  {
   "cell_type": "code",
   "execution_count": 2,
   "metadata": {},
   "outputs": [
    {
     "data": {
      "application/vnd.jupyter.widget-view+json": {
       "model_id": "26d88d64992d40489a8bc0fbd150c319",
       "version_major": 2,
       "version_minor": 0
      },
      "text/plain": [
       "  0%|          | 0/4 [00:00<?, ?it/s]"
      ]
     },
     "metadata": {},
     "output_type": "display_data"
    }
   ],
   "source": [
    "files = ['all_tokens.pkl','tweets_gdict.pkl','corpus.pkl',\n",
    "         'texts.pkl']\n",
    "\n",
    "for fn in tqdm(files):\n",
    "    var=re.findall(r'(.*)\\.',fn)[0]\n",
    "    globals()[var] = pickle.load( open( data_path+'\\\\'+fn, 'rb' ) )"
   ]
  },
  {
   "cell_type": "markdown",
   "metadata": {},
   "source": [
    "## LDA Topic Modeling"
   ]
  },
  {
   "cell_type": "markdown",
   "metadata": {},
   "source": [
    "### functions to computer coherence and make the lda models"
   ]
  },
  {
   "cell_type": "code",
   "execution_count": 3,
   "metadata": {},
   "outputs": [],
   "source": [
    "# create a function to compute coherence values - used for the naive models\n",
    "def compute_coherence(dictionary, corpus, texts, limit, start=2, step=1):\n",
    "    '''Function to create a naive LDA model for a range of topics, then compute coherence values'''\n",
    "    # empty lists to hold the models & computed coherence values\n",
    "    coherence_values=[]\n",
    "    model_list=[]\n",
    "    \n",
    "    # create a LDA model for each topic amount set between start & limit values\n",
    "    for num_topic in tqdm(range(start, limit, step)):\n",
    "        model = LdaModel(corpus=corpus,\n",
    "                         num_topics=num_topic,\n",
    "                         id2word=dictionary,\n",
    "                         random_state=5)\n",
    "        \n",
    "        model_list.append(model) # add the model to the list\n",
    "        \n",
    "        # create a coherence model from the model\n",
    "        coherencemodel=CoherenceModel(model=model,\n",
    "                                      texts=[texts],\n",
    "                                      dictionary=dictionary,\n",
    "                                      coherence='c_v')\n",
    "        \n",
    "        #add the coherenced values from the list\n",
    "        coherence_values.append(coherencemodel.get_coherence()) \n",
    "        \n",
    "    return model_list, coherence_values\n",
    "\n",
    "\n",
    "def compute_coherence_values(corpus, dictionary, texts, k, a, b):\n",
    "    '''Function to create a lda model with set parameters, then compute coherence values'''\n",
    "    lda_model = gensim.models.LdaMulticore(corpus=tqdm(corpus),\n",
    "                                           id2word=dictionary,\n",
    "                                           num_topics=k,\n",
    "                                           alpha=a,\n",
    "                                          chunksize=200,\n",
    "                                          passes=10,\n",
    "                                          random_state=5,\n",
    "                                          eta=b,\n",
    "                                          per_word_topics=True)\n",
    "    \n",
    "    # create a coherence value from the model\n",
    "    coherence_model_lda = CoherenceModel(model=lda_model,\n",
    "                                         texts=[texts],\n",
    "                                         dictionary=dictionary,\n",
    "                                         coherence='c_v')\n",
    "    \n",
    "    return lda_model, coherence_model_lda.get_coherence()\n"
   ]
  },
  {
   "cell_type": "markdown",
   "metadata": {},
   "source": [
    "## Create a naive lda model with 1 to *n* topics"
   ]
  },
  {
   "cell_type": "code",
   "execution_count": 4,
   "metadata": {},
   "outputs": [],
   "source": [
    "# #create a naive  lda model and coherence values for different topic lengths\n",
    "# model_list, coherence_values = compute_coherence(dictionary=tweets_gdict,\n",
    "#                                                  corpus=corpus,\n",
    "#                                                  texts=texts,\n",
    "#                                                  start=1,\n",
    "#                                                  limit=15,\n",
    "#                                                  step=1  )"
   ]
  },
  {
   "cell_type": "code",
   "execution_count": 5,
   "metadata": {},
   "outputs": [],
   "source": [
    "# # save the naive models\n",
    "\n",
    "# with open(data_path+'\\\\'+'naive_model_list_cv.pkl', 'wb') as f:\n",
    "#     pickle.dump(model_list, f)\n",
    "    \n",
    "# with open(data_path+'\\\\'+'coherence_values.pkl', 'wb') as f:\n",
    "#     pickle.dump(coherence_values, f)"
   ]
  },
  {
   "cell_type": "markdown",
   "metadata": {},
   "source": [
    "#### Load the previously created models from the above two cells"
   ]
  },
  {
   "cell_type": "code",
   "execution_count": 6,
   "metadata": {},
   "outputs": [],
   "source": [
    "model_list = pickle.load( open(data_path+'\\\\'+ 'naiave_model_list_cv.pkl', 'rb' ) )\n",
    "coherence_values = pickle.load(open(data_path+'\\\\'+ 'coherence_values.pkl','rb'))"
   ]
  },
  {
   "cell_type": "markdown",
   "metadata": {},
   "source": [
    "### Visualize coherence values to select number of topics to use for the LDA Model"
   ]
  },
  {
   "cell_type": "code",
   "execution_count": 7,
   "metadata": {
    "scrolled": true
   },
   "outputs": [
    {
     "data": {
      "image/png": "[encoded data removed]",
      "text/plain": [
       "<Figure size 432x288 with 1 Axes>"
      ]
     },
     "metadata": {
      "needs_background": "light"
     },
     "output_type": "display_data"
    }
   ],
   "source": [
    "#plot the coherence values for different topic numbers\n",
    "limit=15; start=1\n",
    "x=range(start, limit)\n",
    "plt.plot(x, coherence_values)\n",
    "plt.xlabel('Num Topics')\n",
    "plt.ylabel('Coherence score')\n",
    "plt.legend('coherence_values', loc='best')\n",
    "plt.show()"
   ]
  },
  {
   "cell_type": "code",
   "execution_count": 8,
   "metadata": {},
   "outputs": [
    {
     "name": "stdout",
     "output_type": "stream",
     "text": [
      "[0.2409125597912077,\n",
      " 0.2800806042947272,\n",
      " 0.3171639175987016,\n",
      " 0.3215055649681553,\n",
      " 0.32179694064705433,\n",
      " 0.2921852213487059,\n",
      " 0.30038541763491633,\n",
      " 0.2984128495380771,\n",
      " 0.27927221557560233,\n",
      " 0.2932006816855416,\n",
      " 0.2794232567110878,\n",
      " 0.2769115091589724,\n",
      " 0.27545853819011845,\n",
      " 0.29085384301829936]\n",
      "4 0.32179694064705433\n",
      "5  topics will be used for the LDA model\n"
     ]
    }
   ],
   "source": [
    "#print the coherence values, and the index & cv for the highest cv value\n",
    "pprint(coherence_values)\n",
    "index, value = max(enumerate(coherence_values), key=operator.itemgetter(1))\n",
    "num_topics = len(coherence_values[:index+1])\n",
    "print(index, value)\n",
    "print(num_topics,' topics will be used for the LDA model')"
   ]
  },
  {
   "cell_type": "markdown",
   "metadata": {},
   "source": [
    "## Create a tuned LDA Model with 4 topics"
   ]
  },
  {
   "cell_type": "code",
   "execution_count": 9,
   "metadata": {},
   "outputs": [],
   "source": [
    "# #decide on a topic number from above and train hyperparamters to train the model on\n",
    "\n",
    "# topic_range = [4] # value determined by the above elbow plot above\n",
    "\n",
    "# # range of alpha numbers to plug into the model   \n",
    "# alpha = list(np.arange(0.01, 1, 0.3)) + [50/x  for x in topic_range]\n",
    "# alpha.append('symmetric')\n",
    "# alpha.append('asymmetric')\n",
    "\n",
    "# # range of beta parameters to plug into the model\n",
    "# beta = list(np.arange(0.01, 1, 0.3))\n",
    "# beta.append('symmetric')\n",
    "\n",
    "# # create a minimized corpus set for validation if needed\n",
    "# num_of_docs = len(corpus)\n",
    "# corpus_sets = [corpus]\n",
    "    \n",
    "# corpus_title = ['100% Corpus']\n",
    "\n",
    "# # empty dictionary to store parameter results with coherence values\n",
    "# model_results = {'validation_set': [],\n",
    "#                     'topics':[],\n",
    "#                     'alpha':[],\n",
    "#                  'beta':[],\n",
    "#                   'coherence':[]}\n",
    "\n",
    "# models=[] #empty list to store completed models\n",
    "    \n",
    "# if 1 ==1:\n",
    "#     pbar = tqdm(total=len(topic_range) * len(alpha) * len(beta) * len(corpus_sets))\n",
    "    \n",
    "    \n",
    "#     # create a model and store the corresponding values and results for each combination of parameters\n",
    "#     for i in range(len(corpus_sets)):\n",
    "#         for k in topic_range:\n",
    "#             for a in alpha:\n",
    "#                 for b in beta:\n",
    "                    \n",
    "#                     model, cv = compute_coherence_values(corpus=corpus_sets[i],\n",
    "#                                                   dictionary=tweets_gdict,\n",
    "#                                                      texts=texts,\n",
    "#                                                   k=k,\n",
    "#                                                   a=a,\n",
    "#                                                         b=b)\n",
    "                    \n",
    "#                     model_results['validation_set'].append(corpus_title[i])\n",
    "#                     model_results['topics'].append(k)\n",
    "#                     model_results['alpha'].append(a)\n",
    "#                     model_results['beta'].append(b)\n",
    "#                     model_results['coherence'].append(cv)\n",
    "#                     models.append(model)\n",
    "                    \n",
    "#                     pbar.update(1)\n",
    "\n",
    "#     pbar.close()"
   ]
  },
  {
   "cell_type": "markdown",
   "metadata": {},
   "source": [
    "#### Load the models from the above cell"
   ]
  },
  {
   "cell_type": "code",
   "execution_count": 10,
   "metadata": {},
   "outputs": [],
   "source": [
    "models = pickle.load( open( data_path+'\\\\'+ 'all_lda_models_4t.pkl', 'rb' ) )\n",
    "model_results = pickle.load(open(data_path+'\\\\'+ 'model_results_4t.pkl','rb'))"
   ]
  },
  {
   "cell_type": "markdown",
   "metadata": {},
   "source": [
    "## Find and save the best model"
   ]
  },
  {
   "cell_type": "code",
   "execution_count": 11,
   "metadata": {},
   "outputs": [
    {
     "data": {
      "text/html": [
       "<div>\n",
       "<style scoped>\n",
       "    .dataframe tbody tr th:only-of-type {\n",
       "        vertical-align: middle;\n",
       "    }\n",
       "\n",
       "    .dataframe tbody tr th {\n",
       "        vertical-align: top;\n",
       "    }\n",
       "\n",
       "    .dataframe thead th {\n",
       "        text-align: right;\n",
       "    }\n",
       "</style>\n",
       "<table border=\"1\" class=\"dataframe\">\n",
       "  <thead>\n",
       "    <tr style=\"text-align: right;\">\n",
       "      <th></th>\n",
       "      <th>validation_set</th>\n",
       "      <th>topics</th>\n",
       "      <th>alpha</th>\n",
       "      <th>beta</th>\n",
       "      <th>coherence</th>\n",
       "    </tr>\n",
       "  </thead>\n",
       "  <tbody>\n",
       "    <tr>\n",
       "      <th>0</th>\n",
       "      <td>100% Corpus</td>\n",
       "      <td>4</td>\n",
       "      <td>0.01</td>\n",
       "      <td>0.01</td>\n",
       "      <td>0.301495</td>\n",
       "    </tr>\n",
       "    <tr>\n",
       "      <th>1</th>\n",
       "      <td>100% Corpus</td>\n",
       "      <td>4</td>\n",
       "      <td>0.01</td>\n",
       "      <td>0.31</td>\n",
       "      <td>0.311898</td>\n",
       "    </tr>\n",
       "    <tr>\n",
       "      <th>2</th>\n",
       "      <td>100% Corpus</td>\n",
       "      <td>4</td>\n",
       "      <td>0.01</td>\n",
       "      <td>0.61</td>\n",
       "      <td>0.320993</td>\n",
       "    </tr>\n",
       "    <tr>\n",
       "      <th>3</th>\n",
       "      <td>100% Corpus</td>\n",
       "      <td>4</td>\n",
       "      <td>0.01</td>\n",
       "      <td>0.91</td>\n",
       "      <td>0.325178</td>\n",
       "    </tr>\n",
       "    <tr>\n",
       "      <th>4</th>\n",
       "      <td>100% Corpus</td>\n",
       "      <td>4</td>\n",
       "      <td>0.01</td>\n",
       "      <td>symmetric</td>\n",
       "      <td>0.317481</td>\n",
       "    </tr>\n",
       "  </tbody>\n",
       "</table>\n",
       "</div>"
      ],
      "text/plain": [
       "  validation_set  topics alpha       beta  coherence\n",
       "0    100% Corpus       4  0.01       0.01   0.301495\n",
       "1    100% Corpus       4  0.01       0.31   0.311898\n",
       "2    100% Corpus       4  0.01       0.61   0.320993\n",
       "3    100% Corpus       4  0.01       0.91   0.325178\n",
       "4    100% Corpus       4  0.01  symmetric   0.317481"
      ]
     },
     "execution_count": 11,
     "metadata": {},
     "output_type": "execute_result"
    }
   ],
   "source": [
    "#create a df of the param values and results\n",
    "lda_tuning = pd.DataFrame(model_results)\n",
    "lda_tuning.head()"
   ]
  },
  {
   "cell_type": "code",
   "execution_count": 12,
   "metadata": {},
   "outputs": [
    {
     "data": {
      "text/plain": [
       "validation_set    100% Corpus\n",
       "topics                      4\n",
       "alpha               symmetric\n",
       "beta                     0.91\n",
       "coherence            0.348915\n",
       "Name: 28, dtype: object"
      ]
     },
     "execution_count": 12,
     "metadata": {},
     "output_type": "execute_result"
    }
   ],
   "source": [
    "# find the row with the coherence value and display the parameters\n",
    "idx =lda_tuning['coherence'].idxmax(axis=0)\n",
    "lda_tuning.iloc[idx]"
   ]
  },
  {
   "cell_type": "code",
   "execution_count": 13,
   "metadata": {},
   "outputs": [],
   "source": [
    "#create a df with the optimally tuned params\n",
    "tuned_params = pd.DataFrame(lda_tuning.iloc[idx])\n",
    "tuned_params.columns=['vals']\n",
    "tuned_params.index.name='hp_params'\n",
    "tuned_params.to_csv(data_path+'\\\\'+'tuned_lda_params_4t.csv', index=False)"
   ]
  },
  {
   "cell_type": "code",
   "execution_count": 14,
   "metadata": {},
   "outputs": [],
   "source": [
    "# # save the tuned model\n",
    "# with open(data_path+'\\\\'+'lda_best_tuned_model_3t.pkl', 'wb') as f:\n",
    "#                 pickle.dump(models[idx], f)\n",
    "\n",
    "# #save all of the models       \n",
    "# with open(data_path+'\\\\'+'all_lda_models_3t.pkl', 'wb') as f:\n",
    "#                 pickle.dump(models, f)\n",
    "\n",
    "# # save all of the tuned model parameters\n",
    "# with open(data_path+'\\\\'+'model_results_3t.pkl', 'wb') as f:\n",
    "#                 pickle.dump(model_results, f)"
   ]
  },
  {
   "cell_type": "markdown",
   "metadata": {},
   "source": [
    "## Display the top words from each topic"
   ]
  },
  {
   "cell_type": "code",
   "execution_count": 15,
   "metadata": {},
   "outputs": [
    {
     "name": "stdout",
     "output_type": "stream",
     "text": [
      "[(0,\n",
      "  '0.006*\"immunity\" + 0.003*\"️\" + 0.002*\"doctor_policy_vaccine\" + '\n",
      "  '0.002*\"insurance_pharmaceutical_biotech\" + 0.002*\"medtech_retweet\" + '\n",
      "  '0.002*\"patient_nhs_fmrevolution_today\" + '\n",
      "  '0.002*\"todaysmedicalupdate_medicine_health\" + 0.002*\"sale\" + 0.002*\"/j\" + '\n",
      "  '0.001*\"$\" + 0.001*\"people_outside_city\" + 0.001*\"shot_javits_center_75\" + '\n",
      "  '0.001*\"percent_queen_site_mayor\" + 0.001*\"bill_de_blasio\" + '\n",
      "  '0.001*\"account_42_percent\"'),\n",
      " (1,\n",
      "  '0.016*\"coronavirus\" + 0.011*\"death\" + 0.005*\"case\" + 0.005*\"daily\" + '\n",
      "  '0.003*\"new_case\" + 0.003*\"coronaviruscoronavirus\" + 0.003*\"trend\" + '\n",
      "  '0.003*\"today\" + 0.002*\"new\" + 0.002*\"░_░_░_░\" + 0.002*\"total\" + '\n",
      "  '0.002*\"update\" + 0.002*\"feb\" + 0.002*\"maskup\" + 0.002*\"total_death\"'),\n",
      " (2,\n",
      "  '0.035*\"coronavirus\" + 0.018*\"vaccine\" + 0.017*\"vaccinate\" + 0.011*\"people\" '\n",
      "  '+ 0.011*\"pandemic\" + 0.010*\"virus\" + 0.009*\"get\" + 0.006*\"vaccination\" + '\n",
      "  '0.006*\"need\" + 0.006*\"vax\" + 0.005*\"know\" + 0.004*\"want\" + 0.004*\"like\" + '\n",
      "  '0.004*\"time\" + 0.003*\"work\"'),\n",
      " (3,\n",
      "  '0.074*\"coronavirus\" + 0.067*\"vaccine\" + 0.017*\"dose\" + 0.010*\"pfizer\" + '\n",
      "  '0.008*\"vaccination\" + 0.007*\"vaccinate\" + 0.007*\"coronavirus vaccine\" + '\n",
      "  '0.006*\"j&;j\" + 0.006*\"moderna\" + 0.005*\"receive\" + 0.005*\"shoot\" + '\n",
      "  '0.005*\"today\" + 0.005*\"week\" + 0.005*\"new\" + 0.004*\"people\"')]\n"
     ]
    }
   ],
   "source": [
    "#display the topics along with the top 15 words for each topic\n",
    "pprint(models[idx].print_topics(num_words=15))"
   ]
  },
  {
   "cell_type": "markdown",
   "metadata": {},
   "source": [
    "## Visualize the LDA model"
   ]
  },
  {
   "cell_type": "code",
   "execution_count": null,
   "metadata": {},
   "outputs": [],
   "source": [
    "#display the pLDAvis plot to visualize the LDA model\n",
    "vis = pyLDAvis.gensim.prepare(models[idx], corpus, tweets_gdict)\n",
    "vis"
   ]
  },
  {
   "cell_type": "code",
   "execution_count": null,
   "metadata": {},
   "outputs": [],
   "source": [
    "pyLDAvis.save_html(vis,data_path+'\\\\'+'covid_topics_4t.html')"
   ]
  }
 ],
 "metadata": {
  "kernelspec": {
   "display_name": "dk-covid",
   "language": "python",
   "name": "dk-covid"
  },
  "language_info": {
   "codemirror_mode": {
    "name": "ipython",
    "version": 3
   },
   "file_extension": ".py",
   "mimetype": "text/x-python",
   "name": "python",
   "nbconvert_exporter": "python",
   "pygments_lexer": "ipython3",
   "version": "3.8.8"
  }
 },
 "nbformat": 4,
 "nbformat_minor": 4
}
