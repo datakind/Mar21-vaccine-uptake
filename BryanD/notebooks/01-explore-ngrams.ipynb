{
 "cells": [
  {
   "cell_type": "code",
   "execution_count": 1,
   "metadata": {},
   "outputs": [],
   "source": [
    "import pandas as pd\n",
    "import os\n",
    "import re\n",
    "PROJ_ROOT = os.path.join(os.pardir)\n",
    "\n",
    "# import gensim\n",
    "import gensim .corpora as corpora\n",
    "from gensim.models import Phrases\n",
    "from gensim.models.phrases import Phraser\n",
    "\n",
    "import itertools\n",
    "from itertools import dropwhile\n",
    "import spacy # version 2.3.5\n",
    "from spacy.lang.en.stop_words import STOP_WORDS\n",
    "import warnings\n",
    "warnings.filterwarnings('ignore')\n",
    "from tqdm.notebook import tqdm\n",
    "from collections import Counter, defaultdict\n",
    "import pickle\n",
    "import seaborn as sns\n",
    "import matplotlib.pyplot as plt\n",
    "from pprint import pprint\n",
    "import numpy as np"
   ]
  },
  {
   "cell_type": "code",
   "execution_count": 2,
   "metadata": {},
   "outputs": [],
   "source": [
    "\n",
    "url = 'https://raw.githubusercontent.com/datakind/Mar21-vaccine-uptake/main/data/twitter/twitter_data_cleaned.csv'\n",
    "df = pd.read_csv(url)\n",
    "\n",
    "users_path = os.path.join(PROJ_ROOT, \n",
    "                         'data',\n",
    "                          'twitter_user.csv')\n",
    "\n",
    "users = pd.read_csv(users_path)\n"
   ]
  },
  {
   "cell_type": "code",
   "execution_count": 3,
   "metadata": {},
   "outputs": [
    {
     "data": {
      "text/html": [
       "<div>\n",
       "<style scoped>\n",
       "    .dataframe tbody tr th:only-of-type {\n",
       "        vertical-align: middle;\n",
       "    }\n",
       "\n",
       "    .dataframe tbody tr th {\n",
       "        vertical-align: top;\n",
       "    }\n",
       "\n",
       "    .dataframe thead th {\n",
       "        text-align: right;\n",
       "    }\n",
       "</style>\n",
       "<table border=\"1\" class=\"dataframe\">\n",
       "  <thead>\n",
       "    <tr style=\"text-align: right;\">\n",
       "      <th></th>\n",
       "      <th>tweet_id</th>\n",
       "      <th>created_at</th>\n",
       "      <th>full_text</th>\n",
       "      <th>geo</th>\n",
       "      <th>coordinates</th>\n",
       "      <th>place</th>\n",
       "      <th>retweet_count</th>\n",
       "      <th>favorite_count</th>\n",
       "      <th>possibly_sensitive</th>\n",
       "      <th>lang</th>\n",
       "      <th>user_id</th>\n",
       "    </tr>\n",
       "  </thead>\n",
       "  <tbody>\n",
       "    <tr>\n",
       "      <th>0</th>\n",
       "      <td>1.364223e+18</td>\n",
       "      <td>2021-02-23 14:38:16+00:00</td>\n",
       "      <td>Here’s what's in the COVID relief package:\\n \\...</td>\n",
       "      <td>NaN</td>\n",
       "      <td>NaN</td>\n",
       "      <td>NaN</td>\n",
       "      <td>9160</td>\n",
       "      <td>38093</td>\n",
       "      <td>NOT FOUND</td>\n",
       "      <td>en</td>\n",
       "      <td>2.950125e+07</td>\n",
       "    </tr>\n",
       "    <tr>\n",
       "      <th>1</th>\n",
       "      <td>1.364381e+18</td>\n",
       "      <td>2021-02-24 01:07:52+00:00</td>\n",
       "      <td>Will the National Endowment for the Arts be he...</td>\n",
       "      <td>NaN</td>\n",
       "      <td>NaN</td>\n",
       "      <td>NaN</td>\n",
       "      <td>6131</td>\n",
       "      <td>18560</td>\n",
       "      <td>NOT FOUND</td>\n",
       "      <td>en</td>\n",
       "      <td>1.201671e+18</td>\n",
       "    </tr>\n",
       "    <tr>\n",
       "      <th>2</th>\n",
       "      <td>1.364610e+18</td>\n",
       "      <td>2021-02-24 16:14:15+00:00</td>\n",
       "      <td>This is both anecdotal and early, but many lon...</td>\n",
       "      <td>NaN</td>\n",
       "      <td>NaN</td>\n",
       "      <td>NaN</td>\n",
       "      <td>5941</td>\n",
       "      <td>63174</td>\n",
       "      <td>NOT FOUND</td>\n",
       "      <td>en</td>\n",
       "      <td>3.842872e+07</td>\n",
       "    </tr>\n",
       "    <tr>\n",
       "      <th>3</th>\n",
       "      <td>1.364727e+18</td>\n",
       "      <td>2021-02-24 23:59:58+00:00</td>\n",
       "      <td>A Link to Professor Chossudovsky’s Analysis of...</td>\n",
       "      <td>NaN</td>\n",
       "      <td>NaN</td>\n",
       "      <td>NaN</td>\n",
       "      <td>1</td>\n",
       "      <td>0</td>\n",
       "      <td>False</td>\n",
       "      <td>en</td>\n",
       "      <td>2.192010e+09</td>\n",
       "    </tr>\n",
       "    <tr>\n",
       "      <th>4</th>\n",
       "      <td>1.364727e+18</td>\n",
       "      <td>2021-02-24 23:59:58+00:00</td>\n",
       "      <td>Children warned over hugging grandparents even...</td>\n",
       "      <td>NaN</td>\n",
       "      <td>NaN</td>\n",
       "      <td>NaN</td>\n",
       "      <td>0</td>\n",
       "      <td>2</td>\n",
       "      <td>False</td>\n",
       "      <td>en</td>\n",
       "      <td>2.868190e+09</td>\n",
       "    </tr>\n",
       "  </tbody>\n",
       "</table>\n",
       "</div>"
      ],
      "text/plain": [
       "       tweet_id                 created_at  \\\n",
       "0  1.364223e+18  2021-02-23 14:38:16+00:00   \n",
       "1  1.364381e+18  2021-02-24 01:07:52+00:00   \n",
       "2  1.364610e+18  2021-02-24 16:14:15+00:00   \n",
       "3  1.364727e+18  2021-02-24 23:59:58+00:00   \n",
       "4  1.364727e+18  2021-02-24 23:59:58+00:00   \n",
       "\n",
       "                                           full_text  geo coordinates place  \\\n",
       "0  Here’s what's in the COVID relief package:\\n \\...  NaN         NaN   NaN   \n",
       "1  Will the National Endowment for the Arts be he...  NaN         NaN   NaN   \n",
       "2  This is both anecdotal and early, but many lon...  NaN         NaN   NaN   \n",
       "3  A Link to Professor Chossudovsky’s Analysis of...  NaN         NaN   NaN   \n",
       "4  Children warned over hugging grandparents even...  NaN         NaN   NaN   \n",
       "\n",
       "   retweet_count  favorite_count possibly_sensitive lang       user_id  \n",
       "0           9160           38093          NOT FOUND   en  2.950125e+07  \n",
       "1           6131           18560          NOT FOUND   en  1.201671e+18  \n",
       "2           5941           63174          NOT FOUND   en  3.842872e+07  \n",
       "3              1               0              False   en  2.192010e+09  \n",
       "4              0               2              False   en  2.868190e+09  "
      ]
     },
     "execution_count": 3,
     "metadata": {},
     "output_type": "execute_result"
    }
   ],
   "source": [
    "df.head()"
   ]
  },
  {
   "cell_type": "code",
   "execution_count": 4,
   "metadata": {},
   "outputs": [
    {
     "data": {
      "text/html": [
       "<div>\n",
       "<style scoped>\n",
       "    .dataframe tbody tr th:only-of-type {\n",
       "        vertical-align: middle;\n",
       "    }\n",
       "\n",
       "    .dataframe tbody tr th {\n",
       "        vertical-align: top;\n",
       "    }\n",
       "\n",
       "    .dataframe thead th {\n",
       "        text-align: right;\n",
       "    }\n",
       "</style>\n",
       "<table border=\"1\" class=\"dataframe\">\n",
       "  <thead>\n",
       "    <tr style=\"text-align: right;\">\n",
       "      <th></th>\n",
       "      <th>user_id</th>\n",
       "      <th>user_location</th>\n",
       "      <th>user_verified</th>\n",
       "      <th>user_followers_count</th>\n",
       "    </tr>\n",
       "  </thead>\n",
       "  <tbody>\n",
       "    <tr>\n",
       "      <th>0</th>\n",
       "      <td>29501253</td>\n",
       "      <td>Burbank, CA</td>\n",
       "      <td>True</td>\n",
       "      <td>2931387</td>\n",
       "    </tr>\n",
       "    <tr>\n",
       "      <th>1</th>\n",
       "      <td>1201670995435646976</td>\n",
       "      <td>Colorado, USA</td>\n",
       "      <td>True</td>\n",
       "      <td>557873</td>\n",
       "    </tr>\n",
       "    <tr>\n",
       "      <th>2</th>\n",
       "      <td>38428725</td>\n",
       "      <td>NaN</td>\n",
       "      <td>True</td>\n",
       "      <td>124131</td>\n",
       "    </tr>\n",
       "    <tr>\n",
       "      <th>3</th>\n",
       "      <td>2192010002</td>\n",
       "      <td>here &amp; now  🇺🇸</td>\n",
       "      <td>False</td>\n",
       "      <td>2947</td>\n",
       "    </tr>\n",
       "    <tr>\n",
       "      <th>4</th>\n",
       "      <td>2868189989</td>\n",
       "      <td>Brighton UK and Bayonne France</td>\n",
       "      <td>False</td>\n",
       "      <td>2556</td>\n",
       "    </tr>\n",
       "  </tbody>\n",
       "</table>\n",
       "</div>"
      ],
      "text/plain": [
       "               user_id                   user_location  user_verified  \\\n",
       "0             29501253                     Burbank, CA           True   \n",
       "1  1201670995435646976                   Colorado, USA           True   \n",
       "2             38428725                             NaN           True   \n",
       "3           2192010002                  here & now  🇺🇸          False   \n",
       "4           2868189989  Brighton UK and Bayonne France          False   \n",
       "\n",
       "   user_followers_count  \n",
       "0               2931387  \n",
       "1                557873  \n",
       "2                124131  \n",
       "3                  2947  \n",
       "4                  2556  "
      ]
     },
     "execution_count": 4,
     "metadata": {},
     "output_type": "execute_result"
    }
   ],
   "source": [
    "users.head()"
   ]
  },
  {
   "cell_type": "code",
   "execution_count": 5,
   "metadata": {
    "scrolled": false
   },
   "outputs": [
    {
     "name": "stdout",
     "output_type": "stream",
     "text": [
      "1\n"
     ]
    },
    {
     "data": {
      "text/html": [
       "<div>\n",
       "<style scoped>\n",
       "    .dataframe tbody tr th:only-of-type {\n",
       "        vertical-align: middle;\n",
       "    }\n",
       "\n",
       "    .dataframe tbody tr th {\n",
       "        vertical-align: top;\n",
       "    }\n",
       "\n",
       "    .dataframe thead th {\n",
       "        text-align: right;\n",
       "    }\n",
       "</style>\n",
       "<table border=\"1\" class=\"dataframe\">\n",
       "  <thead>\n",
       "    <tr style=\"text-align: right;\">\n",
       "      <th></th>\n",
       "      <th>tweet_id</th>\n",
       "      <th>created_at</th>\n",
       "      <th>full_text</th>\n",
       "      <th>geo</th>\n",
       "      <th>coordinates</th>\n",
       "      <th>place</th>\n",
       "      <th>retweet_count</th>\n",
       "      <th>favorite_count</th>\n",
       "      <th>possibly_sensitive</th>\n",
       "      <th>lang</th>\n",
       "      <th>user_id</th>\n",
       "      <th>user_location</th>\n",
       "      <th>user_verified</th>\n",
       "      <th>user_followers_count</th>\n",
       "    </tr>\n",
       "  </thead>\n",
       "  <tbody>\n",
       "    <tr>\n",
       "      <th>0</th>\n",
       "      <td>1.364223e+18</td>\n",
       "      <td>2021-02-23 14:38:16+00:00</td>\n",
       "      <td>Here’s what's in the COVID relief package:\\n \\...</td>\n",
       "      <td>NaN</td>\n",
       "      <td>NaN</td>\n",
       "      <td>NaN</td>\n",
       "      <td>9160</td>\n",
       "      <td>38093</td>\n",
       "      <td>NOT FOUND</td>\n",
       "      <td>en</td>\n",
       "      <td>2.950125e+07</td>\n",
       "      <td>Burbank, CA</td>\n",
       "      <td>True</td>\n",
       "      <td>2931387.0</td>\n",
       "    </tr>\n",
       "    <tr>\n",
       "      <th>1</th>\n",
       "      <td>1.364381e+18</td>\n",
       "      <td>2021-02-24 01:07:52+00:00</td>\n",
       "      <td>Will the National Endowment for the Arts be he...</td>\n",
       "      <td>NaN</td>\n",
       "      <td>NaN</td>\n",
       "      <td>NaN</td>\n",
       "      <td>6131</td>\n",
       "      <td>18560</td>\n",
       "      <td>NOT FOUND</td>\n",
       "      <td>en</td>\n",
       "      <td>1.201671e+18</td>\n",
       "      <td>Colorado, USA</td>\n",
       "      <td>True</td>\n",
       "      <td>557873.0</td>\n",
       "    </tr>\n",
       "    <tr>\n",
       "      <th>2</th>\n",
       "      <td>1.364610e+18</td>\n",
       "      <td>2021-02-24 16:14:15+00:00</td>\n",
       "      <td>This is both anecdotal and early, but many lon...</td>\n",
       "      <td>NaN</td>\n",
       "      <td>NaN</td>\n",
       "      <td>NaN</td>\n",
       "      <td>5941</td>\n",
       "      <td>63174</td>\n",
       "      <td>NOT FOUND</td>\n",
       "      <td>en</td>\n",
       "      <td>3.842872e+07</td>\n",
       "      <td>NaN</td>\n",
       "      <td>True</td>\n",
       "      <td>124131.0</td>\n",
       "    </tr>\n",
       "    <tr>\n",
       "      <th>3</th>\n",
       "      <td>1.364727e+18</td>\n",
       "      <td>2021-02-24 23:59:58+00:00</td>\n",
       "      <td>A Link to Professor Chossudovsky’s Analysis of...</td>\n",
       "      <td>NaN</td>\n",
       "      <td>NaN</td>\n",
       "      <td>NaN</td>\n",
       "      <td>1</td>\n",
       "      <td>0</td>\n",
       "      <td>False</td>\n",
       "      <td>en</td>\n",
       "      <td>2.192010e+09</td>\n",
       "      <td>here &amp; now  🇺🇸</td>\n",
       "      <td>False</td>\n",
       "      <td>2947.0</td>\n",
       "    </tr>\n",
       "    <tr>\n",
       "      <th>4</th>\n",
       "      <td>1.364727e+18</td>\n",
       "      <td>2021-02-24 23:59:58+00:00</td>\n",
       "      <td>Children warned over hugging grandparents even...</td>\n",
       "      <td>NaN</td>\n",
       "      <td>NaN</td>\n",
       "      <td>NaN</td>\n",
       "      <td>0</td>\n",
       "      <td>2</td>\n",
       "      <td>False</td>\n",
       "      <td>en</td>\n",
       "      <td>2.868190e+09</td>\n",
       "      <td>Brighton UK and Bayonne France</td>\n",
       "      <td>False</td>\n",
       "      <td>2556.0</td>\n",
       "    </tr>\n",
       "  </tbody>\n",
       "</table>\n",
       "</div>"
      ],
      "text/plain": [
       "       tweet_id                created_at  \\\n",
       "0  1.364223e+18 2021-02-23 14:38:16+00:00   \n",
       "1  1.364381e+18 2021-02-24 01:07:52+00:00   \n",
       "2  1.364610e+18 2021-02-24 16:14:15+00:00   \n",
       "3  1.364727e+18 2021-02-24 23:59:58+00:00   \n",
       "4  1.364727e+18 2021-02-24 23:59:58+00:00   \n",
       "\n",
       "                                           full_text  geo coordinates place  \\\n",
       "0  Here’s what's in the COVID relief package:\\n \\...  NaN         NaN   NaN   \n",
       "1  Will the National Endowment for the Arts be he...  NaN         NaN   NaN   \n",
       "2  This is both anecdotal and early, but many lon...  NaN         NaN   NaN   \n",
       "3  A Link to Professor Chossudovsky’s Analysis of...  NaN         NaN   NaN   \n",
       "4  Children warned over hugging grandparents even...  NaN         NaN   NaN   \n",
       "\n",
       "   retweet_count  favorite_count possibly_sensitive lang       user_id  \\\n",
       "0           9160           38093          NOT FOUND   en  2.950125e+07   \n",
       "1           6131           18560          NOT FOUND   en  1.201671e+18   \n",
       "2           5941           63174          NOT FOUND   en  3.842872e+07   \n",
       "3              1               0              False   en  2.192010e+09   \n",
       "4              0               2              False   en  2.868190e+09   \n",
       "\n",
       "                    user_location user_verified  user_followers_count  \n",
       "0                     Burbank, CA          True             2931387.0  \n",
       "1                   Colorado, USA          True              557873.0  \n",
       "2                             NaN          True              124131.0  \n",
       "3                  here & now  🇺🇸         False                2947.0  \n",
       "4  Brighton UK and Bayonne France         False                2556.0  "
      ]
     },
     "execution_count": 5,
     "metadata": {},
     "output_type": "execute_result"
    }
   ],
   "source": [
    "full_data = pd.merge(df, users,how='left', on='user_id')\n",
    "full_data['created_at'] = pd.to_datetime(full_data['created_at']) # change the col to datetime\n",
    "full_data=full_data[full_data.lang=='en']\n",
    "print(full_data.lang.nunique())\n",
    "full_data.head()"
   ]
  },
  {
   "cell_type": "code",
   "execution_count": 6,
   "metadata": {},
   "outputs": [],
   "source": [
    "# dropping duplicate tweets. The same information by the same people. This will not\n",
    "# include retweets, someone else can tweet the same text once.\n",
    "full_data=full_data.drop_duplicates(subset=['full_text','user_id'])"
   ]
  },
  {
   "cell_type": "code",
   "execution_count": 7,
   "metadata": {},
   "outputs": [],
   "source": [
    "nlp = spacy.load(\"en_core_web_lg\") # import spacy model"
   ]
  },
  {
   "cell_type": "code",
   "execution_count": 8,
   "metadata": {},
   "outputs": [],
   "source": [
    "# additional stop words to be removed from the vocabulary\n",
    "# added the search terms from the github search page, with the exception of doses & pandemic\n",
    "# 'rt' were added\n",
    "# stop_words = {'covid','covid-19','covid19','carona','corona','carona virus','covid 19',\n",
    "#               'caronavirus','coronavirus', 'vaccine','vaccinate', 'vaccination', 'virus',\n",
    "#               'sarscov2','vax', 'vaccination', 'pfizer', 'moderna', 'vaccine', 'antivax',\n",
    "#               'anti-vax','vaccinated',  '#covid19', 'johnson','j&j','rt','pandemic'}\n",
    "\n",
    "\n"
   ]
  },
  {
   "cell_type": "code",
   "execution_count": 9,
   "metadata": {},
   "outputs": [],
   "source": [
    "sw_to_remove={'do', 'every', 'everyone', 'everywhere', 'few', 'get', 'give',\n",
    " 'had', 'has', 'have' 'hundred' \"n't\", 'n‘t','n’t', 'serious','themselves','though',\n",
    " 'yet','would','can','not','could','should'}\n",
    "STOP_WORDS = STOP_WORDS-sw_to_remove"
   ]
  },
  {
   "cell_type": "markdown",
   "metadata": {},
   "source": [
    "Removing some words that may have a lot of meaning turing topic modeling, when building ngrams when referring to the vaccine or the virus."
   ]
  },
  {
   "cell_type": "code",
   "execution_count": 10,
   "metadata": {},
   "outputs": [],
   "source": [
    "# add all of the tweets to one list\n",
    "tweets = full_data.full_text.tolist()"
   ]
  },
  {
   "cell_type": "markdown",
   "metadata": {},
   "source": [
    "## Clean the tweets"
   ]
  },
  {
   "cell_type": "markdown",
   "metadata": {},
   "source": [
    "Attempt to change all the spelling variations of coronavirus to 'coronavirus'"
   ]
  },
  {
   "cell_type": "code",
   "execution_count": 11,
   "metadata": {},
   "outputs": [],
   "source": [
    "# lowercase all the words\n",
    "tweets= [word.lower() for word in tweets]\n",
    "\n",
    "\n",
    "# # remove the '@' and '#' symbols\n",
    "# tweets=[word.replace('@','').replace('#','') for word in tweets]\n",
    "\n",
    "# remove the '#' symbol\n",
    "# tweets=[word.replace('#','') for word in tweets]\n",
    "\n",
    "# remove the '#' symbol and the '_' symbol, in the event an underscore is used for\n",
    "#remove covid spelling variants\n",
    "tweets=[word.replace('coronavaccine','covid-19 vaccine').replace('caronavac','covid-19 vaccine').replace('coronavaccination','covid-19 vaccine').replace('coronavirusvaccination','covid-19 vaccine').replace('coronavirusvaccine','coronavirus vaccine')  for word in tweets]\n",
    "tweets=[word.replace('corona ','coronavirus').replace('carona','coronavirus').replace('corona virus','coronavirus') for word in tweets]\n",
    "tweets=[word.replace('covid 19','coronavirus').replace('covid19','coronavirus').replace('covid-19','coronavirus') for word in tweets]\n",
    "tweets=[word.replace('corona19','coronavirus') for word in tweets]\n",
    "tweets=[word.replace('caronavirus','coronavirus').replace('covid','coronavirus')for word in tweets]\n",
    "tweets=[word.replace('caronav ','coronavirus')for word in tweets]\n",
    "# tweets=[word.replace('rt_','').replace('rt','').replace('ht','') for word in tweets]"
   ]
  },
  {
   "cell_type": "code",
   "execution_count": 12,
   "metadata": {},
   "outputs": [],
   "source": [
    "# tweets=[word.replace('rt_','').replace('rt','').replace('ht','') for word in tweets]\n",
    "\n",
    "tweets = [re.sub('(rt_)|\\s(rt)\\s','',tweet) for tweet in tweets]\n",
    "tweets = [re.sub('(ht_)|\\s(ht)\\s','',tweet) for tweet in tweets]"
   ]
  },
  {
   "cell_type": "markdown",
   "metadata": {},
   "source": [
    "### Remove hashtags"
   ]
  },
  {
   "cell_type": "code",
   "execution_count": 13,
   "metadata": {
    "scrolled": true
   },
   "outputs": [
    {
     "name": "stdout",
     "output_type": "stream",
     "text": [
      "16869 hashtags to be removed\n"
     ]
    },
    {
     "data": {
      "application/vnd.jupyter.widget-view+json": {
       "model_id": "ecde04d7d4e34e2396e044bd355f4ade",
       "version_major": 2,
       "version_minor": 0
      },
      "text/plain": [
       "  0%|          | 0/49838 [00:00<?, ?it/s]"
      ]
     },
     "metadata": {},
     "output_type": "display_data"
    }
   ],
   "source": [
    "\n",
    "\n",
    "# create a list of all the # mentions\n",
    "hash_counter=Counter(re.findall('(#\\w+)',''.join(tweets)))\n",
    "del_hash=hash_counter.copy() # create a copy\n",
    "\n",
    "# filter for only mentions above 30 in the dataset\n",
    "for key, count in dropwhile(lambda key_count : key_count[1]>=15,hash_counter.most_common()):\n",
    "    del hash_counter[key]\n",
    "\n",
    "# filter for mentions that are not >= 30    \n",
    "del_hash = list(set(del_hash) - set(hash_counter))\n",
    "if \"#s\" in del_hash:\n",
    "    del_hash.remove(\"#s\")\n",
    "print('{} hashtags to be removed'.format(len(del_hash)))\n",
    "\n",
    "removed_hashtags=[] # create a list to hold deleted  hashtags\n",
    "\n",
    "# remove the hashtags from the tweets\n",
    "# for each tweet\n",
    "for tweet in tqdm(tweets):\n",
    "    if any(word in tweet for word in del_hash): # if there is a word in the del hashtag list\n",
    "        del_words=[] \n",
    "        for word in del_hash: # for each word in the deleted hashtag list\n",
    "            if word in tweet: # if the word is in the tweet\n",
    "                del_words.append(word) # add to the list of words to be deleted from tweet\n",
    "        for word in del_words: # for each word in the words to be deleted in the tweet list\n",
    "            tweet.replace(word,'') # replace with empty string\n",
    "#         tweet.append(tweet) #add the updated tweet to the new new tweet list\n",
    "        removed_hashtags.append(del_words)\n",
    "    else:\n",
    "        removed_hashtags.append(None)\n",
    "    \n",
    "# add the removed hashtags back into the dataframe\n",
    "full_data['removed_hashtags']=removed_hashtags"
   ]
  },
  {
   "cell_type": "markdown",
   "metadata": {},
   "source": [
    "### Remove url links"
   ]
  },
  {
   "cell_type": "code",
   "execution_count": 14,
   "metadata": {},
   "outputs": [
    {
     "data": {
      "application/vnd.jupyter.widget-view+json": {
       "model_id": "b5bbac3d91f047d5bb5a472873439abb",
       "version_major": 2,
       "version_minor": 0
      },
      "text/plain": [
       "  0%|          | 0/49838 [00:00<?, ?it/s]"
      ]
     },
     "metadata": {},
     "output_type": "display_data"
    }
   ],
   "source": [
    "\n",
    "\n",
    "# create a list of all the # mentions\n",
    "# url_counter=Counter(re.sub('(tps://[\\w./]+)',''.join(tweets)))\n",
    "# url_hash=url_counter.copy() # create a copy\n",
    "# tweetsr=[re.sub('(tps://[\\w./]+)','',tweet) for tweet in tweets]\n",
    "# # filter for only mentions above 30 in the dataset\n",
    "# for key, count in dropwhile(lambda key_count : key_count[1]>=15,hash_counter.most_common()):\n",
    "#     del hash_counter[key]\n",
    "\n",
    "# # filter for mentions that are not >= 30    \n",
    "# del_hash = list(set(del_hash) - set(hash_counter))\n",
    "# if \"#s\" in del_hash:\n",
    "#     del_hash.remove(\"#s\")\n",
    "# print('{} hashtags to be removed'.format(len(del_hash)))\n",
    "\n",
    "removed_urls=[] # create a list to hold deleted  hashtags\n",
    "new_list=[]\n",
    "# remove the hashtags from the tweets\n",
    "# for each tweet\n",
    "for tweet in tqdm(tweets):\n",
    "    \n",
    "    if len(re.findall('(tps://[\\w./]+)|(https://[\\w./]+)',tweet)) == 0:\n",
    "        removed_urls.append(np.nan)\n",
    "    else:\n",
    "        removed_urls.append(re.findall('(tps://[\\w./]+)|(https://[\\w./]+)',tweet))\n",
    "    \n",
    "    new_list.append(re.sub('(tps://[\\w./]+)|(https://[\\w./]+)','',tweet))\n",
    "\n",
    "    \n",
    "# add the removed hashtags back into the dataframe\n",
    "# full_data['urls']=removed_urls\n",
    "\n",
    "tweets=new_list.copy()\n",
    "del new_list"
   ]
  },
  {
   "cell_type": "markdown",
   "metadata": {},
   "source": [
    "### Remove the @mentions"
   ]
  },
  {
   "cell_type": "code",
   "execution_count": 15,
   "metadata": {},
   "outputs": [],
   "source": [
    "# create a list of all the @ mentions\n",
    "at_counter=Counter([x for x in ' '.join(tweets).split(' ') if '@' in x])\n",
    "del_ats1=at_counter.copy() # create a copy\n",
    "\n",
    "# filter for only mentions above 30 in the dataset\n",
    "for key, count in dropwhile(lambda key_count : key_count[1]>=30,at_counter.most_common()):\n",
    "    del at_counter[key]\n",
    "\n",
    "# filter for mentions that are not >= 30\n",
    "# this list will be used in the spacy pipeline to remove these words\n",
    "del_ats1 = list(set(del_ats1) - set(at_counter))"
   ]
  },
  {
   "cell_type": "code",
   "execution_count": 16,
   "metadata": {},
   "outputs": [
    {
     "name": "stdout",
     "output_type": "stream",
     "text": [
      "25736  mentions to be deleted\n",
      "105  mentions used 7360 times to be kept\n"
     ]
    }
   ],
   "source": [
    "print(len(del_ats1),' mentions to be deleted') # number of @mentions to be deleted\n",
    "print(len(at_counter),' mentions used {} times to be kept'.format(sum(list(at_counter.values())))) # of of @mentions to be kept"
   ]
  },
  {
   "cell_type": "code",
   "execution_count": 17,
   "metadata": {},
   "outputs": [],
   "source": [
    "# removed_ats=[]\n",
    "# for tweet in tqdm(tweets):\n",
    "#     if any(word in tweet for word in del_ats): # if there is a word in the del hashtag list\n",
    "#         del_words=[] \n",
    "#         for word in del_ats: # for each word in the deleted hashtag list\n",
    "#             if word in tweet: # if the word is in the tweet\n",
    "#                 del_ats.append(word) # add to the list of words to be deleted from tweet\n",
    "#         for word in del_ats: # for each word in the words to be deleted in the tweet list\n",
    "#             tweet.replace(word,'') # replace with empty string\n",
    "#         filtered_list.append(tweet) #add the updated tweet to the new new tweet list\n",
    "#         removed_ats.append(del_ats)\n",
    "#     else:\n",
    "#         removed_ats.append(None)\n",
    "\n",
    "# filtered_list = []\n",
    "# for word in tqdm(del_ats):\n",
    "#     if any(word in tweet for word in del_ats):\n",
    "#         del_words=list(set(del_ats).intersection(set(tweet)))\n",
    "#         updated_tweet=[t_word for t_word in tweet if t_word not in del_words]\n",
    "#         filtered_list.append(updated_tweet)\n",
    "#     else:\n",
    "#         filtered_list.append(tweet)"
   ]
  },
  {
   "cell_type": "markdown",
   "metadata": {},
   "source": [
    "## Create and run spaCy pipeline"
   ]
  },
  {
   "cell_type": "markdown",
   "metadata": {},
   "source": [
    "### Create nlp components to add to the pipeline"
   ]
  },
  {
   "cell_type": "code",
   "execution_count": 18,
   "metadata": {},
   "outputs": [],
   "source": [
    "# # update the stop words\n",
    "# nlp.Defaults.stop_words.update(stop_words) #update spacy stopwords to include additional words\n",
    "\n",
    "# # udpate stopwords\n",
    "# for word in STOP_WORDS:\n",
    "#     lexeme = nlp.vocab[word]\n",
    "#     lexeme.is_stop=True\n",
    "    \n",
    "# create lemmatize, remove_stopwords, list component spacy functions for the spacy pipeline\n",
    "def lemmatize_pipe(doc):\n",
    "    '''Function'''\n",
    "    doc = [token.lemma_ for token in doc if token.lemma_ != '-PRON-']\n",
    "    doc = u' '.join(doc)\n",
    "    \n",
    "    return nlp.make_doc(doc)\n",
    "\n",
    "def remove_stops(doc):\n",
    "    '''function removes stopwords'''\n",
    "    doc = [token.text for token in doc if nlp.vocab[token.text.lower()].is_stop!= True and token.is_punct != True and token.lemma_ not in STOP_WORDS]\n",
    "    doc = u' '.join(doc)\n",
    "    \n",
    "    return nlp.make_doc(doc)\n",
    "\n",
    "def remove_at_mentions(doc):\n",
    "    '''Function to remove @mentions'''\n",
    "    \n",
    "    doc = [token.text if token.text not in del_ats1 else '' for token in doc ]\n",
    "    doc = u' '.join(doc)\n",
    "    \n",
    "    return nlp.make_doc(doc)\n",
    "\n",
    "\n",
    "def list_component(doc):\n",
    "    '''This pipeline returns a list of tokens vs a spacy doc object'''\n",
    "    tokens = [token.text for token in doc]\n",
    "          \n",
    "    return tokens"
   ]
  },
  {
   "cell_type": "markdown",
   "metadata": {},
   "source": [
    "### add components to the pipeline"
   ]
  },
  {
   "cell_type": "code",
   "execution_count": 19,
   "metadata": {},
   "outputs": [],
   "source": [
    "# add the pipes to the spacy pipeline\n",
    "nlp.add_pipe(remove_stops, before='ner')\n",
    "nlp.add_pipe(remove_at_mentions, last=True)\n",
    "nlp.add_pipe(lemmatize_pipe, last=True)\n",
    "nlp.add_pipe(list_component, last=True)"
   ]
  },
  {
   "cell_type": "markdown",
   "metadata": {},
   "source": [
    "I'm curious if @ mentions should be moved altogether or just the @ symbol. The mentions may have a certain importance to them. Folks who tweet may swap out  word for an @mention instead.\n",
    "\n",
    "On the other hand, i've seen a lot of retweets or tweets where an extremely large amount of people are mention, but do not give any context to what is being said. This could confuse certain models (ie. sentiment)\n",
    "\n",
    "It might be interesting to leave these in to see who/which ner is mentioned the most\n"
   ]
  },
  {
   "cell_type": "markdown",
   "metadata": {},
   "source": [
    "### Run the tweets through the pipeline"
   ]
  },
  {
   "cell_type": "code",
   "execution_count": 20,
   "metadata": {},
   "outputs": [
    {
     "data": {
      "application/vnd.jupyter.widget-view+json": {
       "model_id": "541787b2366641429cce5e3735aac3ba",
       "version_major": 2,
       "version_minor": 0
      },
      "text/plain": [
       "0it [00:00, ?it/s]"
      ]
     },
     "metadata": {},
     "output_type": "display_data"
    }
   ],
   "source": [
    "# run the tweets through the pipeline\n",
    "processed_tweets = list(tqdm(nlp.pipe(tweets, disable=['tagger','parser','ner'])))"
   ]
  },
  {
   "cell_type": "markdown",
   "metadata": {},
   "source": [
    "## Additional cleaning after the pipeline"
   ]
  },
  {
   "cell_type": "markdown",
   "metadata": {},
   "source": [
    "Run some additional cleaning of the tokens after the spacy pipeline. The pipeline will have cleaned a lot of the text in the tweets making some @mentions and hashtags identifiable that were previously missed."
   ]
  },
  {
   "cell_type": "code",
   "execution_count": 21,
   "metadata": {},
   "outputs": [],
   "source": [
    "# some additional cleaning\n",
    "processed_tweets=[[word.replace('\\n','') for word in x] for x in processed_tweets]\n",
    "processed_tweets=[[word.replace('\\xa0  ','').replace('amp','') for word in x] for x in processed_tweets]\n",
    "# remove the hashtag symbol from the hashtags that remain\n",
    "processed_tweets=[[word.replace('#','') for word in x] for x in processed_tweets]\n",
    "\n",
    "#remove all empty words from a tweet after all of the cleaning\n",
    "processed_tweets=[[word.strip() for word in x if len(word.strip())>0] for x in processed_tweets]\n",
    "# replace covid variations that were in hashtags\n",
    "processed_tweets=[[word.replace('coronavaccine','covid-19 vaccine').replace('caronavac','covid-19 vaccine').replace('coronavaccination','covid-19 vaccine').replace('coronavirusvaccination','covid-19 vaccine').replace('coronavirusvaccine','coronavirus vaccine') for word in x] for x in processed_tweets]\n",
    "processed_tweets=[[word.replace('corona ','coronavirus').replace('carona','coronavirus').replace('corona virus','coronavirus') for word in x] for x in processed_tweets]\n",
    "processed_tweets=[[word.replace('covid 19','coronavirus').replace('covid19','coronavirus').replace('covid-19','coronavirus') for word in x] for x in processed_tweets]\n",
    "processed_tweets=[[word.replace('corona19','coronavirus') for word in x] for x in processed_tweets]\n",
    "processed_tweets=[[word.replace('caronavirus','coronavirus').replace('covid','coronavirus') for word in x] for x in processed_tweets]\n",
    "processed_tweets=[[word.replace('caronav ','coronavirus') for word in x] for x in processed_tweets]\n"
   ]
  },
  {
   "cell_type": "markdown",
   "metadata": {},
   "source": [
    "remove @ mentions that remained"
   ]
  },
  {
   "cell_type": "code",
   "execution_count": 22,
   "metadata": {},
   "outputs": [],
   "source": [
    "# find @ mentions that remained\n",
    "at_counter=Counter([x for twt in processed_tweets for x in twt if '@' in x])\n",
    "del_ats2=at_counter.copy()\n",
    "for key, count in dropwhile(lambda key_count : key_count[1]>=30,at_counter.most_common()):\n",
    "    del at_counter[key]\n",
    "\n",
    "del_ats2 = set(del_ats2) - set(at_counter)\n"
   ]
  },
  {
   "cell_type": "code",
   "execution_count": 23,
   "metadata": {},
   "outputs": [
    {
     "data": {
      "application/vnd.jupyter.widget-view+json": {
       "model_id": "1d7024c51d874a58ab6a3086cb5ee755",
       "version_major": 2,
       "version_minor": 0
      },
      "text/plain": [
       "  0%|          | 0/49838 [00:00<?, ?it/s]"
      ]
     },
     "metadata": {},
     "output_type": "display_data"
    }
   ],
   "source": [
    "# remove @ mentions that were used less than 30 times\n",
    "filtered_list = []\n",
    "for tweet in tqdm(processed_tweets):\n",
    "    if any(word in tweet for word in del_ats2):\n",
    "        del_words=list(set(del_ats2).intersection(set(tweet)))\n",
    "        updated_tweet=[t_word for t_word in tweet if t_word not in del_words]\n",
    "        filtered_list.append(updated_tweet)\n",
    "    else:\n",
    "        filtered_list.append(tweet)\n",
    "\n",
    "processed_tweets = filtered_list.copy()\n",
    "del filtered_list\n",
    "\n",
    "# remove the hashtag symbol from the hashtags that remain\n",
    "# processed_tweets=[[word.replace('@','') for word in x] for x in processed_tweets]"
   ]
  },
  {
   "cell_type": "code",
   "execution_count": 24,
   "metadata": {},
   "outputs": [],
   "source": [
    "# hash_counter=Counter([x for twt in processed_tweets for x in twt if '#' in x])\n",
    "# del_hash=hash_counter.copy() # create a copy\n",
    "#filter for only mentions above 30 in the dataset\n",
    "# for key, count in dropwhile(lambda key_count : key_count[1]>=15,hash_counter.most_common()):\n",
    "#     del hash_counter[key]\n",
    "\n",
    "# filter for mentions that are not >= 30    \n",
    "# del_hash = set(del_hash) - set(hash_counter)\n",
    "\n",
    "# # create a list of all the @ mentions\n",
    "# hash_counter=Counter([x for x in ' '.join(tweets).split(' ') if '#' in x])\n",
    "# del_hash=hash_counter.copy() # create a copy\n",
    "# #filter for only mentions above 30 in the dataset\n",
    "# for key, count in dropwhile(lambda key_count : key_count[1]>=15,hash_counter.most_common()):\n",
    "#     del hash_counter[key]\n",
    "\n",
    "# # filter for mentions that are not >= 30    \n",
    "# del_hash = set(del_hash) - set(hash_counter)"
   ]
  },
  {
   "cell_type": "code",
   "execution_count": 25,
   "metadata": {},
   "outputs": [
    {
     "data": {
      "text/plain": [
       "49838"
      ]
     },
     "execution_count": 25,
     "metadata": {},
     "output_type": "execute_result"
    }
   ],
   "source": [
    "len(processed_tweets)"
   ]
  },
  {
   "cell_type": "markdown",
   "metadata": {},
   "source": [
    "## Find n-grams in the tweets\n",
    "All of n-grams from 1 to 6 are processed, each with a cutoff"
   ]
  },
  {
   "cell_type": "code",
   "execution_count": 26,
   "metadata": {},
   "outputs": [
    {
     "data": {
      "application/vnd.jupyter.widget-view+json": {
       "model_id": "2f2fc42ae8214ea29f64bd0b2282d54c",
       "version_major": 2,
       "version_minor": 0
      },
      "text/plain": [
       "  0%|          | 0/49838 [00:00<?, ?it/s]"
      ]
     },
     "metadata": {},
     "output_type": "display_data"
    },
    {
     "data": {
      "application/vnd.jupyter.widget-view+json": {
       "model_id": "dd8fd49ab5364330899732a8a44bf86e",
       "version_major": 2,
       "version_minor": 0
      },
      "text/plain": [
       "  0%|          | 0/49838 [00:00<?, ?it/s]"
      ]
     },
     "metadata": {},
     "output_type": "display_data"
    },
    {
     "data": {
      "application/vnd.jupyter.widget-view+json": {
       "model_id": "4422690a478c41d1844064113ef69a6c",
       "version_major": 2,
       "version_minor": 0
      },
      "text/plain": [
       "  0%|          | 0/49838 [00:00<?, ?it/s]"
      ]
     },
     "metadata": {},
     "output_type": "display_data"
    },
    {
     "data": {
      "application/vnd.jupyter.widget-view+json": {
       "model_id": "7f7c589c62114366b20e3cb78b7e4401",
       "version_major": 2,
       "version_minor": 0
      },
      "text/plain": [
       "  0%|          | 0/49838 [00:00<?, ?it/s]"
      ]
     },
     "metadata": {},
     "output_type": "display_data"
    },
    {
     "data": {
      "application/vnd.jupyter.widget-view+json": {
       "model_id": "7e4aebd9736649c984761196fc7cc3f1",
       "version_major": 2,
       "version_minor": 0
      },
      "text/plain": [
       "  0%|          | 0/49838 [00:00<?, ?it/s]"
      ]
     },
     "metadata": {},
     "output_type": "display_data"
    }
   ],
   "source": [
    "# create ngrams with gensim\n",
    "# min_count arbitrarily picked\n",
    "bigram = Phrases(tqdm(processed_tweets), min_count = 20)\n",
    "trigram = Phrases(tqdm(bigram[processed_tweets]), min_count=10)\n",
    "qgram = Phrases(tqdm(trigram[processed_tweets]), min_count=10)\n",
    "fgram = Phrases(tqdm(qgram[processed_tweets]),min_count=10)\n",
    "sgram = Phrases(tqdm(fgram[processed_tweets]),min_count=10)\n",
    "\n",
    "bigram_mod = Phraser(bigram)\n",
    "trigram_mod = Phraser(trigram)\n",
    "qgram_mod = Phraser(qgram)\n",
    "fgram_mod = Phraser(fgram)\n",
    "sgram_mod = Phraser(sgram)\n",
    "\n",
    "def create_n_grams(text):\n",
    "    '''Function that takes in text and returns the different ngrams'''\n",
    "    return sgram_mod[fgram_mod[qgram_mod[trigram_mod[bigram_mod[text]]]]]"
   ]
  },
  {
   "cell_type": "code",
   "execution_count": 27,
   "metadata": {},
   "outputs": [
    {
     "data": {
      "application/vnd.jupyter.widget-view+json": {
       "model_id": "7f99bba71f8d4aa9808a32f9248c33b0",
       "version_major": 2,
       "version_minor": 0
      },
      "text/plain": [
       "  0%|          | 0/49838 [00:00<?, ?it/s]"
      ]
     },
     "metadata": {},
     "output_type": "display_data"
    }
   ],
   "source": [
    "#create a list of tokens including ngrams for each response\n",
    "all_tokens = [create_n_grams(doc) for doc in tqdm(processed_tweets)] "
   ]
  },
  {
   "cell_type": "code",
   "execution_count": 28,
   "metadata": {},
   "outputs": [
    {
     "data": {
      "text/plain": [
       "49838"
      ]
     },
     "execution_count": 28,
     "metadata": {},
     "output_type": "execute_result"
    }
   ],
   "source": [
    "len(processed_tweets)"
   ]
  },
  {
   "cell_type": "code",
   "execution_count": 29,
   "metadata": {},
   "outputs": [
    {
     "name": "stdout",
     "output_type": "stream",
     "text": [
      "653  empty tweets after cleaning\n",
      "49185\n",
      "49185\n"
     ]
    }
   ],
   "source": [
    "# remove empty tweets, and remove tweets less than 3 words long\n",
    "print(len([x for x in all_tokens if len(x) <3]),' empty tweets after cleaning')\n",
    "keep_inx=[i for i,x in enumerate(all_tokens) if len(x) >= 3]\n",
    "\n",
    "full_data.reset_index(inplace=True,drop=True)\n",
    "\n",
    "keep_inx=full_data.index.isin(keep_inx)\n",
    "\n",
    "\n",
    "full_data=full_data.iloc[keep_inx]\n",
    "\n",
    "\n",
    "all_tokens = [x for x in all_tokens if len(x) >= 3]\n",
    "print(len(all_tokens))\n",
    "print(full_data.shape[0])\n",
    "assert len(all_tokens)== full_data.shape[0], 'The list of tokens and the dataframe should be equal'\n"
   ]
  },
  {
   "cell_type": "markdown",
   "metadata": {},
   "source": [
    "## Create gensim dictionary, corpus, and flattened out list of all the tokens in all tweets"
   ]
  },
  {
   "cell_type": "code",
   "execution_count": null,
   "metadata": {},
   "outputs": [],
   "source": []
  },
  {
   "cell_type": "code",
   "execution_count": null,
   "metadata": {},
   "outputs": [],
   "source": []
  },
  {
   "cell_type": "code",
   "execution_count": 30,
   "metadata": {},
   "outputs": [
    {
     "name": "stdout",
     "output_type": "stream",
     "text": [
      "1636  tweets dropped\n",
      "49185\n",
      "49185\n"
     ]
    }
   ],
   "source": [
    "# number of tweets to be dropped\n",
    "print(full_data.duplicated(['full_text']).sum(),' tweets dropped')\n",
    "\n",
    "# find the indicies of the duplicates to be deleted\n",
    "full_data.reset_index(inplace=True,drop=True)\n",
    "to_del_keys=full_data[full_data.duplicated(['full_text','user_id']).values].index\n",
    "#remove all duplicates tweets\n",
    "full_data=full_data.drop_duplicates(['full_text','user_id'])\n",
    "# use the indicies to delete the tokenized tweets\n",
    "for i in reversed(to_del_keys):\n",
    "    del all_tokens[i]\n",
    "# check that the lengths of the dataset and the processed tweets are the same\n",
    "print(full_data.shape[0])\n",
    "print(len(all_tokens))\n",
    "assert len(all_tokens)==len(full_data), 'The list of tokens and the dataframe should be equal'"
   ]
  },
  {
   "cell_type": "code",
   "execution_count": 31,
   "metadata": {},
   "outputs": [
    {
     "name": "stdout",
     "output_type": "stream",
     "text": [
      "duplicates to drop:  1220\n"
     ]
    }
   ],
   "source": [
    "# add tokens incl ngrams to dataset\n",
    "full_data['tokens'] = all_tokens\n",
    "full_data['tknst']=full_data.tokens.apply(lambda x:' '.join(x))\n",
    "print('duplicates to drop: ',full_data.duplicated(['user_id','tknst']).sum())\n",
    "full_data.reset_index(inplace=True,drop=True)\n",
    "full_data=full_data.drop_duplicates(['user_id','tknst'])\n",
    "full_data.drop('tknst',inplace=True,axis=1)\n",
    "full_data.reset_index(inplace=True,drop=True)\n",
    "all_tokens = list(full_data.tokens)"
   ]
  },
  {
   "cell_type": "code",
   "execution_count": 32,
   "metadata": {},
   "outputs": [
    {
     "name": "stdout",
     "output_type": "stream",
     "text": [
      "47965 47965\n"
     ]
    }
   ],
   "source": [
    "print(len(all_tokens),full_data.shape[0])"
   ]
  },
  {
   "cell_type": "code",
   "execution_count": 33,
   "metadata": {},
   "outputs": [],
   "source": [
    "tweets_gdict= corpora.Dictionary(all_tokens) # create a gensim dictionary\n",
    "corpus = [tweets_gdict.doc2bow(doc) for doc in all_tokens] # create a corpus from the dictionary\n",
    "\n",
    "# create one long list of tokens ie. flatten out the all_tokens list of lists\n",
    "texts = list(itertools.chain.from_iterable(all_tokens)) "
   ]
  },
  {
   "cell_type": "code",
   "execution_count": 34,
   "metadata": {},
   "outputs": [],
   "source": [
    "# save all of the files\n",
    "to_save = {'all_tokens.pkl':all_tokens,'tweets_gdict.pkl':tweets_gdict,\n",
    "           'corpus.pkl':corpus,'texts.pkl':texts, 'tweets.pkl':tweets,\n",
    "           'processed_tweets.pkl':processed_tweets}\n",
    "\n",
    "data_path = os.path.join(PROJ_ROOT, \n",
    "                         'data')\n",
    "for name, obj in to_save.items():\n",
    "    \n",
    "    with open(data_path+'\\\\'+name, 'wb') as f:\n",
    "        pickle.dump(obj, f)\n",
    "    \n",
    "del to_save"
   ]
  },
  {
   "cell_type": "markdown",
   "metadata": {},
   "source": [
    "## Visualize n-grams"
   ]
  },
  {
   "cell_type": "code",
   "execution_count": 35,
   "metadata": {},
   "outputs": [],
   "source": [
    "#create a dictionary of the most used ngrams (1, 2, 3, 4+)\n",
    "all_ngrams={}\n",
    "for i in range(0,4):\n",
    "    \n",
    "    if i == 4:\n",
    "        common_words = Counter([x for x in texts if x.count('_')>=i]).most_common(10)\n",
    "    else:\n",
    "        common_words = Counter([x for x in texts if x.count('_')==i]).most_common(10)\n",
    "    \n",
    "    for l in common_words:\n",
    "        w,c = l\n",
    "\n",
    "    all_ngrams[i]=common_words"
   ]
  },
  {
   "cell_type": "markdown",
   "metadata": {},
   "source": [
    "### Wrangle the data to visualize the n-grams"
   ]
  },
  {
   "cell_type": "code",
   "execution_count": 36,
   "metadata": {},
   "outputs": [],
   "source": [
    "# set the index for the data to datetime\n",
    "full_data = full_data.set_index('created_at')"
   ]
  },
  {
   "cell_type": "code",
   "execution_count": 37,
   "metadata": {},
   "outputs": [],
   "source": [
    "# make sure the shapes of the tokens and the dataset are the same\n",
    "assert len(all_tokens)==len(full_data), 'The list of tokens and the dataframe should be equal'"
   ]
  },
  {
   "cell_type": "code",
   "execution_count": null,
   "metadata": {},
   "outputs": [],
   "source": []
  },
  {
   "cell_type": "code",
   "execution_count": 38,
   "metadata": {},
   "outputs": [],
   "source": [
    "# create a list of diffent days in the dataset\n",
    "date_ranges=pd.date_range(start=full_data.index.min(), end=full_data.index.max(), freq='D')\n",
    "date_ranges=date_ranges.strftime('%m-%d-%Y') # reformat\n",
    "\n",
    "# create a list of al the most common ngrams, top 10 for each ngram\n",
    "top_ngrams = [words[0] for ngrams in all_ngrams.values() for words in ngrams]\n",
    "\n",
    "# empty dictionary to hold number of ngrams for each date\n",
    "ngram_by_date=defaultdict(list) \n",
    "\n",
    "for date in date_ranges:\n",
    "    # subset the tweets for only that date from the original data\n",
    "    tmp=full_data.loc[date].tokens.tolist() \n",
    "    # create one long list of words from all the tweets for that day\n",
    "    tmp = [word for twt in tmp for word in twt] \n",
    "    # count the words\n",
    "    cnts = Counter(tmp)\n",
    "    \n",
    "    # for each word in the top n_grams list\n",
    "    # add into a dictionary with the date as the key and the\n",
    "    # total count for that word as the value\n",
    "    for w in top_ngrams:\n",
    "        ngram_by_date[date].append(cnts.get(w,0))\n",
    "\n"
   ]
  },
  {
   "cell_type": "markdown",
   "metadata": {},
   "source": [
    "The code above is used to create a dictionary with the top 10 words for each ngram length. It is limited to 10 to plot easier. \n",
    "\n",
    "It can be adjusted to create a dictionary / dataframe for all of the words in all the tweets. This way you can literally see how any word trends over time, not just the top **total** words"
   ]
  },
  {
   "cell_type": "code",
   "execution_count": 39,
   "metadata": {},
   "outputs": [],
   "source": [
    "# create a dataframe from the dictionary\n",
    "ngrams_by_date = pd.DataFrame.from_dict(ngram_by_date, orient='index', columns = top_ngrams)"
   ]
  },
  {
   "cell_type": "code",
   "execution_count": 40,
   "metadata": {},
   "outputs": [
    {
     "name": "stdout",
     "output_type": "stream",
     "text": [
      "{0: [('coronavirus', 36289),\n",
      "     ('vaccine', 25509),\n",
      "     ('vaccinate', 6883),\n",
      "     ('pandemic', 5878),\n",
      "     ('people', 5465),\n",
      "     ('virus', 5029),\n",
      "     ('vaccination', 4820),\n",
      "     ('dose', 4604),\n",
      "     ('get', 4110),\n",
      "     ('vax', 2980)],\n",
      " 1: [('johnson_johnson', 989),\n",
      "     ('pfizer_moderna', 746),\n",
      "     ('anti_vax', 550),\n",
      "     ('2_dose', 509),\n",
      "     ('wear_mask', 507),\n",
      "     ('fully_vaccinate', 445),\n",
      "     ('million_dose', 405),\n",
      "     ('coronavirus_19', 382),\n",
      "     ('pfizer_biontech', 346),\n",
      "     ('receive_dose', 338)],\n",
      " 2: [('coronavirus_hoax_stop', 146),\n",
      "     ('vaccine_dose_reach', 134),\n",
      "     ('risk_defeat_coronavirus', 133),\n",
      "     ('vaccine_nationalism_world', 132),\n",
      "     ('people_live_economy', 132),\n",
      "     ('vaccine_december_2019', 120),\n",
      "     ('pfizer_biontech_moderna', 105),\n",
      "     ('@mark_j_harper', 97),\n",
      "     ('baric_review_moderna', 86),\n",
      "     ('@pfizer_@moderna_tx', 83)],\n",
      " 3: [('white_republicans_large_group', 164),\n",
      "     ('rt_black_vax_hesitancy', 163),\n",
      "     ('headline_reluctant_group_far', 163),\n",
      "     ('health_worker_vulnerable_globally', 154),\n",
      "     ('rt_disgrace_occupant_convince', 145),\n",
      "     ('hello_@potus_@borisjohnson_@justintrudeau', 128),\n",
      "     ('@jpn_pmo_start_donate', 128),\n",
      "     ('effective_prevent_illness_death', 99),\n",
      "     ('fda_authorize_johnson_johnson', 95),\n",
      "     ('half_million_people_confirm', 90)]}\n"
     ]
    }
   ],
   "source": [
    "# The top 10 ngrams\n",
    "pprint(all_ngrams)"
   ]
  },
  {
   "cell_type": "markdown",
   "metadata": {},
   "source": [
    "### Plot ngrams over time"
   ]
  },
  {
   "cell_type": "code",
   "execution_count": 41,
   "metadata": {},
   "outputs": [
    {
     "data": {
      "image/png": "[encoded data removed]",
      "text/plain": [
       "<Figure size 1440x1080 with 1 Axes>"
      ]
     },
     "metadata": {
      "needs_background": "light"
     },
     "output_type": "display_data"
    }
   ],
   "source": [
    "# plot the ngrams over time\n",
    "# use the number '_' to decide which ngrams to show, ie. 1=bigrams  'j_j'\n",
    "to_drop=[x for x in ngrams_by_date.columns if x.count('_') !=0]\n",
    "\n",
    "fig, ax = plt.subplots(figsize=(20,15))\n",
    "_=sns.lineplot(data=ngrams_by_date.drop(to_drop, axis=1), palette='deep')\n",
    "\n",
    "plt.xlabel('Day')\n",
    "plt.ylabel('# used')\n",
    "plt.title('Top 10 3+grams')\n",
    "plt.show()\n",
    "# plt.savefig('3+gram.png', bbox_inches='tight')\n"
   ]
  },
  {
   "cell_type": "markdown",
   "metadata": {},
   "source": [
    "Because the tweets were gathered by search terms such as 'covid' (and spelling variations) and 'vaccine' (and variations) those are the top words used. These can be taken out before doing the analysis to get a better view on search terms (or filter them out before displaying a visualization).\n",
    "\n",
    "The terms were left in to help with modeling"
   ]
  },
  {
   "cell_type": "code",
   "execution_count": 42,
   "metadata": {},
   "outputs": [],
   "source": [
    "## Save updated dataset"
   ]
  },
  {
   "cell_type": "code",
   "execution_count": 43,
   "metadata": {},
   "outputs": [],
   "source": [
    "full_data.to_csv(data_path+'\\\\'+'temp_full_data.csv')"
   ]
  }
 ],
 "metadata": {
  "kernelspec": {
   "display_name": "dk-covid",
   "language": "python",
   "name": "dk-covid"
  },
  "language_info": {
   "codemirror_mode": {
    "name": "ipython",
    "version": 3
   },
   "file_extension": ".py",
   "mimetype": "text/x-python",
   "name": "python",
   "nbconvert_exporter": "python",
   "pygments_lexer": "ipython3",
   "version": "3.8.8"
  }
 },
 "nbformat": 4,
 "nbformat_minor": 4
}
