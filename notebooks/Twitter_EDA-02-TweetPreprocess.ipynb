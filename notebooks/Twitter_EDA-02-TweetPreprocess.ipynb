{
 "cells": [
  {
   "cell_type": "markdown",
   "id": "hungarian-universal",
   "metadata": {},
   "source": [
    "### The goal of this notebook is to: \n",
    "\n",
    "    1) Preprocess Tweets for further analysis and \n",
    "    2) Extract/Preprocess information that is best served separately from the main text, like @'s or other manually inserted tags\n",
    "    \n",
    "**This analysis will draw from the cleaned english language tweet set**\n",
    "- link: "
   ]
  },
  {
   "cell_type": "code",
   "execution_count": null,
   "id": "classified-portugal",
   "metadata": {},
   "outputs": [],
   "source": [
    "raw_text_en = None"
   ]
  },
  {
   "cell_type": "code",
   "execution_count": 2,
   "id": "removed-petersburg",
   "metadata": {},
   "outputs": [],
   "source": [
    "test_set = ['healthcanada', 'healthcare', 'healthcareheroes', 'healthcenter', \n",
    "            'healthcomm', 'healthdata', 'healthfreedom', 'healthtips', \n",
    "            'healthtrends', 'healthwatch', 'healthygut', 'mbnaturecare', \n",
    "            'ovhealthcare', 'right2cure', 'thewalrusarchive', 'tohellwithcorona', 'wealthtax']"
   ]
  },
  {
   "cell_type": "code",
   "execution_count": 5,
   "id": "ultimate-works",
   "metadata": {},
   "outputs": [],
   "source": [
    "import distance\n",
    "import numpy as np"
   ]
  },
  {
   "cell_type": "code",
   "execution_count": 6,
   "id": "affected-arctic",
   "metadata": {},
   "outputs": [],
   "source": [
    "words = np.asarray(test_set)\n",
    "lev_similarity = -1*np.array([[distance.levenshtein(w1,w2) for w1 in words] for w2 in words])"
   ]
  },
  {
   "cell_type": "code",
   "execution_count": 27,
   "id": "surface-porter",
   "metadata": {},
   "outputs": [
    {
     "data": {
      "text/plain": [
       "array([[  0,  -4,  -8,  -4,  -5,  -4,  -6,  -6,  -5,  -5,  -6, -10,  -6,\n",
       "        -10, -11,  -9,  -6],\n",
       "       [ -4,   0,  -6,  -4,  -3,  -3,  -6,  -4,  -5,  -4,  -4,  -7,  -2,\n",
       "         -6,  -9,  -9,  -4],\n",
       "       [ -8,  -6,   0,  -7,  -8,  -9,  -6,  -9,  -7,  -8, -10, -11,  -8,\n",
       "        -12, -10, -12, -10],\n",
       "       [ -4,  -4,  -7,   0,  -5,  -5,  -6,  -6,  -5,  -5,  -5, -10,  -6,\n",
       "         -9, -11, -10,  -6],\n",
       "       [ -5,  -3,  -8,  -5,   0,  -4,  -6,  -4,  -6,  -5,  -4, -10,  -5,\n",
       "         -8, -11,  -9,  -5],\n",
       "       [ -4,  -3,  -9,  -5,  -4,   0,  -7,  -4,  -6,  -3,  -4, -10,  -5,\n",
       "         -9, -11, -10,  -4],\n",
       "       [ -6,  -6,  -6,  -6,  -6,  -7,   0,  -7,  -4,  -7,  -7, -10,  -8,\n",
       "        -11, -11, -12,  -8],\n",
       "       [ -6,  -4,  -9,  -6,  -4,  -4,  -7,   0,  -4,  -5,  -4, -11,  -6,\n",
       "         -9, -11, -11,  -4],\n",
       "       [ -5,  -5,  -7,  -5,  -6,  -6,  -4,  -4,   0,  -6,  -6, -10,  -7,\n",
       "        -10, -11, -10,  -6],\n",
       "       [ -5,  -4,  -8,  -5,  -5,  -3,  -7,  -5,  -6,   0,  -5, -11,  -6,\n",
       "        -10,  -9, -11,  -5],\n",
       "       [ -6,  -4, -10,  -5,  -4,  -4,  -7,  -4,  -6,  -5,   0, -11,  -6,\n",
       "         -9, -12, -11,  -5],\n",
       "       [-10,  -7, -11, -10, -10, -10, -10, -11, -10, -11, -11,   0,  -8,\n",
       "         -8, -12, -14, -10],\n",
       "       [ -6,  -2,  -8,  -6,  -5,  -5,  -8,  -6,  -7,  -6,  -6,  -8,   0,\n",
       "         -8, -10,  -9,  -6],\n",
       "       [-10,  -6, -12,  -9,  -8,  -9, -11,  -9, -10, -10,  -9,  -8,  -8,\n",
       "          0, -13, -13,  -9],\n",
       "       [-11,  -9, -10, -11, -11, -11, -11, -11, -11,  -9, -12, -12, -10,\n",
       "        -13,   0, -13, -12],\n",
       "       [ -9,  -9, -12, -10,  -9, -10, -12, -11, -10, -11, -11, -14,  -9,\n",
       "        -13, -13,   0, -12],\n",
       "       [ -6,  -4, -10,  -6,  -5,  -4,  -8,  -4,  -6,  -5,  -5, -10,  -6,\n",
       "         -9, -12, -12,   0]])"
      ]
     },
     "execution_count": 27,
     "metadata": {},
     "output_type": "execute_result"
    }
   ],
   "source": [
    "lev_similarity"
   ]
  },
  {
   "cell_type": "code",
   "execution_count": 34,
   "id": "metropolitan-intent",
   "metadata": {},
   "outputs": [],
   "source": [
    "\n",
    "t = np.array(list(map(lambda v: ((v - v.min()) / (v.max() - v.min())).mean(), lev_similarity)))\n",
    "t > t.mean()"
   ]
  },
  {
   "cell_type": "code",
   "execution_count": 36,
   "id": "seven-terrorist",
   "metadata": {},
   "outputs": [
    {
     "data": {
      "text/plain": [
       "array([ True,  True, False,  True,  True,  True,  True,  True,  True,\n",
       "        True,  True, False, False, False, False, False,  True])"
      ]
     },
     "execution_count": 36,
     "metadata": {},
     "output_type": "execute_result"
    }
   ],
   "source": [
    "t > t.mean()"
   ]
  }
 ],
 "metadata": {
  "kernelspec": {
   "display_name": "Python 3",
   "language": "python",
   "name": "python3"
  },
  "language_info": {
   "codemirror_mode": {
    "name": "ipython",
    "version": 3
   },
   "file_extension": ".py",
   "mimetype": "text/x-python",
   "name": "python",
   "nbconvert_exporter": "python",
   "pygments_lexer": "ipython3",
   "version": "3.9.2"
  }
 },
 "nbformat": 4,
 "nbformat_minor": 5
}
