{
 "cells": [
  {
   "cell_type": "markdown",
   "id": "incorporated-polls",
   "metadata": {},
   "source": [
    "## EDA-01\n",
    "\n",
    "### Questions:\n",
    "1. What rules did you put in place to refine/clean the data?\n",
    "2. What number of duplicates occurred?\n",
    "3. What amount of data was nonsensical?\n",
    "4. What number of unique posts/posters occurred?\n",
    "5. Is there surprising missingness or sparsity (e.g. by time, date, location, etc.)\n",
    "\n",
    "\n"
   ]
  },
  {
   "attachments": {},
   "cell_type": "markdown",
   "id": "periodic-jacket",
   "metadata": {},
   "source": [
    "### Field\tDescription\n",
    "\n",
    "1. **tweet_id**: Unique identifier of the tweet\n",
    "\n",
    "2. **created_at**:\tTime stamp of when the tweet was sent. \n",
    "\n",
    "3. **full_text**:\tThe text of the tweet \n",
    "\n",
    "4. **geo**\tGeo tag of the tweet. Will only be included if user has location services enabled. \n",
    "\n",
    "5. **coordinates** \tLatitude and Longitude of the tweet. Will only be included if the user has location services \n",
    "enabled. \n",
    "\n",
    "6. **place**\tTwitter identified place. Will only be included if the user has location services enabled. \n",
    "\n",
    "7. **retweet_count**\tThe number of retweets the tweet received \n",
    "\n",
    "8. **favorite_count**\tThe number of favorites the tweet received \n",
    "\n",
    "9. **possible_sensitive**\tTwitter flag if the tweet contains sensitive material. This is done by Twitter. If the tweet did not have this tagged by Twitter, we imputed NOT FOUND\n",
    "\n",
    "10. **lang**\tThe language of the tweet. We filtered towards English 'en' \n",
    "\n",
    "11. **user_id**\tThe unique identiifer of the person or entity sending the tweet\n",
    "\n",
    "### Data Collection Methodology \n",
    "The twitter public API allows for a query based keyword search to return 100 random samples of tweets containing keywords from the previous 7 days.\n",
    "\n",
    "Data was scraped from February 23 - March 3 searching for either a combination of a Covid-19 related keyword and a vaccine related key word, or just containing a hashtag keyword.\n",
    "\n",
    "The queries were randomly generated with the above logic in order to obtain unique tweets per API request.\n"
   ]
  },
  {
   "cell_type": "code",
   "execution_count": 1,
   "id": "understanding-empire",
   "metadata": {},
   "outputs": [],
   "source": [
    "# import data libraries\n",
    "import pandas as pd\n",
    "pd.options.mode.chained_assignment = None  \n",
    "import datetime"
   ]
  },
  {
   "cell_type": "code",
   "execution_count": 2,
   "id": "alternative-moscow",
   "metadata": {},
   "outputs": [],
   "source": [
    "# import viz lib/settings\n",
    "import matplotlib.pyplot as plt\n",
    "\n",
    "%matplotlib inline\n",
    "\n",
    "large = \"22\"\n",
    "med = \"18\"\n",
    "small = \"16\"\n",
    "params = {\"axes.titlesize\": large, \n",
    "        \"legend.fontsize\":large,\n",
    "        \"figure.figsize\":(20,8), \n",
    "        \"axes.labelsize\":med,\n",
    "        \"axes.titlesize\":med,\n",
    "        \"xtick.labelsize\":med,\n",
    "        \"ytick.labelsize\":med,\n",
    "        \"figure.titlesize\":large\n",
    "        }\n",
    "plt.rcParams.update(params)\n",
    "plt.style.use('seaborn-darkgrid')"
   ]
  },
  {
   "cell_type": "code",
   "execution_count": 3,
   "id": "absolute-anxiety",
   "metadata": {},
   "outputs": [],
   "source": [
    "import os \n",
    "# set your cwd\n",
    "my_cwd = \"/home/mriveralanas/projects/Mar21-vaccine-uptake\"\n",
    "os.chdir(my_cwd)"
   ]
  },
  {
   "cell_type": "code",
   "execution_count": 4,
   "id": "handy-journey",
   "metadata": {},
   "outputs": [],
   "source": [
    "# pull local twitter_text\n",
    "raw_text = pd.read_csv(\"data/twitter_gdrive/twitter_text.csv\")"
   ]
  },
  {
   "cell_type": "code",
   "execution_count": 5,
   "id": "broken-wichita",
   "metadata": {},
   "outputs": [
    {
     "data": {
      "text/html": [
       "<div>\n",
       "<style scoped>\n",
       "    .dataframe tbody tr th:only-of-type {\n",
       "        vertical-align: middle;\n",
       "    }\n",
       "\n",
       "    .dataframe tbody tr th {\n",
       "        vertical-align: top;\n",
       "    }\n",
       "\n",
       "    .dataframe thead th {\n",
       "        text-align: right;\n",
       "    }\n",
       "</style>\n",
       "<table border=\"1\" class=\"dataframe\">\n",
       "  <thead>\n",
       "    <tr style=\"text-align: right;\">\n",
       "      <th></th>\n",
       "      <th>tweet_id</th>\n",
       "      <th>created_at</th>\n",
       "      <th>full_text</th>\n",
       "      <th>geo</th>\n",
       "      <th>coordinates</th>\n",
       "      <th>place</th>\n",
       "      <th>retweet_count</th>\n",
       "      <th>favorite_count</th>\n",
       "      <th>possibly_sensitive</th>\n",
       "      <th>lang</th>\n",
       "      <th>user_id</th>\n",
       "    </tr>\n",
       "  </thead>\n",
       "  <tbody>\n",
       "    <tr>\n",
       "      <th>0</th>\n",
       "      <td>1364223054851813377</td>\n",
       "      <td>Tue Feb 23 14:38:16 +0000 2021</td>\n",
       "      <td>Here’s what's in the COVID relief package:\\n \\...</td>\n",
       "      <td>NaN</td>\n",
       "      <td>NaN</td>\n",
       "      <td>NaN</td>\n",
       "      <td>9160</td>\n",
       "      <td>38093</td>\n",
       "      <td>NOT FOUND</td>\n",
       "      <td>en</td>\n",
       "      <td>2.950125e+07</td>\n",
       "    </tr>\n",
       "    <tr>\n",
       "      <th>1</th>\n",
       "      <td>1364381497302671362</td>\n",
       "      <td>Wed Feb 24 01:07:52 +0000 2021</td>\n",
       "      <td>Will the National Endowment for the Arts be he...</td>\n",
       "      <td>NaN</td>\n",
       "      <td>NaN</td>\n",
       "      <td>NaN</td>\n",
       "      <td>6131</td>\n",
       "      <td>18560</td>\n",
       "      <td>NOT FOUND</td>\n",
       "      <td>en</td>\n",
       "      <td>1.201671e+18</td>\n",
       "    </tr>\n",
       "    <tr>\n",
       "      <th>2</th>\n",
       "      <td>1364609594056704002</td>\n",
       "      <td>Wed Feb 24 16:14:15 +0000 2021</td>\n",
       "      <td>This is both anecdotal and early, but many lon...</td>\n",
       "      <td>NaN</td>\n",
       "      <td>NaN</td>\n",
       "      <td>NaN</td>\n",
       "      <td>5941</td>\n",
       "      <td>63174</td>\n",
       "      <td>NOT FOUND</td>\n",
       "      <td>en</td>\n",
       "      <td>3.842872e+07</td>\n",
       "    </tr>\n",
       "    <tr>\n",
       "      <th>3</th>\n",
       "      <td>1364726798412443649</td>\n",
       "      <td>Wed Feb 24 23:59:58 +0000 2021</td>\n",
       "      <td>A Link to Professor Chossudovsky’s Analysis of...</td>\n",
       "      <td>NaN</td>\n",
       "      <td>NaN</td>\n",
       "      <td>NaN</td>\n",
       "      <td>1</td>\n",
       "      <td>0</td>\n",
       "      <td>False</td>\n",
       "      <td>en</td>\n",
       "      <td>2.192010e+09</td>\n",
       "    </tr>\n",
       "    <tr>\n",
       "      <th>4</th>\n",
       "      <td>1364726797947052038</td>\n",
       "      <td>Wed Feb 24 23:59:58 +0000 2021</td>\n",
       "      <td>Children warned over hugging grandparents even...</td>\n",
       "      <td>NaN</td>\n",
       "      <td>NaN</td>\n",
       "      <td>NaN</td>\n",
       "      <td>0</td>\n",
       "      <td>2</td>\n",
       "      <td>False</td>\n",
       "      <td>en</td>\n",
       "      <td>2.868190e+09</td>\n",
       "    </tr>\n",
       "  </tbody>\n",
       "</table>\n",
       "</div>"
      ],
      "text/plain": [
       "              tweet_id                      created_at  \\\n",
       "0  1364223054851813377  Tue Feb 23 14:38:16 +0000 2021   \n",
       "1  1364381497302671362  Wed Feb 24 01:07:52 +0000 2021   \n",
       "2  1364609594056704002  Wed Feb 24 16:14:15 +0000 2021   \n",
       "3  1364726798412443649  Wed Feb 24 23:59:58 +0000 2021   \n",
       "4  1364726797947052038  Wed Feb 24 23:59:58 +0000 2021   \n",
       "\n",
       "                                           full_text  geo coordinates place  \\\n",
       "0  Here’s what's in the COVID relief package:\\n \\...  NaN         NaN   NaN   \n",
       "1  Will the National Endowment for the Arts be he...  NaN         NaN   NaN   \n",
       "2  This is both anecdotal and early, but many lon...  NaN         NaN   NaN   \n",
       "3  A Link to Professor Chossudovsky’s Analysis of...  NaN         NaN   NaN   \n",
       "4  Children warned over hugging grandparents even...  NaN         NaN   NaN   \n",
       "\n",
       "  retweet_count favorite_count possibly_sensitive lang       user_id  \n",
       "0          9160          38093          NOT FOUND   en  2.950125e+07  \n",
       "1          6131          18560          NOT FOUND   en  1.201671e+18  \n",
       "2          5941          63174          NOT FOUND   en  3.842872e+07  \n",
       "3             1              0              False   en  2.192010e+09  \n",
       "4             0              2              False   en  2.868190e+09  "
      ]
     },
     "execution_count": 5,
     "metadata": {},
     "output_type": "execute_result"
    }
   ],
   "source": [
    "raw_text.head()"
   ]
  },
  {
   "cell_type": "code",
   "execution_count": 7,
   "id": "dental-zoning",
   "metadata": {},
   "outputs": [],
   "source": [
    "# pull local twitter_user\n",
    "raw_user = pd.read_csv(\"data/twitter_gdrive/twitter_user.csv\")"
   ]
  },
  {
   "cell_type": "code",
   "execution_count": 8,
   "id": "specialized-squad",
   "metadata": {},
   "outputs": [
    {
     "data": {
      "text/html": [
       "<div>\n",
       "<style scoped>\n",
       "    .dataframe tbody tr th:only-of-type {\n",
       "        vertical-align: middle;\n",
       "    }\n",
       "\n",
       "    .dataframe tbody tr th {\n",
       "        vertical-align: top;\n",
       "    }\n",
       "\n",
       "    .dataframe thead th {\n",
       "        text-align: right;\n",
       "    }\n",
       "</style>\n",
       "<table border=\"1\" class=\"dataframe\">\n",
       "  <thead>\n",
       "    <tr style=\"text-align: right;\">\n",
       "      <th></th>\n",
       "      <th>user_id</th>\n",
       "      <th>user_location</th>\n",
       "      <th>user_verified</th>\n",
       "      <th>user_followers_count</th>\n",
       "    </tr>\n",
       "  </thead>\n",
       "  <tbody>\n",
       "    <tr>\n",
       "      <th>0</th>\n",
       "      <td>29501253</td>\n",
       "      <td>Burbank, CA</td>\n",
       "      <td>True</td>\n",
       "      <td>2931387</td>\n",
       "    </tr>\n",
       "    <tr>\n",
       "      <th>1</th>\n",
       "      <td>1201670995435646976</td>\n",
       "      <td>Colorado, USA</td>\n",
       "      <td>True</td>\n",
       "      <td>557873</td>\n",
       "    </tr>\n",
       "    <tr>\n",
       "      <th>2</th>\n",
       "      <td>38428725</td>\n",
       "      <td>NaN</td>\n",
       "      <td>True</td>\n",
       "      <td>124131</td>\n",
       "    </tr>\n",
       "    <tr>\n",
       "      <th>3</th>\n",
       "      <td>2192010002</td>\n",
       "      <td>here &amp; now  🇺🇸</td>\n",
       "      <td>False</td>\n",
       "      <td>2947</td>\n",
       "    </tr>\n",
       "    <tr>\n",
       "      <th>4</th>\n",
       "      <td>2868189989</td>\n",
       "      <td>Brighton UK and Bayonne France</td>\n",
       "      <td>False</td>\n",
       "      <td>2556</td>\n",
       "    </tr>\n",
       "  </tbody>\n",
       "</table>\n",
       "</div>"
      ],
      "text/plain": [
       "               user_id                   user_location  user_verified  \\\n",
       "0             29501253                     Burbank, CA           True   \n",
       "1  1201670995435646976                   Colorado, USA           True   \n",
       "2             38428725                             NaN           True   \n",
       "3           2192010002                  here & now  🇺🇸          False   \n",
       "4           2868189989  Brighton UK and Bayonne France          False   \n",
       "\n",
       "   user_followers_count  \n",
       "0               2931387  \n",
       "1                557873  \n",
       "2                124131  \n",
       "3                  2947  \n",
       "4                  2556  "
      ]
     },
     "execution_count": 8,
     "metadata": {},
     "output_type": "execute_result"
    }
   ],
   "source": [
    "raw_user.head()"
   ]
  },
  {
   "cell_type": "code",
   "execution_count": 10,
   "id": "wrong-documentation",
   "metadata": {},
   "outputs": [],
   "source": [
    "# pull local twitter_hashtag\n",
    "raw_hashtag = pd.read_csv(\"data/twitter_gdrive/twitter_hashtag.csv\")"
   ]
  },
  {
   "cell_type": "code",
   "execution_count": 11,
   "id": "exciting-speed",
   "metadata": {},
   "outputs": [
    {
     "data": {
      "text/html": [
       "<div>\n",
       "<style scoped>\n",
       "    .dataframe tbody tr th:only-of-type {\n",
       "        vertical-align: middle;\n",
       "    }\n",
       "\n",
       "    .dataframe tbody tr th {\n",
       "        vertical-align: top;\n",
       "    }\n",
       "\n",
       "    .dataframe thead th {\n",
       "        text-align: right;\n",
       "    }\n",
       "</style>\n",
       "<table border=\"1\" class=\"dataframe\">\n",
       "  <thead>\n",
       "    <tr style=\"text-align: right;\">\n",
       "      <th></th>\n",
       "      <th>hashtags</th>\n",
       "      <th>tweet_id</th>\n",
       "    </tr>\n",
       "  </thead>\n",
       "  <tbody>\n",
       "    <tr>\n",
       "      <th>0</th>\n",
       "      <td>Covid</td>\n",
       "      <td>1364726798412443649</td>\n",
       "    </tr>\n",
       "    <tr>\n",
       "      <th>1</th>\n",
       "      <td>COVID19</td>\n",
       "      <td>1364726771606691845</td>\n",
       "    </tr>\n",
       "    <tr>\n",
       "      <th>2</th>\n",
       "      <td>COVID19</td>\n",
       "      <td>1364726746797367297</td>\n",
       "    </tr>\n",
       "    <tr>\n",
       "      <th>3</th>\n",
       "      <td>eviction</td>\n",
       "      <td>1364726728183144449</td>\n",
       "    </tr>\n",
       "    <tr>\n",
       "      <th>4</th>\n",
       "      <td>ChuckSchumer</td>\n",
       "      <td>1364726702027530241</td>\n",
       "    </tr>\n",
       "  </tbody>\n",
       "</table>\n",
       "</div>"
      ],
      "text/plain": [
       "       hashtags             tweet_id\n",
       "0         Covid  1364726798412443649\n",
       "1       COVID19  1364726771606691845\n",
       "2       COVID19  1364726746797367297\n",
       "3      eviction  1364726728183144449\n",
       "4  ChuckSchumer  1364726702027530241"
      ]
     },
     "execution_count": 11,
     "metadata": {},
     "output_type": "execute_result"
    }
   ],
   "source": [
    "raw_hashtag.head()"
   ]
  },
  {
   "cell_type": "markdown",
   "id": "structured-vietnam",
   "metadata": {},
   "source": [
    "### What is the Tweet location distribution over the 7 day window?"
   ]
  },
  {
   "cell_type": "code",
   "execution_count": null,
   "id": "affecting-cambridge",
   "metadata": {},
   "outputs": [],
   "source": [
    "def convert_date(d):\n",
    "    if pd.isnull(d):\n",
    "        return \"NOT FOUND\"\n",
    "    else:\n",
    "        new_d = datetime.datetime.strptime(d, \"%a %b %d %H:%M:%S +0000 %Y\").strftime(\"%Y-%m-%d\")\n",
    "        return new_d\n",
    "\n",
    "raw_data['date'] = list(map(lambda d: convert_date(d), raw_data['created_at']))\n"
   ]
  },
  {
   "cell_type": "code",
   "execution_count": null,
   "id": "concerned-quarterly",
   "metadata": {},
   "outputs": [],
   "source": [
    "tweet_time_geo = raw_data[['tweet_id', 'date', 'geo', 'coordinates', 'place', 'lang', 'user_id']]"
   ]
  },
  {
   "cell_type": "code",
   "execution_count": null,
   "id": "funded-signature",
   "metadata": {},
   "outputs": [],
   "source": [
    "tweet_bydate = tweet_time_geo[['date','tweet_id']].groupby(['date'])['tweet_id'].count().reset_index()\n",
    "\n",
    "x = tweet_bydate['date']\n",
    "y = tweet_bydate['tweet_id']\n",
    "\n",
    "x_pos = [i for i, _ in enumerate(x)]\n",
    "plt.bar(x_pos, y, color='green')\n",
    "plt.xlabel(\"Energy Source\")\n",
    "plt.ylabel(\"Energy Output (GJ)\")\n",
    "plt.title(\"Energy output from various fuel sources\")\n",
    "\n",
    "plt.xticks(x_pos, x)\n",
    "\n",
    "plt.show()"
   ]
  },
  {
   "cell_type": "code",
   "execution_count": null,
   "id": "normal-suicide",
   "metadata": {},
   "outputs": [],
   "source": [
    "# geo field not useful\n",
    "tweet_time_geo.groupby(['geo'])['place'].count()"
   ]
  },
  {
   "cell_type": "code",
   "execution_count": null,
   "id": "fantastic-hungary",
   "metadata": {},
   "outputs": [],
   "source": [
    "tweet_time_geo.dropna()"
   ]
  },
  {
   "cell_type": "code",
   "execution_count": null,
   "id": "impaired-canadian",
   "metadata": {},
   "outputs": [],
   "source": [
    "raw_data.dropna()"
   ]
  },
  {
   "cell_type": "code",
   "execution_count": null,
   "id": "dress-breakdown",
   "metadata": {},
   "outputs": [],
   "source": []
  },
  {
   "cell_type": "code",
   "execution_count": null,
   "id": "boolean-portal",
   "metadata": {},
   "outputs": [],
   "source": []
  },
  {
   "cell_type": "code",
   "execution_count": null,
   "id": "corresponding-composition",
   "metadata": {},
   "outputs": [],
   "source": []
  }
 ],
 "metadata": {
  "kernelspec": {
   "display_name": "Python 3",
   "language": "python",
   "name": "python3"
  },
  "language_info": {
   "codemirror_mode": {
    "name": "ipython",
    "version": 3
   },
   "file_extension": ".py",
   "mimetype": "text/x-python",
   "name": "python",
   "nbconvert_exporter": "python",
   "pygments_lexer": "ipython3",
   "version": "3.9.2"
  }
 },
 "nbformat": 4,
 "nbformat_minor": 5
}
