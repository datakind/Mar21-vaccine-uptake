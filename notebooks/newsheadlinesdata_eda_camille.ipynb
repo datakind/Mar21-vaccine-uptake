{
 "cells": [
  {
   "cell_type": "code",
   "execution_count": 207,
   "metadata": {},
   "outputs": [],
   "source": [
    "# import basic libraries\n",
    "import pandas as pd\n",
    "import numpy as np\n",
    "import nltk\n",
    "import matplotlib.pyplot as plt\n",
    "from wordcloud import WordCloud\n",
    "pd.set_option('display.max_colwidth', None)"
   ]
  },
  {
   "cell_type": "code",
   "execution_count": 103,
   "metadata": {},
   "outputs": [],
   "source": [
    "# specify data file\n",
    "import pathlib\n",
    "datafile = pathlib.Path.cwd().parent / \"data\" / \"news_headlines\"/ \"news_headline_data.csv\""
   ]
  },
  {
   "cell_type": "code",
   "execution_count": 123,
   "metadata": {},
   "outputs": [],
   "source": [
    "# create data frame\n",
    "df = pd.read_csv(datafile)"
   ]
  },
  {
   "cell_type": "code",
   "execution_count": 124,
   "metadata": {},
   "outputs": [
    {
     "data": {
      "text/html": [
       "<div>\n",
       "<style scoped>\n",
       "    .dataframe tbody tr th:only-of-type {\n",
       "        vertical-align: middle;\n",
       "    }\n",
       "\n",
       "    .dataframe tbody tr th {\n",
       "        vertical-align: top;\n",
       "    }\n",
       "\n",
       "    .dataframe thead th {\n",
       "        text-align: right;\n",
       "    }\n",
       "</style>\n",
       "<table border=\"1\" class=\"dataframe\">\n",
       "  <thead>\n",
       "    <tr style=\"text-align: right;\">\n",
       "      <th></th>\n",
       "      <th>publisher</th>\n",
       "      <th>date</th>\n",
       "      <th>link</th>\n",
       "      <th>article_title</th>\n",
       "    </tr>\n",
       "  </thead>\n",
       "  <tbody>\n",
       "    <tr>\n",
       "      <th>0</th>\n",
       "      <td>breitbart</td>\n",
       "      <td>2021-03-03</td>\n",
       "      <td>https://www.breitbart.com/entertainment/2021/03/03/michael-moore-white-texans-dont-deserve-the-covid-19-vaccine-after-mask-mandate-lifted/</td>\n",
       "      <td>Michael Moore: White Texans Don’t Deserve the COVID-19 Vaccine After Mask Mandate Lifted</td>\n",
       "    </tr>\n",
       "    <tr>\n",
       "      <th>1</th>\n",
       "      <td>breitbart</td>\n",
       "      <td>2021-03-04</td>\n",
       "      <td>https://www.breitbart.com/clips/2021/03/04/netanyahu-snl-michael-ches-claim-israel-vaccinated-only-jewish-half-of-population-outrageous/</td>\n",
       "      <td>Netanyahu: SNL Michael Che’s Claim Israel Vaccinated Only ‘Jewish Half’ of Population ‘Outrageous’</td>\n",
       "    </tr>\n",
       "    <tr>\n",
       "      <th>2</th>\n",
       "      <td>breitbart</td>\n",
       "      <td>2021-03-06</td>\n",
       "      <td>https://www.breitbart.com/europe/2021/03/06/vaxi-taxis-dashing-around-london-help-boost-vaccine-uptake-among-ethnic-minorities/</td>\n",
       "      <td>‘Vaxi Taxis’ Dash Around London, Help Boost Vaccine Uptake Among Ethnic Minorities</td>\n",
       "    </tr>\n",
       "    <tr>\n",
       "      <th>3</th>\n",
       "      <td>breitbart</td>\n",
       "      <td>2021-03-06</td>\n",
       "      <td>https://www.breitbart.com/faith/2021/03/06/catholic-scholars-reassert-moral-acceptability-receiving-covid-19-vaccines/</td>\n",
       "      <td>Catholic Scholars Reassert ‘Moral Acceptability of Receiving COVID-19 Vaccines’</td>\n",
       "    </tr>\n",
       "    <tr>\n",
       "      <th>4</th>\n",
       "      <td>breitbart</td>\n",
       "      <td>2021-03-05</td>\n",
       "      <td>https://www.breitbart.com/health/2021/03/05/anthony-fauci-military-members-skipping-vaccine-are-inadvertently-part-of-the-problem/</td>\n",
       "      <td>Anthony Fauci: Military Members Skipping Vaccine Are Inadvertently ‘Part of the Problem’</td>\n",
       "    </tr>\n",
       "  </tbody>\n",
       "</table>\n",
       "</div>"
      ],
      "text/plain": [
       "   publisher        date  \\\n",
       "0  breitbart  2021-03-03   \n",
       "1  breitbart  2021-03-04   \n",
       "2  breitbart  2021-03-06   \n",
       "3  breitbart  2021-03-06   \n",
       "4  breitbart  2021-03-05   \n",
       "\n",
       "                                                                                                                                         link  \\\n",
       "0  https://www.breitbart.com/entertainment/2021/03/03/michael-moore-white-texans-dont-deserve-the-covid-19-vaccine-after-mask-mandate-lifted/   \n",
       "1    https://www.breitbart.com/clips/2021/03/04/netanyahu-snl-michael-ches-claim-israel-vaccinated-only-jewish-half-of-population-outrageous/   \n",
       "2             https://www.breitbart.com/europe/2021/03/06/vaxi-taxis-dashing-around-london-help-boost-vaccine-uptake-among-ethnic-minorities/   \n",
       "3                      https://www.breitbart.com/faith/2021/03/06/catholic-scholars-reassert-moral-acceptability-receiving-covid-19-vaccines/   \n",
       "4          https://www.breitbart.com/health/2021/03/05/anthony-fauci-military-members-skipping-vaccine-are-inadvertently-part-of-the-problem/   \n",
       "\n",
       "                                                                                        article_title  \n",
       "0            Michael Moore: White Texans Don’t Deserve the COVID-19 Vaccine After Mask Mandate Lifted  \n",
       "1  Netanyahu: SNL Michael Che’s Claim Israel Vaccinated Only ‘Jewish Half’ of Population ‘Outrageous’  \n",
       "2                  ‘Vaxi Taxis’ Dash Around London, Help Boost Vaccine Uptake Among Ethnic Minorities  \n",
       "3                     Catholic Scholars Reassert ‘Moral Acceptability of Receiving COVID-19 Vaccines’  \n",
       "4            Anthony Fauci: Military Members Skipping Vaccine Are Inadvertently ‘Part of the Problem’  "
      ]
     },
     "execution_count": 124,
     "metadata": {},
     "output_type": "execute_result"
    }
   ],
   "source": [
    "# evaluate data frame\n",
    "df.head()"
   ]
  },
  {
   "cell_type": "code",
   "execution_count": 125,
   "metadata": {},
   "outputs": [
    {
     "data": {
      "text/plain": [
       "publisher        object\n",
       "date             object\n",
       "link             object\n",
       "article_title    object\n",
       "dtype: object"
      ]
     },
     "execution_count": 125,
     "metadata": {},
     "output_type": "execute_result"
    }
   ],
   "source": [
    "df.dtypes"
   ]
  },
  {
   "cell_type": "code",
   "execution_count": 127,
   "metadata": {},
   "outputs": [
    {
     "data": {
      "text/plain": [
       "publisher                object\n",
       "date             datetime64[ns]\n",
       "link                     object\n",
       "article_title            object\n",
       "dtype: object"
      ]
     },
     "execution_count": 127,
     "metadata": {},
     "output_type": "execute_result"
    }
   ],
   "source": [
    "# convert date column to date time\n",
    "df.date = pd.to_datetime(df.date,errors='coerce')\n",
    "df.dtypes"
   ]
  },
  {
   "cell_type": "code",
   "execution_count": 128,
   "metadata": {},
   "outputs": [
    {
     "data": {
      "text/html": [
       "<div>\n",
       "<style scoped>\n",
       "    .dataframe tbody tr th:only-of-type {\n",
       "        vertical-align: middle;\n",
       "    }\n",
       "\n",
       "    .dataframe tbody tr th {\n",
       "        vertical-align: top;\n",
       "    }\n",
       "\n",
       "    .dataframe thead th {\n",
       "        text-align: right;\n",
       "    }\n",
       "</style>\n",
       "<table border=\"1\" class=\"dataframe\">\n",
       "  <thead>\n",
       "    <tr style=\"text-align: right;\">\n",
       "      <th></th>\n",
       "      <th>publisher</th>\n",
       "      <th>date</th>\n",
       "      <th>link</th>\n",
       "      <th>article_title</th>\n",
       "    </tr>\n",
       "  </thead>\n",
       "  <tbody>\n",
       "    <tr>\n",
       "      <th>count</th>\n",
       "      <td>255</td>\n",
       "      <td>254</td>\n",
       "      <td>255</td>\n",
       "      <td>255</td>\n",
       "    </tr>\n",
       "    <tr>\n",
       "      <th>unique</th>\n",
       "      <td>6</td>\n",
       "      <td>123</td>\n",
       "      <td>255</td>\n",
       "      <td>252</td>\n",
       "    </tr>\n",
       "    <tr>\n",
       "      <th>top</th>\n",
       "      <td>politico</td>\n",
       "      <td>2021-03-05 00:00:00</td>\n",
       "      <td>https://apnews.com/article/public-health-health-washington-coronavirus-pandemic-coronavirus-vaccine-58941b08c52dc184975ca56d6ac63ca1</td>\n",
       "      <td>Abortion concerns prompt archdiocese warning on vaccine</td>\n",
       "    </tr>\n",
       "    <tr>\n",
       "      <th>freq</th>\n",
       "      <td>160</td>\n",
       "      <td>25</td>\n",
       "      <td>1</td>\n",
       "      <td>2</td>\n",
       "    </tr>\n",
       "    <tr>\n",
       "      <th>first</th>\n",
       "      <td>NaN</td>\n",
       "      <td>2019-04-12 00:00:00</td>\n",
       "      <td>NaN</td>\n",
       "      <td>NaN</td>\n",
       "    </tr>\n",
       "    <tr>\n",
       "      <th>last</th>\n",
       "      <td>NaN</td>\n",
       "      <td>2021-03-06 00:00:00</td>\n",
       "      <td>NaN</td>\n",
       "      <td>NaN</td>\n",
       "    </tr>\n",
       "  </tbody>\n",
       "</table>\n",
       "</div>"
      ],
      "text/plain": [
       "       publisher                 date  \\\n",
       "count        255                  254   \n",
       "unique         6                  123   \n",
       "top     politico  2021-03-05 00:00:00   \n",
       "freq         160                   25   \n",
       "first        NaN  2019-04-12 00:00:00   \n",
       "last         NaN  2021-03-06 00:00:00   \n",
       "\n",
       "                                                                                                                                        link  \\\n",
       "count                                                                                                                                    255   \n",
       "unique                                                                                                                                   255   \n",
       "top     https://apnews.com/article/public-health-health-washington-coronavirus-pandemic-coronavirus-vaccine-58941b08c52dc184975ca56d6ac63ca1   \n",
       "freq                                                                                                                                       1   \n",
       "first                                                                                                                                    NaN   \n",
       "last                                                                                                                                     NaN   \n",
       "\n",
       "                                                  article_title  \n",
       "count                                                       255  \n",
       "unique                                                      252  \n",
       "top     Abortion concerns prompt archdiocese warning on vaccine  \n",
       "freq                                                          2  \n",
       "first                                                       NaN  \n",
       "last                                                        NaN  "
      ]
     },
     "execution_count": 128,
     "metadata": {},
     "output_type": "execute_result"
    }
   ],
   "source": [
    "# general info on dataframe\n",
    "df.describe(include='all')"
   ]
  },
  {
   "cell_type": "code",
   "execution_count": 129,
   "metadata": {},
   "outputs": [
    {
     "data": {
      "text/plain": [
       "politico            160\n",
       "ap                   48\n",
       "washington_times     20\n",
       "breitbart            15\n",
       "fox                   9\n",
       "dailykos              3\n",
       "Name: publisher, dtype: int64"
      ]
     },
     "execution_count": 129,
     "metadata": {},
     "output_type": "execute_result"
    }
   ],
   "source": [
    "# list of publishers\n",
    "df.publisher.value_counts()"
   ]
  },
  {
   "cell_type": "code",
   "execution_count": 130,
   "metadata": {},
   "outputs": [
    {
     "data": {
      "text/html": [
       "<div>\n",
       "<style scoped>\n",
       "    .dataframe tbody tr th:only-of-type {\n",
       "        vertical-align: middle;\n",
       "    }\n",
       "\n",
       "    .dataframe tbody tr th {\n",
       "        vertical-align: top;\n",
       "    }\n",
       "\n",
       "    .dataframe thead th {\n",
       "        text-align: right;\n",
       "    }\n",
       "</style>\n",
       "<table border=\"1\" class=\"dataframe\">\n",
       "  <thead>\n",
       "    <tr style=\"text-align: right;\">\n",
       "      <th></th>\n",
       "      <th>publisher</th>\n",
       "      <th>date</th>\n",
       "      <th>link</th>\n",
       "      <th>article_title</th>\n",
       "    </tr>\n",
       "  </thead>\n",
       "  <tbody>\n",
       "    <tr>\n",
       "      <th>102</th>\n",
       "      <td>politico</td>\n",
       "      <td>NaT</td>\n",
       "      <td>https://www.politico.com/news/2020/04/27/tracking-the-hunt-for-coronavirus-drugs-and-vaccines-211416</td>\n",
       "      <td>The vaccines that could stop Covid-19</td>\n",
       "    </tr>\n",
       "  </tbody>\n",
       "</table>\n",
       "</div>"
      ],
      "text/plain": [
       "    publisher date  \\\n",
       "102  politico  NaT   \n",
       "\n",
       "                                                                                                     link  \\\n",
       "102  https://www.politico.com/news/2020/04/27/tracking-the-hunt-for-coronavirus-drugs-and-vaccines-211416   \n",
       "\n",
       "                             article_title  \n",
       "102  The vaccines that could stop Covid-19  "
      ]
     },
     "execution_count": 130,
     "metadata": {},
     "output_type": "execute_result"
    }
   ],
   "source": [
    "# identify row which had an error in date\n",
    "df[df.isnull().any(axis=1)]"
   ]
  },
  {
   "cell_type": "markdown",
   "metadata": {},
   "source": [
    "Notes: \n",
    "Date appears to be available in link so I will do a quick fill-in with that"
   ]
  },
  {
   "cell_type": "code",
   "execution_count": 131,
   "metadata": {},
   "outputs": [],
   "source": [
    "# quick replacement\n",
    "df.iloc[102,1]='2020-04-27'"
   ]
  },
  {
   "cell_type": "code",
   "execution_count": 132,
   "metadata": {},
   "outputs": [
    {
     "data": {
      "text/plain": [
       "publisher                object\n",
       "date             datetime64[ns]\n",
       "link                     object\n",
       "article_title            object\n",
       "dtype: object"
      ]
     },
     "execution_count": 132,
     "metadata": {},
     "output_type": "execute_result"
    }
   ],
   "source": [
    "# convert date column to date time\n",
    "df.date = pd.to_datetime(df.date,errors='coerce')\n",
    "df.dtypes"
   ]
  },
  {
   "cell_type": "code",
   "execution_count": 133,
   "metadata": {},
   "outputs": [
    {
     "data": {
      "text/html": [
       "<div>\n",
       "<style scoped>\n",
       "    .dataframe tbody tr th:only-of-type {\n",
       "        vertical-align: middle;\n",
       "    }\n",
       "\n",
       "    .dataframe tbody tr th {\n",
       "        vertical-align: top;\n",
       "    }\n",
       "\n",
       "    .dataframe thead th {\n",
       "        text-align: right;\n",
       "    }\n",
       "</style>\n",
       "<table border=\"1\" class=\"dataframe\">\n",
       "  <thead>\n",
       "    <tr style=\"text-align: right;\">\n",
       "      <th></th>\n",
       "      <th>publisher</th>\n",
       "      <th>date</th>\n",
       "      <th>link</th>\n",
       "      <th>article_title</th>\n",
       "    </tr>\n",
       "  </thead>\n",
       "  <tbody>\n",
       "    <tr>\n",
       "      <th>count</th>\n",
       "      <td>255</td>\n",
       "      <td>255</td>\n",
       "      <td>255</td>\n",
       "      <td>255</td>\n",
       "    </tr>\n",
       "    <tr>\n",
       "      <th>unique</th>\n",
       "      <td>6</td>\n",
       "      <td>124</td>\n",
       "      <td>255</td>\n",
       "      <td>252</td>\n",
       "    </tr>\n",
       "    <tr>\n",
       "      <th>top</th>\n",
       "      <td>politico</td>\n",
       "      <td>2021-03-05 00:00:00</td>\n",
       "      <td>https://apnews.com/article/public-health-health-washington-coronavirus-pandemic-coronavirus-vaccine-58941b08c52dc184975ca56d6ac63ca1</td>\n",
       "      <td>Abortion concerns prompt archdiocese warning on vaccine</td>\n",
       "    </tr>\n",
       "    <tr>\n",
       "      <th>freq</th>\n",
       "      <td>160</td>\n",
       "      <td>25</td>\n",
       "      <td>1</td>\n",
       "      <td>2</td>\n",
       "    </tr>\n",
       "    <tr>\n",
       "      <th>first</th>\n",
       "      <td>NaN</td>\n",
       "      <td>2019-04-12 00:00:00</td>\n",
       "      <td>NaN</td>\n",
       "      <td>NaN</td>\n",
       "    </tr>\n",
       "    <tr>\n",
       "      <th>last</th>\n",
       "      <td>NaN</td>\n",
       "      <td>2021-03-06 00:00:00</td>\n",
       "      <td>NaN</td>\n",
       "      <td>NaN</td>\n",
       "    </tr>\n",
       "  </tbody>\n",
       "</table>\n",
       "</div>"
      ],
      "text/plain": [
       "       publisher                 date  \\\n",
       "count        255                  255   \n",
       "unique         6                  124   \n",
       "top     politico  2021-03-05 00:00:00   \n",
       "freq         160                   25   \n",
       "first        NaN  2019-04-12 00:00:00   \n",
       "last         NaN  2021-03-06 00:00:00   \n",
       "\n",
       "                                                                                                                                        link  \\\n",
       "count                                                                                                                                    255   \n",
       "unique                                                                                                                                   255   \n",
       "top     https://apnews.com/article/public-health-health-washington-coronavirus-pandemic-coronavirus-vaccine-58941b08c52dc184975ca56d6ac63ca1   \n",
       "freq                                                                                                                                       1   \n",
       "first                                                                                                                                    NaN   \n",
       "last                                                                                                                                     NaN   \n",
       "\n",
       "                                                  article_title  \n",
       "count                                                       255  \n",
       "unique                                                      252  \n",
       "top     Abortion concerns prompt archdiocese warning on vaccine  \n",
       "freq                                                          2  \n",
       "first                                                       NaN  \n",
       "last                                                        NaN  "
      ]
     },
     "execution_count": 133,
     "metadata": {},
     "output_type": "execute_result"
    }
   ],
   "source": [
    "df.describe(include='all')"
   ]
  },
  {
   "cell_type": "code",
   "execution_count": 134,
   "metadata": {},
   "outputs": [
    {
     "data": {
      "text/html": [
       "<div>\n",
       "<style scoped>\n",
       "    .dataframe tbody tr th:only-of-type {\n",
       "        vertical-align: middle;\n",
       "    }\n",
       "\n",
       "    .dataframe tbody tr th {\n",
       "        vertical-align: top;\n",
       "    }\n",
       "\n",
       "    .dataframe thead th {\n",
       "        text-align: right;\n",
       "    }\n",
       "</style>\n",
       "<table border=\"1\" class=\"dataframe\">\n",
       "  <thead>\n",
       "    <tr style=\"text-align: right;\">\n",
       "      <th></th>\n",
       "      <th>publisher</th>\n",
       "      <th>date</th>\n",
       "      <th>link</th>\n",
       "      <th>article_title</th>\n",
       "    </tr>\n",
       "  </thead>\n",
       "  <tbody>\n",
       "    <tr>\n",
       "      <th>18</th>\n",
       "      <td>fox</td>\n",
       "      <td>2021-03-05</td>\n",
       "      <td>https://foxnews.com/health/canada-clears-johnson-johnson-vaccine-first-to-approve-4</td>\n",
       "      <td>Canada clears Johnson &amp; Johnson vaccine, first to approve 4</td>\n",
       "    </tr>\n",
       "    <tr>\n",
       "      <th>30</th>\n",
       "      <td>washington_times</td>\n",
       "      <td>2021-03-04</td>\n",
       "      <td>https://www.washingtontimes.com/news/2021/mar/4/eu-regulator-starts-a-review-of-russias-covid-19-v/</td>\n",
       "      <td>EU regulator starts a review of Russia's COVID-19 vaccine</td>\n",
       "    </tr>\n",
       "    <tr>\n",
       "      <th>45</th>\n",
       "      <td>ap</td>\n",
       "      <td>2021-03-05</td>\n",
       "      <td>https://apnews.com/article/canada-coronavirus-pandemic-coronavirus-vaccine-0e155e0690e67777ba2c8e1dd9f7db34</td>\n",
       "      <td>Canada clears Johnson &amp; Johnson vaccine, first to approve 4</td>\n",
       "    </tr>\n",
       "    <tr>\n",
       "      <th>60</th>\n",
       "      <td>ap</td>\n",
       "      <td>2021-03-04</td>\n",
       "      <td>https://apnews.com/article/eu-regulator-review-russia-covid-vaccine-d314e8b56ad7f53bedc7c6dce9fa6861</td>\n",
       "      <td>EU regulator starts a review of Russia's COVID-19 vaccine</td>\n",
       "    </tr>\n",
       "    <tr>\n",
       "      <th>71</th>\n",
       "      <td>ap</td>\n",
       "      <td>2021-03-03</td>\n",
       "      <td>https://apnews.com/article/new-orleans-coronavirus-pandemic-coronavirus-vaccine-26d39c1c8586b10d450788295311d8d1</td>\n",
       "      <td>Abortion concerns prompt archdiocese warning on vaccine</td>\n",
       "    </tr>\n",
       "    <tr>\n",
       "      <th>79</th>\n",
       "      <td>ap</td>\n",
       "      <td>2021-03-02</td>\n",
       "      <td>https://apnews.com/article/new-orleans-coronavirus-pandemic-coronavirus-vaccine-united-states-2aaed802263bcb2414bcb0c3a096ca01</td>\n",
       "      <td>Abortion concerns prompt archdiocese warning on vaccine</td>\n",
       "    </tr>\n",
       "  </tbody>\n",
       "</table>\n",
       "</div>"
      ],
      "text/plain": [
       "           publisher       date  \\\n",
       "18               fox 2021-03-05   \n",
       "30  washington_times 2021-03-04   \n",
       "45                ap 2021-03-05   \n",
       "60                ap 2021-03-04   \n",
       "71                ap 2021-03-03   \n",
       "79                ap 2021-03-02   \n",
       "\n",
       "                                                                                                                              link  \\\n",
       "18                                             https://foxnews.com/health/canada-clears-johnson-johnson-vaccine-first-to-approve-4   \n",
       "30                             https://www.washingtontimes.com/news/2021/mar/4/eu-regulator-starts-a-review-of-russias-covid-19-v/   \n",
       "45                     https://apnews.com/article/canada-coronavirus-pandemic-coronavirus-vaccine-0e155e0690e67777ba2c8e1dd9f7db34   \n",
       "60                            https://apnews.com/article/eu-regulator-review-russia-covid-vaccine-d314e8b56ad7f53bedc7c6dce9fa6861   \n",
       "71                https://apnews.com/article/new-orleans-coronavirus-pandemic-coronavirus-vaccine-26d39c1c8586b10d450788295311d8d1   \n",
       "79  https://apnews.com/article/new-orleans-coronavirus-pandemic-coronavirus-vaccine-united-states-2aaed802263bcb2414bcb0c3a096ca01   \n",
       "\n",
       "                                                  article_title  \n",
       "18  Canada clears Johnson & Johnson vaccine, first to approve 4  \n",
       "30    EU regulator starts a review of Russia's COVID-19 vaccine  \n",
       "45  Canada clears Johnson & Johnson vaccine, first to approve 4  \n",
       "60    EU regulator starts a review of Russia's COVID-19 vaccine  \n",
       "71      Abortion concerns prompt archdiocese warning on vaccine  \n",
       "79      Abortion concerns prompt archdiocese warning on vaccine  "
      ]
     },
     "execution_count": 134,
     "metadata": {},
     "output_type": "execute_result"
    }
   ],
   "source": [
    "#check for duplicates\n",
    "df[df.article_title.duplicated(False) == True] "
   ]
  },
  {
   "cell_type": "markdown",
   "metadata": {},
   "source": [
    "Notes: \n",
    "\n",
    "45-url no longer goes to valid article so I will drop\n",
    "\n",
    "30/60 are the same article with the same authors (maybe bringing in author is available could also help identify duplicates)\n",
    "available from 2 different publishers (based on the notes the authors are listed with ap so I will keep that one in this case)\n",
    "\n",
    "71/79 are same article with same publisher just variations on the url link so I will keep the one with the earliest date"
   ]
  },
  {
   "cell_type": "markdown",
   "metadata": {},
   "source": [
    "Notes:\n",
    "While I am dropping the duplicated articles in this notebook, there is a larger question on how to handle them. Are we trying to understand unique articles or if an article is listed under more than one publisher do we want to consider it twice given it may have greater reach. Things to think about and discuss with partner."
   ]
  },
  {
   "cell_type": "code",
   "execution_count": 135,
   "metadata": {},
   "outputs": [],
   "source": [
    "# drop determined duplicates\n",
    "df.drop(index=[45,30,71],inplace=True)"
   ]
  },
  {
   "cell_type": "code",
   "execution_count": 136,
   "metadata": {},
   "outputs": [
    {
     "data": {
      "text/html": [
       "<div>\n",
       "<style scoped>\n",
       "    .dataframe tbody tr th:only-of-type {\n",
       "        vertical-align: middle;\n",
       "    }\n",
       "\n",
       "    .dataframe tbody tr th {\n",
       "        vertical-align: top;\n",
       "    }\n",
       "\n",
       "    .dataframe thead th {\n",
       "        text-align: right;\n",
       "    }\n",
       "</style>\n",
       "<table border=\"1\" class=\"dataframe\">\n",
       "  <thead>\n",
       "    <tr style=\"text-align: right;\">\n",
       "      <th></th>\n",
       "      <th>publisher</th>\n",
       "      <th>date</th>\n",
       "      <th>link</th>\n",
       "      <th>article_title</th>\n",
       "    </tr>\n",
       "  </thead>\n",
       "  <tbody>\n",
       "    <tr>\n",
       "      <th>count</th>\n",
       "      <td>252</td>\n",
       "      <td>252</td>\n",
       "      <td>252</td>\n",
       "      <td>252</td>\n",
       "    </tr>\n",
       "    <tr>\n",
       "      <th>unique</th>\n",
       "      <td>6</td>\n",
       "      <td>124</td>\n",
       "      <td>252</td>\n",
       "      <td>252</td>\n",
       "    </tr>\n",
       "    <tr>\n",
       "      <th>top</th>\n",
       "      <td>politico</td>\n",
       "      <td>2021-03-05 00:00:00</td>\n",
       "      <td>https://www.politico.com/news/2020/07/13/vaccine-makers-profit-congress-360135</td>\n",
       "      <td>Johnson &amp; Johnson says it can provide 20M vaccine doses by late March</td>\n",
       "    </tr>\n",
       "    <tr>\n",
       "      <th>freq</th>\n",
       "      <td>160</td>\n",
       "      <td>24</td>\n",
       "      <td>1</td>\n",
       "      <td>1</td>\n",
       "    </tr>\n",
       "    <tr>\n",
       "      <th>first</th>\n",
       "      <td>NaN</td>\n",
       "      <td>2019-04-12 00:00:00</td>\n",
       "      <td>NaN</td>\n",
       "      <td>NaN</td>\n",
       "    </tr>\n",
       "    <tr>\n",
       "      <th>last</th>\n",
       "      <td>NaN</td>\n",
       "      <td>2021-03-06 00:00:00</td>\n",
       "      <td>NaN</td>\n",
       "      <td>NaN</td>\n",
       "    </tr>\n",
       "  </tbody>\n",
       "</table>\n",
       "</div>"
      ],
      "text/plain": [
       "       publisher                 date  \\\n",
       "count        252                  252   \n",
       "unique         6                  124   \n",
       "top     politico  2021-03-05 00:00:00   \n",
       "freq         160                   24   \n",
       "first        NaN  2019-04-12 00:00:00   \n",
       "last         NaN  2021-03-06 00:00:00   \n",
       "\n",
       "                                                                                  link  \\\n",
       "count                                                                              252   \n",
       "unique                                                                             252   \n",
       "top     https://www.politico.com/news/2020/07/13/vaccine-makers-profit-congress-360135   \n",
       "freq                                                                                 1   \n",
       "first                                                                              NaN   \n",
       "last                                                                               NaN   \n",
       "\n",
       "                                                                article_title  \n",
       "count                                                                     252  \n",
       "unique                                                                    252  \n",
       "top     Johnson & Johnson says it can provide 20M vaccine doses by late March  \n",
       "freq                                                                        1  \n",
       "first                                                                     NaN  \n",
       "last                                                                      NaN  "
      ]
     },
     "execution_count": 136,
     "metadata": {},
     "output_type": "execute_result"
    }
   ],
   "source": [
    "df.describe(include=\"all\")"
   ]
  },
  {
   "cell_type": "code",
   "execution_count": 293,
   "metadata": {},
   "outputs": [
    {
     "data": {
      "image/png": "[encoded data removed]",
      "text/plain": [
       "<Figure size 720x432 with 1 Axes>"
      ]
     },
     "metadata": {
      "needs_background": "light"
     },
     "output_type": "display_data"
    }
   ],
   "source": [
    "fig, ax = plt.subplots(figsize=(10, 6))\n",
    "df.groupby(df.date.dt.date).size().plot(style=\"o\")\n",
    "ax.set_ylabel(\"count\")\n",
    "ax.set_title(\"All articles\")\n",
    "plt.show()"
   ]
  },
  {
   "cell_type": "markdown",
   "metadata": {},
   "source": [
    "Notes: The current dataset looks very limited to more recent articles"
   ]
  },
  {
   "cell_type": "code",
   "execution_count": 362,
   "metadata": {},
   "outputs": [
    {
     "data": {
      "image/png": "[encoded data removed]",
      "text/plain": [
       "<Figure size 720x432 with 1 Axes>"
      ]
     },
     "metadata": {
      "needs_background": "light"
     },
     "output_type": "display_data"
    }
   ],
   "source": [
    "pzifer=df[df.article_title.str.lower().str.contains('pfizer')]\n",
    "fig, ax = plt.subplots(figsize=(10, 6))\n",
    "pzifer.groupby(pzifer.date.dt.date).size().plot(style=\"o\")\n",
    "ax.set_ylabel(\"count\")\n",
    "ax.set_title(\"Articles containing pfizer\")\n",
    "ax.set_ylim(0)\n",
    "ax.set_yticks([0, 1, 2, 3, 4])\n",
    "plt.show()"
   ]
  },
  {
   "cell_type": "code",
   "execution_count": 370,
   "metadata": {},
   "outputs": [
    {
     "data": {
      "text/html": [
       "<div>\n",
       "<style scoped>\n",
       "    .dataframe tbody tr th:only-of-type {\n",
       "        vertical-align: middle;\n",
       "    }\n",
       "\n",
       "    .dataframe tbody tr th {\n",
       "        vertical-align: top;\n",
       "    }\n",
       "\n",
       "    .dataframe thead th {\n",
       "        text-align: right;\n",
       "    }\n",
       "</style>\n",
       "<table border=\"1\" class=\"dataframe\">\n",
       "  <thead>\n",
       "    <tr style=\"text-align: right;\">\n",
       "      <th></th>\n",
       "      <th>publisher</th>\n",
       "      <th>date</th>\n",
       "      <th>link</th>\n",
       "      <th>article_title</th>\n",
       "    </tr>\n",
       "  </thead>\n",
       "  <tbody>\n",
       "    <tr>\n",
       "      <th>170</th>\n",
       "      <td>politico</td>\n",
       "      <td>2020-11-30</td>\n",
       "      <td>https://www.politico.com/newsletters/playbook-pm/2020/11/30/scary-coronavirus-numbers-and-a-new-relief-effort-491012</td>\n",
       "      <td>POLITICO Playbook PM: Scary coronavirus numbers, and a new relief effort</td>\n",
       "    </tr>\n",
       "    <tr>\n",
       "      <th>221</th>\n",
       "      <td>politico</td>\n",
       "      <td>2020-06-16</td>\n",
       "      <td>https://www.politico.com/newsletters/playbook-pm/2020/06/16/a-peek-inside-trumps-mind-489545</td>\n",
       "      <td>POLITICO Playbook PM: A peek inside Trump’s mind</td>\n",
       "    </tr>\n",
       "    <tr>\n",
       "      <th>223</th>\n",
       "      <td>politico</td>\n",
       "      <td>2020-07-15</td>\n",
       "      <td>https://www.politico.com/newsletters/playbook-pm/2020/07/15/trumps-new-attack-on-biden-489809</td>\n",
       "      <td>POLITICO Playbook PM: Trump’s new attack on Biden</td>\n",
       "    </tr>\n",
       "    <tr>\n",
       "      <th>225</th>\n",
       "      <td>politico</td>\n",
       "      <td>2020-09-11</td>\n",
       "      <td>https://www.politico.com/newsletters/playbook/2020/09/11/the-politics-of-tragedy-490302</td>\n",
       "      <td>POLITICO Playbook: The politics of tragedy</td>\n",
       "    </tr>\n",
       "    <tr>\n",
       "      <th>226</th>\n",
       "      <td>politico</td>\n",
       "      <td>2020-06-10</td>\n",
       "      <td>https://www.politico.com/newsletters/playbook-pm/2020/06/10/news-white-house-crafting-police-overhaul-executive-order-489486</td>\n",
       "      <td>POLITICO Playbook PM: White House crafting police overhaul executive order</td>\n",
       "    </tr>\n",
       "  </tbody>\n",
       "</table>\n",
       "</div>"
      ],
      "text/plain": [
       "    publisher       date  \\\n",
       "170  politico 2020-11-30   \n",
       "221  politico 2020-06-16   \n",
       "223  politico 2020-07-15   \n",
       "225  politico 2020-09-11   \n",
       "226  politico 2020-06-10   \n",
       "\n",
       "                                                                                                                             link  \\\n",
       "170          https://www.politico.com/newsletters/playbook-pm/2020/11/30/scary-coronavirus-numbers-and-a-new-relief-effort-491012   \n",
       "221                                  https://www.politico.com/newsletters/playbook-pm/2020/06/16/a-peek-inside-trumps-mind-489545   \n",
       "223                                 https://www.politico.com/newsletters/playbook-pm/2020/07/15/trumps-new-attack-on-biden-489809   \n",
       "225                                       https://www.politico.com/newsletters/playbook/2020/09/11/the-politics-of-tragedy-490302   \n",
       "226  https://www.politico.com/newsletters/playbook-pm/2020/06/10/news-white-house-crafting-police-overhaul-executive-order-489486   \n",
       "\n",
       "                                                                  article_title  \n",
       "170    POLITICO Playbook PM: Scary coronavirus numbers, and a new relief effort  \n",
       "221                            POLITICO Playbook PM: A peek inside Trump’s mind  \n",
       "223                           POLITICO Playbook PM: Trump’s new attack on Biden  \n",
       "225                                  POLITICO Playbook: The politics of tragedy  \n",
       "226  POLITICO Playbook PM: White House crafting police overhaul executive order  "
      ]
     },
     "execution_count": 370,
     "metadata": {},
     "output_type": "execute_result"
    }
   ],
   "source": [
    "df[df.article_title.str.lower().str.contains('politico')]"
   ]
  },
  {
   "cell_type": "markdown",
   "metadata": {},
   "source": [
    "Notes: There are some article titles that contain a heading for the publisher that could be removed"
   ]
  },
  {
   "cell_type": "code",
   "execution_count": 152,
   "metadata": {},
   "outputs": [
    {
     "name": "stderr",
     "output_type": "stream",
     "text": [
      "[nltk_data] Downloading package punkt to\n",
      "[nltk_data]     C:\\Users\\Camille\\AppData\\Roaming\\nltk_data...\n",
      "[nltk_data]   Package punkt is already up-to-date!\n",
      "[nltk_data] Downloading package stopwords to\n",
      "[nltk_data]     C:\\Users\\Camille\\AppData\\Roaming\\nltk_data...\n",
      "[nltk_data]   Package stopwords is already up-to-date!\n",
      "[nltk_data] Downloading package wordnet to\n",
      "[nltk_data]     C:\\Users\\Camille\\AppData\\Roaming\\nltk_data...\n",
      "[nltk_data]   Package wordnet is already up-to-date!\n"
     ]
    },
    {
     "data": {
      "text/plain": [
       "True"
      ]
     },
     "execution_count": 152,
     "metadata": {},
     "output_type": "execute_result"
    }
   ],
   "source": [
    "# Import/download nltk packages\n",
    "from nltk.tokenize import word_tokenize\n",
    "from nltk.tokenize import sent_tokenize\n",
    "from nltk.corpus import stopwords\n",
    "from nltk.stem import WordNetLemmatizer\n",
    "from nltk.stem import PorterStemmer\n",
    "from collections import Counter\n",
    "nltk.download('punkt')\n",
    "nltk.download('stopwords')\n",
    "nltk.download('wordnet')"
   ]
  },
  {
   "cell_type": "code",
   "execution_count": 363,
   "metadata": {},
   "outputs": [],
   "source": [
    "# User-Entered Parameters\n",
    "textcolumn = \"article_title\"\n",
    "lowercase = True \n",
    "strip_non_alpha = True\n",
    "remove_stopwords = True\n",
    "use_default_stopwords = False\n",
    "user_defined_stopwords = [\"vaccine\",\"to\",\"for\",\"in\",\"of\",\"the\",\"coronavirus\",\"s\",\"on\",\"vaccines\",\"and\",\"covid\",\"is\",\"by\",\"a\",\"as\",\"at\",\"from\",\"with\",\"are\",\"vaccination\",\"its\",\"PoliticoPlaybook\",\"get\",\"says\"]\n",
    "lemmatize_stem_algorithm = \"none\" #other options are \"porter\" and \"wordnet\"\n",
    "subs = {'Johnson & Johnson': 'JohnsonandJohnson',\n",
    "        'White House': 'WhiteHouse',\n",
    "        'Boris Johnson':'BorisJohnson',\n",
    "        'J&J': 'JohnsonandJohnson',\n",
    "        'POLITICO Playbook': 'PoliticoPlaybook',\n",
    "        'West Virginia': 'WestVirginia'}\n",
    "number_top_words = 50\n",
    "number_top_bigrams = 15\n"
   ]
  },
  {
   "cell_type": "markdown",
   "metadata": {},
   "source": [
    "Notes: In the first round I noticed that there are certain words that we would want to avoid splitting up which for a quick fix I added to subs. In the future probably want to do some NER to better identify and adjust:\n",
    "(('johnson', 'johnson'), 13),\n",
    " (('boris', 'johnson'), 11),\n",
    " (('j', 'j'), 8),\n",
    " (('politico', 'playbook'), 5),\n",
    " (('white', 'house'), 4),"
   ]
  },
  {
   "cell_type": "code",
   "execution_count": 356,
   "metadata": {},
   "outputs": [
    {
     "name": "stdout",
     "output_type": "stream",
     "text": [
      "['i', 'me', 'my', 'myself', 'we', 'our', 'ours', 'ourselves', 'you', \"you're\", \"you've\", \"you'll\", \"you'd\", 'your', 'yours', 'yourself', 'yourselves', 'he', 'him', 'his', 'himself', 'she', \"she's\", 'her', 'hers', 'herself', 'it', \"it's\", 'its', 'itself', 'they', 'them', 'their', 'theirs', 'themselves', 'what', 'which', 'who', 'whom', 'this', 'that', \"that'll\", 'these', 'those', 'am', 'is', 'are', 'was', 'were', 'be', 'been', 'being', 'have', 'has', 'had', 'having', 'do', 'does', 'did', 'doing', 'a', 'an', 'the', 'and', 'but', 'if', 'or', 'because', 'as', 'until', 'while', 'of', 'at', 'by', 'for', 'with', 'about', 'against', 'between', 'into', 'through', 'during', 'before', 'after', 'above', 'below', 'to', 'from', 'up', 'down', 'in', 'out', 'on', 'off', 'over', 'under', 'again', 'further', 'then', 'once', 'here', 'there', 'when', 'where', 'why', 'how', 'all', 'any', 'both', 'each', 'few', 'more', 'most', 'other', 'some', 'such', 'no', 'nor', 'not', 'only', 'own', 'same', 'so', 'than', 'too', 'very', 's', 't', 'can', 'will', 'just', 'don', \"don't\", 'should', \"should've\", 'now', 'd', 'll', 'm', 'o', 're', 've', 'y', 'ain', 'aren', \"aren't\", 'couldn', \"couldn't\", 'didn', \"didn't\", 'doesn', \"doesn't\", 'hadn', \"hadn't\", 'hasn', \"hasn't\", 'haven', \"haven't\", 'isn', \"isn't\", 'ma', 'mightn', \"mightn't\", 'mustn', \"mustn't\", 'needn', \"needn't\", 'shan', \"shan't\", 'shouldn', \"shouldn't\", 'wasn', \"wasn't\", 'weren', \"weren't\", 'won', \"won't\", 'wouldn', \"wouldn't\"]\n"
     ]
    }
   ],
   "source": [
    "# list English stopwords\n",
    "print(stopwords.words('english'))"
   ]
  },
  {
   "cell_type": "markdown",
   "metadata": {},
   "source": [
    "Notes:\n",
    "The typical stopwords would remove many verbs which we need to understand sentiment and also we need to consider contractions to understand the not cases of verbs\n"
   ]
  },
  {
   "cell_type": "code",
   "execution_count": 357,
   "metadata": {},
   "outputs": [],
   "source": [
    "# Create list of text column values\n",
    "doc = pd.Series.tolist(df[textcolumn])\n",
    "\n",
    "# Create sentence and word tokens using NLTK tokenizers\n",
    "sentences = [sent_tokenize(i) for i in doc]\n",
    "tokenized_sentences = [word_tokenize(i) for i in doc]\n",
    "words= []\n",
    "for s in sentences:\n",
    "    for from_, to in subs.items():\n",
    "        s[0] = re.sub(from_, to, s[0], flags=re.IGNORECASE)\n",
    "        for i in s:\n",
    "            words += word_tokenize(i)  \n",
    "        \n",
    "# Lowercase word tokens\n",
    "if lowercase == True:\n",
    "    words = [w.lower() for w in words]\n",
    "    tokenized_sentences = [[w.lower() for w in s] for s in tokenized_sentences]\n",
    "    \n",
    "# Strip non-alphabetic tokens\n",
    "if strip_non_alpha == True:\n",
    "    words = [w for w in words if w.isalpha()]\n",
    "    tokenized_sentences = [[w for w in s if w.isalpha()] for s in tokenized_sentences]\n",
    "\n",
    "# Remove stopwords from tokens\n",
    "if use_default_stopwords == True:\n",
    "    stopwords_all = stopwords.words('english')+user_defined_stopwords\n",
    "    stopwords_all = [sw for sw in stopwords_all if sw not in [\"not\",\"no\"]] #modification to keep in negatives\n",
    "else:\n",
    "    stopwords_all = user_defined_stopwords    \n",
    "\n",
    "if remove_stopwords == True:\n",
    "    words = [w for w in words if w not in stopwords_all]\n",
    "    tokenized_sentences = [[w for w in s if w not in stopwords_all] for s in tokenized_sentences]\n",
    "       \n",
    "# Stem/lemmatize word tokens\n",
    "if lemmatize_stem_algorithm == \"wordnet\":\n",
    "    wordnet_lemmatizer = WordNetLemmatizer() \n",
    "    words = [wordnet_lemmatizer.lemmatize(w) for w in words]\n",
    "    tokenized_sentences = [[wordnet_lemmatizer.lemmatize(w) for w in s] for s in tokenized_sentences]\n",
    "elif lemmatize_stem_algorithm == \"porter\":\n",
    "    porter = PorterStemmer() \n",
    "    words = [porter.stem(w) for w in words]\n",
    "    tokenized_sentences = [[porter.stem(w) for w in s] for s in tokenized_sentences]\n",
    "else:\n",
    "    words = words\n",
    "    \n",
    "#print(\"Some tokenized sentences:\",tokenized_sentences[:4])\n",
    "#print(\"\\nSome sentences:\",sentences[:4])\n",
    "#print(\"\\nSome words:\",words[:15])"
   ]
  },
  {
   "cell_type": "code",
   "execution_count": 364,
   "metadata": {},
   "outputs": [
    {
     "data": {
      "text/plain": [
       "[('doses', 150),\n",
       " ('trump', 144),\n",
       " ('biden', 126),\n",
       " ('pfizer', 108),\n",
       " ('vax', 102),\n",
       " ('johnsonandjohnson', 102),\n",
       " ('moderna', 96),\n",
       " ('fda', 84),\n",
       " ('after', 78),\n",
       " ('new', 72),\n",
       " ('astrazeneca', 66),\n",
       " ('immunity', 66),\n",
       " ('up', 54),\n",
       " ('more', 54),\n",
       " ('virus', 54),\n",
       " ('j', 48),\n",
       " ('over', 48),\n",
       " ('borisjohnson', 44),\n",
       " ('amid', 42),\n",
       " ('what', 42),\n",
       " ('health', 42),\n",
       " ('panel', 42),\n",
       " ('t', 36),\n",
       " ('canada', 36),\n",
       " ('may', 36),\n",
       " ('eu', 36),\n",
       " ('not', 36),\n",
       " ('first', 36),\n",
       " ('shot', 36),\n",
       " ('shots', 36),\n",
       " ('week', 36),\n",
       " ('could', 36),\n",
       " ('israel', 30),\n",
       " ('down', 30),\n",
       " ('state', 30),\n",
       " ('public', 30),\n",
       " ('should', 30),\n",
       " ('emergency', 30),\n",
       " ('latest', 30),\n",
       " ('next', 30),\n",
       " ('police', 30),\n",
       " ('effective', 30),\n",
       " ('seek', 30),\n",
       " ('authorization', 30),\n",
       " ('mask', 24),\n",
       " ('half', 24),\n",
       " ('uk', 24),\n",
       " ('backs', 24),\n",
       " ('cdc', 24),\n",
       " ('plan', 24)]"
      ]
     },
     "execution_count": 364,
     "metadata": {},
     "output_type": "execute_result"
    }
   ],
   "source": [
    "# Top Words List\n",
    "counts = Counter(words) #count words\n",
    "counts.most_common(number_top_words) #display most common"
   ]
  },
  {
   "cell_type": "code",
   "execution_count": 366,
   "metadata": {},
   "outputs": [
    {
     "data": {
      "image/png": "[encoded data removed]",
      "text/plain": [
       "<Figure size 432x288 with 1 Axes>"
      ]
     },
     "metadata": {
      "needs_background": "light"
     },
     "output_type": "display_data"
    }
   ],
   "source": [
    "# Top Words Cloud\n",
    "wordcloud = WordCloud(background_color=\"white\",max_words=number_top_words)\n",
    "wordcloud.fit_words(counts)\n",
    "\n",
    "plt.figure()\n",
    "plt.axis(\"off\")\n",
    "plt.imshow(wordcloud,interpolation='bilinear')\n",
    "plt.show()"
   ]
  },
  {
   "cell_type": "code",
   "execution_count": 368,
   "metadata": {},
   "outputs": [
    {
     "data": {
      "text/plain": [
       "[(('j', 'j'), 24),\n",
       " (('boris', 'johnson'), 22),\n",
       " (('politico', 'playbook'), 20),\n",
       " (('mask', 'mandate'), 18),\n",
       " (('panel', 'recommends'), 18),\n",
       " (('promising', 'results'), 18),\n",
       " (('herd', 'immunity'), 18),\n",
       " (('biden', 'administration'), 18),\n",
       " (('doses', 'biden'), 18),\n",
       " (('fda', 'authorization'), 18),\n",
       " (('warp', 'speed'), 18),\n",
       " (('playbook', 'pm'), 16),\n",
       " (('michael', 'moore'), 12),\n",
       " (('don', 't'), 12),\n",
       " (('catholic', 'scholars'), 12)]"
      ]
     },
     "execution_count": 368,
     "metadata": {},
     "output_type": "execute_result"
    }
   ],
   "source": [
    "# Top Bigrams\n",
    "counts = Counter(zip(words, words[1:])) #count words\n",
    "counts.most_common(number_top_bigrams) #display most common"
   ]
  },
  {
   "cell_type": "markdown",
   "metadata": {},
   "source": [
    "Notes: Looks like there is still have some clean-up to bring together some of these into a single token"
   ]
  },
  {
   "cell_type": "code",
   "execution_count": null,
   "metadata": {},
   "outputs": [],
   "source": []
  }
 ],
 "metadata": {
  "kernelspec": {
   "display_name": "Python 3",
   "language": "python",
   "name": "python3"
  },
  "language_info": {
   "codemirror_mode": {
    "name": "ipython",
    "version": 3
   },
   "file_extension": ".py",
   "mimetype": "text/x-python",
   "name": "python",
   "nbconvert_exporter": "python",
   "pygments_lexer": "ipython3",
   "version": "3.8.3"
  }
 },
 "nbformat": 4,
 "nbformat_minor": 4
}
