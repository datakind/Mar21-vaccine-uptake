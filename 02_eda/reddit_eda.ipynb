{
 "cells": [
  {
   "cell_type": "markdown",
   "id": "fifty-island",
   "metadata": {},
   "source": [
    "# Reddit EDA"
   ]
  },
  {
   "cell_type": "markdown",
   "id": "forty-liberty",
   "metadata": {},
   "source": [
    "## Import dependencies"
   ]
  },
  {
   "cell_type": "code",
   "execution_count": 1,
   "id": "dated-settlement",
   "metadata": {},
   "outputs": [],
   "source": [
    "import pandas as pd\n",
    "import re\n",
    "import string\n",
    "from textblob import TextBlob\n",
    "import matplotlib.pyplot as plt\n",
    "\n",
    "import pickle # just in case"
   ]
  },
  {
   "cell_type": "markdown",
   "id": "plastic-talent",
   "metadata": {},
   "source": [
    "## Set file locations"
   ]
  },
  {
   "cell_type": "code",
   "execution_count": 2,
   "id": "latter-square",
   "metadata": {},
   "outputs": [],
   "source": [
    "# File for cleaned comment data (input file)\n",
    "cleaned_reddit_comments = '../00_data/reddit_data/reddit_comments_cleaned.csv'\n",
    "\n",
    "# File for preprocessed comment text (input file)\n",
    "cleaned_comment_text = '../00_data/reddit_data/reddit_comment_text_cleaned.csv'\n",
    "\n",
    "# File for post data (input file)\n",
    "reddit_posts = '../00_data/reddit_data/reddit_posts.csv'"
   ]
  },
  {
   "cell_type": "markdown",
   "id": "indian-embassy",
   "metadata": {},
   "source": [
    "## Read in the data"
   ]
  },
  {
   "cell_type": "code",
   "execution_count": 3,
   "id": "peripheral-paris",
   "metadata": {},
   "outputs": [],
   "source": [
    "df = pd.read_csv(cleaned_comment_text)"
   ]
  },
  {
   "cell_type": "code",
   "execution_count": 4,
   "id": "contrary-rouge",
   "metadata": {},
   "outputs": [
    {
     "data": {
      "text/html": [
       "<div>\n",
       "<style scoped>\n",
       "    .dataframe tbody tr th:only-of-type {\n",
       "        vertical-align: middle;\n",
       "    }\n",
       "\n",
       "    .dataframe tbody tr th {\n",
       "        vertical-align: top;\n",
       "    }\n",
       "\n",
       "    .dataframe thead th {\n",
       "        text-align: right;\n",
       "    }\n",
       "</style>\n",
       "<table border=\"1\" class=\"dataframe\">\n",
       "  <thead>\n",
       "    <tr style=\"text-align: right;\">\n",
       "      <th></th>\n",
       "      <th>comment_id</th>\n",
       "      <th>comment</th>\n",
       "      <th>clean_text</th>\n",
       "    </tr>\n",
       "  </thead>\n",
       "  <tbody>\n",
       "    <tr>\n",
       "      <th>0</th>\n",
       "      <td>gpcqm3a</td>\n",
       "      <td>My super conservative Southern Baptist MIL is ...</td>\n",
       "      <td>my super conservative southern baptist mil is ...</td>\n",
       "    </tr>\n",
       "    <tr>\n",
       "      <th>1</th>\n",
       "      <td>gonzgvg</td>\n",
       "      <td>Had a nurse claim the vaccine wasn’t real and ...</td>\n",
       "      <td>had a nurse claim the vaccine wasn’t real and ...</td>\n",
       "    </tr>\n",
       "    <tr>\n",
       "      <th>2</th>\n",
       "      <td>gobfxvn</td>\n",
       "      <td>Not an interaction with an antivaxxer, but jus...</td>\n",
       "      <td>not an interaction with an antivaxxer but just...</td>\n",
       "    </tr>\n",
       "    <tr>\n",
       "      <th>3</th>\n",
       "      <td>gobey4f</td>\n",
       "      <td>My grandfather is a Trump-supporting conspirac...</td>\n",
       "      <td>my grandfather is a trumpsupporting conspiracy...</td>\n",
       "    </tr>\n",
       "    <tr>\n",
       "      <th>4</th>\n",
       "      <td>go92rh9</td>\n",
       "      <td>My anti vaxx, anti mask aunt keeps posting on ...</td>\n",
       "      <td>my anti vaxx anti mask aunt keeps posting on o...</td>\n",
       "    </tr>\n",
       "  </tbody>\n",
       "</table>\n",
       "</div>"
      ],
      "text/plain": [
       "  comment_id                                            comment  \\\n",
       "0    gpcqm3a  My super conservative Southern Baptist MIL is ...   \n",
       "1    gonzgvg  Had a nurse claim the vaccine wasn’t real and ...   \n",
       "2    gobfxvn  Not an interaction with an antivaxxer, but jus...   \n",
       "3    gobey4f  My grandfather is a Trump-supporting conspirac...   \n",
       "4    go92rh9  My anti vaxx, anti mask aunt keeps posting on ...   \n",
       "\n",
       "                                          clean_text  \n",
       "0  my super conservative southern baptist mil is ...  \n",
       "1  had a nurse claim the vaccine wasn’t real and ...  \n",
       "2  not an interaction with an antivaxxer but just...  \n",
       "3  my grandfather is a trumpsupporting conspiracy...  \n",
       "4  my anti vaxx anti mask aunt keeps posting on o...  "
      ]
     },
     "execution_count": 4,
     "metadata": {},
     "output_type": "execute_result"
    }
   ],
   "source": [
    "df.head()"
   ]
  },
  {
   "cell_type": "code",
   "execution_count": 5,
   "id": "undefined-reading",
   "metadata": {},
   "outputs": [
    {
     "name": "stdout",
     "output_type": "stream",
     "text": [
      "<class 'pandas.core.frame.DataFrame'>\n",
      "RangeIndex: 1911 entries, 0 to 1910\n",
      "Data columns (total 3 columns):\n",
      " #   Column      Non-Null Count  Dtype \n",
      "---  ------      --------------  ----- \n",
      " 0   comment_id  1911 non-null   object\n",
      " 1   comment     1911 non-null   object\n",
      " 2   clean_text  1910 non-null   object\n",
      "dtypes: object(3)\n",
      "memory usage: 44.9+ KB\n"
     ]
    }
   ],
   "source": [
    "df.info(verbose=True)"
   ]
  },
  {
   "cell_type": "code",
   "execution_count": 6,
   "id": "exterior-climate",
   "metadata": {},
   "outputs": [],
   "source": [
    "df.fillna(value=' ', inplace=True)"
   ]
  },
  {
   "cell_type": "code",
   "execution_count": 7,
   "id": "advised-beads",
   "metadata": {},
   "outputs": [
    {
     "name": "stdout",
     "output_type": "stream",
     "text": [
      "<class 'pandas.core.frame.DataFrame'>\n",
      "RangeIndex: 1911 entries, 0 to 1910\n",
      "Data columns (total 3 columns):\n",
      " #   Column      Non-Null Count  Dtype \n",
      "---  ------      --------------  ----- \n",
      " 0   comment_id  1911 non-null   object\n",
      " 1   comment     1911 non-null   object\n",
      " 2   clean_text  1911 non-null   object\n",
      "dtypes: object(3)\n",
      "memory usage: 44.9+ KB\n"
     ]
    }
   ],
   "source": [
    "df.info(verbose=True)"
   ]
  },
  {
   "cell_type": "markdown",
   "id": "psychological-demographic",
   "metadata": {},
   "source": [
    "## Sentiment analysis (by comment)"
   ]
  },
  {
   "cell_type": "code",
   "execution_count": 8,
   "id": "respective-campaign",
   "metadata": {},
   "outputs": [
    {
     "data": {
      "text/html": [
       "<div>\n",
       "<style scoped>\n",
       "    .dataframe tbody tr th:only-of-type {\n",
       "        vertical-align: middle;\n",
       "    }\n",
       "\n",
       "    .dataframe tbody tr th {\n",
       "        vertical-align: top;\n",
       "    }\n",
       "\n",
       "    .dataframe thead th {\n",
       "        text-align: right;\n",
       "    }\n",
       "</style>\n",
       "<table border=\"1\" class=\"dataframe\">\n",
       "  <thead>\n",
       "    <tr style=\"text-align: right;\">\n",
       "      <th></th>\n",
       "      <th>comment_id</th>\n",
       "      <th>comment</th>\n",
       "      <th>clean_text</th>\n",
       "      <th>polarity</th>\n",
       "      <th>subjectivity</th>\n",
       "    </tr>\n",
       "  </thead>\n",
       "  <tbody>\n",
       "    <tr>\n",
       "      <th>0</th>\n",
       "      <td>gpcqm3a</td>\n",
       "      <td>My super conservative Southern Baptist MIL is ...</td>\n",
       "      <td>my super conservative southern baptist mil is ...</td>\n",
       "      <td>0.029167</td>\n",
       "      <td>0.359167</td>\n",
       "    </tr>\n",
       "    <tr>\n",
       "      <th>1</th>\n",
       "      <td>gonzgvg</td>\n",
       "      <td>Had a nurse claim the vaccine wasn’t real and ...</td>\n",
       "      <td>had a nurse claim the vaccine wasn’t real and ...</td>\n",
       "      <td>-0.156111</td>\n",
       "      <td>0.451111</td>\n",
       "    </tr>\n",
       "    <tr>\n",
       "      <th>2</th>\n",
       "      <td>gobfxvn</td>\n",
       "      <td>Not an interaction with an antivaxxer, but jus...</td>\n",
       "      <td>not an interaction with an antivaxxer but just...</td>\n",
       "      <td>0.223864</td>\n",
       "      <td>0.486258</td>\n",
       "    </tr>\n",
       "    <tr>\n",
       "      <th>3</th>\n",
       "      <td>gobey4f</td>\n",
       "      <td>My grandfather is a Trump-supporting conspirac...</td>\n",
       "      <td>my grandfather is a trumpsupporting conspiracy...</td>\n",
       "      <td>-0.419643</td>\n",
       "      <td>0.616071</td>\n",
       "    </tr>\n",
       "    <tr>\n",
       "      <th>4</th>\n",
       "      <td>go92rh9</td>\n",
       "      <td>My anti vaxx, anti mask aunt keeps posting on ...</td>\n",
       "      <td>my anti vaxx anti mask aunt keeps posting on o...</td>\n",
       "      <td>0.083333</td>\n",
       "      <td>0.538889</td>\n",
       "    </tr>\n",
       "    <tr>\n",
       "      <th>...</th>\n",
       "      <td>...</td>\n",
       "      <td>...</td>\n",
       "      <td>...</td>\n",
       "      <td>...</td>\n",
       "      <td>...</td>\n",
       "    </tr>\n",
       "    <tr>\n",
       "      <th>1906</th>\n",
       "      <td>gpdfjo6</td>\n",
       "      <td>My county has about 25% more vaccinated person...</td>\n",
       "      <td>my county has about 25 more vaccinated persons...</td>\n",
       "      <td>0.500000</td>\n",
       "      <td>0.500000</td>\n",
       "    </tr>\n",
       "    <tr>\n",
       "      <th>1907</th>\n",
       "      <td>gphl9yr</td>\n",
       "      <td>..</td>\n",
       "      <td></td>\n",
       "      <td>0.000000</td>\n",
       "      <td>0.000000</td>\n",
       "    </tr>\n",
       "    <tr>\n",
       "      <th>1908</th>\n",
       "      <td>gpjzg18</td>\n",
       "      <td>So this location is trying to vaccine about 4k...</td>\n",
       "      <td>so this location is trying to vaccine about 4k...</td>\n",
       "      <td>0.000000</td>\n",
       "      <td>0.000000</td>\n",
       "    </tr>\n",
       "    <tr>\n",
       "      <th>1909</th>\n",
       "      <td>gpfbdj4</td>\n",
       "      <td>If you’re not at risk get in line</td>\n",
       "      <td>if you’re not at risk get in line</td>\n",
       "      <td>0.000000</td>\n",
       "      <td>0.000000</td>\n",
       "    </tr>\n",
       "    <tr>\n",
       "      <th>1910</th>\n",
       "      <td>gpfndrc</td>\n",
       "      <td>Is this your attempt at humor, sarcasm, or what?</td>\n",
       "      <td>is this your attempt at humor sarcasm or what</td>\n",
       "      <td>0.000000</td>\n",
       "      <td>0.000000</td>\n",
       "    </tr>\n",
       "  </tbody>\n",
       "</table>\n",
       "<p>1911 rows × 5 columns</p>\n",
       "</div>"
      ],
      "text/plain": [
       "     comment_id                                            comment  \\\n",
       "0       gpcqm3a  My super conservative Southern Baptist MIL is ...   \n",
       "1       gonzgvg  Had a nurse claim the vaccine wasn’t real and ...   \n",
       "2       gobfxvn  Not an interaction with an antivaxxer, but jus...   \n",
       "3       gobey4f  My grandfather is a Trump-supporting conspirac...   \n",
       "4       go92rh9  My anti vaxx, anti mask aunt keeps posting on ...   \n",
       "...         ...                                                ...   \n",
       "1906    gpdfjo6  My county has about 25% more vaccinated person...   \n",
       "1907    gphl9yr                                                 ..   \n",
       "1908    gpjzg18  So this location is trying to vaccine about 4k...   \n",
       "1909    gpfbdj4                  If you’re not at risk get in line   \n",
       "1910    gpfndrc   Is this your attempt at humor, sarcasm, or what?   \n",
       "\n",
       "                                             clean_text  polarity  \\\n",
       "0     my super conservative southern baptist mil is ...  0.029167   \n",
       "1     had a nurse claim the vaccine wasn’t real and ... -0.156111   \n",
       "2     not an interaction with an antivaxxer but just...  0.223864   \n",
       "3     my grandfather is a trumpsupporting conspiracy... -0.419643   \n",
       "4     my anti vaxx anti mask aunt keeps posting on o...  0.083333   \n",
       "...                                                 ...       ...   \n",
       "1906  my county has about 25 more vaccinated persons...  0.500000   \n",
       "1907                                                     0.000000   \n",
       "1908  so this location is trying to vaccine about 4k...  0.000000   \n",
       "1909                  if you’re not at risk get in line  0.000000   \n",
       "1910      is this your attempt at humor sarcasm or what  0.000000   \n",
       "\n",
       "      subjectivity  \n",
       "0         0.359167  \n",
       "1         0.451111  \n",
       "2         0.486258  \n",
       "3         0.616071  \n",
       "4         0.538889  \n",
       "...            ...  \n",
       "1906      0.500000  \n",
       "1907      0.000000  \n",
       "1908      0.000000  \n",
       "1909      0.000000  \n",
       "1910      0.000000  \n",
       "\n",
       "[1911 rows x 5 columns]"
      ]
     },
     "execution_count": 8,
     "metadata": {},
     "output_type": "execute_result"
    }
   ],
   "source": [
    "pol = lambda x: TextBlob(x).sentiment.polarity\n",
    "sub = lambda x: TextBlob(x).sentiment.subjectivity\n",
    "\n",
    "df['polarity'] = df['clean_text'].apply(pol)\n",
    "df['subjectivity'] = df['clean_text'].apply(sub)\n",
    "df"
   ]
  },
  {
   "cell_type": "code",
   "execution_count": 9,
   "id": "occupational-sound",
   "metadata": {},
   "outputs": [],
   "source": [
    "### Merge back on large set"
   ]
  },
  {
   "cell_type": "code",
   "execution_count": 10,
   "id": "exciting-shanghai",
   "metadata": {},
   "outputs": [],
   "source": [
    "df.drop('comment', axis=1, inplace=True)"
   ]
  },
  {
   "cell_type": "code",
   "execution_count": 11,
   "id": "hollow-rogers",
   "metadata": {},
   "outputs": [],
   "source": [
    "new_df = pd.read_csv(cleaned_reddit_comments)"
   ]
  },
  {
   "cell_type": "code",
   "execution_count": 12,
   "id": "facial-citation",
   "metadata": {},
   "outputs": [
    {
     "name": "stdout",
     "output_type": "stream",
     "text": [
      "<class 'pandas.core.frame.DataFrame'>\n",
      "RangeIndex: 1911 entries, 0 to 1910\n",
      "Data columns (total 10 columns):\n",
      " #   Column              Non-Null Count  Dtype  \n",
      "---  ------              --------------  -----  \n",
      " 0   post_id             1911 non-null   object \n",
      " 1   comment_id          1911 non-null   object \n",
      " 2   author              1911 non-null   object \n",
      " 3   comment             1911 non-null   object \n",
      " 4   created_utc         1911 non-null   float64\n",
      " 5   downs               1911 non-null   float64\n",
      " 6   ups                 1911 non-null   float64\n",
      " 7   reply               1911 non-null   object \n",
      " 8   comment_replied_id  214 non-null    object \n",
      " 9   comment_date        1911 non-null   object \n",
      "dtypes: float64(3), object(7)\n",
      "memory usage: 149.4+ KB\n"
     ]
    }
   ],
   "source": [
    "new_df.info(verbose=True)"
   ]
  },
  {
   "cell_type": "code",
   "execution_count": 13,
   "id": "enhanced-above",
   "metadata": {},
   "outputs": [],
   "source": [
    "new_df = new_df.merge(df, how='left', on='comment_id')"
   ]
  },
  {
   "cell_type": "code",
   "execution_count": 14,
   "id": "gentle-armenia",
   "metadata": {},
   "outputs": [
    {
     "name": "stdout",
     "output_type": "stream",
     "text": [
      "<class 'pandas.core.frame.DataFrame'>\n",
      "Int64Index: 1911 entries, 0 to 1910\n",
      "Data columns (total 13 columns):\n",
      " #   Column              Non-Null Count  Dtype  \n",
      "---  ------              --------------  -----  \n",
      " 0   post_id             1911 non-null   object \n",
      " 1   comment_id          1911 non-null   object \n",
      " 2   author              1911 non-null   object \n",
      " 3   comment             1911 non-null   object \n",
      " 4   created_utc         1911 non-null   float64\n",
      " 5   downs               1911 non-null   float64\n",
      " 6   ups                 1911 non-null   float64\n",
      " 7   reply               1911 non-null   object \n",
      " 8   comment_replied_id  214 non-null    object \n",
      " 9   comment_date        1911 non-null   object \n",
      " 10  clean_text          1911 non-null   object \n",
      " 11  polarity            1911 non-null   float64\n",
      " 12  subjectivity        1911 non-null   float64\n",
      "dtypes: float64(5), object(8)\n",
      "memory usage: 209.0+ KB\n"
     ]
    }
   ],
   "source": [
    "new_df.info(verbose=True)"
   ]
  },
  {
   "cell_type": "code",
   "execution_count": 15,
   "id": "modern-blowing",
   "metadata": {},
   "outputs": [
    {
     "data": {
      "text/plain": [
       "array([[<AxesSubplot:title={'center':'polarity'}>]], dtype=object)"
      ]
     },
     "execution_count": 15,
     "metadata": {},
     "output_type": "execute_result"
    },
    {
     "data": {
      "image/png": "[encoded data removed]",
      "text/plain": [
       "<Figure size 432x288 with 1 Axes>"
      ]
     },
     "metadata": {
      "needs_background": "light"
     },
     "output_type": "display_data"
    }
   ],
   "source": [
    "new_df.hist(column = 'polarity')"
   ]
  },
  {
   "cell_type": "code",
   "execution_count": 16,
   "id": "unnecessary-postage",
   "metadata": {},
   "outputs": [
    {
     "data": {
      "text/plain": [
       "array([[<AxesSubplot:title={'center':'subjectivity'}>]], dtype=object)"
      ]
     },
     "execution_count": 16,
     "metadata": {},
     "output_type": "execute_result"
    },
    {
     "data": {
      "image/png": "[encoded data removed]",
      "text/plain": [
       "<Figure size 432x288 with 1 Axes>"
      ]
     },
     "metadata": {
      "needs_background": "light"
     },
     "output_type": "display_data"
    }
   ],
   "source": [
    "new_df.hist(column = 'subjectivity')"
   ]
  },
  {
   "cell_type": "code",
   "execution_count": 17,
   "id": "united-creativity",
   "metadata": {},
   "outputs": [
    {
     "data": {
      "text/plain": [
       "<AxesSubplot:xlabel='subjectivity', ylabel='polarity'>"
      ]
     },
     "execution_count": 17,
     "metadata": {},
     "output_type": "execute_result"
    },
    {
     "data": {
      "image/png": "[encoded data removed]",
      "text/plain": [
       "<Figure size 432x288 with 1 Axes>"
      ]
     },
     "metadata": {
      "needs_background": "light"
     },
     "output_type": "display_data"
    }
   ],
   "source": [
    "new_df.plot.scatter(x='subjectivity', y='polarity')"
   ]
  },
  {
   "cell_type": "markdown",
   "id": "nearby-skating",
   "metadata": {},
   "source": [
    "### Sentiment analysis (by subreddit)"
   ]
  },
  {
   "cell_type": "code",
   "execution_count": 18,
   "id": "rising-bouquet",
   "metadata": {},
   "outputs": [],
   "source": [
    "### Add the subreddit"
   ]
  },
  {
   "cell_type": "code",
   "execution_count": 19,
   "id": "collected-fight",
   "metadata": {},
   "outputs": [],
   "source": [
    "post_df = pd.read_csv(reddit_posts)"
   ]
  },
  {
   "cell_type": "code",
   "execution_count": 20,
   "id": "prescription-brighton",
   "metadata": {},
   "outputs": [
    {
     "name": "stdout",
     "output_type": "stream",
     "text": [
      "<class 'pandas.core.frame.DataFrame'>\n",
      "RangeIndex: 215 entries, 0 to 214\n",
      "Data columns (total 11 columns):\n",
      " #   Column                 Non-Null Count  Dtype  \n",
      "---  ------                 --------------  -----  \n",
      " 0   post_id                215 non-null    object \n",
      " 1   subreddit              215 non-null    object \n",
      " 2   title                  215 non-null    object \n",
      " 3   ups                    215 non-null    int64  \n",
      " 4   downs                  215 non-null    int64  \n",
      " 5   upvote_ratio           215 non-null    float64\n",
      " 6   num_comments           215 non-null    int64  \n",
      " 7   author                 215 non-null    object \n",
      " 8   created_utc            215 non-null    float64\n",
      " 9   subreddit_subscribers  215 non-null    int64  \n",
      " 10  post_date              215 non-null    object \n",
      "dtypes: float64(2), int64(4), object(5)\n",
      "memory usage: 18.6+ KB\n"
     ]
    }
   ],
   "source": [
    "post_df.info(verbose=True)"
   ]
  },
  {
   "cell_type": "code",
   "execution_count": 21,
   "id": "spectacular-declaration",
   "metadata": {},
   "outputs": [],
   "source": [
    "new_df = new_df.merge(post_df[['post_id', 'subreddit']], how='left', on='post_id')"
   ]
  },
  {
   "cell_type": "code",
   "execution_count": 22,
   "id": "competent-raleigh",
   "metadata": {},
   "outputs": [
    {
     "name": "stdout",
     "output_type": "stream",
     "text": [
      "<class 'pandas.core.frame.DataFrame'>\n",
      "Int64Index: 1911 entries, 0 to 1910\n",
      "Data columns (total 14 columns):\n",
      " #   Column              Non-Null Count  Dtype  \n",
      "---  ------              --------------  -----  \n",
      " 0   post_id             1911 non-null   object \n",
      " 1   comment_id          1911 non-null   object \n",
      " 2   author              1911 non-null   object \n",
      " 3   comment             1911 non-null   object \n",
      " 4   created_utc         1911 non-null   float64\n",
      " 5   downs               1911 non-null   float64\n",
      " 6   ups                 1911 non-null   float64\n",
      " 7   reply               1911 non-null   object \n",
      " 8   comment_replied_id  214 non-null    object \n",
      " 9   comment_date        1911 non-null   object \n",
      " 10  clean_text          1911 non-null   object \n",
      " 11  polarity            1911 non-null   float64\n",
      " 12  subjectivity        1911 non-null   float64\n",
      " 13  subreddit           1911 non-null   object \n",
      "dtypes: float64(5), object(9)\n",
      "memory usage: 223.9+ KB\n"
     ]
    }
   ],
   "source": [
    "new_df.info(verbose=True)"
   ]
  },
  {
   "cell_type": "code",
   "execution_count": 23,
   "id": "concerned-jason",
   "metadata": {},
   "outputs": [],
   "source": [
    "grouping_df = new_df[['subreddit', 'clean_text']].copy()"
   ]
  },
  {
   "cell_type": "code",
   "execution_count": 24,
   "id": "enormous-princess",
   "metadata": {},
   "outputs": [],
   "source": [
    "grouping_df['clean_text'] = new_df[['subreddit', 'clean_text']].groupby('subreddit')['clean_text'].transform(lambda x: ','.join(x))\n",
    "grouping_df.drop_duplicates(inplace=True)"
   ]
  },
  {
   "cell_type": "code",
   "execution_count": 25,
   "id": "hired-watch",
   "metadata": {},
   "outputs": [],
   "source": [
    "grouping_df.reset_index(drop=True, inplace=True)"
   ]
  },
  {
   "cell_type": "code",
   "execution_count": 26,
   "id": "thermal-resident",
   "metadata": {},
   "outputs": [
    {
     "data": {
      "text/html": [
       "<div>\n",
       "<style scoped>\n",
       "    .dataframe tbody tr th:only-of-type {\n",
       "        vertical-align: middle;\n",
       "    }\n",
       "\n",
       "    .dataframe tbody tr th {\n",
       "        vertical-align: top;\n",
       "    }\n",
       "\n",
       "    .dataframe thead th {\n",
       "        text-align: right;\n",
       "    }\n",
       "</style>\n",
       "<table border=\"1\" class=\"dataframe\">\n",
       "  <thead>\n",
       "    <tr style=\"text-align: right;\">\n",
       "      <th></th>\n",
       "      <th>subreddit</th>\n",
       "      <th>clean_text</th>\n",
       "      <th>polarity</th>\n",
       "      <th>subjectivity</th>\n",
       "    </tr>\n",
       "  </thead>\n",
       "  <tbody>\n",
       "    <tr>\n",
       "      <th>0</th>\n",
       "      <td>vaxxhappened</td>\n",
       "      <td>my super conservative southern baptist mil is ...</td>\n",
       "      <td>0.045114</td>\n",
       "      <td>0.472760</td>\n",
       "    </tr>\n",
       "    <tr>\n",
       "      <th>1</th>\n",
       "      <td>Conservative</td>\n",
       "      <td>ah so this is how they intend to keep the viru...</td>\n",
       "      <td>0.005768</td>\n",
       "      <td>0.520145</td>\n",
       "    </tr>\n",
       "    <tr>\n",
       "      <th>2</th>\n",
       "      <td>COVID19</td>\n",
       "      <td>for further questions and discussion please us...</td>\n",
       "      <td>0.116793</td>\n",
       "      <td>0.420199</td>\n",
       "    </tr>\n",
       "    <tr>\n",
       "      <th>3</th>\n",
       "      <td>CovidVaccinated</td>\n",
       "      <td>official cdc information about vaccination sid...</td>\n",
       "      <td>0.081963</td>\n",
       "      <td>0.412912</td>\n",
       "    </tr>\n",
       "    <tr>\n",
       "      <th>4</th>\n",
       "      <td>nashville</td>\n",
       "      <td>god save the queen,i love that she had a spark...</td>\n",
       "      <td>0.169103</td>\n",
       "      <td>0.520065</td>\n",
       "    </tr>\n",
       "    <tr>\n",
       "      <th>5</th>\n",
       "      <td>FloridaCoronavirus</td>\n",
       "      <td>gov ron desantis quietly expanded covid19 vacc...</td>\n",
       "      <td>0.052150</td>\n",
       "      <td>0.469802</td>\n",
       "    </tr>\n",
       "    <tr>\n",
       "      <th>6</th>\n",
       "      <td>CoronavirusMa</td>\n",
       "      <td>yes vaccines in arms is number one most import...</td>\n",
       "      <td>0.096398</td>\n",
       "      <td>0.474717</td>\n",
       "    </tr>\n",
       "    <tr>\n",
       "      <th>7</th>\n",
       "      <td>news</td>\n",
       "      <td>the social media effect is real,what is going ...</td>\n",
       "      <td>0.082085</td>\n",
       "      <td>0.505415</td>\n",
       "    </tr>\n",
       "    <tr>\n",
       "      <th>8</th>\n",
       "      <td>CoronavirusMichigan</td>\n",
       "      <td>good good now my local riteaid can run out of ...</td>\n",
       "      <td>0.086913</td>\n",
       "      <td>0.462940</td>\n",
       "    </tr>\n",
       "    <tr>\n",
       "      <th>9</th>\n",
       "      <td>nyc</td>\n",
       "      <td>best time to shop at macys was at 3am that one...</td>\n",
       "      <td>0.110168</td>\n",
       "      <td>0.466267</td>\n",
       "    </tr>\n",
       "    <tr>\n",
       "      <th>10</th>\n",
       "      <td>CovidVaccine</td>\n",
       "      <td>i got pfizer 1 on 221 about 4 hours after gett...</td>\n",
       "      <td>0.079360</td>\n",
       "      <td>0.503783</td>\n",
       "    </tr>\n",
       "    <tr>\n",
       "      <th>11</th>\n",
       "      <td>conspiracy</td>\n",
       "      <td>meta sticky comment rule 2httpswwwredditcomrco...</td>\n",
       "      <td>0.021219</td>\n",
       "      <td>0.460702</td>\n",
       "    </tr>\n",
       "    <tr>\n",
       "      <th>12</th>\n",
       "      <td>VaccineMyths</td>\n",
       "      <td>as of today we have 0 vaccines for sars aids m...</td>\n",
       "      <td>0.120398</td>\n",
       "      <td>0.486247</td>\n",
       "    </tr>\n",
       "    <tr>\n",
       "      <th>13</th>\n",
       "      <td>antivax</td>\n",
       "      <td>rantivax exists kurzgesagt i am about to ̶e̶̶n...</td>\n",
       "      <td>0.044614</td>\n",
       "      <td>0.509749</td>\n",
       "    </tr>\n",
       "    <tr>\n",
       "      <th>14</th>\n",
       "      <td>Coronavirus</td>\n",
       "      <td>well why not they can open on their own terms ...</td>\n",
       "      <td>0.081910</td>\n",
       "      <td>0.477253</td>\n",
       "    </tr>\n",
       "    <tr>\n",
       "      <th>15</th>\n",
       "      <td>science</td>\n",
       "      <td>welcome to rscience this is a heavily moderate...</td>\n",
       "      <td>0.064628</td>\n",
       "      <td>0.473941</td>\n",
       "    </tr>\n",
       "    <tr>\n",
       "      <th>16</th>\n",
       "      <td>illinois</td>\n",
       "      <td>we all need some of this good news,hell yea lf...</td>\n",
       "      <td>0.076515</td>\n",
       "      <td>0.547449</td>\n",
       "    </tr>\n",
       "    <tr>\n",
       "      <th>17</th>\n",
       "      <td>pregnant</td>\n",
       "      <td>welcome to rpregnant this is a space for every...</td>\n",
       "      <td>0.109226</td>\n",
       "      <td>0.499405</td>\n",
       "    </tr>\n",
       "    <tr>\n",
       "      <th>18</th>\n",
       "      <td>Indiana</td>\n",
       "      <td>that was fast great news,there are openings at...</td>\n",
       "      <td>0.170661</td>\n",
       "      <td>0.468441</td>\n",
       "    </tr>\n",
       "    <tr>\n",
       "      <th>19</th>\n",
       "      <td>CoronavirusWA</td>\n",
       "      <td>i was able to score one at sea mar in tacoma y...</td>\n",
       "      <td>0.113871</td>\n",
       "      <td>0.499396</td>\n",
       "    </tr>\n",
       "  </tbody>\n",
       "</table>\n",
       "</div>"
      ],
      "text/plain": [
       "              subreddit                                         clean_text  \\\n",
       "0          vaxxhappened  my super conservative southern baptist mil is ...   \n",
       "1          Conservative  ah so this is how they intend to keep the viru...   \n",
       "2               COVID19  for further questions and discussion please us...   \n",
       "3       CovidVaccinated  official cdc information about vaccination sid...   \n",
       "4             nashville  god save the queen,i love that she had a spark...   \n",
       "5    FloridaCoronavirus  gov ron desantis quietly expanded covid19 vacc...   \n",
       "6         CoronavirusMa  yes vaccines in arms is number one most import...   \n",
       "7                  news  the social media effect is real,what is going ...   \n",
       "8   CoronavirusMichigan  good good now my local riteaid can run out of ...   \n",
       "9                   nyc  best time to shop at macys was at 3am that one...   \n",
       "10         CovidVaccine  i got pfizer 1 on 221 about 4 hours after gett...   \n",
       "11           conspiracy  meta sticky comment rule 2httpswwwredditcomrco...   \n",
       "12         VaccineMyths  as of today we have 0 vaccines for sars aids m...   \n",
       "13              antivax  rantivax exists kurzgesagt i am about to ̶e̶̶n...   \n",
       "14          Coronavirus  well why not they can open on their own terms ...   \n",
       "15              science  welcome to rscience this is a heavily moderate...   \n",
       "16             illinois  we all need some of this good news,hell yea lf...   \n",
       "17             pregnant  welcome to rpregnant this is a space for every...   \n",
       "18              Indiana  that was fast great news,there are openings at...   \n",
       "19        CoronavirusWA  i was able to score one at sea mar in tacoma y...   \n",
       "\n",
       "    polarity  subjectivity  \n",
       "0   0.045114      0.472760  \n",
       "1   0.005768      0.520145  \n",
       "2   0.116793      0.420199  \n",
       "3   0.081963      0.412912  \n",
       "4   0.169103      0.520065  \n",
       "5   0.052150      0.469802  \n",
       "6   0.096398      0.474717  \n",
       "7   0.082085      0.505415  \n",
       "8   0.086913      0.462940  \n",
       "9   0.110168      0.466267  \n",
       "10  0.079360      0.503783  \n",
       "11  0.021219      0.460702  \n",
       "12  0.120398      0.486247  \n",
       "13  0.044614      0.509749  \n",
       "14  0.081910      0.477253  \n",
       "15  0.064628      0.473941  \n",
       "16  0.076515      0.547449  \n",
       "17  0.109226      0.499405  \n",
       "18  0.170661      0.468441  \n",
       "19  0.113871      0.499396  "
      ]
     },
     "execution_count": 26,
     "metadata": {},
     "output_type": "execute_result"
    }
   ],
   "source": [
    "pol = lambda x: TextBlob(x).sentiment.polarity\n",
    "sub = lambda x: TextBlob(x).sentiment.subjectivity\n",
    "\n",
    "grouping_df['polarity'] = grouping_df['clean_text'].apply(pol)\n",
    "grouping_df['subjectivity'] = grouping_df['clean_text'].apply(sub)\n",
    "grouping_df"
   ]
  },
  {
   "cell_type": "code",
   "execution_count": 27,
   "id": "italic-property",
   "metadata": {},
   "outputs": [
    {
     "data": {
      "image/png": "[encoded data removed]",
      "text/plain": [
       "<Figure size 720x720 with 1 Axes>"
      ]
     },
     "metadata": {
      "needs_background": "light"
     },
     "output_type": "display_data"
    }
   ],
   "source": [
    "plt.rcParams['figure.figsize'] = [10, 10]\n",
    "\n",
    "for index, subreddit in enumerate(grouping_df.index):\n",
    "    x = grouping_df.polarity.loc[subreddit]\n",
    "    y = grouping_df.subjectivity.loc[subreddit]\n",
    "    plt.scatter(x, y, color='blue')\n",
    "    plt.text(x+.001, y+.001, grouping_df['subreddit'][index], fontsize=10, rotation=35)\n",
    "#     plt.ylim(0, 1) \n",
    "#     plt.xlim(-1, 1) \n",
    "\n",
    "    \n",
    "plt.title('Sentiment by Subreddit', fontsize=20)\n",
    "plt.xlabel('<-- Negative ----Polarity---- Positive -->', fontsize=15)\n",
    "plt.ylabel('<-- Facts ----Subjectivity---- Opinions -->', fontsize=15)\n",
    "\n",
    "plt.show()"
   ]
  },
  {
   "cell_type": "markdown",
   "id": "sunset-stamp",
   "metadata": {},
   "source": [
    "## Upvotes/Downvotes"
   ]
  },
  {
   "cell_type": "code",
   "execution_count": 28,
   "id": "interior-mouth",
   "metadata": {},
   "outputs": [
    {
     "data": {
      "text/plain": [
       "<AxesSubplot:xlabel='ups', ylabel='downs'>"
      ]
     },
     "execution_count": 28,
     "metadata": {},
     "output_type": "execute_result"
    },
    {
     "data": {
      "image/png": "[encoded data removed]",
      "text/plain": [
       "<Figure size 720x720 with 1 Axes>"
      ]
     },
     "metadata": {
      "needs_background": "light"
     },
     "output_type": "display_data"
    }
   ],
   "source": [
    "new_df.plot.scatter(x='ups', y='downs')"
   ]
  },
  {
   "cell_type": "markdown",
   "id": "increasing-writing",
   "metadata": {},
   "source": [
    "Looks like we'll only be looking at 'ups'.''"
   ]
  },
  {
   "cell_type": "code",
   "execution_count": 29,
   "id": "aggregate-matthew",
   "metadata": {},
   "outputs": [
    {
     "data": {
      "text/plain": [
       "array([[<AxesSubplot:title={'center':'ups'}>]], dtype=object)"
      ]
     },
     "execution_count": 29,
     "metadata": {},
     "output_type": "execute_result"
    },
    {
     "data": {
      "image/png": "[encoded data removed]",
      "text/plain": [
       "<Figure size 720x720 with 1 Axes>"
      ]
     },
     "metadata": {
      "needs_background": "light"
     },
     "output_type": "display_data"
    }
   ],
   "source": [
    "new_df.hist('ups', bins=25)"
   ]
  },
  {
   "cell_type": "code",
   "execution_count": 30,
   "id": "adolescent-corporation",
   "metadata": {},
   "outputs": [
    {
     "data": {
      "text/plain": [
       "array([[<AxesSubplot:title={'center':'ups'}>]], dtype=object)"
      ]
     },
     "execution_count": 30,
     "metadata": {},
     "output_type": "execute_result"
    },
    {
     "data": {
      "image/png": "[encoded data removed]",
      "text/plain": [
       "<Figure size 720x720 with 1 Axes>"
      ]
     },
     "metadata": {
      "needs_background": "light"
     },
     "output_type": "display_data"
    }
   ],
   "source": [
    "new_df[(new_df['ups'] > 1) & (new_df['ups'] <= 1000)].hist('ups', bins=25)"
   ]
  },
  {
   "cell_type": "code",
   "execution_count": 31,
   "id": "thermal-genetics",
   "metadata": {},
   "outputs": [
    {
     "data": {
      "text/plain": [
       "array([[<AxesSubplot:title={'center':'ups'}>]], dtype=object)"
      ]
     },
     "execution_count": 31,
     "metadata": {},
     "output_type": "execute_result"
    },
    {
     "data": {
      "image/png": "[encoded data removed]",
      "text/plain": [
       "<Figure size 720x720 with 1 Axes>"
      ]
     },
     "metadata": {
      "needs_background": "light"
     },
     "output_type": "display_data"
    }
   ],
   "source": [
    "new_df[(new_df['ups'] > 1) & (new_df['ups'] <= 500)].hist('ups', bins=25)"
   ]
  },
  {
   "cell_type": "code",
   "execution_count": 32,
   "id": "first-thunder",
   "metadata": {},
   "outputs": [
    {
     "data": {
      "text/plain": [
       "array([[<AxesSubplot:title={'center':'ups'}>]], dtype=object)"
      ]
     },
     "execution_count": 32,
     "metadata": {},
     "output_type": "execute_result"
    },
    {
     "data": {
      "image/png": "[encoded data removed]",
      "text/plain": [
       "<Figure size 720x720 with 1 Axes>"
      ]
     },
     "metadata": {
      "needs_background": "light"
     },
     "output_type": "display_data"
    }
   ],
   "source": [
    "new_df[(new_df['ups'] > 1) & (new_df['ups'] <= 100)].hist('ups', bins=25)"
   ]
  },
  {
   "cell_type": "code",
   "execution_count": 33,
   "id": "efficient-phoenix",
   "metadata": {},
   "outputs": [
    {
     "data": {
      "text/plain": [
       "<AxesSubplot:xlabel='polarity', ylabel='ups'>"
      ]
     },
     "execution_count": 33,
     "metadata": {},
     "output_type": "execute_result"
    },
    {
     "data": {
      "image/png": "[encoded data removed]",
      "text/plain": [
       "<Figure size 720x720 with 1 Axes>"
      ]
     },
     "metadata": {
      "needs_background": "light"
     },
     "output_type": "display_data"
    }
   ],
   "source": [
    "new_df.plot.scatter(x='polarity', y='ups')"
   ]
  },
  {
   "cell_type": "code",
   "execution_count": 34,
   "id": "metric-howard",
   "metadata": {},
   "outputs": [
    {
     "data": {
      "text/plain": [
       "<AxesSubplot:xlabel='subjectivity', ylabel='ups'>"
      ]
     },
     "execution_count": 34,
     "metadata": {},
     "output_type": "execute_result"
    },
    {
     "data": {
      "image/png": "[encoded data removed]",
      "text/plain": [
       "<Figure size 720x720 with 1 Axes>"
      ]
     },
     "metadata": {
      "needs_background": "light"
     },
     "output_type": "display_data"
    }
   ],
   "source": [
    "new_df.plot.scatter(x='subjectivity', y='ups')"
   ]
  },
  {
   "cell_type": "code",
   "execution_count": 35,
   "id": "administrative-confusion",
   "metadata": {},
   "outputs": [
    {
     "data": {
      "text/plain": [
       "array(['cool can’t wait til this subreddit is dead edit stop giving me awards lol'],\n",
       "      dtype=object)"
      ]
     },
     "execution_count": 35,
     "metadata": {},
     "output_type": "execute_result"
    }
   ],
   "source": [
    "new_df[new_df['ups'] > 10000]['clean_text'].values"
   ]
  },
  {
   "cell_type": "markdown",
   "id": "whole-flower",
   "metadata": {},
   "source": [
    "Observation: This post has the most upvotes in the dataset. For context, it is in the r/Coronavirus subreddit."
   ]
  },
  {
   "cell_type": "code",
   "execution_count": 36,
   "id": "wound-essay",
   "metadata": {},
   "outputs": [
    {
     "data": {
      "text/plain": [
       "array(['or and hear me out on this apple can use your phone to harvest data on human processes',\n",
       "       'i cannot wait for that day when we turn the corner and i dont have to wear a mask at work for 8 hours then the roaring 20s can start again',\n",
       "       'just so everyone is clear this means we will have enough doses to vaccinate everyone not that we will have everyone vaccinated still great news though',\n",
       "       'i can see why everyone was ready to party during the 1920s coming down from the first world war and a deadly flu pandemic… people must have been ready to do something that didn’t involve life and death for a change',\n",
       "       'we are almost there this summer is going to be spectacular',\n",
       "       'twice postponed wedding is schedule for june let’s go',\n",
       "       'underpromise overperform a nice change from a series of lies excuses and shrugs',\n",
       "       'i dont mind wearing a mask and do whenever required but i cannot wait for the day to come that i no longer need to im hoping by the end of summer the mask mandate is lifted at least in maine my job follows federal guidelines though so who knows how long i will have to stay masked at work'],\n",
       "      dtype=object)"
      ]
     },
     "execution_count": 36,
     "metadata": {},
     "output_type": "execute_result"
    }
   ],
   "source": [
    "new_df[(new_df['ups'] > 1000) & (new_df['ups'] <= 10000)]['clean_text'].values"
   ]
  },
  {
   "cell_type": "code",
   "execution_count": 37,
   "id": "trained-survivor",
   "metadata": {},
   "outputs": [
    {
     "data": {
      "text/plain": [
       "array(['we are and remain the luckiest humans who ever lived a hundred generations died of smallpox and whooping cough and tetanus and measles never hearing of a vaccine most having no idea such a miracle could exist',\n",
       "       'a consolation prize given that today 2 governors prematurely ended their states phased reopenings and mask mandates',\n",
       "       'well why not they can open on their own terms right id be more likely to go there than a place thats not taking some precautions',\n",
       "       'hopefully in the next two months well see the tiers of vaccination opening up fast it seems weve been stuck at 65 for ages',\n",
       "       'if i said to myself few months ago i would be coming to this sub to get good news id call myself crazy this is great and works as expected though',\n",
       "       'more and more everyday it feels like we’ll be back to normal sometime this summer',\n",
       "       'are you telling me that science works not conspiracies and misinformation'],\n",
       "      dtype=object)"
      ]
     },
     "execution_count": 37,
     "metadata": {},
     "output_type": "execute_result"
    }
   ],
   "source": [
    "new_df[(new_df['ups'] > 500) & (new_df['ups'] <= 1000)]['clean_text'].values"
   ]
  },
  {
   "cell_type": "code",
   "execution_count": 38,
   "id": "dying-faculty",
   "metadata": {},
   "outputs": [
    {
     "data": {
      "text/plain": [
       "array(['after a very long conversation with a gentleman who is antivaxx on a local news page because “the covid vaccine is experimental and takes more than one dose so it’s obviously a conspiracy” and “we can’t even get the flu vaccine right” i went on to educate him about how most vaccines take more than one dose and how the flu works this was his response more herehttpsimgurcomgallerywplcn85 eta to be clear both of these comments are from him apparently i am the one “parroting narratives”',\n",
       "       'imagine calling someone a nurse as an insult lmao',\n",
       "       'well i certainly don’t believe it',\n",
       "       'imagine using the information harvesting tracking device to post about how they want to inject another one',\n",
       "       'did everybody clap was that young man namedalbert einstein did the beer fill in the cracks and he said “there’s always room for a little beer with friends”',\n",
       "       'he’s not a very good secrets employee if he just tells all of apple’s secrets to a random person at a restaurant apple should fire this guy',\n",
       "       'ah so this is how they intend to keep the virus around eh',\n",
       "       'spreading a plague to us citizens seems impeachable doesnt it oh whats that hes democrat ahhh gotcha nevermind then',\n",
       "       'can’t respect anything he says about covid i can respect a man who sets rules he thinks is best and follows them can’t take someone seriously who sets rules and violates them to then judge others',\n",
       "       'no one in texas gives a fuck what that clown thinks or tweets',\n",
       "       'californians are leaving for texas ie joe rogan and elon musk newsom should get a clue',\n",
       "       'im sorry whos the one facing a recall election',\n",
       "       'sue under the civil rights act this woke virus will only be defeated if it has consequences for the pandering state officials',\n",
       "       'god save the queen',\n",
       "       'maybe help convince some rednecks that this isn’t some giant bill gates scheme',\n",
       "       'the social media effect is real',\n",
       "       'what is going on in the netherlands they were burning down 5g towers burning and arsoning covid test centers and now this',\n",
       "       'great news i noticed my local walgreens was starting to distribute it too in the future which got me interested maybe in a few weeks or so well have enough so that we can just drive by our local store get a shot and go home',\n",
       "       'nice to see some good news for a change',\n",
       "       'watches sadly from canada',\n",
       "       'i wish the overnight hours were available to everyone i work graveyards and would happily go before my shift starts at 4 am i feel like demand for these times is going to be super low',\n",
       "       'if it puts more shots in more peoples arms im for it',\n",
       "       'realistically population 8400000 80 adults so 6720000 people remaining out of those 6720000 maybe 75 are willing to be vaccinated so were down to about 5 million well need 10 million doses total except that jampj is singledose weve administered 2 million so 8 million to go assuming two doses per person assuming an even split between moderna pfizer and jampj going forward each can give 2 million doses since jampjs 2 million would actually count for 4 million doses so really only 6 million shots needed if we can maintain 50000 per day we should be able to vaccinate everyone who wants one in the city of new york in the next four months by early july in reality this will take a bit longer since outofcity inperson workers may also want a dose but we should have significant penetration by early summer in any case it looks like weve hit 83000 one day if the upper bound is limited by available doses not available sites and this isnt due to bad reporting practices we could be done even sooner maybe by end of may or early june get all of the vulnerable people and hospital cases should dive off a cliff much sooner',\n",
       "       'i dont know anything about the reliability of the study or journal but i firmly believe vitamin d deficiency and lack of exposure to the unsterilized real world from a young age is the root cause of the declining health of the masses',\n",
       "       'the problem is now youre going to have some very loud aholes who are going to show up and start screaming about how they dont have to wear a mask so its up to the employees now to force that person to leave or call the cops the cops arent going to want to keep dealing with these complaints and so theyll probably eventually stop coming or theyll come so late that the damage is done and all the employees are pissed or afraid because a jerk is yelling about my rights',\n",
       "       'just announced filed for chapter 11 bankruptcy httpswwwcnbccom20210303dineinmoviechainalamodrafthousefilesforchapter11bankruptcyhtmlhttpswwwcnbccom20210303dineinmoviechainalamodrafthousefilesforchapter11bankruptcyhtml update one of the locations to be closed is the alamo drafthouse at the ritz downtown austin httpsdrafthousecomaustinnewsaurevoirtotheritzhttpsdrafthousecomaustinnewsaurevoirtotheritz',\n",
       "       'at this point though who is wearing a mask because a public official is making them those people are aren’t wearing there masks correctly or not at all even if fuaci said i didn’t need a mask anymore i’d still wear it till 2weeks after i am vaccinated',\n",
       "       'yeah its criticized because the indian government has approved and administered the vaccine to many people before completing its phase 3 just like the russian and chinese vaccines it wasnt criticized because it was an indian vaccine',\n",
       "       'nut link to the address httpsyoutubeq4izfh1mgu he also said all teachers will be directed to be vaccinated by the end of march through the pharmacy vaccines',\n",
       "       'i wonder if that means by end of may that the supply is ready but in a warehouse somewhere or if i can actually get jabbed sameday',\n",
       "       'lets gooooo i cant wait to never check this subreddit again i remember being here when there were 25k subscribers',\n",
       "       'we like the vaccine', 'this is it folks were in the endgame now',\n",
       "       'taking my stimmy and my vaccy to go thanks joe',\n",
       "       'beyond happy about this but genuine question will we see a significant uptick in 247 vaccination sites to match the incoming supplies',\n",
       "       'let’s go',\n",
       "       'the usa is going to have the biggest independence day party in the history of the country i cannot wait',\n",
       "       'states are already jumping the gun too and just saying fuck it everything back open next week',\n",
       "       'congrats us you guys are pretty good sometimes this gets forgotten in all the noise this is a really well executed vaccine rollout given the population size it is hands down the best performance by any country in the vaccination effort',\n",
       "       'canadian jealousy intensifies but this is likely good news for us canadians as well less risk of cross boarder spread and hopefully some of their production lines can help supply us with vaccines in june and beyond',\n",
       "       'there is absolutely no reason why we can’t be pretty much back to normal by fall none',\n",
       "       'i love this the white house hopefully just gave governors a target for easing all restrictions june 1st',\n",
       "       'this would be amazing we can guarantee not only a fully open but fully safe summer',\n",
       "       'hoping vaccinated folks get more guidance soon other than vaccinated people can still spread this',\n",
       "       'that would be pretty cool',\n",
       "       'fuck i cannot wait until life can resume i miss house parties i miss playing shows i miss going to shows i miss being drunk at a strangers house meeting all sorts of new people ive started going mad being trapped inside all day',\n",
       "       'gtmay gt gt“what we don’t yet know is how long that might last and whether or not that will be enough to stop the infection spreading more widely in the population over time” gt gtif the hopes are fulfilled i hope so too and expect it to but theres not a lot of new info here a person says that they hope it will do this thats about it for whats in the article',\n",
       "       'if schools absolutely need to open then i’m glad that teachers are getting vaccinated but i can’t help feeling fucking shafted as a fast food worker our restaurant didn’t shut down once and i’ve been dealing with unmasked people in my drivein for this whole year feels awful to be pushed down the list even further for schools to open when summer break is right around the corner'],\n",
       "      dtype=object)"
      ]
     },
     "execution_count": 38,
     "metadata": {},
     "output_type": "execute_result"
    }
   ],
   "source": [
    "new_df[(new_df['ups'] > 100) & (new_df['ups'] <= 500)]['clean_text'].values"
   ]
  }
 ],
 "metadata": {
  "kernelspec": {
   "display_name": "Python 3",
   "language": "python",
   "name": "python3"
  },
  "language_info": {
   "codemirror_mode": {
    "name": "ipython",
    "version": 3
   },
   "file_extension": ".py",
   "mimetype": "text/x-python",
   "name": "python",
   "nbconvert_exporter": "python",
   "pygments_lexer": "ipython3",
   "version": "3.7.7"
  }
 },
 "nbformat": 4,
 "nbformat_minor": 5
}
