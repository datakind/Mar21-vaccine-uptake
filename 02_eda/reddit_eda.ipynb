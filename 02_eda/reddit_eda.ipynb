{
 "cells": [
  {
   "cell_type": "markdown",
   "id": "fifty-island",
   "metadata": {},
   "source": [
    "# Reddit EDA"
   ]
  },
  {
   "cell_type": "markdown",
   "id": "forty-liberty",
   "metadata": {},
   "source": [
    "## Import dependencies"
   ]
  },
  {
   "cell_type": "code",
   "execution_count": 1,
   "id": "dated-settlement",
   "metadata": {},
   "outputs": [],
   "source": [
    "import pandas as pd\n",
    "import re\n",
    "import string\n",
    "from textblob import TextBlob\n",
    "\n",
    "import pickle # just in case"
   ]
  },
  {
   "cell_type": "markdown",
   "id": "plastic-talent",
   "metadata": {},
   "source": [
    "## Set file locations"
   ]
  },
  {
   "cell_type": "code",
   "execution_count": 2,
   "id": "latter-square",
   "metadata": {},
   "outputs": [],
   "source": [
    "# File for cleaned comment data (input file)\n",
    "cleaned_reddit_comments = '../00_data/reddit_data/reddit_comments_cleaned.csv'\n",
    "\n",
    "# File for preprocessed comment text (input file)\n",
    "cleaned_comment_text = '../00_data/reddit_data/reddit_comment_text_cleaned.csv'\n"
   ]
  },
  {
   "cell_type": "markdown",
   "id": "indian-embassy",
   "metadata": {},
   "source": [
    "## Read in the data"
   ]
  },
  {
   "cell_type": "code",
   "execution_count": 3,
   "id": "peripheral-paris",
   "metadata": {},
   "outputs": [],
   "source": [
    "df = pd.read_csv(cleaned_comment_text)"
   ]
  },
  {
   "cell_type": "code",
   "execution_count": 4,
   "id": "contrary-rouge",
   "metadata": {},
   "outputs": [
    {
     "data": {
      "text/html": [
       "<div>\n",
       "<style scoped>\n",
       "    .dataframe tbody tr th:only-of-type {\n",
       "        vertical-align: middle;\n",
       "    }\n",
       "\n",
       "    .dataframe tbody tr th {\n",
       "        vertical-align: top;\n",
       "    }\n",
       "\n",
       "    .dataframe thead th {\n",
       "        text-align: right;\n",
       "    }\n",
       "</style>\n",
       "<table border=\"1\" class=\"dataframe\">\n",
       "  <thead>\n",
       "    <tr style=\"text-align: right;\">\n",
       "      <th></th>\n",
       "      <th>comment_id</th>\n",
       "      <th>comment</th>\n",
       "      <th>clean_text</th>\n",
       "    </tr>\n",
       "  </thead>\n",
       "  <tbody>\n",
       "    <tr>\n",
       "      <th>0</th>\n",
       "      <td>gpcqm3a</td>\n",
       "      <td>My super conservative Southern Baptist MIL is ...</td>\n",
       "      <td>my super conservative southern baptist mil is ...</td>\n",
       "    </tr>\n",
       "    <tr>\n",
       "      <th>1</th>\n",
       "      <td>gonzgvg</td>\n",
       "      <td>Had a nurse claim the vaccine wasn’t real and ...</td>\n",
       "      <td>had a nurse claim the vaccine wasn’t real and ...</td>\n",
       "    </tr>\n",
       "    <tr>\n",
       "      <th>2</th>\n",
       "      <td>gobfxvn</td>\n",
       "      <td>Not an interaction with an antivaxxer, but jus...</td>\n",
       "      <td>not an interaction with an antivaxxer but just...</td>\n",
       "    </tr>\n",
       "    <tr>\n",
       "      <th>3</th>\n",
       "      <td>gobey4f</td>\n",
       "      <td>My grandfather is a Trump-supporting conspirac...</td>\n",
       "      <td>my grandfather is a trumpsupporting conspiracy...</td>\n",
       "    </tr>\n",
       "    <tr>\n",
       "      <th>4</th>\n",
       "      <td>go92rh9</td>\n",
       "      <td>My anti vaxx, anti mask aunt keeps posting on ...</td>\n",
       "      <td>my anti vaxx anti mask aunt keeps posting on o...</td>\n",
       "    </tr>\n",
       "  </tbody>\n",
       "</table>\n",
       "</div>"
      ],
      "text/plain": [
       "  comment_id                                            comment  \\\n",
       "0    gpcqm3a  My super conservative Southern Baptist MIL is ...   \n",
       "1    gonzgvg  Had a nurse claim the vaccine wasn’t real and ...   \n",
       "2    gobfxvn  Not an interaction with an antivaxxer, but jus...   \n",
       "3    gobey4f  My grandfather is a Trump-supporting conspirac...   \n",
       "4    go92rh9  My anti vaxx, anti mask aunt keeps posting on ...   \n",
       "\n",
       "                                          clean_text  \n",
       "0  my super conservative southern baptist mil is ...  \n",
       "1  had a nurse claim the vaccine wasn’t real and ...  \n",
       "2  not an interaction with an antivaxxer but just...  \n",
       "3  my grandfather is a trumpsupporting conspiracy...  \n",
       "4  my anti vaxx anti mask aunt keeps posting on o...  "
      ]
     },
     "execution_count": 4,
     "metadata": {},
     "output_type": "execute_result"
    }
   ],
   "source": [
    "df.head()"
   ]
  },
  {
   "cell_type": "code",
   "execution_count": 5,
   "id": "undefined-reading",
   "metadata": {},
   "outputs": [
    {
     "name": "stdout",
     "output_type": "stream",
     "text": [
      "<class 'pandas.core.frame.DataFrame'>\n",
      "RangeIndex: 1911 entries, 0 to 1910\n",
      "Data columns (total 3 columns):\n",
      " #   Column      Non-Null Count  Dtype \n",
      "---  ------      --------------  ----- \n",
      " 0   comment_id  1911 non-null   object\n",
      " 1   comment     1911 non-null   object\n",
      " 2   clean_text  1910 non-null   object\n",
      "dtypes: object(3)\n",
      "memory usage: 44.9+ KB\n"
     ]
    }
   ],
   "source": [
    "df.info(verbose=True)"
   ]
  },
  {
   "cell_type": "code",
   "execution_count": 6,
   "id": "exterior-climate",
   "metadata": {},
   "outputs": [],
   "source": [
    "df.fillna(value=' ', inplace=True)"
   ]
  },
  {
   "cell_type": "code",
   "execution_count": 7,
   "id": "unknown-dubai",
   "metadata": {},
   "outputs": [
    {
     "name": "stdout",
     "output_type": "stream",
     "text": [
      "<class 'pandas.core.frame.DataFrame'>\n",
      "RangeIndex: 1911 entries, 0 to 1910\n",
      "Data columns (total 3 columns):\n",
      " #   Column      Non-Null Count  Dtype \n",
      "---  ------      --------------  ----- \n",
      " 0   comment_id  1911 non-null   object\n",
      " 1   comment     1911 non-null   object\n",
      " 2   clean_text  1911 non-null   object\n",
      "dtypes: object(3)\n",
      "memory usage: 44.9+ KB\n"
     ]
    }
   ],
   "source": [
    "df.info(verbose=True)"
   ]
  },
  {
   "cell_type": "markdown",
   "id": "difficult-sydney",
   "metadata": {},
   "source": [
    "## Sentiment analysis (by comment)"
   ]
  },
  {
   "cell_type": "code",
   "execution_count": 8,
   "id": "affecting-above",
   "metadata": {},
   "outputs": [
    {
     "data": {
      "text/html": [
       "<div>\n",
       "<style scoped>\n",
       "    .dataframe tbody tr th:only-of-type {\n",
       "        vertical-align: middle;\n",
       "    }\n",
       "\n",
       "    .dataframe tbody tr th {\n",
       "        vertical-align: top;\n",
       "    }\n",
       "\n",
       "    .dataframe thead th {\n",
       "        text-align: right;\n",
       "    }\n",
       "</style>\n",
       "<table border=\"1\" class=\"dataframe\">\n",
       "  <thead>\n",
       "    <tr style=\"text-align: right;\">\n",
       "      <th></th>\n",
       "      <th>comment_id</th>\n",
       "      <th>comment</th>\n",
       "      <th>clean_text</th>\n",
       "      <th>polarity</th>\n",
       "      <th>subjectivity</th>\n",
       "    </tr>\n",
       "  </thead>\n",
       "  <tbody>\n",
       "    <tr>\n",
       "      <th>0</th>\n",
       "      <td>gpcqm3a</td>\n",
       "      <td>My super conservative Southern Baptist MIL is ...</td>\n",
       "      <td>my super conservative southern baptist mil is ...</td>\n",
       "      <td>0.029167</td>\n",
       "      <td>0.359167</td>\n",
       "    </tr>\n",
       "    <tr>\n",
       "      <th>1</th>\n",
       "      <td>gonzgvg</td>\n",
       "      <td>Had a nurse claim the vaccine wasn’t real and ...</td>\n",
       "      <td>had a nurse claim the vaccine wasn’t real and ...</td>\n",
       "      <td>-0.156111</td>\n",
       "      <td>0.451111</td>\n",
       "    </tr>\n",
       "    <tr>\n",
       "      <th>2</th>\n",
       "      <td>gobfxvn</td>\n",
       "      <td>Not an interaction with an antivaxxer, but jus...</td>\n",
       "      <td>not an interaction with an antivaxxer but just...</td>\n",
       "      <td>0.223864</td>\n",
       "      <td>0.486258</td>\n",
       "    </tr>\n",
       "    <tr>\n",
       "      <th>3</th>\n",
       "      <td>gobey4f</td>\n",
       "      <td>My grandfather is a Trump-supporting conspirac...</td>\n",
       "      <td>my grandfather is a trumpsupporting conspiracy...</td>\n",
       "      <td>-0.419643</td>\n",
       "      <td>0.616071</td>\n",
       "    </tr>\n",
       "    <tr>\n",
       "      <th>4</th>\n",
       "      <td>go92rh9</td>\n",
       "      <td>My anti vaxx, anti mask aunt keeps posting on ...</td>\n",
       "      <td>my anti vaxx anti mask aunt keeps posting on o...</td>\n",
       "      <td>0.083333</td>\n",
       "      <td>0.538889</td>\n",
       "    </tr>\n",
       "    <tr>\n",
       "      <th>...</th>\n",
       "      <td>...</td>\n",
       "      <td>...</td>\n",
       "      <td>...</td>\n",
       "      <td>...</td>\n",
       "      <td>...</td>\n",
       "    </tr>\n",
       "    <tr>\n",
       "      <th>1906</th>\n",
       "      <td>gpdfjo6</td>\n",
       "      <td>My county has about 25% more vaccinated person...</td>\n",
       "      <td>my county has about 25 more vaccinated persons...</td>\n",
       "      <td>0.500000</td>\n",
       "      <td>0.500000</td>\n",
       "    </tr>\n",
       "    <tr>\n",
       "      <th>1907</th>\n",
       "      <td>gphl9yr</td>\n",
       "      <td>..</td>\n",
       "      <td></td>\n",
       "      <td>0.000000</td>\n",
       "      <td>0.000000</td>\n",
       "    </tr>\n",
       "    <tr>\n",
       "      <th>1908</th>\n",
       "      <td>gpjzg18</td>\n",
       "      <td>So this location is trying to vaccine about 4k...</td>\n",
       "      <td>so this location is trying to vaccine about 4k...</td>\n",
       "      <td>0.000000</td>\n",
       "      <td>0.000000</td>\n",
       "    </tr>\n",
       "    <tr>\n",
       "      <th>1909</th>\n",
       "      <td>gpfbdj4</td>\n",
       "      <td>If you’re not at risk get in line</td>\n",
       "      <td>if you’re not at risk get in line</td>\n",
       "      <td>0.000000</td>\n",
       "      <td>0.000000</td>\n",
       "    </tr>\n",
       "    <tr>\n",
       "      <th>1910</th>\n",
       "      <td>gpfndrc</td>\n",
       "      <td>Is this your attempt at humor, sarcasm, or what?</td>\n",
       "      <td>is this your attempt at humor sarcasm or what</td>\n",
       "      <td>0.000000</td>\n",
       "      <td>0.000000</td>\n",
       "    </tr>\n",
       "  </tbody>\n",
       "</table>\n",
       "<p>1911 rows × 5 columns</p>\n",
       "</div>"
      ],
      "text/plain": [
       "     comment_id                                            comment  \\\n",
       "0       gpcqm3a  My super conservative Southern Baptist MIL is ...   \n",
       "1       gonzgvg  Had a nurse claim the vaccine wasn’t real and ...   \n",
       "2       gobfxvn  Not an interaction with an antivaxxer, but jus...   \n",
       "3       gobey4f  My grandfather is a Trump-supporting conspirac...   \n",
       "4       go92rh9  My anti vaxx, anti mask aunt keeps posting on ...   \n",
       "...         ...                                                ...   \n",
       "1906    gpdfjo6  My county has about 25% more vaccinated person...   \n",
       "1907    gphl9yr                                                 ..   \n",
       "1908    gpjzg18  So this location is trying to vaccine about 4k...   \n",
       "1909    gpfbdj4                  If you’re not at risk get in line   \n",
       "1910    gpfndrc   Is this your attempt at humor, sarcasm, or what?   \n",
       "\n",
       "                                             clean_text  polarity  \\\n",
       "0     my super conservative southern baptist mil is ...  0.029167   \n",
       "1     had a nurse claim the vaccine wasn’t real and ... -0.156111   \n",
       "2     not an interaction with an antivaxxer but just...  0.223864   \n",
       "3     my grandfather is a trumpsupporting conspiracy... -0.419643   \n",
       "4     my anti vaxx anti mask aunt keeps posting on o...  0.083333   \n",
       "...                                                 ...       ...   \n",
       "1906  my county has about 25 more vaccinated persons...  0.500000   \n",
       "1907                                                     0.000000   \n",
       "1908  so this location is trying to vaccine about 4k...  0.000000   \n",
       "1909                  if you’re not at risk get in line  0.000000   \n",
       "1910      is this your attempt at humor sarcasm or what  0.000000   \n",
       "\n",
       "      subjectivity  \n",
       "0         0.359167  \n",
       "1         0.451111  \n",
       "2         0.486258  \n",
       "3         0.616071  \n",
       "4         0.538889  \n",
       "...            ...  \n",
       "1906      0.500000  \n",
       "1907      0.000000  \n",
       "1908      0.000000  \n",
       "1909      0.000000  \n",
       "1910      0.000000  \n",
       "\n",
       "[1911 rows x 5 columns]"
      ]
     },
     "execution_count": 8,
     "metadata": {},
     "output_type": "execute_result"
    }
   ],
   "source": [
    "pol = lambda x: TextBlob(x).sentiment.polarity\n",
    "sub = lambda x: TextBlob(x).sentiment.subjectivity\n",
    "\n",
    "df['polarity'] = df['clean_text'].apply(pol)\n",
    "df['subjectivity'] = df['clean_text'].apply(sub)\n",
    "df"
   ]
  },
  {
   "cell_type": "code",
   "execution_count": 9,
   "id": "danish-lafayette",
   "metadata": {},
   "outputs": [],
   "source": [
    "### Merge back on large set"
   ]
  },
  {
   "cell_type": "code",
   "execution_count": 10,
   "id": "covered-campaign",
   "metadata": {},
   "outputs": [],
   "source": [
    "df.drop('comment', axis=1, inplace=True)"
   ]
  },
  {
   "cell_type": "code",
   "execution_count": 11,
   "id": "ancient-senegal",
   "metadata": {},
   "outputs": [],
   "source": [
    "new_df = pd.read_csv(cleaned_reddit_comments)"
   ]
  },
  {
   "cell_type": "code",
   "execution_count": 12,
   "id": "indie-blame",
   "metadata": {},
   "outputs": [
    {
     "name": "stdout",
     "output_type": "stream",
     "text": [
      "<class 'pandas.core.frame.DataFrame'>\n",
      "RangeIndex: 1911 entries, 0 to 1910\n",
      "Data columns (total 10 columns):\n",
      " #   Column              Non-Null Count  Dtype  \n",
      "---  ------              --------------  -----  \n",
      " 0   post_id             1911 non-null   object \n",
      " 1   comment_id          1911 non-null   object \n",
      " 2   author              1911 non-null   object \n",
      " 3   comment             1911 non-null   object \n",
      " 4   created_utc         1911 non-null   float64\n",
      " 5   downs               1911 non-null   float64\n",
      " 6   ups                 1911 non-null   float64\n",
      " 7   reply               1911 non-null   object \n",
      " 8   comment_replied_id  214 non-null    object \n",
      " 9   comment_date        1911 non-null   object \n",
      "dtypes: float64(3), object(7)\n",
      "memory usage: 149.4+ KB\n"
     ]
    }
   ],
   "source": [
    "new_df.info(verbose=True)"
   ]
  },
  {
   "cell_type": "code",
   "execution_count": 13,
   "id": "statutory-bunny",
   "metadata": {},
   "outputs": [],
   "source": [
    "new_df = new_df.merge(df, how='left', on='comment_id')"
   ]
  },
  {
   "cell_type": "code",
   "execution_count": 14,
   "id": "charitable-header",
   "metadata": {},
   "outputs": [
    {
     "name": "stdout",
     "output_type": "stream",
     "text": [
      "<class 'pandas.core.frame.DataFrame'>\n",
      "Int64Index: 1911 entries, 0 to 1910\n",
      "Data columns (total 13 columns):\n",
      " #   Column              Non-Null Count  Dtype  \n",
      "---  ------              --------------  -----  \n",
      " 0   post_id             1911 non-null   object \n",
      " 1   comment_id          1911 non-null   object \n",
      " 2   author              1911 non-null   object \n",
      " 3   comment             1911 non-null   object \n",
      " 4   created_utc         1911 non-null   float64\n",
      " 5   downs               1911 non-null   float64\n",
      " 6   ups                 1911 non-null   float64\n",
      " 7   reply               1911 non-null   object \n",
      " 8   comment_replied_id  214 non-null    object \n",
      " 9   comment_date        1911 non-null   object \n",
      " 10  clean_text          1911 non-null   object \n",
      " 11  polarity            1911 non-null   float64\n",
      " 12  subjectivity        1911 non-null   float64\n",
      "dtypes: float64(5), object(8)\n",
      "memory usage: 209.0+ KB\n"
     ]
    }
   ],
   "source": [
    "new_df.info(verbose=True)"
   ]
  },
  {
   "cell_type": "code",
   "execution_count": 15,
   "id": "honey-istanbul",
   "metadata": {},
   "outputs": [
    {
     "data": {
      "text/html": [
       "<div>\n",
       "<style scoped>\n",
       "    .dataframe tbody tr th:only-of-type {\n",
       "        vertical-align: middle;\n",
       "    }\n",
       "\n",
       "    .dataframe tbody tr th {\n",
       "        vertical-align: top;\n",
       "    }\n",
       "\n",
       "    .dataframe thead th {\n",
       "        text-align: right;\n",
       "    }\n",
       "</style>\n",
       "<table border=\"1\" class=\"dataframe\">\n",
       "  <thead>\n",
       "    <tr style=\"text-align: right;\">\n",
       "      <th></th>\n",
       "      <th>post_id</th>\n",
       "      <th>comment_id</th>\n",
       "      <th>author</th>\n",
       "      <th>comment</th>\n",
       "      <th>created_utc</th>\n",
       "      <th>downs</th>\n",
       "      <th>ups</th>\n",
       "      <th>reply</th>\n",
       "      <th>comment_replied_id</th>\n",
       "      <th>comment_date</th>\n",
       "      <th>clean_text</th>\n",
       "      <th>polarity</th>\n",
       "      <th>subjectivity</th>\n",
       "    </tr>\n",
       "  </thead>\n",
       "  <tbody>\n",
       "    <tr>\n",
       "      <th>0</th>\n",
       "      <td>ldd0e6</td>\n",
       "      <td>gpcqm3a</td>\n",
       "      <td>t2_16jhc2</td>\n",
       "      <td>My super conservative Southern Baptist MIL is ...</td>\n",
       "      <td>1.614669e+09</td>\n",
       "      <td>0.0</td>\n",
       "      <td>1.0</td>\n",
       "      <td>N</td>\n",
       "      <td>NaN</td>\n",
       "      <td>3/2/21 1:02</td>\n",
       "      <td>my super conservative southern baptist mil is ...</td>\n",
       "      <td>0.029167</td>\n",
       "      <td>0.359167</td>\n",
       "    </tr>\n",
       "    <tr>\n",
       "      <th>1</th>\n",
       "      <td>ldd0e6</td>\n",
       "      <td>gonzgvg</td>\n",
       "      <td>t2_644zai51</td>\n",
       "      <td>Had a nurse claim the vaccine wasn’t real and ...</td>\n",
       "      <td>1.614253e+09</td>\n",
       "      <td>0.0</td>\n",
       "      <td>6.0</td>\n",
       "      <td>N</td>\n",
       "      <td>NaN</td>\n",
       "      <td>2/25/21 5:35</td>\n",
       "      <td>had a nurse claim the vaccine wasn’t real and ...</td>\n",
       "      <td>-0.156111</td>\n",
       "      <td>0.451111</td>\n",
       "    </tr>\n",
       "    <tr>\n",
       "      <th>2</th>\n",
       "      <td>ldd0e6</td>\n",
       "      <td>gobfxvn</td>\n",
       "      <td>t2_hh35kpp</td>\n",
       "      <td>Not an interaction with an antivaxxer, but jus...</td>\n",
       "      <td>1.614007e+09</td>\n",
       "      <td>0.0</td>\n",
       "      <td>6.0</td>\n",
       "      <td>N</td>\n",
       "      <td>NaN</td>\n",
       "      <td>2/22/21 9:19</td>\n",
       "      <td>not an interaction with an antivaxxer but just...</td>\n",
       "      <td>0.223864</td>\n",
       "      <td>0.486258</td>\n",
       "    </tr>\n",
       "    <tr>\n",
       "      <th>3</th>\n",
       "      <td>ldd0e6</td>\n",
       "      <td>gobey4f</td>\n",
       "      <td>t2_7gf4ejvg</td>\n",
       "      <td>My grandfather is a Trump-supporting conspirac...</td>\n",
       "      <td>1.614006e+09</td>\n",
       "      <td>0.0</td>\n",
       "      <td>11.0</td>\n",
       "      <td>N</td>\n",
       "      <td>NaN</td>\n",
       "      <td>2/22/21 9:05</td>\n",
       "      <td>my grandfather is a trumpsupporting conspiracy...</td>\n",
       "      <td>-0.419643</td>\n",
       "      <td>0.616071</td>\n",
       "    </tr>\n",
       "    <tr>\n",
       "      <th>4</th>\n",
       "      <td>ldd0e6</td>\n",
       "      <td>go92rh9</td>\n",
       "      <td>t2_h24rn3v</td>\n",
       "      <td>My anti vaxx, anti mask aunt keeps posting on ...</td>\n",
       "      <td>1.613962e+09</td>\n",
       "      <td>0.0</td>\n",
       "      <td>8.0</td>\n",
       "      <td>N</td>\n",
       "      <td>NaN</td>\n",
       "      <td>2/21/21 20:41</td>\n",
       "      <td>my anti vaxx anti mask aunt keeps posting on o...</td>\n",
       "      <td>0.083333</td>\n",
       "      <td>0.538889</td>\n",
       "    </tr>\n",
       "  </tbody>\n",
       "</table>\n",
       "</div>"
      ],
      "text/plain": [
       "  post_id comment_id       author  \\\n",
       "0  ldd0e6    gpcqm3a    t2_16jhc2   \n",
       "1  ldd0e6    gonzgvg  t2_644zai51   \n",
       "2  ldd0e6    gobfxvn   t2_hh35kpp   \n",
       "3  ldd0e6    gobey4f  t2_7gf4ejvg   \n",
       "4  ldd0e6    go92rh9   t2_h24rn3v   \n",
       "\n",
       "                                             comment   created_utc  downs  \\\n",
       "0  My super conservative Southern Baptist MIL is ...  1.614669e+09    0.0   \n",
       "1  Had a nurse claim the vaccine wasn’t real and ...  1.614253e+09    0.0   \n",
       "2  Not an interaction with an antivaxxer, but jus...  1.614007e+09    0.0   \n",
       "3  My grandfather is a Trump-supporting conspirac...  1.614006e+09    0.0   \n",
       "4  My anti vaxx, anti mask aunt keeps posting on ...  1.613962e+09    0.0   \n",
       "\n",
       "    ups reply comment_replied_id   comment_date  \\\n",
       "0   1.0     N                NaN    3/2/21 1:02   \n",
       "1   6.0     N                NaN   2/25/21 5:35   \n",
       "2   6.0     N                NaN   2/22/21 9:19   \n",
       "3  11.0     N                NaN   2/22/21 9:05   \n",
       "4   8.0     N                NaN  2/21/21 20:41   \n",
       "\n",
       "                                          clean_text  polarity  subjectivity  \n",
       "0  my super conservative southern baptist mil is ...  0.029167      0.359167  \n",
       "1  had a nurse claim the vaccine wasn’t real and ... -0.156111      0.451111  \n",
       "2  not an interaction with an antivaxxer but just...  0.223864      0.486258  \n",
       "3  my grandfather is a trumpsupporting conspiracy... -0.419643      0.616071  \n",
       "4  my anti vaxx anti mask aunt keeps posting on o...  0.083333      0.538889  "
      ]
     },
     "execution_count": 15,
     "metadata": {},
     "output_type": "execute_result"
    }
   ],
   "source": [
    "new_df.head()"
   ]
  }
 ],
 "metadata": {
  "kernelspec": {
   "display_name": "Python 3",
   "language": "python",
   "name": "python3"
  },
  "language_info": {
   "codemirror_mode": {
    "name": "ipython",
    "version": 3
   },
   "file_extension": ".py",
   "mimetype": "text/x-python",
   "name": "python",
   "nbconvert_exporter": "python",
   "pygments_lexer": "ipython3",
   "version": "3.7.7"
  }
 },
 "nbformat": 4,
 "nbformat_minor": 5
}
